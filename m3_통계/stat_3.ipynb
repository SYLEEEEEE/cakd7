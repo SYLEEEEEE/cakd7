{
 "cells": [
  {
   "cell_type": "markdown",
   "id": "d0800a25",
   "metadata": {
    "toc": true
   },
   "source": [
    "<h1>Table of Contents<span class=\"tocSkip\"></span></h1>\n",
    "<div class=\"toc\"><ul class=\"toc-item\"><li><span><a href=\"#통계적-추정\" data-toc-modified-id=\"통계적-추정-1\"><span class=\"toc-item-num\">1&nbsp;&nbsp;</span>통계적 추정</a></span><ul class=\"toc-item\"><li><ul class=\"toc-item\"><li><span><a href=\"#과제1-0905\" data-toc-modified-id=\"과제1-0905-1.0.1\"><span class=\"toc-item-num\">1.0.1&nbsp;&nbsp;</span>과제1 0905</a></span></li></ul></li><li><span><a href=\"#점추정\" data-toc-modified-id=\"점추정-1.1\"><span class=\"toc-item-num\">1.1&nbsp;&nbsp;</span>점추정</a></span></li><li><span><a href=\"#구간추정\" data-toc-modified-id=\"구간추정-1.2\"><span class=\"toc-item-num\">1.2&nbsp;&nbsp;</span>구간추정</a></span><ul class=\"toc-item\"><li><span><a href=\"#과제2-0905\" data-toc-modified-id=\"과제2-0905-1.2.1\"><span class=\"toc-item-num\">1.2.1&nbsp;&nbsp;</span>과제2 0905</a></span></li></ul></li></ul></li><li><span><a href=\"#통계적-가설검정\" data-toc-modified-id=\"통계적-가설검정-2\"><span class=\"toc-item-num\">2&nbsp;&nbsp;</span>통계적 가설검정</a></span><ul class=\"toc-item\"><li><span><a href=\"#통계적-가설검정이란?\" data-toc-modified-id=\"통계적-가설검정이란?-2.1\"><span class=\"toc-item-num\">2.1&nbsp;&nbsp;</span>통계적 가설검정이란?</a></span><ul class=\"toc-item\"><li><span><a href=\"#과제1-0907\" data-toc-modified-id=\"과제1-0907-2.1.1\"><span class=\"toc-item-num\">2.1.1&nbsp;&nbsp;</span>과제1 0907</a></span></li><li><span><a href=\"#과제2-0907\" data-toc-modified-id=\"과제2-0907-2.1.2\"><span class=\"toc-item-num\">2.1.2&nbsp;&nbsp;</span>과제2 0907</a></span></li></ul></li></ul></li></ul></div>"
   ]
  },
  {
   "cell_type": "markdown",
   "id": "2a36a491",
   "metadata": {},
   "source": [
    "## 통계적 추정"
   ]
  },
  {
   "cell_type": "code",
   "execution_count": 1,
   "id": "a941fac0",
   "metadata": {
    "ExecuteTime": {
     "end_time": "2022-09-05T01:26:25.287817Z",
     "start_time": "2022-09-05T01:26:23.189539Z"
    },
    "scrolled": true
   },
   "outputs": [
    {
     "data": {
      "text/plain": [
       "'%.3f'"
      ]
     },
     "execution_count": 1,
     "metadata": {},
     "output_type": "execute_result"
    }
   ],
   "source": [
    "import numpy as np\n",
    "import pandas as pd\n",
    "import matplotlib.pyplot as plt\n",
    "from scipy import stats\n",
    "\n",
    "%precision 3"
   ]
  },
  {
   "cell_type": "markdown",
   "id": "7fe658c2",
   "metadata": {},
   "source": [
    "####  과제1 0905\n",
    "p266~p291"
   ]
  },
  {
   "cell_type": "code",
   "execution_count": 10,
   "id": "2100d8c0",
   "metadata": {
    "ExecuteTime": {
     "end_time": "2022-09-05T01:30:10.026727Z",
     "start_time": "2022-09-05T01:30:10.013793Z"
    }
   },
   "outputs": [
    {
     "name": "stdout",
     "output_type": "stream",
     "text": [
      "   score\n",
      "0     76\n",
      "1     55\n",
      "2     80\n",
      "3     80\n",
      "4     74\n"
     ]
    },
    {
     "data": {
      "text/plain": [
       "(400, 1)"
      ]
     },
     "execution_count": 10,
     "metadata": {},
     "output_type": "execute_result"
    }
   ],
   "source": [
    "df = pd.read_csv('./data/ch4_scores400.csv')\n",
    "print(df.head())\n",
    "scores = np.array(df['score'])\n",
    "df.shape"
   ]
  },
  {
   "cell_type": "code",
   "execution_count": 9,
   "id": "e752589a",
   "metadata": {
    "ExecuteTime": {
     "end_time": "2022-09-05T01:29:57.302774Z",
     "start_time": "2022-09-05T01:29:57.292611Z"
    }
   },
   "outputs": [
    {
     "data": {
      "text/plain": [
       "(69.530, 206.669)"
      ]
     },
     "execution_count": 9,
     "metadata": {},
     "output_type": "execute_result"
    }
   ],
   "source": [
    "p_mean = np.mean(scores)\n",
    "p_var = np.var(scores)\n",
    "\n",
    "p_mean, p_var"
   ]
  },
  {
   "cell_type": "code",
   "execution_count": 21,
   "id": "a6f7c90f",
   "metadata": {
    "ExecuteTime": {
     "end_time": "2022-09-05T01:43:07.916136Z",
     "start_time": "2022-09-05T01:43:07.649893Z"
    }
   },
   "outputs": [
    {
     "data": {
      "image/png": "[encoded data removed]",
      "text/plain": [
       "<Figure size 720x432 with 1 Axes>"
      ]
     },
     "metadata": {
      "needs_background": "light"
     },
     "output_type": "display_data"
    }
   ],
   "source": [
    "fig = plt.figure(figsize=(10,6))\n",
    "ax = fig.add_subplot(111)\n",
    "\n",
    "xs=np.arange(101)\n",
    "rv = stats.norm(p_mean, np.sqrt(p_var))\n",
    "ax.plot(xs, rv.pdf(xs), color='violet')\n",
    "ax.hist(scores, bins=100, range=(0,100), density=True)\n",
    "ax.vlines(p_mean, 0,0.04, color='red' )\n",
    "\n",
    "plt.show()"
   ]
  },
  {
   "cell_type": "code",
   "execution_count": 13,
   "id": "ae609276",
   "metadata": {
    "ExecuteTime": {
     "end_time": "2022-09-05T01:37:39.586291Z",
     "start_time": "2022-09-05T01:37:39.574256Z"
    }
   },
   "outputs": [
    {
     "data": {
      "text/plain": [
       "array([49, 60, 72, 86, 52, 61, 77, 91, 80, 56, 69, 67, 90, 56, 75, 79, 60,\n",
       "       79, 68, 81], dtype=int64)"
      ]
     },
     "execution_count": 13,
     "metadata": {},
     "output_type": "execute_result"
    }
   ],
   "source": [
    "# A 학생이 무작위 추출한 크기가 20인 표본\n",
    "np.random.seed(0)\n",
    "n = 20\n",
    "sample = np.random.choice(scores, n)\n",
    "sample"
   ]
  },
  {
   "cell_type": "code",
   "execution_count": 17,
   "id": "098485e4",
   "metadata": {
    "ExecuteTime": {
     "end_time": "2022-09-05T01:41:24.252008Z",
     "start_time": "2022-09-05T01:41:24.244007Z"
    }
   },
   "outputs": [],
   "source": [
    "# 표본의 크기가 20인 표본 10000개 추출\n",
    "np.random.seed(1111)\n",
    "n = 20\n",
    "n_samples = 10000\n",
    "samples = np.random.choice(scores, (n_samples,n))"
   ]
  },
  {
   "cell_type": "markdown",
   "id": "50f9e7d3",
   "metadata": {},
   "source": [
    "### 점추정\n",
    "- 모평균이나 모분산 등의 모수를 하나의 수치로 추정\n",
    "- 추정량의 기댓값이 추측하려는 모수가 되는 성질을 불편성이라고 하며 불편성을 가진 추정량을 불편추정량이라고 한다.\n",
    "- 표본평균이 모평균을 잘 추정할 수 있는 근거 중 하나가 바로 이 불편성이다.\n",
    "- 표본크기 n을 증가시키면 추측하기 원하는 모수에 수렴해가는 성질을 일치성이라고 하며 일치성을 지닌 추정량을 일치추정량이라고 함\n",
    "- 표본평균은 불편성과 일치성을 모두 가지고 있기 때문에 모평균을 잘 추정한다고 말할 수 있다.\n"
   ]
  },
  {
   "cell_type": "code",
   "execution_count": 23,
   "id": "6ae729ec",
   "metadata": {
    "ExecuteTime": {
     "end_time": "2022-09-05T01:51:01.815213Z",
     "start_time": "2022-09-05T01:51:01.792190Z"
    }
   },
   "outputs": [
    {
     "name": "stdout",
     "output_type": "stream",
     "text": [
      "모평균: 69.53\n",
      "모분산: 207.1870676691731\n",
      "표본분산, 분산: 69.53799999999998 206.67808263157895\n"
     ]
    }
   ],
   "source": [
    "df = pd.read_csv('./data/ch4_scores400.csv')\n",
    "print('모평균:', df.score.mean())\n",
    "\n",
    "np.random.seed(1111)\n",
    "n = 20\n",
    "n_samples = 10000\n",
    "samples = np.random.choice(scores, (n_samples,n))\n",
    "\n",
    "sample_means = np.mean(samples, axis=1)\n",
    "\n",
    "print('모분산:', df.score.var())\n",
    "sample_u_vars = np.var(samples, axis=1, ddof=1)  # ddof=1 불편분산\n",
    "print('표본분산, 분산:', np.mean(sample_means), np.mean(sample_u_vars))"
   ]
  },
  {
   "cell_type": "code",
   "execution_count": 24,
   "id": "f6095078",
   "metadata": {
    "ExecuteTime": {
     "end_time": "2022-09-05T02:05:12.519579Z",
     "start_time": "2022-09-05T02:05:12.513539Z"
    }
   },
   "outputs": [
    {
     "name": "stdout",
     "output_type": "stream",
     "text": [
      "1번째 표본평균: 67.000\n",
      "2번째 표본평균: 72.850\n",
      "3번째 표본평균: 69.200\n",
      "4번째 표본평균: 64.450\n",
      "5번째 표본평균: 72.650\n"
     ]
    }
   ],
   "source": [
    "for i in range(5):\n",
    "    s_mean = np.mean(samples[i])\n",
    "    print(f'{i+1}번째 표본평균: {s_mean:.3f}')"
   ]
  },
  {
   "cell_type": "code",
   "execution_count": 28,
   "id": "fed3dd93",
   "metadata": {
    "ExecuteTime": {
     "end_time": "2022-09-05T02:07:42.279169Z",
     "start_time": "2022-09-05T02:07:42.270069Z"
    }
   },
   "outputs": [
    {
     "data": {
      "text/plain": [
       "69.538"
      ]
     },
     "execution_count": 28,
     "metadata": {},
     "output_type": "execute_result"
    }
   ],
   "source": [
    "# 표본의 평균\n",
    "sample_means = np.mean(samples, axis=1)\n",
    "np.mean(sample_means)"
   ]
  },
  {
   "cell_type": "code",
   "execution_count": 29,
   "id": "d256bc04",
   "metadata": {
    "ExecuteTime": {
     "end_time": "2022-09-05T02:10:47.100639Z",
     "start_time": "2022-09-05T02:10:47.069613Z"
    }
   },
   "outputs": [
    {
     "data": {
      "text/plain": [
       "69.530"
      ]
     },
     "execution_count": 29,
     "metadata": {},
     "output_type": "execute_result"
    }
   ],
   "source": [
    "# 표본의 크기를 1000000으로 할 때의 표본평균\n",
    "np.mean(np.random.choice(scores, int(1e6)))"
   ]
  },
  {
   "cell_type": "code",
   "execution_count": 32,
   "id": "d82595e3",
   "metadata": {
    "ExecuteTime": {
     "end_time": "2022-09-05T02:17:37.068044Z",
     "start_time": "2022-09-05T02:17:37.062046Z"
    }
   },
   "outputs": [
    {
     "data": {
      "text/plain": [
       "70.400"
      ]
     },
     "execution_count": 32,
     "metadata": {},
     "output_type": "execute_result"
    }
   ],
   "source": [
    "# A 학생이 추출한 표본의 표본평균\n",
    "np.random.seed(0)\n",
    "n=20\n",
    "sample = np.random.choice(scores,n)\n",
    "s_mean = np.mean(sample)\n",
    "s_mean"
   ]
  },
  {
   "cell_type": "code",
   "execution_count": 33,
   "id": "76f15d4a",
   "metadata": {
    "ExecuteTime": {
     "end_time": "2022-09-05T02:21:03.266949Z",
     "start_time": "2022-09-05T02:21:03.258952Z"
    }
   },
   "outputs": [
    {
     "name": "stdout",
     "output_type": "stream",
     "text": [
      "1번째 표본분산: 116.800\n",
      "2번째 표본분산: 162.928\n",
      "3번째 표본분산: 187.060\n",
      "4번째 표본분산: 149.148\n",
      "5번째 표본분산: 111.528\n"
     ]
    }
   ],
   "source": [
    "for i in range(5):\n",
    "    s_var = np.var(samples[i])\n",
    "    print(f'{i+1}번째 표본분산: {s_var:.3f}')"
   ]
  },
  {
   "cell_type": "code",
   "execution_count": 31,
   "id": "1ecabf46",
   "metadata": {
    "ExecuteTime": {
     "end_time": "2022-09-05T02:16:45.648120Z",
     "start_time": "2022-09-05T02:16:45.633095Z"
    }
   },
   "outputs": [
    {
     "data": {
      "text/plain": [
       "196.344"
      ]
     },
     "execution_count": 31,
     "metadata": {},
     "output_type": "execute_result"
    }
   ],
   "source": [
    "sample_vars = np.var(samples, axis=1)\n",
    "np.mean(sample_vars)"
   ]
  },
  {
   "cell_type": "code",
   "execution_count": null,
   "id": "248b6950",
   "metadata": {},
   "outputs": [],
   "source": [
    "# 표본분산의 과소추정을 보정해주기위해 분편분산을 씀 "
   ]
  },
  {
   "cell_type": "code",
   "execution_count": 34,
   "id": "3056de8c",
   "metadata": {
    "ExecuteTime": {
     "end_time": "2022-09-05T02:24:18.816208Z",
     "start_time": "2022-09-05T02:24:18.808183Z"
    }
   },
   "outputs": [
    {
     "data": {
      "text/plain": [
       "206.678"
      ]
     },
     "execution_count": 34,
     "metadata": {},
     "output_type": "execute_result"
    }
   ],
   "source": [
    "sample_u_vars = np.var(samples, axis=1, ddof=1)\n",
    "np.mean(sample_u_vars)"
   ]
  },
  {
   "cell_type": "code",
   "execution_count": 35,
   "id": "610f6c19",
   "metadata": {
    "ExecuteTime": {
     "end_time": "2022-09-05T02:24:43.941106Z",
     "start_time": "2022-09-05T02:24:43.913055Z"
    }
   },
   "outputs": [
    {
     "data": {
      "text/plain": [
       "207.128"
      ]
     },
     "execution_count": 35,
     "metadata": {},
     "output_type": "execute_result"
    }
   ],
   "source": [
    "np.var(np.random.choice(scores, int(1e6)), ddof=1) # 1000000개의 표본분산, 표본이 클수록 수렴성을 보임 "
   ]
  },
  {
   "cell_type": "code",
   "execution_count": 36,
   "id": "f3379134",
   "metadata": {
    "ExecuteTime": {
     "end_time": "2022-09-05T02:24:58.252934Z",
     "start_time": "2022-09-05T02:24:58.243937Z"
    }
   },
   "outputs": [
    {
     "data": {
      "text/plain": [
       "158.253"
      ]
     },
     "execution_count": 36,
     "metadata": {},
     "output_type": "execute_result"
    }
   ],
   "source": [
    "u_var = np.var(sample, ddof=1) # 표본분산 1개는 모분산과 차이가 클 수 있음\n",
    "u_var"
   ]
  },
  {
   "cell_type": "markdown",
   "id": "2f5c5255",
   "metadata": {},
   "source": [
    "### 구간추정"
   ]
  },
  {
   "cell_type": "code",
   "execution_count": 58,
   "id": "7873a13b",
   "metadata": {
    "ExecuteTime": {
     "end_time": "2022-09-05T03:16:38.300071Z",
     "start_time": "2022-09-05T03:16:38.292045Z"
    }
   },
   "outputs": [
    {
     "data": {
      "text/plain": [
       "(64.100, 76.700)"
      ]
     },
     "execution_count": 58,
     "metadata": {},
     "output_type": "execute_result"
    }
   ],
   "source": [
    "rv = stats.norm()\n",
    "lcl = s_mean - rv.isf(0.025) * np.sqrt(p_var/n)\n",
    "ucl = s_mean - rv.isf(0.975) * np.sqrt(p_var/n)\n",
    "lcl, ucl"
   ]
  },
  {
   "cell_type": "code",
   "execution_count": 61,
   "id": "a88ba1e1",
   "metadata": {
    "ExecuteTime": {
     "end_time": "2022-09-05T03:20:24.680510Z",
     "start_time": "2022-09-05T03:20:24.393097Z"
    }
   },
   "outputs": [
    {
     "data": {
      "image/png": "[encoded data removed]",
      "text/plain": [
       "<Figure size 720x720 with 1 Axes>"
      ]
     },
     "metadata": {
      "needs_background": "light"
     },
     "output_type": "display_data"
    }
   ],
   "source": [
    "fig = plt.figure(figsize=(10,10))\n",
    "ax = fig.add_subplot(111)\n",
    "\n",
    "rv = stats.norm()\n",
    "n_samples = 20\n",
    "ax.vlines(p_mean, 0, 21)\n",
    "for i in range(n_samples):\n",
    "    sample_ = samples[i]\n",
    "    s_mean_ = np.mean(sample_)\n",
    "    lcl = s_mean_- rv.isf(0.025) * np.sqrt(p_var/n)\n",
    "    ucl = s_mean_- rv.isf(0.975) * np.sqrt(p_var/n)\n",
    "    if lcl <= p_mean <= ucl:\n",
    "        ax.scatter(s_mean_, n_samples-i, color='violet')\n",
    "        ax.hlines(n_samples-i, lcl, ucl, color='violet')\n",
    "    else: \n",
    "        ax.scatter(s_mean_, n_samples-i, color='b')\n",
    "        ax.hlines(n_samples-i, lcl, ucl, color='b')\n",
    "ax.set_xticks([p_mean])\n",
    "ax.set_xticklabels(['population mean'])\n",
    "\n",
    "plt.show()"
   ]
  },
  {
   "cell_type": "code",
   "execution_count": 62,
   "id": "2a432f1f",
   "metadata": {
    "ExecuteTime": {
     "end_time": "2022-09-05T03:22:36.587338Z",
     "start_time": "2022-09-05T03:22:34.226876Z"
    }
   },
   "outputs": [
    {
     "data": {
      "text/plain": [
       "0.951"
      ]
     },
     "execution_count": 62,
     "metadata": {},
     "output_type": "execute_result"
    }
   ],
   "source": [
    "rv = stats.norm()\n",
    "cnt = 0\n",
    "\n",
    "for sample_ in samples:\n",
    "    s_mean_ = np.mean(sample_)\n",
    "    lcl = s_mean_ - rv.isf(0.025) * np.sqrt(p_var/n)\n",
    "    ucl = s_mean_ - rv.isf(0.975) * np.sqrt(p_var/n)\n",
    "    if lcl <= p_mean <= ucl:\n",
    "        cnt +=1\n",
    "cnt / len(samples)"
   ]
  },
  {
   "cell_type": "code",
   "execution_count": 63,
   "id": "a4c28084",
   "metadata": {
    "ExecuteTime": {
     "end_time": "2022-09-05T03:24:23.867669Z",
     "start_time": "2022-09-05T03:24:23.851388Z"
    }
   },
   "outputs": [
    {
     "data": {
      "text/plain": [
       "array([11.303, 15.767, 18.102, ..., 19.435,  9.265, 18.625])"
      ]
     },
     "execution_count": 63,
     "metadata": {},
     "output_type": "execute_result"
    }
   ],
   "source": [
    "sample_y = sample_u_vars * (n-1) / p_var\n",
    "sample_y"
   ]
  },
  {
   "cell_type": "code",
   "execution_count": 64,
   "id": "d2e5da36",
   "metadata": {
    "ExecuteTime": {
     "end_time": "2022-09-05T03:27:11.861369Z",
     "start_time": "2022-09-05T03:27:11.584371Z"
    }
   },
   "outputs": [
    {
     "data": {
      "image/png": "[encoded data removed]",
      "text/plain": [
       "<Figure size 720x432 with 1 Axes>"
      ]
     },
     "metadata": {
      "needs_background": "light"
     },
     "output_type": "display_data"
    }
   ],
   "source": [
    "fig = plt.figure(figsize=(10,6))\n",
    "ax = fig.add_subplot(111)\n",
    "\n",
    "xs = np.linspace(0, 40, 100)\n",
    "rv =stats.chi2(df=n-1)\n",
    "ax.plot(xs, rv.pdf(xs), color='violet')\n",
    "hist, _, _ = ax.hist(sample_y, bins=100, range=(0,40), density=True)\n",
    "\n",
    "plt.show()"
   ]
  },
  {
   "cell_type": "code",
   "execution_count": 66,
   "id": "25c1270f",
   "metadata": {
    "ExecuteTime": {
     "end_time": "2022-09-05T03:28:35.472014Z",
     "start_time": "2022-09-05T03:28:35.463757Z"
    }
   },
   "outputs": [
    {
     "data": {
      "text/plain": [
       "(91.525, 337.596)"
      ]
     },
     "execution_count": 66,
     "metadata": {},
     "output_type": "execute_result"
    }
   ],
   "source": [
    "rv = stats.chi2(df=n-1)\n",
    "lcl = (n-1) * u_var / rv.isf(0.025)\n",
    "ucl = (n-1) * u_var / rv.isf(0.975)\n",
    "\n",
    "lcl, ucl"
   ]
  },
  {
   "cell_type": "code",
   "execution_count": 70,
   "id": "e101c806",
   "metadata": {
    "ExecuteTime": {
     "end_time": "2022-09-05T03:35:02.835120Z",
     "start_time": "2022-09-05T03:35:02.543140Z"
    }
   },
   "outputs": [
    {
     "data": {
      "image/png": "[encoded data removed]",
      "text/plain": [
       "<Figure size 720x720 with 1 Axes>"
      ]
     },
     "metadata": {
      "needs_background": "light"
     },
     "output_type": "display_data"
    }
   ],
   "source": [
    "fig = plt.figure(figsize=(10,10))\n",
    "ax = fig.add_subplot(111)\n",
    "\n",
    "rv = stats.chi2(df=n-1)\n",
    "n_samples = 20\n",
    "ax.vlines(p_var, 0, 21)\n",
    "for i in range(n_samples):\n",
    "    sample_ = samples[i]\n",
    "    u_var_ = np.var(sample_, ddof=1)\n",
    "    lcl = (n-1) * u_var_ / rv.isf(0.025)\n",
    "    ucl = (n-1) * u_var_ / rv.isf(0.975)\n",
    "    if lcl <= p_var <= ucl:\n",
    "        ax.scatter(u_var_, n_samples-i, color='violet')\n",
    "        ax.hlines(n_samples-i, lcl, ucl, 'violet')\n",
    "    else:\n",
    "        ax.scatter(u_var_, n_samples-i, color='b')\n",
    "        ax.hlines(n_samples-i, lcl, ucl, 'b')\n",
    "ax.set_xticks([p_var])\n",
    "ax.set_xticklabels(['population variance'])\n",
    "\n",
    "plt.show()"
   ]
  },
  {
   "cell_type": "code",
   "execution_count": 73,
   "id": "6e63c46c",
   "metadata": {
    "ExecuteTime": {
     "end_time": "2022-09-05T03:39:29.369956Z",
     "start_time": "2022-09-05T03:39:27.056161Z"
    }
   },
   "outputs": [
    {
     "data": {
      "text/plain": [
       "0.964"
      ]
     },
     "execution_count": 73,
     "metadata": {},
     "output_type": "execute_result"
    }
   ],
   "source": [
    "rv = stats.chi2(df=n-1)\n",
    "cnt = 0\n",
    "for sample_ in samples:\n",
    "    u_var_ = np.var(sample_, ddof=1)\n",
    "    lcl = (n-1) * u_var_ / rv.isf(0.025)\n",
    "    ucl = (n-1) * u_var_ / rv.isf(0.975)\n",
    "    if lcl <= p_var <= ucl:\n",
    "        cnt +=1\n",
    "\n",
    "cnt / len(samples)"
   ]
  },
  {
   "cell_type": "code",
   "execution_count": 75,
   "id": "efa08228",
   "metadata": {
    "ExecuteTime": {
     "end_time": "2022-09-05T03:42:07.640782Z",
     "start_time": "2022-09-05T03:42:07.625785Z"
    }
   },
   "outputs": [
    {
     "data": {
      "text/plain": [
       "(64.512, 76.288)"
      ]
     },
     "execution_count": 75,
     "metadata": {},
     "output_type": "execute_result"
    }
   ],
   "source": [
    "rv = stats.t(df=n-1)\n",
    "lcl = s_mean - rv.isf(0.025) * np.sqrt(u_var/n)\n",
    "ucl = s_mean - rv.isf(0.975) * np.sqrt(u_var/n)\n",
    "\n",
    "lcl,ucl"
   ]
  },
  {
   "cell_type": "code",
   "execution_count": 76,
   "id": "a5a87218",
   "metadata": {
    "ExecuteTime": {
     "end_time": "2022-09-05T04:27:30.399414Z",
     "start_time": "2022-09-05T04:27:30.387422Z"
    }
   },
   "outputs": [
    {
     "data": {
      "text/plain": [
       "array([1, 0, 1, 1, 1, 1, 1, 0, 0, 1], dtype=int64)"
      ]
     },
     "execution_count": 76,
     "metadata": {},
     "output_type": "execute_result"
    }
   ],
   "source": [
    "enquete_df = pd.read_csv('./data/ch10_enquete.csv')\n",
    "enquete = np.array(enquete_df['known'])\n",
    "n = len(enquete)\n",
    "enquete[:10]"
   ]
  },
  {
   "cell_type": "code",
   "execution_count": 77,
   "id": "7d695562",
   "metadata": {
    "ExecuteTime": {
     "end_time": "2022-09-05T04:27:48.627528Z",
     "start_time": "2022-09-05T04:27:48.621530Z"
    }
   },
   "outputs": [
    {
     "data": {
      "text/plain": [
       "0.709"
      ]
     },
     "execution_count": 77,
     "metadata": {},
     "output_type": "execute_result"
    }
   ],
   "source": [
    "s_mean = enquete.mean()\n",
    "s_mean"
   ]
  },
  {
   "cell_type": "code",
   "execution_count": 78,
   "id": "403d3305",
   "metadata": {
    "ExecuteTime": {
     "end_time": "2022-09-05T04:29:05.211160Z",
     "start_time": "2022-09-05T04:29:05.202061Z"
    }
   },
   "outputs": [
    {
     "data": {
      "text/plain": [
       "(0.681, 0.737)"
      ]
     },
     "execution_count": 78,
     "metadata": {},
     "output_type": "execute_result"
    }
   ],
   "source": [
    "rv = stats.norm()\n",
    "lcl = s_mean - rv.isf(0.025) * np.sqrt(s_mean*(1 -s_mean)/n)\n",
    "ucl = s_mean - rv.isf(0.975) * np.sqrt(s_mean*(1 -s_mean)/n)\n",
    "\n",
    "lcl, ucl"
   ]
  },
  {
   "cell_type": "code",
   "execution_count": 80,
   "id": "7395d54a",
   "metadata": {
    "ExecuteTime": {
     "end_time": "2022-09-05T04:30:23.618560Z",
     "start_time": "2022-09-05T04:30:23.607077Z"
    }
   },
   "outputs": [
    {
     "data": {
      "text/plain": [
       "array([10, 11,  9,  9, 18, 13,  4, 10, 10,  8], dtype=int64)"
      ]
     },
     "execution_count": 80,
     "metadata": {},
     "output_type": "execute_result"
    }
   ],
   "source": [
    "n_access_df = pd.read_csv('./data/ch10_access.csv')\n",
    "n_access = np.array(n_access_df['access number'])\n",
    "n = len(n_access)\n",
    "n_access[:10]"
   ]
  },
  {
   "cell_type": "code",
   "execution_count": 81,
   "id": "36955b6d",
   "metadata": {
    "ExecuteTime": {
     "end_time": "2022-09-05T04:30:41.645403Z",
     "start_time": "2022-09-05T04:30:41.637941Z"
    }
   },
   "outputs": [
    {
     "data": {
      "text/plain": [
       "10.444"
      ]
     },
     "execution_count": 81,
     "metadata": {},
     "output_type": "execute_result"
    }
   ],
   "source": [
    "s_mean = n_access.mean()\n",
    "s_mean"
   ]
  },
  {
   "cell_type": "code",
   "execution_count": 83,
   "id": "3dc4eae7",
   "metadata": {
    "ExecuteTime": {
     "end_time": "2022-09-05T04:31:38.686571Z",
     "start_time": "2022-09-05T04:31:38.675479Z"
    }
   },
   "outputs": [
    {
     "data": {
      "text/plain": [
       "(9.698, 11.191)"
      ]
     },
     "execution_count": 83,
     "metadata": {},
     "output_type": "execute_result"
    }
   ],
   "source": [
    "rv = stats.norm()\n",
    "lcl = s_mean - rv.isf(0.025) * np.sqrt(s_mean/n)\n",
    "ucl = s_mean - rv.isf(0.975) * np.sqrt(s_mean/n)\n",
    "\n",
    "lcl, ucl"
   ]
  },
  {
   "cell_type": "markdown",
   "id": "0e4ebc02",
   "metadata": {},
   "source": [
    "#### 과제2 0905\n",
    "- 다음 용어를 예를들어 설명하세요.불편성, 일치성, 불편분산\n",
    "- 카이제곱분포, t분포가 구강추정에 활용된 사례를 만들어 설명하세요 ( 카이제곱분포는 모분산을 알때 모평균 구할 때 썼음, t분포는 모분산을 모를때 모평균 구할 때 썼음 )"
   ]
  },
  {
   "cell_type": "code",
   "execution_count": 4,
   "id": "a580cbe4",
   "metadata": {
    "ExecuteTime": {
     "end_time": "2022-09-06T11:24:33.160396Z",
     "start_time": "2022-09-06T11:24:33.145294Z"
    }
   },
   "outputs": [],
   "source": [
    "import pandas as pd\n",
    "import numpy as np"
   ]
  },
  {
   "cell_type": "code",
   "execution_count": 11,
   "id": "c761710f",
   "metadata": {
    "ExecuteTime": {
     "end_time": "2022-09-06T11:46:14.390988Z",
     "start_time": "2022-09-06T11:46:14.372958Z"
    },
    "scrolled": true
   },
   "outputs": [
    {
     "name": "stdout",
     "output_type": "stream",
     "text": [
      "1번째 표본평균: 67.000\n",
      "2번째 표본평균: 72.850\n",
      "3번째 표본평균: 69.200\n",
      "4번째 표본평균: 64.450\n",
      "5번째 표본평균: 72.650\n",
      "표본평균들의 평균: 69.538\n",
      "모평균: 69.53\n"
     ]
    }
   ],
   "source": [
    "# 불편성 \n",
    "# '추정량의 기댓값'이 추측하려는 모수가 되는 성질\n",
    "df = pd.read_csv('./data/ch4_scores400.csv')\n",
    "scores = np.array(df['score'])\n",
    "\n",
    "# 표본 크기 20인 표본 10000개\n",
    "np.random.seed(1111)\n",
    "n = 20\n",
    "n_samples = 10000\n",
    "samples = np.random.choice(scores, (n_samples,n))\n",
    "\n",
    "# 표본 크기가 20인 표본중 5개\n",
    "for i in range(5):\n",
    "    s_mean = np.mean(samples[i])\n",
    "    print(f'{i+1}번째 표본평균: {s_mean:.3f}')\n",
    "\n",
    "# 크기가 20인 표본평균 10000개의 평균    \n",
    "print('표본평균들의 평균:', np.mean(samples))\n",
    "\n",
    "# 모평균\n",
    "print('모평균:',np.mean(scores))\n",
    "\n"
   ]
  },
  {
   "cell_type": "code",
   "execution_count": 12,
   "id": "e09a77df",
   "metadata": {
    "ExecuteTime": {
     "end_time": "2022-09-06T11:47:11.172425Z",
     "start_time": "2022-09-06T11:47:11.011498Z"
    }
   },
   "outputs": [
    {
     "name": "stdout",
     "output_type": "stream",
     "text": [
      "모평균: 69.53\n",
      "표본크기 100000   표본평균: 69.50824\n",
      "표본크기 1000000  표본평균: 69.544308\n",
      "표본크기 10000000 표본평균: 69.5357552\n"
     ]
    }
   ],
   "source": [
    "# 일치성\n",
    "# 표본 크기 n을 증가시키면 추측하기 원하는 모수에 수렴해가는 성질\n",
    "\n",
    "# 모평균\n",
    "print('모평균:',np.mean(scores))\n",
    "\n",
    "# 표본의 크기가 커지면 표본평균은 모평균에 수렴 >> 대수의 법칙을 사용하여 보임.\n",
    "print('표본크기 100000   표본평균:',np.mean(np.random.choice(scores, int(1e5))))\n",
    "print('표본크기 1000000  표본평균:',np.mean(np.random.choice(scores, int(1e6))))\n",
    "print('표본크기 10000000 표본평균:',np.mean(np.random.choice(scores, int(1e7))))"
   ]
  },
  {
   "cell_type": "code",
   "execution_count": null,
   "id": "cec6d5a3",
   "metadata": {},
   "outputs": [],
   "source": [
    "불편분산\n",
    "n은 자유도, 자유롭게 취할 수 있는 변수의 개수\n",
    "표본분산에서 나누는 수 n 을 n-1로함\n",
    "표본평균은 식 안의 변수에 제약이 없음, 자유도 = n\n",
    "표본분산은 식 안의 변수에 제약이 하나 생김, 자유도 = n-1"
   ]
  },
  {
   "cell_type": "code",
   "execution_count": null,
   "id": "56703261",
   "metadata": {},
   "outputs": [],
   "source": []
  },
  {
   "cell_type": "code",
   "execution_count": null,
   "id": "2f2653b0",
   "metadata": {},
   "outputs": [],
   "source": [
    "카이제곱분포, t분포가 구강추정에 활용된 사례를 만들어 설명하세요 ( 카이제곱분포는 모분산을 알때 모평균 구할 때 썼음 // t분포는 표본크기<30, 모분산을 모를때 모평균 구할 때 썼음 )\n"
   ]
  },
  {
   "cell_type": "markdown",
   "id": "bafdbb4a",
   "metadata": {},
   "source": [
    "## 통계적 가설검정"
   ]
  },
  {
   "cell_type": "code",
   "execution_count": 1,
   "id": "e7896ffc",
   "metadata": {
    "ExecuteTime": {
     "end_time": "2022-09-07T00:31:33.890912Z",
     "start_time": "2022-09-07T00:31:32.218916Z"
    }
   },
   "outputs": [
    {
     "data": {
      "text/plain": [
       "'%.3f'"
      ]
     },
     "execution_count": 1,
     "metadata": {},
     "output_type": "execute_result"
    }
   ],
   "source": [
    "import numpy as np\n",
    "import pandas as pd\n",
    "from scipy import stats\n",
    "%precision 3"
   ]
  },
  {
   "cell_type": "markdown",
   "id": "6f59d7c8",
   "metadata": {},
   "source": [
    "<img src = './data/오류.png' STYLE='width:400px;'>\n",
    "<img src = './data/오류의 크기.png' STYLE='width:800px;'>"
   ]
  },
  {
   "cell_type": "code",
   "execution_count": 9,
   "id": "38927ac1",
   "metadata": {
    "ExecuteTime": {
     "end_time": "2022-09-07T00:34:27.121781Z",
     "start_time": "2022-09-07T00:34:27.114725Z"
    }
   },
   "outputs": [],
   "source": [
    "# 감자튀김의 무게 데이터\n",
    "np.random.seed(1111)\n",
    "df = pd.read_csv('./data/ch11_potato.csv')\n",
    "sample = np.array(df['무게'])"
   ]
  },
  {
   "cell_type": "code",
   "execution_count": 10,
   "id": "d103000e",
   "metadata": {
    "ExecuteTime": {
     "end_time": "2022-09-07T00:34:38.182785Z",
     "start_time": "2022-09-07T00:34:38.173767Z"
    }
   },
   "outputs": [
    {
     "data": {
      "text/plain": [
       "128.451"
      ]
     },
     "execution_count": 10,
     "metadata": {},
     "output_type": "execute_result"
    }
   ],
   "source": [
    "# 표본평균\n",
    "s_mean = np.mean(sample)\n",
    "s_mean"
   ]
  },
  {
   "cell_type": "markdown",
   "id": "11132246",
   "metadata": {},
   "source": [
    "### 통계적 가설검정이란?\n",
    "모집단의 모수에 관하여 두가지 가설을 세우고 표본으로부터 계산되는 통계량을 이용하여 어느 가설이 옳은지 판단하는 통계적인 방법\n",
    "- 검정통계량 vs 임곗값\n",
    "- p값 vs 유의수준\n"
   ]
  },
  {
   "cell_type": "code",
   "execution_count": 11,
   "id": "9e5aa5dd",
   "metadata": {
    "ExecuteTime": {
     "end_time": "2022-09-07T00:47:10.053820Z",
     "start_time": "2022-09-07T00:47:10.035600Z"
    }
   },
   "outputs": [
    {
     "name": "stdout",
     "output_type": "stream",
     "text": [
      "130.0 0.8017837257372732\n",
      "[128.958 129.14  130.634 129.296 131.204 129.981 130.221 129.225 128.733\n",
      " 129.837]\n",
      "128.68118313069039\n"
     ]
    }
   ],
   "source": [
    "# 모평균이 알려진 감자튀김 무게 평균이 130g보다 적은지 여부(모집단이 정규분포를 따르고 모분산은 9)\n",
    "rv = stats.norm(130, np.sqrt(9/14))\n",
    "print(rv.mean(), rv.std())\n",
    "print(rv.rvs(10))\n",
    "print(rv.isf(0.95))"
   ]
  },
  {
   "cell_type": "code",
   "execution_count": 12,
   "id": "b8fbe765",
   "metadata": {
    "ExecuteTime": {
     "end_time": "2022-09-07T00:48:23.357024Z",
     "start_time": "2022-09-07T00:48:21.921845Z"
    }
   },
   "outputs": [
    {
     "data": {
      "text/plain": [
       "<bound method _AxesBase.set_ylim of <AxesSubplot:xlabel='x', ylabel='pdf'>>"
      ]
     },
     "execution_count": 12,
     "metadata": {},
     "output_type": "execute_result"
    },
    {
     "data": {
      "image/png": "[encoded data removed]",
      "text/plain": [
       "<Figure size 720x432 with 2 Axes>"
      ]
     },
     "metadata": {
      "needs_background": "light"
     },
     "output_type": "display_data"
    }
   ],
   "source": [
    "import matplotlib.pyplot as plt\n",
    "fig = plt.figure(figsize=(10,6))\n",
    "ax1 = fig.add_subplot(111)\n",
    "ax2 = ax1.twinx()\n",
    "xs = np.linspace(127,133,60)\n",
    "\n",
    "ax1.plot(xs,rv.pdf(xs))\n",
    "ax2.plot(xs,rv.cdf(xs),color='black')\n",
    "ax1.vlines(rv.ppf(0.05), 0,0.5, color='gray',ls='--')# ppf(0.05) = isf(0.95)\n",
    "ax1.set_xlabel(\"x\",fontsize=20)\n",
    "ax1.set_ylabel('pdf',rotation=0,fontsize=20)#확률밀도함수\n",
    "ax2.set_ylabel('cdf',rotation=0,fontsize=20)#누적분포함수 누적밀도함수\n",
    "ax1.set_ylim\n"
   ]
  },
  {
   "cell_type": "code",
   "execution_count": 13,
   "id": "f01a7ece",
   "metadata": {
    "ExecuteTime": {
     "end_time": "2022-09-07T01:02:22.824039Z",
     "start_time": "2022-09-07T01:02:22.814014Z"
    }
   },
   "outputs": [
    {
     "data": {
      "text/plain": [
       "-1.932"
      ]
     },
     "execution_count": 13,
     "metadata": {},
     "output_type": "execute_result"
    }
   ],
   "source": [
    "# 검정통계량 z : 표본평균을 표준화\n",
    "z = (s_mean - 130) / np.sqrt(9/14)\n",
    "z"
   ]
  },
  {
   "cell_type": "code",
   "execution_count": 14,
   "id": "587bf125",
   "metadata": {
    "ExecuteTime": {
     "end_time": "2022-09-07T01:05:03.568099Z",
     "start_time": "2022-09-07T01:05:03.556186Z"
    }
   },
   "outputs": [
    {
     "data": {
      "text/plain": [
       "-1.645"
      ]
     },
     "execution_count": 14,
     "metadata": {},
     "output_type": "execute_result"
    }
   ],
   "source": [
    "# 임곗값\n",
    "rv = stats.norm()\n",
    "rv.isf(0.95)"
   ]
  },
  {
   "cell_type": "code",
   "execution_count": 15,
   "id": "9b773388",
   "metadata": {
    "ExecuteTime": {
     "end_time": "2022-09-07T01:05:52.255494Z",
     "start_time": "2022-09-07T01:05:52.245065Z"
    }
   },
   "outputs": [
    {
     "data": {
      "text/plain": [
       "0.027"
      ]
     },
     "execution_count": 15,
     "metadata": {},
     "output_type": "execute_result"
    }
   ],
   "source": [
    "# 검정통계량으로부터 p값 산출\n",
    "# p값이 유의수준 0.05보다 작으므로 귀무가설 기각\n",
    "rv.cdf(z)"
   ]
  },
  {
   "cell_type": "code",
   "execution_count": null,
   "id": "6a345773",
   "metadata": {},
   "outputs": [],
   "source": [
    "# 귀무가설을 기각한다. = 귀무가설이 옳지 않다.\n",
    "# 귀무가설을 채택한다. = 귀무가설이 옳지 않다고 말할 수 없다. (확률적 접근 아닐가능성이 크다.)\n"
   ]
  },
  {
   "cell_type": "markdown",
   "id": "d26aae5c",
   "metadata": {},
   "source": [
    "단측검정과 양측검정\n",
    "귀무가설 : 감자튀김의 무게는 130g이다. (차이가없다? 효과가 없다?이 말이 이해가 안되네)\n",
    "- 단측검정 : 감자튀김의 무게가 130g보다 작다를 대립가설로 수행\n",
    "- 양측검정 : 감자튀김의 무게는 130g이 아니다를 대립가설로 수행\n",
    "\n",
    "대립가설 : 감자튀김의 무게는 130g보다 작다. (차이가 있다? 효과가있다?) "
   ]
  },
  {
   "cell_type": "code",
   "execution_count": 16,
   "id": "4025af8a",
   "metadata": {
    "ExecuteTime": {
     "end_time": "2022-09-07T01:38:14.186580Z",
     "start_time": "2022-09-07T01:38:14.180575Z"
    }
   },
   "outputs": [
    {
     "data": {
      "text/plain": [
       "-1.932"
      ]
     },
     "execution_count": 16,
     "metadata": {},
     "output_type": "execute_result"
    }
   ],
   "source": [
    "z = (s_mean - 130) / np.sqrt(9/14)\n",
    "z"
   ]
  },
  {
   "cell_type": "code",
   "execution_count": 17,
   "id": "baf8d872",
   "metadata": {
    "ExecuteTime": {
     "end_time": "2022-09-07T01:38:33.247385Z",
     "start_time": "2022-09-07T01:38:33.233356Z"
    }
   },
   "outputs": [
    {
     "data": {
      "text/plain": [
       "(-1.960, 1.960)"
      ]
     },
     "execution_count": 17,
     "metadata": {},
     "output_type": "execute_result"
    }
   ],
   "source": [
    "rv = stats.norm()\n",
    "rv.interval(0.95)"
   ]
  },
  {
   "cell_type": "code",
   "execution_count": 18,
   "id": "c360fd56",
   "metadata": {
    "ExecuteTime": {
     "end_time": "2022-09-07T01:39:44.330688Z",
     "start_time": "2022-09-07T01:39:44.323690Z"
    }
   },
   "outputs": [
    {
     "data": {
      "text/plain": [
       "0.053"
      ]
     },
     "execution_count": 18,
     "metadata": {},
     "output_type": "execute_result"
    }
   ],
   "source": [
    "# 양측검정의 p값은 상단과 하단의 양쪽 면적을 고려해야 하므로 누적밀도함수의 2배로 한다.\n",
    "rv.cdf(z)*2"
   ]
  },
  {
   "cell_type": "markdown",
   "id": "c91cc284",
   "metadata": {},
   "source": [
    "가설검정에서의 두 가지 오류\n",
    "- 제1종 오류 : 귀무가설이 옳을 때 귀무가설을 기각하는 오류\n",
    "  - '실제로 평균이 130g'인데도 평균은 130g 보다 작다라는 결론을 내리는 상황 \n",
    "- 제2종 오류 : 대립가설이 옳을 때 귀무가설을 채택하는 오류\n",
    "  - '모평균은 130g 보다 작다'인데도 모평균은 130g 보다 작다라는 결론을 얻을 수 없는 비율\n",
    "- 통계적 가설검정에서는 제1종 오류는 제어할 수 있지만 제2종 오류는 제어할 수 없는 비대칭성이 있다.\n"
   ]
  },
  {
   "cell_type": "code",
   "execution_count": 19,
   "id": "528a4aed",
   "metadata": {
    "ExecuteTime": {
     "end_time": "2022-09-07T01:49:14.127298Z",
     "start_time": "2022-09-07T01:49:14.122294Z"
    }
   },
   "outputs": [],
   "source": [
    "# 실제로 평균은 130g인 상황 고려 N(130, 9)\n",
    "rv = stats.norm(130, 3)"
   ]
  },
  {
   "cell_type": "code",
   "execution_count": 24,
   "id": "666419fe",
   "metadata": {
    "ExecuteTime": {
     "end_time": "2022-09-07T01:51:44.135764Z",
     "start_time": "2022-09-07T01:51:43.371211Z"
    }
   },
   "outputs": [
    {
     "data": {
      "text/plain": [
       "0.051"
      ]
     },
     "execution_count": 24,
     "metadata": {},
     "output_type": "execute_result"
    }
   ],
   "source": [
    "# 1종 오류를 범할 비율 : 위험률  = 유의수준과 일치하므로 분석가가 제어할 수 있는 확률임\n",
    "c = stats.norm().isf(0.95) # 표준정규분포에서 임곗값\n",
    "n_samples = 10000 # 10000개의 샘플\n",
    "cnt = 0\n",
    "for _ in range(n_samples):\n",
    "    sample_ = np.round(rv.rvs(14), 2)\n",
    "    s_mean_ = np.mean(sample_)\n",
    "    z = (s_mean_ - 130) / np.sqrt(9/14) #정규화\n",
    "    if z < c: # 검정통계량 < 임곗값\n",
    "        cnt +=1\n",
    "cnt / n_samples  "
   ]
  },
  {
   "cell_type": "code",
   "execution_count": 27,
   "id": "286e4caf",
   "metadata": {
    "ExecuteTime": {
     "end_time": "2022-09-07T02:12:13.516317Z",
     "start_time": "2022-09-07T02:12:12.768324Z"
    }
   },
   "outputs": [
    {
     "data": {
      "text/plain": [
       "0.194"
      ]
     },
     "execution_count": 27,
     "metadata": {},
     "output_type": "execute_result"
    }
   ],
   "source": [
    "# 2종 오류를 범하는 비율 : 1-베타, 검정력, 분석가가 제어할 수 없는 확률\n",
    "rv = stats.norm(128,3)\n",
    "c = stats.norm().isf(0.95)\n",
    "n_samples = 10000\n",
    "cnt = 0\n",
    "for _ in range(n_samples):\n",
    "    sample_ = np.round(rv.rvs(14),2)\n",
    "    s_mean_ = np.mean(sample_)\n",
    "    z = (s_mean_ - 130) / np.sqrt(9/14)\n",
    "    if z >= c: # 검정통계량 >= 임곗값\n",
    "        cnt +=1\n",
    "cnt / n_samples"
   ]
  },
  {
   "cell_type": "markdown",
   "id": "5e5f4b3e",
   "metadata": {},
   "source": [
    "#### 과제1 0907\n",
    "p308~p331 예제 풀기 (윌콕슨, 만-위트니 제외)"
   ]
  },
  {
   "cell_type": "markdown",
   "id": "5284390a",
   "metadata": {},
   "source": [
    "카이제곱검정\n",
    "- 독립성 검정이란 두 변수 'X,Y에 관해서 X와 Y가 독립이다.'라는 귀무가설과 'X,Y에 관해서 X와 Y가 독립이 아니다.'라는 대립가설에 의해 수행되는 검정\n",
    "- 독립성 검정에 카이제곱분포가 사용되기 때문에 카이제곱검정이라고도 부른다.\n",
    "- 광고A와 광고B간의 구입 비율에 유의한 차이가 있는지 확인하는 경우 사용할 수 있음.\n"
   ]
  },
  {
   "cell_type": "code",
   "execution_count": 28,
   "id": "aac4fda9",
   "metadata": {
    "ExecuteTime": {
     "end_time": "2022-09-07T02:42:06.918672Z",
     "start_time": "2022-09-07T02:42:06.876675Z"
    }
   },
   "outputs": [
    {
     "name": "stdout",
     "output_type": "stream",
     "text": [
      "1000\n"
     ]
    },
    {
     "data": {
      "text/html": [
       "<div>\n",
       "<style scoped>\n",
       "    .dataframe tbody tr th:only-of-type {\n",
       "        vertical-align: middle;\n",
       "    }\n",
       "\n",
       "    .dataframe tbody tr th {\n",
       "        vertical-align: top;\n",
       "    }\n",
       "\n",
       "    .dataframe thead th {\n",
       "        text-align: right;\n",
       "    }\n",
       "</style>\n",
       "<table border=\"1\" class=\"dataframe\">\n",
       "  <thead>\n",
       "    <tr style=\"text-align: right;\">\n",
       "      <th></th>\n",
       "      <th>광고</th>\n",
       "      <th>구입</th>\n",
       "    </tr>\n",
       "  </thead>\n",
       "  <tbody>\n",
       "    <tr>\n",
       "      <th>0</th>\n",
       "      <td>B</td>\n",
       "      <td>하지 않았다</td>\n",
       "    </tr>\n",
       "    <tr>\n",
       "      <th>1</th>\n",
       "      <td>B</td>\n",
       "      <td>하지 않았다</td>\n",
       "    </tr>\n",
       "    <tr>\n",
       "      <th>2</th>\n",
       "      <td>A</td>\n",
       "      <td>했다</td>\n",
       "    </tr>\n",
       "    <tr>\n",
       "      <th>3</th>\n",
       "      <td>A</td>\n",
       "      <td>했다</td>\n",
       "    </tr>\n",
       "    <tr>\n",
       "      <th>4</th>\n",
       "      <td>B</td>\n",
       "      <td>하지 않았다</td>\n",
       "    </tr>\n",
       "  </tbody>\n",
       "</table>\n",
       "</div>"
      ],
      "text/plain": [
       "  광고      구입\n",
       "0  B  하지 않았다\n",
       "1  B  하지 않았다\n",
       "2  A      했다\n",
       "3  A      했다\n",
       "4  B  하지 않았다"
      ]
     },
     "execution_count": 28,
     "metadata": {},
     "output_type": "execute_result"
    }
   ],
   "source": [
    "ad_df = pd.read_csv('data/ch11_ad.csv')\n",
    "n = len(ad_df)\n",
    "print(n)\n",
    "ad_df.head()"
   ]
  },
  {
   "cell_type": "code",
   "execution_count": 30,
   "id": "67753ef2",
   "metadata": {
    "ExecuteTime": {
     "end_time": "2022-09-07T02:43:43.550960Z",
     "start_time": "2022-09-07T02:43:43.535857Z"
    }
   },
   "outputs": [
    {
     "data": {
      "text/html": [
       "<div>\n",
       "<style scoped>\n",
       "    .dataframe tbody tr th:only-of-type {\n",
       "        vertical-align: middle;\n",
       "    }\n",
       "\n",
       "    .dataframe tbody tr th {\n",
       "        vertical-align: top;\n",
       "    }\n",
       "\n",
       "    .dataframe thead th {\n",
       "        text-align: right;\n",
       "    }\n",
       "</style>\n",
       "<table border=\"1\" class=\"dataframe\">\n",
       "  <thead>\n",
       "    <tr style=\"text-align: right;\">\n",
       "      <th>구입</th>\n",
       "      <th>하지 않았다</th>\n",
       "      <th>했다</th>\n",
       "    </tr>\n",
       "    <tr>\n",
       "      <th>광고</th>\n",
       "      <th></th>\n",
       "      <th></th>\n",
       "    </tr>\n",
       "  </thead>\n",
       "  <tbody>\n",
       "    <tr>\n",
       "      <th>A</th>\n",
       "      <td>351</td>\n",
       "      <td>49</td>\n",
       "    </tr>\n",
       "    <tr>\n",
       "      <th>B</th>\n",
       "      <td>549</td>\n",
       "      <td>51</td>\n",
       "    </tr>\n",
       "  </tbody>\n",
       "</table>\n",
       "</div>"
      ],
      "text/plain": [
       "구입  하지 않았다  했다\n",
       "광고            \n",
       "A      351  49\n",
       "B      549  51"
      ]
     },
     "execution_count": 30,
     "metadata": {},
     "output_type": "execute_result"
    }
   ],
   "source": [
    "# 교차집계표\n",
    "ad_cross = pd.crosstab(ad_df['광고'], ad_df['구입'])\n",
    "ad_cross"
   ]
  },
  {
   "cell_type": "code",
   "execution_count": 32,
   "id": "b5f53834",
   "metadata": {
    "ExecuteTime": {
     "end_time": "2022-09-07T02:45:33.624295Z",
     "start_time": "2022-09-07T02:45:33.611867Z"
    }
   },
   "outputs": [
    {
     "data": {
      "text/plain": [
       "광고\n",
       "A    0.1225\n",
       "B    0.0850\n",
       "dtype: float64"
      ]
     },
     "execution_count": 32,
     "metadata": {},
     "output_type": "execute_result"
    }
   ],
   "source": [
    "ad_cross['했다'] / (ad_cross['했다'] + ad_cross['하지 않았다'])"
   ]
  },
  {
   "cell_type": "code",
   "execution_count": 33,
   "id": "2be43825",
   "metadata": {
    "ExecuteTime": {
     "end_time": "2022-09-07T02:46:01.848935Z",
     "start_time": "2022-09-07T02:46:01.836939Z"
    }
   },
   "outputs": [
    {
     "data": {
      "text/plain": [
       "(900, 100)"
      ]
     },
     "execution_count": 33,
     "metadata": {},
     "output_type": "execute_result"
    }
   ],
   "source": [
    "n_not, n_yes = ad_cross.sum()\n",
    "n_not, n_yes"
   ]
  },
  {
   "cell_type": "code",
   "execution_count": 34,
   "id": "22a2ebf1",
   "metadata": {
    "ExecuteTime": {
     "end_time": "2022-09-07T02:47:38.477116Z",
     "start_time": "2022-09-07T02:47:38.464117Z"
    }
   },
   "outputs": [
    {
     "data": {
      "text/plain": [
       "(400, 600)"
      ]
     },
     "execution_count": 34,
     "metadata": {},
     "output_type": "execute_result"
    }
   ],
   "source": [
    "n_adA, n_adB = ad_cross.sum(axis=1)\n",
    "n_adA, n_adB"
   ]
  },
  {
   "cell_type": "code",
   "execution_count": 36,
   "id": "e2117fbd",
   "metadata": {
    "ExecuteTime": {
     "end_time": "2022-09-07T02:50:12.408898Z",
     "start_time": "2022-09-07T02:50:12.395940Z"
    }
   },
   "outputs": [
    {
     "data": {
      "text/html": [
       "<div>\n",
       "<style scoped>\n",
       "    .dataframe tbody tr th:only-of-type {\n",
       "        vertical-align: middle;\n",
       "    }\n",
       "\n",
       "    .dataframe tbody tr th {\n",
       "        vertical-align: top;\n",
       "    }\n",
       "\n",
       "    .dataframe thead th {\n",
       "        text-align: right;\n",
       "    }\n",
       "</style>\n",
       "<table border=\"1\" class=\"dataframe\">\n",
       "  <thead>\n",
       "    <tr style=\"text-align: right;\">\n",
       "      <th></th>\n",
       "      <th>했다</th>\n",
       "      <th>하지 않았다</th>\n",
       "    </tr>\n",
       "  </thead>\n",
       "  <tbody>\n",
       "    <tr>\n",
       "      <th>A</th>\n",
       "      <td>40.0</td>\n",
       "      <td>360.0</td>\n",
       "    </tr>\n",
       "    <tr>\n",
       "      <th>B</th>\n",
       "      <td>60.0</td>\n",
       "      <td>540.0</td>\n",
       "    </tr>\n",
       "  </tbody>\n",
       "</table>\n",
       "</div>"
      ],
      "text/plain": [
       "     했다  하지 않았다\n",
       "A  40.0   360.0\n",
       "B  60.0   540.0"
      ]
     },
     "execution_count": 36,
     "metadata": {},
     "output_type": "execute_result"
    }
   ],
   "source": [
    "# 기대도수\n",
    "ad_ef = pd.DataFrame({'했다':[n_adA * n_yes / n, n_adB * n_yes / n],'하지 않았다':[n_adA * n_not / n, n_adB * n_not / n]}, index=['A','B'])\n",
    "ad_ef"
   ]
  },
  {
   "cell_type": "code",
   "execution_count": 40,
   "id": "6338a4f1",
   "metadata": {
    "ExecuteTime": {
     "end_time": "2022-09-07T03:20:08.678971Z",
     "start_time": "2022-09-07T03:20:08.669970Z"
    }
   },
   "outputs": [
    {
     "data": {
      "text/plain": [
       "3.750"
      ]
     },
     "execution_count": 40,
     "metadata": {},
     "output_type": "execute_result"
    }
   ],
   "source": [
    "# 기대도수와 관측도수의 차이를 측정함으로써 검정수행\n",
    "y = ((ad_cross - ad_ef) ** 2 / ad_ef).sum().sum()\n",
    "y"
   ]
  },
  {
   "cell_type": "code",
   "execution_count": 41,
   "id": "0703bca3",
   "metadata": {
    "ExecuteTime": {
     "end_time": "2022-09-07T03:20:12.719985Z",
     "start_time": "2022-09-07T03:20:12.711984Z"
    }
   },
   "outputs": [
    {
     "data": {
      "text/plain": [
       "0.053"
      ]
     },
     "execution_count": 41,
     "metadata": {},
     "output_type": "execute_result"
    }
   ],
   "source": [
    "# p값이 0.05보다 큼, 귀무가설 채택, 광고A와 광고B의 유의한 차이가 인정되지 않는다는 결론.\n",
    "rv = stats.chi2(1)\n",
    "1 - rv.cdf(y)"
   ]
  },
  {
   "cell_type": "code",
   "execution_count": 42,
   "id": "2f0616fc",
   "metadata": {
    "ExecuteTime": {
     "end_time": "2022-09-07T03:21:51.820569Z",
     "start_time": "2022-09-07T03:21:51.809331Z"
    }
   },
   "outputs": [
    {
     "data": {
      "text/plain": [
       "(3.750, 0.053, 1)"
      ]
     },
     "execution_count": 42,
     "metadata": {},
     "output_type": "execute_result"
    }
   ],
   "source": [
    "chi2, p, dof, ef = stats.chi2_contingency(ad_cross, correction=False)\n",
    "chi2, p, dof"
   ]
  },
  {
   "cell_type": "code",
   "execution_count": 44,
   "id": "dfadb92a",
   "metadata": {
    "ExecuteTime": {
     "end_time": "2022-09-07T03:21:59.010144Z",
     "start_time": "2022-09-07T03:21:59.000114Z"
    }
   },
   "outputs": [
    {
     "data": {
      "text/plain": [
       "array([[360.,  40.],\n",
       "       [540.,  60.]])"
      ]
     },
     "execution_count": 44,
     "metadata": {},
     "output_type": "execute_result"
    }
   ],
   "source": [
    "ef"
   ]
  },
  {
   "cell_type": "markdown",
   "id": "b2812a4a",
   "metadata": {},
   "source": [
    "#### 과제2 0907\n",
    "카이제곱 검정을 사용하여 독립성 검정을 수행하는 사례를 작성하여 설명하세요."
   ]
  },
  {
   "cell_type": "code",
   "execution_count": null,
   "id": "ed7da84e",
   "metadata": {},
   "outputs": [],
   "source": []
  }
 ],
 "metadata": {
  "kernelspec": {
   "display_name": "Python 3 (ipykernel)",
   "language": "python",
   "name": "python3"
  },
  "language_info": {
   "codemirror_mode": {
    "name": "ipython",
    "version": 3
   },
   "file_extension": ".py",
   "mimetype": "text/x-python",
   "name": "python",
   "nbconvert_exporter": "python",
   "pygments_lexer": "ipython3",
   "version": "3.8.13"
  },
  "toc": {
   "base_numbering": 1,
   "nav_menu": {},
   "number_sections": true,
   "sideBar": true,
   "skip_h1_title": true,
   "title_cell": "Table of Contents",
   "title_sidebar": "Contents",
   "toc_cell": true,
   "toc_position": {
    "height": "752px",
    "left": "222px",
    "top": "164px",
    "width": "212px"
   },
   "toc_section_display": true,
   "toc_window_display": true
  }
 },
 "nbformat": 4,
 "nbformat_minor": 5
}
