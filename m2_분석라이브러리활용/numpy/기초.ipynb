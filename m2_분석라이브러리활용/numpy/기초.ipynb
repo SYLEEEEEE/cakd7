{
 "cells": [
  {
   "cell_type": "markdown",
   "id": "514cf09d",
   "metadata": {},
   "source": [
    "#### NumPy는 “Numerical Python“의 약자로 대규모 다차원 배열과 행렬 연산에 필요한 다양한 함수를 제공\n",
    "* Numerical Python을 의미하는 NumPy는 파이썬에서 선형대수 기반의 프로그램을 쉽게 만들 수 있도록 지원하는 대표적인 패키지\n",
    "* 많은 머신러닝 알고리즘이 넘파이 기반으로 작성돼 있으며 알고리즘의 입출력 데이터를 넘파이 배열 타입으로 사용함\n",
    "* 넘파이의 기본 데이터 타입은 ndarray. ndarray를 이용해 넘파이에서 다차원 배열을 쉽게 생성하고 다양한 연산 수행\n",
    "\n",
    "NumPy 특징\n",
    "\n",
    "- 강력한 N 차원 배열 객체\n",
    "- 정교한 브로드케스팅(Broadcast) 기능\n",
    "- C/C ++ 및 포트란 코드 통합 도구\n",
    "- 유용한 선형 대수학, 푸리에 변환 및 난수 기능\n",
    "- 푸리에 변환(Fourier transform, FT)은 시간이나 공간에 대한 함수를 시간 또는 공간 주파수 성분으로 분해하는 변환\n",
    "- 범용적 데이터 처리에 사용 가능한 다차원 컨테이너\n",
    "\n",
    "Numpy Documentation  \n",
    "\n",
    "https://numpy.org/doc/1.21/index.html\n"
   ]
  },
  {
   "cell_type": "code",
   "execution_count": 1,
   "id": "9c4a9ffb",
   "metadata": {},
   "outputs": [],
   "source": [
    "import numpy as np\n",
    "import pandas as pd"
   ]
  },
  {
   "cell_type": "code",
   "execution_count": 13,
   "id": "34ce6908",
   "metadata": {},
   "outputs": [
    {
     "name": "stdout",
     "output_type": "stream",
     "text": [
      "40 bytes\n"
     ]
    }
   ],
   "source": [
    "z = np.arange(10)\n",
    "print(f'{z.size*z.itemsize} bytes')"
   ]
  },
  {
   "cell_type": "code",
   "execution_count": 16,
   "id": "b7c35f9a",
   "metadata": {},
   "outputs": [],
   "source": [
    "# Numpy는 내부적으로 데이터를 다른 내장 파이썬 객체와 구분된 연속된 메모리 블록에 저장\n",
    "my_arr = np.arange(1000000)\n",
    "my_list = list(range(1000000))"
   ]
  },
  {
   "cell_type": "code",
   "execution_count": 19,
   "id": "94882169",
   "metadata": {},
   "outputs": [
    {
     "name": "stdout",
     "output_type": "stream",
     "text": [
      "CPU times: total: 15.6 ms\n",
      "Wall time: 20.7 ms\n"
     ]
    }
   ],
   "source": [
    "# '_'은 값을 무시하고 싶은 경우 사용(여기서는 인덱스 무시)\n",
    "%time for _ in range(10): my_array2 = my_arr*2"
   ]
  },
  {
   "cell_type": "code",
   "execution_count": 20,
   "id": "fa59e3ce",
   "metadata": {},
   "outputs": [
    {
     "name": "stdout",
     "output_type": "stream",
     "text": [
      "CPU times: total: 828 ms\n",
      "Wall time: 817 ms\n"
     ]
    }
   ],
   "source": [
    "%time for _ in range(10): my_list2 = [x*2 for x in my_list]"
   ]
  },
  {
   "cell_type": "code",
   "execution_count": 22,
   "id": "e193bb8b",
   "metadata": {},
   "outputs": [
    {
     "name": "stdout",
     "output_type": "stream",
     "text": [
      "[[ 0.29123302  0.73087339 -0.66402826]\n",
      " [-0.48913853 -0.08169471  2.88617184]] \n",
      "\n",
      "[[ 2.91233017  7.30873385 -6.64028265]\n",
      " [-4.89138533 -0.81694708 28.86171838]] \n",
      "\n",
      "[[ 0.58246603  1.46174677 -1.32805653]\n",
      " [-0.97827707 -0.16338942  5.77234368]]\n"
     ]
    }
   ],
   "source": [
    "# 배열 연산\n",
    "data = np.random.randn(2,3) #n = normal정규분포로 2헹 3열\n",
    "print(data, '\\n')\n",
    "print(data * 10, '\\n')\n",
    "print(data + data)"
   ]
  },
  {
   "cell_type": "code",
   "execution_count": 23,
   "id": "19ac1a77",
   "metadata": {},
   "outputs": [
    {
     "name": "stdout",
     "output_type": "stream",
     "text": [
      "(2, 3)\n",
      "float64\n",
      "2\n"
     ]
    }
   ],
   "source": [
    "print(data.shape) #크기\n",
    "print(data.dtype) #데이터타입\n",
    "print(data.ndim) #차원"
   ]
  },
  {
   "cell_type": "markdown",
   "id": "2ea83e27",
   "metadata": {},
   "source": [
    "다차원 배열\n",
    "\n",
    "<img src = 'numpy차원.jpg' STYLE='width:500px;'>"
   ]
  },
  {
   "cell_type": "code",
   "execution_count": 26,
   "id": "77138b7b",
   "metadata": {},
   "outputs": [
    {
     "data": {
      "text/plain": [
       "array([[1, 2, 3, 4],\n",
       "       [5, 6, 7, 8]])"
      ]
     },
     "execution_count": 26,
     "metadata": {},
     "output_type": "execute_result"
    }
   ],
   "source": [
    "# 다차원 배열\n",
    "data2 = [[1,2,3,4],[5,6,7,8]]\n",
    "arr2 = np.array(data2)\n",
    "arr2"
   ]
  },
  {
   "cell_type": "code",
   "execution_count": 27,
   "id": "f21858d7",
   "metadata": {},
   "outputs": [
    {
     "name": "stdout",
     "output_type": "stream",
     "text": [
      "2 \n",
      "\n",
      "(2, 4)\n"
     ]
    }
   ],
   "source": [
    "print(arr2.ndim,'\\n')\n",
    "print(arr2.shape)"
   ]
  },
  {
   "cell_type": "code",
   "execution_count": 28,
   "id": "6b975ebb",
   "metadata": {},
   "outputs": [
    {
     "name": "stdout",
     "output_type": "stream",
     "text": [
      "[1 2 3] <class 'numpy.ndarray'>\n",
      "(3,)\n"
     ]
    }
   ],
   "source": [
    "# 1차원 배열로 3개의 데이터\n",
    "arr1 = np.array([1,2,3])\n",
    "print(arr1,type(arr1))\n",
    "print(arr1.shape)  # 행1 열3인데  (3,) 로 출력됨 "
   ]
  },
  {
   "cell_type": "markdown",
   "id": "ad972694",
   "metadata": {},
   "source": [
    "### 배열 생성 및 초기화\n",
    "- Numpy는 원하는 shape로 배열을 설정하고 각 요소를 특정 값으로 초기화하는 zeros, ones, full, eye 함수 제공\n",
    "- 파라미터로 입력한 배열과 같은 shape의 배열을 만드는 zeros_like, ones_like, full_like 함수도 제공"
   ]
  },
  {
   "cell_type": "code",
   "execution_count": 31,
   "id": "22d3512d",
   "metadata": {},
   "outputs": [
    {
     "name": "stdout",
     "output_type": "stream",
     "text": [
      "[0. 0. 0. 0. 0. 0. 0. 0. 0. 0.] \n",
      "\n",
      "[[0. 0. 0. 0. 0. 0.]\n",
      " [0. 0. 0. 0. 0. 0.]\n",
      " [0. 0. 0. 0. 0. 0.]] \n",
      "\n",
      "[[[0. 0.]\n",
      "  [0. 0.]\n",
      "  [0. 0.]]\n",
      "\n",
      " [[0. 0.]\n",
      "  [0. 0.]\n",
      "  [0. 0.]]]\n"
     ]
    }
   ],
   "source": [
    "print(np.zeros(10),'\\n')\n",
    "print(np.zeros((3,6)), '\\n')\n",
    "print(np.zeros((2,3,2)))"
   ]
  },
  {
   "cell_type": "code",
   "execution_count": 32,
   "id": "167337ec",
   "metadata": {},
   "outputs": [
    {
     "data": {
      "text/plain": [
       "array([[[1., 1., 1., 1.],\n",
       "        [1., 1., 1., 1.],\n",
       "        [1., 1., 1., 1.]],\n",
       "\n",
       "       [[1., 1., 1., 1.],\n",
       "        [1., 1., 1., 1.],\n",
       "        [1., 1., 1., 1.]]])"
      ]
     },
     "execution_count": 32,
     "metadata": {},
     "output_type": "execute_result"
    }
   ],
   "source": [
    "np.ones((2,3,4))"
   ]
  },
  {
   "cell_type": "code",
   "execution_count": 36,
   "id": "7ddbe3fb",
   "metadata": {},
   "outputs": [
    {
     "name": "stdout",
     "output_type": "stream",
     "text": [
      "[[0 0 0 0 0]\n",
      " [0 0 0 0 0]] \n",
      "\n",
      "[[1 1 1 1 1]\n",
      " [1 1 1 1 1]] \n",
      "\n",
      "[[5 5 5 5 5]\n",
      " [5 5 5 5 5]]\n"
     ]
    }
   ],
   "source": [
    "a = np.arange(10).reshape(2,5)\n",
    "z = np.zeros_like(a)  # a 와 같은 shape로 0으로 채움\n",
    "o = np.ones_like(a)\n",
    "f = np.full_like(a, 5) # full 다채움 ,숫자로\n",
    "\n",
    "print(z,'\\n')\n",
    "print(o, '\\n')\n",
    "print(f)"
   ]
  },
  {
   "cell_type": "code",
   "execution_count": 38,
   "id": "0881bd07",
   "metadata": {},
   "outputs": [
    {
     "name": "stdout",
     "output_type": "stream",
     "text": [
      "[ 0  1  2  3  4  5  6  7  8  9 10 11 12 13 14 15 16 17 18 19 20 21 22 23\n",
      " 24 25 26 27 28 29] \n",
      "\n",
      "[[ 0  1  2  3  4  5]\n",
      " [ 6  7  8  9 10 11]\n",
      " [12 13 14 15 16 17]\n",
      " [18 19 20 21 22 23]\n",
      " [24 25 26 27 28 29]] \n",
      "\n",
      "[[[ 0  1  2  3  4]\n",
      "  [ 5  6  7  8  9]]\n",
      "\n",
      " [[10 11 12 13 14]\n",
      "  [15 16 17 18 19]]\n",
      "\n",
      " [[20 21 22 23 24]\n",
      "  [25 26 27 28 29]]]\n"
     ]
    }
   ],
   "source": [
    "ar = np.arange(30)\n",
    "ar1 = ar\n",
    "ar2 = ar.reshape(5,6)\n",
    "ar3 = ar.reshape(3,2,5)\n",
    "print(ar1, '\\n')\n",
    "print(ar2, '\\n')\n",
    "print(ar3)"
   ]
  },
  {
   "cell_type": "code",
   "execution_count": 53,
   "id": "0f89abc0",
   "metadata": {},
   "outputs": [
    {
     "name": "stdout",
     "output_type": "stream",
     "text": [
      "[ 0  1  2  3  4  5  6  7  8  9 10 11 12 13 14 15 16 17 18 19 20 21 22 23\n",
      " 24 25 26 27 28 29] \n",
      "\n",
      "[[[ 0  1  2  3  4  5  6  7  8  9 10 11 12 13 14]\n",
      "  [15 16 17 18 19 20 21 22 23 24 25 26 27 28 29]]] \n",
      "\n",
      "[[[ 0  1  2  3  4  5  6  7  8  9]\n",
      "  [10 11 12 13 14 15 16 17 18 19]\n",
      "  [20 21 22 23 24 25 26 27 28 29]]]\n"
     ]
    }
   ],
   "source": [
    "# reshape(-1,-1) 이용, 차원 변경   # -1 남은 길이 차원 의미함   ex)   모든 원소 - xy하고 남은게 z축으로 다 갖다 씀 (-1, x, y)\n",
    "print(ar1, '\\n')\n",
    "ar2 = ar.reshape(-1,2,15)\n",
    "print(ar2, '\\n')\n",
    "ar3 = ar.reshape(-1,3, 10)\n",
    "print(ar3)"
   ]
  },
  {
   "cell_type": "markdown",
   "id": "0e43b8c5",
   "metadata": {},
   "source": [
    "# 과제 7/5 \n",
    "데이터 자율\n",
    "- 2차원을 1, 3 차원으로 변경하여 출력하세요\n",
    "- 3차원을 1, 2 차원으로 변경하여 출력하세요"
   ]
  },
  {
   "cell_type": "code",
   "execution_count": 177,
   "id": "160d425c",
   "metadata": {},
   "outputs": [
    {
     "name": "stdout",
     "output_type": "stream",
     "text": [
      "[ 0  1  2  3  4  5  6  7  8  9 10 11 12 13 14 15 16 17 18 19] \n",
      "\n",
      "[[[ 0  1]\n",
      "  [ 2  3]\n",
      "  [ 4  5]\n",
      "  [ 6  7]\n",
      "  [ 8  9]]\n",
      "\n",
      " [[10 11]\n",
      "  [12 13]\n",
      "  [14 15]\n",
      "  [16 17]\n",
      "  [18 19]]]\n"
     ]
    }
   ],
   "source": [
    "arr = np.arange(20).reshape(5,4)\n",
    "arr1 = arr.reshape(-1)\n",
    "print(arr1,'\\n')\n",
    "arr3 = arr.reshape(2,5,2)\n",
    "print(arr3)"
   ]
  },
  {
   "cell_type": "code",
   "execution_count": 178,
   "id": "31d09d9e",
   "metadata": {},
   "outputs": [
    {
     "name": "stdout",
     "output_type": "stream",
     "text": [
      "[ 0  1  2  3  4  5  6  7  8  9 10 11 12 13 14 15 16 17 18 19] \n",
      "\n",
      "[[ 0  1  2  3  4  5  6  7  8  9]\n",
      " [10 11 12 13 14 15 16 17 18 19]]\n"
     ]
    }
   ],
   "source": [
    "arr = np.arange(20).reshape(2,5,2)\n",
    "arr1 = arr.reshape(-1)\n",
    "print(arr1,'\\n')\n",
    "arr2 = arr.reshape(2,-1)\n",
    "print(arr2)"
   ]
  },
  {
   "cell_type": "markdown",
   "id": "a508168d",
   "metadata": {},
   "source": [
    "행렬의 종류\n",
    "\n",
    "https://math-development-geometry.tistory.com/52\n",
    "\n",
    "- 정방행렬은 행과 열의 수가 같은 행렬\n",
    "- 대각행렬은 주대각선 원소를 제외한 모든 원소들이 0인 정방행렬\n",
    "- 삼각행렬은 주대각선 원소를 기준으로 위 또는 아래에 있는 성분이 모두 0인 정방행렬\n",
    "- 항등행렬은 행렬 곱셈 연산에 항등원으로 작용하는 행렬\n",
    "- 영행렬은 모든 원소가 0인 행렬로 곱셈 연산에서 영원으로 작용하는 행렬\n",
    "- 전치행렬은 주대각선 원소를 기준으로 행과 열을 바꿔주는 행렬\n",
    "- 직교행렬은 행렬 A의 역행렬이 A의 전치행렬이고 A의 전치행렬과 A 행렬을 곱하였을때 항등행렬이 나오는 행렬\n"
   ]
  },
  {
   "cell_type": "code",
   "execution_count": 54,
   "id": "23558c30",
   "metadata": {},
   "outputs": [
    {
     "data": {
      "text/plain": [
       "array([[7, 7],\n",
       "       [7, 7]])"
      ]
     },
     "execution_count": 54,
     "metadata": {},
     "output_type": "execute_result"
    }
   ],
   "source": [
    "# 정방행렬\n",
    "a = np.full((2,2), 7)\n",
    "a"
   ]
  },
  {
   "cell_type": "code",
   "execution_count": 55,
   "id": "cfd37f74",
   "metadata": {},
   "outputs": [
    {
     "data": {
      "text/plain": [
       "array([[1., 0., 0.],\n",
       "       [0., 1., 0.],\n",
       "       [0., 0., 1.]])"
      ]
     },
     "execution_count": 55,
     "metadata": {},
     "output_type": "execute_result"
    }
   ],
   "source": [
    "# 항등행렬, 단위행렬\n",
    "arr = np.eye(3)\n",
    "arr"
   ]
  },
  {
   "cell_type": "code",
   "execution_count": 60,
   "id": "1e0a942b",
   "metadata": {},
   "outputs": [
    {
     "data": {
      "text/plain": [
       "array([ 0.        ,  0.20408163,  0.40816327,  0.6122449 ,  0.81632653,\n",
       "        1.02040816,  1.2244898 ,  1.42857143,  1.63265306,  1.83673469,\n",
       "        2.04081633,  2.24489796,  2.44897959,  2.65306122,  2.85714286,\n",
       "        3.06122449,  3.26530612,  3.46938776,  3.67346939,  3.87755102,\n",
       "        4.08163265,  4.28571429,  4.48979592,  4.69387755,  4.89795918,\n",
       "        5.10204082,  5.30612245,  5.51020408,  5.71428571,  5.91836735,\n",
       "        6.12244898,  6.32653061,  6.53061224,  6.73469388,  6.93877551,\n",
       "        7.14285714,  7.34693878,  7.55102041,  7.75510204,  7.95918367,\n",
       "        8.16326531,  8.36734694,  8.57142857,  8.7755102 ,  8.97959184,\n",
       "        9.18367347,  9.3877551 ,  9.59183673,  9.79591837, 10.        ])"
      ]
     },
     "execution_count": 60,
     "metadata": {},
     "output_type": "execute_result"
    }
   ],
   "source": [
    "# 0~10을 균등하게 50개로 나누어줌\n",
    "np.linspace(0, 10) # default = 50"
   ]
  },
  {
   "cell_type": "code",
   "execution_count": 61,
   "id": "afeb8832",
   "metadata": {},
   "outputs": [
    {
     "data": {
      "text/plain": [
       "(array([0.  , 0.25, 0.5 , 0.75, 1.  ]), 0.25)"
      ]
     },
     "execution_count": 61,
     "metadata": {},
     "output_type": "execute_result"
    }
   ],
   "source": [
    "np.linspace(0, 1, 5, retstep=True)  # retstep=True차이 보여줌"
   ]
  },
  {
   "cell_type": "code",
   "execution_count": 62,
   "id": "38fdb3ad",
   "metadata": {},
   "outputs": [
    {
     "data": {
      "text/plain": [
       "[<matplotlib.lines.Line2D at 0x1fde6738b80>]"
      ]
     },
     "execution_count": 62,
     "metadata": {},
     "output_type": "execute_result"
    },
    {
     "data": {
      "image/png": "[encoded data removed]",
      "text/plain": [
       "<Figure size 432x288 with 1 Axes>"
      ]
     },
     "metadata": {
      "needs_background": "light"
     },
     "output_type": "display_data"
    }
   ],
   "source": [
    "import matplotlib.pyplot as plt\n",
    "x = np.linspace(0,1)\n",
    "y = np.linspace(0,50)\n",
    "plt.plot(x, y, 'o')"
   ]
  },
  {
   "cell_type": "code",
   "execution_count": 63,
   "id": "deca0967",
   "metadata": {},
   "outputs": [
    {
     "data": {
      "text/plain": [
       "[<matplotlib.lines.Line2D at 0x1fde6ebba60>]"
      ]
     },
     "execution_count": 63,
     "metadata": {},
     "output_type": "execute_result"
    },
    {
     "data": {
      "image/png": "[encoded data removed]",
      "text/plain": [
       "<Figure size 432x288 with 1 Axes>"
      ]
     },
     "metadata": {
      "needs_background": "light"
     },
     "output_type": "display_data"
    }
   ],
   "source": [
    "x = np.linspace(0, 20, 20)\n",
    "y = np.linspace(0.1, 1, 20)\n",
    "plt.plot(x, y, 'o')"
   ]
  },
  {
   "cell_type": "code",
   "execution_count": 68,
   "id": "f89dde15",
   "metadata": {},
   "outputs": [
    {
     "name": "stdout",
     "output_type": "stream",
     "text": [
      "0.0999999993810619\n",
      "1.0\n"
     ]
    },
    {
     "data": {
      "text/plain": [
       "array([ 1.25892541,  1.40400425,  1.565802  ,  1.74624535,  1.94748304,\n",
       "        2.1719114 ,  2.42220294,  2.70133812,  3.0126409 ,  3.35981829,\n",
       "        3.74700446,  4.17881006,  4.66037703,  5.19743987,  5.79639395,\n",
       "        6.46437163,  7.2093272 ,  8.04013161,  8.9666781 , 10.        ])"
      ]
     },
     "execution_count": 68,
     "metadata": {},
     "output_type": "execute_result"
    }
   ],
   "source": [
    "print(np.log10(1.25892541))\n",
    "print(np.log10(10))\n",
    "np.logspace(0.1, 1, 20)"
   ]
  },
  {
   "cell_type": "code",
   "execution_count": 73,
   "id": "70cda13a",
   "metadata": {},
   "outputs": [
    {
     "data": {
      "text/plain": [
       "[<matplotlib.lines.Line2D at 0x1fde77ea4f0>]"
      ]
     },
     "execution_count": 73,
     "metadata": {},
     "output_type": "execute_result"
    },
    {
     "data": {
      "image/png": "[encoded data removed]",
      "text/plain": [
       "<Figure size 432x288 with 1 Axes>"
      ]
     },
     "metadata": {
      "needs_background": "light"
     },
     "output_type": "display_data"
    }
   ],
   "source": [
    "x = np.linspace(0, 20, 20)\n",
    "y = np.logspace(0.1, 1, 20)  # 로그가 1이 나오려면 대입값 10 이 그래프에 찍힘 지수처럼\n",
    "plt.plot(x, y, 'o')"
   ]
  },
  {
   "cell_type": "code",
   "execution_count": 70,
   "id": "f74aaf0b",
   "metadata": {},
   "outputs": [
    {
     "name": "stderr",
     "output_type": "stream",
     "text": [
      "C:\\Users\\SANGYUN\\AppData\\Local\\Temp\\ipykernel_14468\\1472501360.py:2: RuntimeWarning: divide by zero encountered in log10\n",
      "  y = np.log10(x)\n"
     ]
    },
    {
     "data": {
      "text/plain": [
       "[<matplotlib.lines.Line2D at 0x1fde70519a0>]"
      ]
     },
     "execution_count": 70,
     "metadata": {},
     "output_type": "execute_result"
    },
    {
     "data": {
      "image/png": "[encoded data removed]",
      "text/plain": [
       "<Figure size 432x288 with 1 Axes>"
      ]
     },
     "metadata": {
      "needs_background": "light"
     },
     "output_type": "display_data"
    }
   ],
   "source": [
    "x = np.linspace(0, 20, 20)\n",
    "y = np.log10(x)\n",
    "plt.plot(x, y, 'o')"
   ]
  },
  {
   "cell_type": "code",
   "execution_count": 71,
   "id": "154c5950",
   "metadata": {},
   "outputs": [
    {
     "data": {
      "text/plain": [
       "[<matplotlib.lines.Line2D at 0x1fde77176a0>]"
      ]
     },
     "execution_count": 71,
     "metadata": {},
     "output_type": "execute_result"
    },
    {
     "data": {
      "image/png": "[encoded data removed]",
      "text/plain": [
       "<Figure size 432x288 with 1 Axes>"
      ]
     },
     "metadata": {
      "needs_background": "light"
     },
     "output_type": "display_data"
    }
   ],
   "source": [
    "x = np.linspace(0, 20, 20)\n",
    "y = np.e**x\n",
    "plt.plot(x, y, 'o')"
   ]
  },
  {
   "cell_type": "markdown",
   "id": "1e3f647a",
   "metadata": {},
   "source": [
    "ndarray 데이터 형태 지정 및 변경\n",
    "<img src = '데이터형태.jpg' STYLE = 'width:500px;'>"
   ]
  },
  {
   "cell_type": "code",
   "execution_count": 76,
   "id": "ff5a1577",
   "metadata": {},
   "outputs": [
    {
     "name": "stdout",
     "output_type": "stream",
     "text": [
      "int32\n"
     ]
    },
    {
     "data": {
      "text/plain": [
       "dtype('float64')"
      ]
     },
     "execution_count": 76,
     "metadata": {},
     "output_type": "execute_result"
    }
   ],
   "source": [
    "arr = np.array([1,2,3,4,5],)\n",
    "print(arr.dtype)\n",
    "float_arr = arr.astype(np.float64)\n",
    "float_arr.dtype"
   ]
  },
  {
   "cell_type": "code",
   "execution_count": 82,
   "id": "a69dac9a",
   "metadata": {},
   "outputs": [
    {
     "name": "stdout",
     "output_type": "stream",
     "text": [
      "[b'1' b'2' b'3' b'4' b'5'] |S1\n"
     ]
    }
   ],
   "source": [
    "numeric_string = np.array([1,2,3,4,5], dtype='S')  # S : 바이트 문자열\n",
    "print(numeric_string, numeric_string.dtype)"
   ]
  },
  {
   "cell_type": "code",
   "execution_count": 85,
   "id": "66973b0b",
   "metadata": {},
   "outputs": [
    {
     "name": "stdout",
     "output_type": "stream",
     "text": [
      "[1. 2. 3. 4. 5.] float64\n"
     ]
    }
   ],
   "source": [
    "num = numeric_string.astype(float)   #int 32 디폴트 float 64 디폴트\n",
    "print(num, num.dtype)"
   ]
  },
  {
   "cell_type": "markdown",
   "id": "cf700467",
   "metadata": {},
   "source": [
    "# 과제 7/5\n",
    "- 두개의 배열을 생성하여 사칙연산을 수행하세요"
   ]
  },
  {
   "cell_type": "code",
   "execution_count": 180,
   "id": "8bb5aaa1",
   "metadata": {},
   "outputs": [
    {
     "name": "stdout",
     "output_type": "stream",
     "text": [
      "[[12 14 16]\n",
      " [18 20 22]\n",
      " [24 26 28]] \n",
      "\n",
      "[[-10 -10 -10]\n",
      " [-10 -10 -10]\n",
      " [-10 -10 -10]] \n",
      "\n",
      "[[ 11  24  39]\n",
      " [ 56  75  96]\n",
      " [119 144 171]] \n",
      "\n",
      "[[0.09090909 0.16666667 0.23076923]\n",
      " [0.28571429 0.33333333 0.375     ]\n",
      " [0.41176471 0.44444444 0.47368421]]\n"
     ]
    }
   ],
   "source": [
    "arr1 = np.arange(1,10).reshape(3,3)\n",
    "arr2 = np.arange(11,20).reshape(3,3)\n",
    "print(arr1 + arr2, '\\n')\n",
    "print(arr1 - arr2, '\\n')\n",
    "print(arr1 * arr2, '\\n')\n",
    "print(arr1 / arr2)"
   ]
  },
  {
   "cell_type": "markdown",
   "id": "623923eb",
   "metadata": {},
   "source": [
    "뷰(view) : 넘파이의 ndarray(이하 배열)을 슬라이싱할 때 파이썬의 리스트(list)와 다르게 원본의 참조가 생성\n",
    "\n",
    "numpy는 대용량 데이터 처리를 염두에 두고 대용량 데이터의 슬라이싱이 빈번하게 일어나는 복잡한 코드를 실행시키는데 있어서 복사가 남발되면 메모리 문제를 일으킬 소지가 많기 때문에 이렇게 설계\n",
    "\n",
    "- 복사가 아니고 뷰(참조의 개념)이기 때문에 원본이 바뀌면 이 참조본도 따라서 바뀜\n",
    "- 리스트의 슬라이싱에서는 복사본이 생성되는 것과는 다른 동작이기 때문에 주의\n",
    "- 슬라이싱의 복사본을 생성하고 싶다면 copy() 속성을 이용\n",
    "\n",
    "http://taewan.kim/post/numpy_cheat_sheet/\n"
   ]
  },
  {
   "cell_type": "code",
   "execution_count": 86,
   "id": "bb5662de",
   "metadata": {},
   "outputs": [
    {
     "name": "stdout",
     "output_type": "stream",
     "text": [
      "[1, 2, 3, 4, 5, 6, 7, 8, 9, 10] \n",
      "\n",
      "[1, 2, 3, 4, 5] \n",
      "\n",
      "[1, 0, 3, 4, 5] \n",
      "\n",
      "[1, 2, 3, 4, 5, 6, 7, 8, 9, 10]\n"
     ]
    }
   ],
   "source": [
    "li = list(np.arange(1,11))\n",
    "print(li, '\\n')\n",
    "li_slice = li[:5].copy()\n",
    "print(li_slice, '\\n')\n",
    "li_slice[1] = 0\n",
    "print(li_slice, '\\n')\n",
    "print(li)"
   ]
  },
  {
   "cell_type": "code",
   "execution_count": 89,
   "id": "f1054acf",
   "metadata": {},
   "outputs": [
    {
     "name": "stdout",
     "output_type": "stream",
     "text": [
      "[0 1 2 3 4 5 6 7 8 9] \n",
      "\n",
      "[5 6 7] \n",
      "\n",
      "[12 12 12] \n",
      "\n",
      "[ 0  1  2  3  4 12 12 12  8  9]\n"
     ]
    }
   ],
   "source": [
    "# 뷰는 원본을 변경\n",
    "arr = np.arange(10)\n",
    "print(arr, '\\n')\n",
    "li_slice = arr[5:8]\n",
    "print(li_slice, '\\n')\n",
    "li_slice[:] = 12\n",
    "print(li_slice, '\\n')\n",
    "print(arr)"
   ]
  },
  {
   "cell_type": "markdown",
   "id": "83bc836a",
   "metadata": {},
   "source": [
    "# 과제7/5.\n",
    "- array2d에서 아래와 같이 출력하세요."
   ]
  },
  {
   "cell_type": "code",
   "execution_count": 15,
   "id": "8c88d396",
   "metadata": {
    "scrolled": true
   },
   "outputs": [
    {
     "data": {
      "text/plain": [
       "array([[1, 2, 3],\n",
       "       [4, 5, 6],\n",
       "       [7, 8, 9]])"
      ]
     },
     "execution_count": 15,
     "metadata": {},
     "output_type": "execute_result"
    }
   ],
   "source": [
    "arr2d = np.arange(1,10).reshape(3,3)\n",
    "arr2d"
   ]
  },
  {
   "cell_type": "code",
   "execution_count": 17,
   "id": "34f0fd5f",
   "metadata": {},
   "outputs": [
    {
     "name": "stdout",
     "output_type": "stream",
     "text": [
      "[[1 2]\n",
      " [4 5]] \n",
      "\n",
      "[[4 5 6]\n",
      " [7 8 9]] \n",
      "\n",
      "[[4 5 6]\n",
      " [7 8 9]] \n",
      "\n",
      "[[4 5 6]\n",
      " [7 8 9]] \n",
      "\n",
      "[[1 2 3]\n",
      " [4 5 6]\n",
      " [7 8 9]] \n",
      "\n",
      "[[2 3]\n",
      " [5 6]] \n",
      "\n",
      "[1 4]\n"
     ]
    }
   ],
   "source": [
    "print(arr2d[:2,:2], '\\n')\n",
    "print(arr2d[1:,:], '\\n')\n",
    "print(arr2d[[1,2]], '\\n')\n",
    "print(arr_sl, '\\n')\n",
    "print(arr2d, '\\n')\n",
    "print(arr2d[:2,1:], '\\n')\n",
    "print(arr2d[:2,0])"
   ]
  },
  {
   "cell_type": "code",
   "execution_count": null,
   "id": "988ead06",
   "metadata": {},
   "outputs": [],
   "source": [
    "# 출력\n",
    "[[1 2]\n",
    "[4 5]]\n",
    "\n",
    "(2가지 방법)\n",
    "[[4 5 6]\n",
    "[7 8 9]]\n",
    "\n",
    "[[1 2 3]\n",
    "[4 5 6]\n",
    "[7 8 9]]\n",
    "\n",
    "[[2 3]\n",
    "[5 6]]\n",
    "\n",
    "[1 4]"
   ]
  },
  {
   "cell_type": "code",
   "execution_count": 91,
   "id": "abcb784c",
   "metadata": {},
   "outputs": [
    {
     "name": "stdout",
     "output_type": "stream",
     "text": [
      "[[1, 2, 3], [4, 5, 6], [7, 8, 9]] <class 'list'>\n"
     ]
    }
   ],
   "source": [
    "# 배열을 리스트로 변환\n",
    "print(arr2d.tolist(), type(arr2d.tolist()))"
   ]
  },
  {
   "cell_type": "code",
   "execution_count": 97,
   "id": "8db3ed09",
   "metadata": {},
   "outputs": [
    {
     "name": "stdout",
     "output_type": "stream",
     "text": [
      "[1 2 3 4 5 6 7 8 9] \n",
      "\n",
      "[6 7 8 9] \n",
      "\n",
      "[False False False False False  True  True  True  True]\n"
     ]
    }
   ],
   "source": [
    "# boolean indexing\n",
    "arr1d = np.arange(1,10)\n",
    "print(arr1d, '\\n')\n",
    "arr1 = arr1d[arr1d > 5]\n",
    "print(arr1, '\\n')\n",
    "print(arr1d > 5)"
   ]
  },
  {
   "cell_type": "code",
   "execution_count": 99,
   "id": "0c6113d4",
   "metadata": {},
   "outputs": [
    {
     "name": "stdout",
     "output_type": "stream",
     "text": [
      "[6 7 8 9] [6 7 8 9]\n"
     ]
    }
   ],
   "source": [
    "print(arr1d[-4:], arr1d[5:])"
   ]
  },
  {
   "cell_type": "code",
   "execution_count": 100,
   "id": "85b50f3d",
   "metadata": {},
   "outputs": [],
   "source": [
    "# Q. 1 ~ 100까지 정수에서 3의 배수인 것만을 출력(ffor문과 배열 두가지 방식)"
   ]
  },
  {
   "cell_type": "code",
   "execution_count": 111,
   "id": "e1f9818a",
   "metadata": {},
   "outputs": [
    {
     "name": "stdout",
     "output_type": "stream",
     "text": [
      "[ 3  6  9 12 15 18 21 24 27 30 33 36 39 42 45 48 51 54 57 60 63 66 69 72\n",
      " 75 78 81 84 87 90 93 96 99]\n"
     ]
    }
   ],
   "source": [
    "arr = np.arange(3,100, 3)\n",
    "print(arr)"
   ]
  },
  {
   "cell_type": "code",
   "execution_count": 115,
   "id": "7bf833c0",
   "metadata": {},
   "outputs": [
    {
     "name": "stdout",
     "output_type": "stream",
     "text": [
      "[ 3  6  9 12 15 18 21 24 27 30 33 36 39 42 45 48 51 54 57 60 63 66 69 72\n",
      " 75 78 81 84 87 90 93 96 99]\n"
     ]
    }
   ],
   "source": [
    "arr3 = np.arange(1, 100)\n",
    "arr4 = arr3[arr3 % 3 == 0]\n",
    "print(arr4)\n",
    "\n"
   ]
  },
  {
   "cell_type": "code",
   "execution_count": 107,
   "id": "676a5203",
   "metadata": {},
   "outputs": [
    {
     "name": "stdout",
     "output_type": "stream",
     "text": [
      "[3, 6, 9, 12, 15, 18, 21, 24, 27, 30, 33, 36, 39, 42, 45, 48, 51, 54, 57, 60, 63, 66, 69, 72, 75, 78, 81, 84, 87, 90, 93, 96, 99]\n"
     ]
    }
   ],
   "source": [
    "li=[]\n",
    "for i in range(1,101):\n",
    "    if i%3==0:\n",
    "        li.append(i)\n",
    "print(li)"
   ]
  },
  {
   "cell_type": "markdown",
   "id": "09107ea9",
   "metadata": {},
   "source": [
    "# 과제 7/5\n",
    "- 1 ~ 100 까지 정수에서 5의 배수이면서 2의 배수인 것만을 출력 (for, 배열 두가지)\n",
    "- 표준정규분포로 구성된 5행5열 다차원 배열을 생성하고 함수를 이용하여 평균과 표준편차를 구하세요.\n",
    "- 인덱싱을 이용하여 np.arange(10)을 내림차순으로 정렬하세요.\n",
    "- [1,2,0,0,4,0]에서 zero가 아닌 인덱스를 배열 형태로 출력하세요.\n",
    "- np.arange(15).reshape(3,5) 배열을 전치하여 출력하세요"
   ]
  },
  {
   "cell_type": "code",
   "execution_count": 18,
   "id": "28d32287",
   "metadata": {},
   "outputs": [
    {
     "name": "stdout",
     "output_type": "stream",
     "text": [
      "[ 10  20  30  40  50  60  70  80  90 100] \n",
      "\n",
      "[10, 20, 30, 40, 50, 60, 70, 80, 90, 100]\n"
     ]
    }
   ],
   "source": [
    "arr = np.arange(1,101)\n",
    "arr1 = arr[(arr%5==0)&(arr%2==0)]\n",
    "print(arr1, '\\n')\n",
    "li = []\n",
    "for i in arr:\n",
    "    if i%5==0 and i%2==0:\n",
    "        li.append(i)\n",
    "print(li)\n",
    "print(li for i in arr if i%5==0 and i%2==0)"
   ]
  },
  {
   "cell_type": "code",
   "execution_count": 2,
   "id": "d09dee01",
   "metadata": {},
   "outputs": [],
   "source": [
    "import numpy as np"
   ]
  },
  {
   "cell_type": "code",
   "execution_count": 3,
   "id": "b3e45668",
   "metadata": {},
   "outputs": [
    {
     "name": "stdout",
     "output_type": "stream",
     "text": [
      "[[-1.50783179 -0.59571766  1.05060161 -0.86645039  0.86647827]\n",
      " [ 0.08657484  0.28526007  0.69848045  0.75644729  1.24073723]\n",
      " [ 0.69170205 -0.79173812  0.6835567  -0.30748128 -0.13217191]\n",
      " [ 0.66408393  0.02456697  0.87385635 -0.26380569  0.45145618]\n",
      " [ 0.36940429 -0.13396549  0.48503698 -0.2911832  -1.10469863]] \n",
      "\n",
      "평균:0.12932796173976524 \n",
      "\n",
      "표준편차: 0.7031922484919981\n"
     ]
    }
   ],
   "source": [
    "arr = np.random.randn(25).reshape(5,5)\n",
    "print(arr, '\\n')\n",
    "print(f'평균:{arr.mean()} \\n')\n",
    "print(f'표준편차: {arr.std()}')"
   ]
  },
  {
   "cell_type": "code",
   "execution_count": 20,
   "id": "b142e9da",
   "metadata": {},
   "outputs": [
    {
     "name": "stdout",
     "output_type": "stream",
     "text": [
      "평균:6.146869963874624e-05 \n",
      "\n",
      "표준편차: 1.0000184696711611\n"
     ]
    }
   ],
   "source": [
    "arr = np.random.randn(10000, 10000)\n",
    "#print(arr, '\\n')\n",
    "print(f'평균:{arr.mean()} \\n')\n",
    "print(f'표준편차: {arr.std()}')"
   ]
  },
  {
   "cell_type": "code",
   "execution_count": 12,
   "id": "67a9defa",
   "metadata": {},
   "outputs": [
    {
     "data": {
      "text/plain": [
       "array([9, 8, 7, 6, 5, 4, 3, 2, 1, 0])"
      ]
     },
     "execution_count": 12,
     "metadata": {},
     "output_type": "execute_result"
    }
   ],
   "source": [
    "# 인덱싱을 이용하여 내림차순 정렬하라   \n",
    "arr = np.arange(10)\n",
    "#np.sort(arr)\n",
    "arrr = np.sort(arr)[::-1] \n",
    "arrr = arr[np.argsort(-arr)]  # 아그소트  =  인덱싱\n",
    "\n",
    "arrr\n"
   ]
  },
  {
   "cell_type": "code",
   "execution_count": 209,
   "id": "b6845d2c",
   "metadata": {},
   "outputs": [
    {
     "data": {
      "text/plain": [
       "array([1, 2, 4])"
      ]
     },
     "execution_count": 209,
     "metadata": {},
     "output_type": "execute_result"
    }
   ],
   "source": [
    "# 0 이 아닌 인덱스를 배열로 출력하시오\n",
    "li = [1,2,0,0,4,0]\n",
    "arr = np.array(li)\n",
    "arr = arr[arr>0]\n",
    "#arr = arr[arr !=0]\n",
    "arr"
   ]
  },
  {
   "cell_type": "code",
   "execution_count": 23,
   "id": "cbef7819",
   "metadata": {},
   "outputs": [
    {
     "name": "stdout",
     "output_type": "stream",
     "text": [
      "[[ 0  1  2  3  4]\n",
      " [ 5  6  7  8  9]\n",
      " [10 11 12 13 14]] \n",
      "\n",
      "[[ 0  5 10]\n",
      " [ 1  6 11]\n",
      " [ 2  7 12]\n",
      " [ 3  8 13]\n",
      " [ 4  9 14]] \n",
      "\n",
      "[[ 0  5 10]\n",
      " [ 1  6 11]\n",
      " [ 2  7 12]\n",
      " [ 3  8 13]\n",
      " [ 4  9 14]]\n"
     ]
    }
   ],
   "source": [
    "#np.arange(15).reshape(3,5) 배열을 전치하여 출력하세요\n",
    "arr = np.arange(15).reshape(3,5)\n",
    "print(arr, '\\n')\n",
    "arr1 = np.transpose(arr)\n",
    "print(arr1, '\\n')\n",
    "print(arr.T)"
   ]
  },
  {
   "cell_type": "code",
   "execution_count": 112,
   "id": "ad7f3c59",
   "metadata": {
    "scrolled": true
   },
   "outputs": [
    {
     "data": {
      "text/plain": [
       "array([[7, 9, 6, 8, 1],\n",
       "       [3, 5, 6, 3, 6],\n",
       "       [7, 2, 1, 4, 2],\n",
       "       [1, 8, 9, 5, 3],\n",
       "       [4, 2, 4, 2, 3]])"
      ]
     },
     "execution_count": 112,
     "metadata": {},
     "output_type": "execute_result"
    }
   ],
   "source": [
    "arr = np.random.randint(1, 10, size=(5,5))\n",
    "arr"
   ]
  },
  {
   "cell_type": "code",
   "execution_count": 113,
   "id": "e78dbfea",
   "metadata": {},
   "outputs": [
    {
     "data": {
      "text/plain": [
       "array([[7, 3, 7, 1, 4],\n",
       "       [9, 5, 2, 8, 2],\n",
       "       [6, 6, 1, 9, 4],\n",
       "       [8, 3, 4, 5, 2],\n",
       "       [1, 6, 2, 3, 3]])"
      ]
     },
     "execution_count": 113,
     "metadata": {},
     "output_type": "execute_result"
    }
   ],
   "source": [
    "# arr.T    # 대각선을 기준으로 어퍼랑 로우가 바뀜 (행과 열이 바뀜)\n",
    "np.transpose(arr)"
   ]
  },
  {
   "cell_type": "code",
   "execution_count": 114,
   "id": "560c30fe",
   "metadata": {},
   "outputs": [
    {
     "data": {
      "text/plain": [
       "array([[231, 132, 107, 176,  89],\n",
       "       [132, 115,  61, 130,  70],\n",
       "       [107,  61,  74,  58,  50],\n",
       "       [176, 130,  58, 180,  75],\n",
       "       [ 89,  70,  50,  75,  49]])"
      ]
     },
     "execution_count": 114,
     "metadata": {},
     "output_type": "execute_result"
    }
   ],
   "source": [
    "np.dot(arr, arr.T) # 내적"
   ]
  },
  {
   "cell_type": "code",
   "execution_count": 116,
   "id": "cac3c160",
   "metadata": {},
   "outputs": [
    {
     "data": {
      "text/plain": [
       "array([[231, 132, 107, 176,  89],\n",
       "       [132, 115,  61, 130,  70],\n",
       "       [107,  61,  74,  58,  50],\n",
       "       [176, 130,  58, 180,  75],\n",
       "       [ 89,  70,  50,  75,  49]])"
      ]
     },
     "execution_count": 116,
     "metadata": {},
     "output_type": "execute_result"
    }
   ],
   "source": [
    "np.matmul(arr, arr.T) # 2차원까지는 같음"
   ]
  },
  {
   "cell_type": "code",
   "execution_count": 124,
   "id": "26d470b8",
   "metadata": {},
   "outputs": [
    {
     "name": "stdout",
     "output_type": "stream",
     "text": [
      "[[1 2 1]\n",
      " [2 2 3]\n",
      " [1 3 1]] \n",
      "\n",
      "[[ 7. -1. -4.]\n",
      " [-1.  0.  1.]\n",
      " [-4.  1.  2.]]\n"
     ]
    }
   ],
   "source": [
    "# 역행렬 : 어떤 행렬 A와 곱했을 때 곱셈에 대한 항등원인 단위행렬 E가 나오는 행렬을 행렬 A의 역행렬이라 함\n",
    "np.random.seed(0)\n",
    "mt1 = np.random.randint(1,4, size=(3,3))\n",
    "print(mt1, '\\n')\n",
    "mt2 = np.linalg.inv(mt1)\n",
    "print(mt2)"
   ]
  },
  {
   "cell_type": "code",
   "execution_count": 126,
   "id": "cb4b021d",
   "metadata": {},
   "outputs": [
    {
     "data": {
      "text/plain": [
       "array([[1., 0., 0.],\n",
       "       [0., 1., 0.],\n",
       "       [0., 0., 1.]])"
      ]
     },
     "execution_count": 126,
     "metadata": {},
     "output_type": "execute_result"
    }
   ],
   "source": [
    "# 항등행렬\n",
    "np.dot(mt1,mt2)"
   ]
  },
  {
   "cell_type": "code",
   "execution_count": null,
   "id": "975c2306",
   "metadata": {},
   "outputs": [],
   "source": []
  },
  {
   "cell_type": "code",
   "execution_count": 121,
   "id": "a08c3ce5",
   "metadata": {},
   "outputs": [
    {
     "name": "stdout",
     "output_type": "stream",
     "text": [
      "[[0 1 2]\n",
      " [3 4 5]] (2, 3) \n",
      "\n",
      "[[0 3]\n",
      " [1 4]\n",
      " [2 5]] (3, 2) \n",
      "\n",
      "[[0 3]\n",
      " [1 4]\n",
      " [2 5]] (3, 2) \n",
      "\n",
      "[[0 3]\n",
      " [1 4]\n",
      " [2 5]] (3, 2)\n"
     ]
    }
   ],
   "source": [
    "a = np.arange(6).reshape(2,3)\n",
    "print(a, a.shape, '\\n')\n",
    "y = np.swapaxes(a,0,1)  # 스왑\n",
    "print(y,y.shape, '\\n')\n",
    "\n",
    "y = np.transpose(a)  # 트랜스포즈\n",
    "print(y,y.shape, '\\n')\n",
    "y = a.T\n",
    "print(y,y.shape)"
   ]
  },
  {
   "cell_type": "code",
   "execution_count": 226,
   "id": "bfda9b6a",
   "metadata": {},
   "outputs": [
    {
     "data": {
      "text/plain": [
       "array([[[0, 1, 2],\n",
       "        [3, 4, 5]]])"
      ]
     },
     "execution_count": 226,
     "metadata": {},
     "output_type": "execute_result"
    }
   ],
   "source": [
    "#  (0, 1, 2) 2차1 1차2\n",
    "a = np.arange(6).reshape(1,2,3)\n",
    "a"
   ]
  },
  {
   "cell_type": "code",
   "execution_count": 229,
   "id": "3d18a7aa",
   "metadata": {},
   "outputs": [
    {
     "name": "stdout",
     "output_type": "stream",
     "text": [
      "[[[0 1 2]]\n",
      "\n",
      " [[3 4 5]]] (2, 1, 3) \n",
      "\n",
      "[[[0 1 2]]\n",
      "\n",
      " [[3 4 5]]] (2, 1, 3)\n"
     ]
    }
   ],
   "source": [
    "# 3차원과 2차원을 바꾸라는 의미 (1,2,3) -> (2,1,3)\n",
    "y = np.transpose(a, (1,0,2 ))   #(3차원자리에 2차원, 2차원자리에 3차원 , 1차원은 그대로)\n",
    "print(y, y.shape, '\\n')\n",
    "y = np.swapaxes(a,1,0)    # array, 축1, 축2  차원 인덱스값 3차원 0, 2차원 1, 1차원 2\n",
    "                         #이 경우는 a라는 array의  3차원과 2차원을 바꿔라\n",
    "print(y, y.shape)"
   ]
  },
  {
   "cell_type": "markdown",
   "id": "f92cbc15",
   "metadata": {},
   "source": [
    "# 과제 7/5\n",
    "- (1,2,3) -> (2,3,1)로 차원을 변경하세요. transpose, swapaxes\n"
   ]
  },
  {
   "cell_type": "code",
   "execution_count": 25,
   "id": "1986c7aa",
   "metadata": {},
   "outputs": [
    {
     "name": "stdout",
     "output_type": "stream",
     "text": [
      "[[[0 1 2]\n",
      "  [3 4 5]]] (1, 2, 3) \n",
      "\n"
     ]
    }
   ],
   "source": [
    "a = np.arange(6).reshape(1,2,3)\n",
    "print(a,a.shape, '\\n')\n"
   ]
  },
  {
   "cell_type": "code",
   "execution_count": 125,
   "id": "d6fa6e54",
   "metadata": {},
   "outputs": [
    {
     "name": "stdout",
     "output_type": "stream",
     "text": [
      "[[[0]\n",
      "  [1]\n",
      "  [2]]\n",
      "\n",
      " [[3]\n",
      "  [4]\n",
      "  [5]]] (2, 3, 1) \n",
      "\n",
      "[[[0 1 2]]\n",
      "\n",
      " [[3 4 5]]] (2, 1, 3) \n",
      "\n",
      "[[[0]\n",
      "  [1]\n",
      "  [2]]\n",
      "\n",
      " [[3]\n",
      "  [4]\n",
      "  [5]]] (2, 3, 1)\n"
     ]
    }
   ],
   "source": [
    "y = np.transpose(a,(1,2,0))   # 3 2 1 차원    3차원 자리에 2차원 ........ 2차원 자리에 1차원값 1차원 자리에 3차원\n",
    "print(y, y.shape, '\\n')\n",
    "\n",
    "z = np.swapaxes(a, 0, 1)\n",
    "print(z, z.shape, '\\n')\n",
    "z = np.swapaxes(z, 1, 2)\n",
    "print(z, z.shape)\n"
   ]
  },
  {
   "cell_type": "markdown",
   "id": "a7e1778f",
   "metadata": {},
   "source": [
    "numpy 제공 함수"
   ]
  },
  {
   "cell_type": "code",
   "execution_count": 132,
   "id": "9d1f3499",
   "metadata": {},
   "outputs": [
    {
     "name": "stdout",
     "output_type": "stream",
     "text": [
      "[[1 2 3]\n",
      " [4 5 6]\n",
      " [7 8 9]] \n",
      "\n",
      "[ 1  3  6 10 15 21 28 36 45] \n",
      "\n"
     ]
    }
   ],
   "source": [
    "arr = np.arange(1,10).reshape(3,3)\n",
    "print(arr, '\\n')\n",
    "print(arr.cumsum(), '\\n')\n"
   ]
  },
  {
   "cell_type": "code",
   "execution_count": 133,
   "id": "7407e995",
   "metadata": {},
   "outputs": [
    {
     "name": "stdout",
     "output_type": "stream",
     "text": [
      "[[ 1  2  3]\n",
      " [ 5  7  9]\n",
      " [12 15 18]]\n"
     ]
    }
   ],
   "source": [
    "print(arr.cumsum(axis=0)) #열방향으로 1열 1+ 4+ 7"
   ]
  },
  {
   "cell_type": "code",
   "execution_count": 134,
   "id": "382a8e07",
   "metadata": {},
   "outputs": [
    {
     "name": "stdout",
     "output_type": "stream",
     "text": [
      "[  6 120 504]\n"
     ]
    }
   ],
   "source": [
    "print(arr.prod(axis=1)) # 행 다 곱함 가로연산"
   ]
  },
  {
   "cell_type": "code",
   "execution_count": 135,
   "id": "c9a4ab11",
   "metadata": {},
   "outputs": [
    {
     "name": "stdout",
     "output_type": "stream",
     "text": [
      "[[  1   2   6]\n",
      " [  4  20 120]\n",
      " [  7  56 504]]\n"
     ]
    }
   ],
   "source": [
    "print(arr.cumprod(axis=1)) # 가로연산"
   ]
  },
  {
   "cell_type": "code",
   "execution_count": 136,
   "id": "64573e75",
   "metadata": {},
   "outputs": [
    {
     "name": "stdout",
     "output_type": "stream",
     "text": [
      "[1 2 0] \n",
      "\n",
      "[1 2 0]\n"
     ]
    }
   ],
   "source": [
    "# 나머지\n",
    "v1 = np.array([15,30,45])\n",
    "v2 = np.array([2,7,9])\n",
    "print(np.mod(v1,v2), '\\n')\n",
    "print(np.remainder(v1,v2))"
   ]
  },
  {
   "cell_type": "code",
   "execution_count": 137,
   "id": "48ba38ca",
   "metadata": {},
   "outputs": [
    {
     "name": "stdout",
     "output_type": "stream",
     "text": [
      "[1.17647059 0.54054054 1.         0.01      ]\n"
     ]
    }
   ],
   "source": [
    "# 역수\n",
    "value = np.array([0.85,1.85,1,100])\n",
    "print(np.reciprocal(value))"
   ]
  },
  {
   "cell_type": "code",
   "execution_count": 139,
   "id": "0ac1539b",
   "metadata": {},
   "outputs": [
    {
     "name": "stdout",
     "output_type": "stream",
     "text": [
      "[  4 100 225] \n",
      "\n",
      "[   2  100 3375]\n"
     ]
    }
   ],
   "source": [
    "# 승수\n",
    "v1 = np.array([2,10,15])\n",
    "v2 = np.array([1,2,3])\n",
    "print(np.power(v1,2), '\\n')\n",
    "print(np.power(v1,v2))"
   ]
  },
  {
   "cell_type": "code",
   "execution_count": 140,
   "id": "39491b69",
   "metadata": {},
   "outputs": [
    {
     "data": {
      "text/plain": [
       "array([-0.10321885,  0.4105985 ,  0.14404357,  1.45427351,  0.76103773,\n",
       "        0.12167502,  0.44386323,  0.33367433,  1.49407907, -0.20515826])"
      ]
     },
     "execution_count": 140,
     "metadata": {},
     "output_type": "execute_result"
    }
   ],
   "source": [
    "arr = np.random.randn(10)\n",
    "arr"
   ]
  },
  {
   "cell_type": "code",
   "execution_count": 141,
   "id": "ad47935e",
   "metadata": {},
   "outputs": [
    {
     "data": {
      "text/plain": [
       "8"
      ]
     },
     "execution_count": 141,
     "metadata": {},
     "output_type": "execute_result"
    }
   ],
   "source": [
    "# 양수인 원소의 개수\n",
    "(arr > 0).sum()"
   ]
  },
  {
   "cell_type": "code",
   "execution_count": 144,
   "id": "aa23189d",
   "metadata": {},
   "outputs": [
    {
     "data": {
      "text/plain": [
       "True"
      ]
     },
     "execution_count": 144,
     "metadata": {},
     "output_type": "execute_result"
    }
   ],
   "source": [
    "# any 메서드    하나라도 True면 True\n",
    "bools = np.array([False,False,True,True])\n",
    "bools.any()"
   ]
  },
  {
   "cell_type": "code",
   "execution_count": 145,
   "id": "ecc1c33e",
   "metadata": {},
   "outputs": [
    {
     "data": {
      "text/plain": [
       "False"
      ]
     },
     "execution_count": 145,
     "metadata": {},
     "output_type": "execute_result"
    }
   ],
   "source": [
    "bools.all()   # 하나라도 False면 False"
   ]
  },
  {
   "cell_type": "code",
   "execution_count": 148,
   "id": "d1d13632",
   "metadata": {},
   "outputs": [
    {
     "name": "stdout",
     "output_type": "stream",
     "text": [
      "[[-0.89546656  0.3869025  -0.51080514 -1.18063218]\n",
      " [-0.02818223  0.42833187  0.06651722  0.3024719 ]\n",
      " [-0.63432209 -0.36274117 -0.67246045 -0.35955316]\n",
      " [-0.81314628 -1.7262826   0.17742614 -0.40178094]] \n",
      "\n"
     ]
    },
    {
     "data": {
      "text/plain": [
       "array([[-2,  2, -2, -2],\n",
       "       [-2,  2,  2,  2],\n",
       "       [-2, -2, -2, -2],\n",
       "       [-2, -2,  2, -2]])"
      ]
     },
     "execution_count": 148,
     "metadata": {},
     "output_type": "execute_result"
    }
   ],
   "source": [
    "# numpy.where 함수는 삼항식의 벡터화 버전  # randn 자주쓰네 정규화\n",
    "arr = np.random.randn(4,4)\n",
    "print(arr, '\\n')\n",
    "np.where(arr > 0, 2, -2)   # 0보다 큰것은 2 나머지는 -2가 됨"
   ]
  },
  {
   "cell_type": "code",
   "execution_count": 149,
   "id": "29934145",
   "metadata": {},
   "outputs": [],
   "source": [
    "# Q. arr의 모든 양수를 2로 변경하세요"
   ]
  },
  {
   "cell_type": "code",
   "execution_count": 155,
   "id": "bc9d830d",
   "metadata": {},
   "outputs": [
    {
     "data": {
      "text/plain": [
       "array([[-0.89546656,  2.        , -0.51080514, -1.18063218],\n",
       "       [-0.02818223,  2.        ,  2.        ,  2.        ],\n",
       "       [-0.63432209, -0.36274117, -0.67246045, -0.35955316],\n",
       "       [-0.81314628, -1.7262826 ,  2.        , -0.40178094]])"
      ]
     },
     "execution_count": 155,
     "metadata": {},
     "output_type": "execute_result"
    }
   ],
   "source": [
    "np.where(arr>0, 2, arr)"
   ]
  },
  {
   "cell_type": "code",
   "execution_count": 168,
   "id": "a7547f05",
   "metadata": {},
   "outputs": [
    {
     "name": "stdout",
     "output_type": "stream",
     "text": [
      "[[1 2 3]\n",
      " [1 2 3]\n",
      " [1 2 3]] \n",
      "\n",
      "[[1 1 1]\n",
      " [2 2 2]\n",
      " [3 3 3]]\n"
     ]
    }
   ],
   "source": [
    "# meshgrid 함수 : 두개의 1차원 배열을 받아서 가능한 모든 (x,y) 짝을 만들 수 있는 2차원 배열 반환\n",
    "x = np.arange(1,4)  # 123\n",
    "y = np.arange(1,4)  # 123\n",
    "xs,ys = np.meshgrid(x,y)\n",
    "print(xs,'\\n')\n",
    "print(ys)"
   ]
  },
  {
   "cell_type": "code",
   "execution_count": 158,
   "id": "838a8432",
   "metadata": {},
   "outputs": [
    {
     "name": "stdout",
     "output_type": "stream",
     "text": [
      "[87 44 12  3 52 81 33 55  1 39] \n",
      "\n",
      "[ 1  3 12 33 39 44 52 55 81 87] \n",
      "\n",
      "[87 44 12  3 52 81 33 55  1 39]\n"
     ]
    }
   ],
   "source": [
    "# np.sort() : 복사본을 반환\n",
    "arr = np.random.randint(1,100,size=10)\n",
    "print(arr, '\\n')\n",
    "print(np.sort(arr),'\\n')\n",
    "print(arr)"
   ]
  },
  {
   "cell_type": "code",
   "execution_count": 159,
   "id": "026b35a0",
   "metadata": {},
   "outputs": [
    {
     "data": {
      "text/plain": [
       "array([ 1,  3, 12, 33, 39, 44, 52, 55, 81, 87])"
      ]
     },
     "execution_count": 159,
     "metadata": {},
     "output_type": "execute_result"
    }
   ],
   "source": [
    "sorted = np.sort(arr)\n",
    "sorted"
   ]
  },
  {
   "cell_type": "code",
   "execution_count": 160,
   "id": "9daf6397",
   "metadata": {},
   "outputs": [
    {
     "name": "stdout",
     "output_type": "stream",
     "text": [
      "[[ 7  1]\n",
      " [ 8 12]] \n",
      "\n",
      "[[ 8 12]\n",
      " [ 1  7]]\n"
     ]
    }
   ],
   "source": [
    "arr2d = np.array([[8,12],[7,1]])\n",
    "sort_arr2d_s0 = np.sort(arr2d, axis=0)  #행방향 정렬 세로\n",
    "print(sort_arr2d_s0,'\\n')\n",
    "sort_arr2d_s1 = np.sort(arr2d, axis=1) #열방향 정렬 가로\n",
    "print(sort_arr2d_s1)"
   ]
  },
  {
   "cell_type": "code",
   "execution_count": 162,
   "id": "0cd8bc8d",
   "metadata": {},
   "outputs": [
    {
     "name": "stdout",
     "output_type": "stream",
     "text": [
      "[-1.44553558  0.37716061 -0.07055723  0.60415971  0.472149    0.81991729] \n",
      "\n"
     ]
    },
    {
     "data": {
      "text/plain": [
       "array([-1.44553558, -0.07055723,  0.37716061,  0.472149  ,  0.60415971,\n",
       "        0.81991729])"
      ]
     },
     "execution_count": 162,
     "metadata": {},
     "output_type": "execute_result"
    }
   ],
   "source": [
    "# ndarray.sort() : 원본 반영  내장함수임 . 원본에 저장 \n",
    "arr = np.random.randn(6)\n",
    "print(arr, '\\n')\n",
    "arr.sort()\n",
    "arr"
   ]
  },
  {
   "cell_type": "code",
   "execution_count": 165,
   "id": "36a40473",
   "metadata": {},
   "outputs": [
    {
     "name": "stdout",
     "output_type": "stream",
     "text": [
      "[[ 0.08973073  0.11485388 -0.58581518]\n",
      " [ 0.29877204  0.2222599   0.43518297]\n",
      " [-0.0457481   0.04989841 -0.93553046]\n",
      " [ 0.28738765  0.36042727  0.40814812]\n",
      " [-1.94071568  1.44483571  0.19286086]] \n",
      "\n"
     ]
    },
    {
     "data": {
      "text/plain": [
       "array([[-1.94071568,  0.04989841, -0.93553046],\n",
       "       [-0.0457481 ,  0.11485388, -0.58581518],\n",
       "       [ 0.08973073,  0.2222599 ,  0.19286086],\n",
       "       [ 0.28738765,  0.36042727,  0.40814812],\n",
       "       [ 0.29877204,  1.44483571,  0.43518297]])"
      ]
     },
     "execution_count": 165,
     "metadata": {},
     "output_type": "execute_result"
    }
   ],
   "source": [
    "arr = np.random.randn(5,3)\n",
    "print(arr, '\\n')\n",
    "arr.sort(0)    # 0 or 1 열로 정렬 행으로 정렬  default는 열 기준으로 정렬\n",
    "arr"
   ]
  },
  {
   "cell_type": "code",
   "execution_count": 167,
   "id": "7eb838b7",
   "metadata": {},
   "outputs": [
    {
     "name": "stdout",
     "output_type": "stream",
     "text": [
      "[3 1 9 5] \n",
      "\n",
      "[1 0 3 2]\n"
     ]
    }
   ],
   "source": [
    "# 정렬된 행렬의 인덱스 반환 : 기존 원본 행렬의 원소에 대한 인덱스를 필요로 할 때\n",
    "org_array = np.array([3,1,9,5])\n",
    "sort_indices = np.argsort(org_array)\n",
    "print(org_array, '\\n')\n",
    "print(sort_indices)  ## 아 뭔본을 정렬했을 때 1, 3, 5, 9 잖아 그럼얘에 인덱스르 ㄹ메겨서 0123이 된거임 이 값을 기존 행렬의 인덱스로 ㅇㅇ"
   ]
  },
  {
   "cell_type": "markdown",
   "id": "bb6020ff",
   "metadata": {},
   "source": [
    "# 과제 7/5 np.ones((10,10))을 아래와 같이 출력하세요."
   ]
  },
  {
   "cell_type": "code",
   "execution_count": null,
   "id": "755bdc2a",
   "metadata": {},
   "outputs": [],
   "source": [
    "array([[1., 1., 1., 1., 1., 1., 1., 1., 1., 1.],\n",
    "       [1., 0., 0., 0., 0., 0., 0., 0., 0., 1.],\n",
    "       [1., 0., 0., 0., 0., 0., 0., 0., 0., 1.],\n",
    "       [1., 0., 0., 0., 0., 0., 0., 0., 0., 1.],\n",
    "       [1., 0., 0., 0., 0., 0., 0., 0., 0., 1.],\n",
    "       [1., 0., 0., 0., 0., 0., 0., 0., 0., 1.],\n",
    "       [1., 0., 0., 0., 0., 0., 0., 0., 0., 1.],\n",
    "       [1., 0., 0., 0., 0., 0., 0., 0., 0., 1.],\n",
    "       [1., 0., 0., 0., 0., 0., 0., 0., 0., 1.],\n",
    "       [1., 1., 1., 1., 1., 1., 1., 1., 1., 1.]])"
   ]
  },
  {
   "cell_type": "code",
   "execution_count": 187,
   "id": "e61e3a9f",
   "metadata": {},
   "outputs": [
    {
     "data": {
      "text/plain": [
       "array([[1., 1., 1., 1., 1., 1., 1., 1., 1., 1.],\n",
       "       [1., 0., 0., 0., 0., 0., 0., 0., 0., 1.],\n",
       "       [1., 0., 0., 0., 0., 0., 0., 0., 0., 1.],\n",
       "       [1., 0., 0., 0., 0., 0., 0., 0., 0., 1.],\n",
       "       [1., 0., 0., 0., 0., 0., 0., 0., 0., 1.],\n",
       "       [1., 0., 0., 0., 0., 0., 0., 0., 0., 1.],\n",
       "       [1., 0., 0., 0., 0., 0., 0., 0., 0., 1.],\n",
       "       [1., 0., 0., 0., 0., 0., 0., 0., 0., 1.],\n",
       "       [1., 0., 0., 0., 0., 0., 0., 0., 0., 1.],\n",
       "       [1., 1., 1., 1., 1., 1., 1., 1., 1., 1.]])"
      ]
     },
     "execution_count": 187,
     "metadata": {},
     "output_type": "execute_result"
    }
   ],
   "source": [
    "arr = np.ones((10,10))\n",
    "arr[1:-1,1:-1] = 0\n",
    "arr"
   ]
  },
  {
   "cell_type": "code",
   "execution_count": null,
   "id": "6c2ef1e1",
   "metadata": {},
   "outputs": [],
   "source": [
    "#Q np.zeros((8,8)) 로 아래와 같이 출력하시오\n",
    "array([[0, 1, 0, 1, 0, 1, 0, 1],\n",
    "       [1, 0, 1, 0, 1, 0, 1, 0],\n",
    "       [0, 1, 0, 1, 0, 1, 0, 1],\n",
    "       [1, 0, 1, 0, 1, 0, 1, 0],\n",
    "       [0, 1, 0, 1, 0, 1, 0, 1],\n",
    "       [1, 0, 1, 0, 1, 0, 1, 0],\n",
    "       [0, 1, 0, 1, 0, 1, 0, 1],\n",
    "       [1, 0, 1, 0, 1, 0, 1, 0]])\n"
   ]
  },
  {
   "cell_type": "code",
   "execution_count": 53,
   "id": "0a821aff",
   "metadata": {},
   "outputs": [
    {
     "data": {
      "text/plain": [
       "array([[0., 1., 0., 1., 0., 1., 0., 1.],\n",
       "       [1., 0., 1., 0., 1., 0., 1., 0.],\n",
       "       [0., 1., 0., 1., 0., 1., 0., 1.],\n",
       "       [1., 0., 1., 0., 1., 0., 1., 0.],\n",
       "       [0., 1., 0., 1., 0., 1., 0., 1.],\n",
       "       [1., 0., 1., 0., 1., 0., 1., 0.],\n",
       "       [0., 1., 0., 1., 0., 1., 0., 1.],\n",
       "       [1., 0., 1., 0., 1., 0., 1., 0.]])"
      ]
     },
     "execution_count": 53,
     "metadata": {},
     "output_type": "execute_result"
    }
   ],
   "source": [
    "arr = np.zeros((8,8))\n",
    "arr[::2,1::2] = 1\n",
    "arr[1::2,::2] = 1\n",
    "arr"
   ]
  },
  {
   "cell_type": "code",
   "execution_count": 55,
   "id": "01b662c4",
   "metadata": {},
   "outputs": [
    {
     "data": {
      "text/plain": [
       "array([[0, 1, 0, 1, 0, 1, 0, 1],\n",
       "       [1, 0, 1, 0, 1, 0, 1, 0],\n",
       "       [0, 1, 0, 1, 0, 1, 0, 1],\n",
       "       [1, 0, 1, 0, 1, 0, 1, 0],\n",
       "       [0, 1, 0, 1, 0, 1, 0, 1],\n",
       "       [1, 0, 1, 0, 1, 0, 1, 0],\n",
       "       [0, 1, 0, 1, 0, 1, 0, 1],\n",
       "       [1, 0, 1, 0, 1, 0, 1, 0]])"
      ]
     },
     "execution_count": 55,
     "metadata": {},
     "output_type": "execute_result"
    }
   ],
   "source": [
    "z = np.tile(np.array([[0,1],[1,0]]),(4,4))\n",
    "z"
   ]
  },
  {
   "cell_type": "markdown",
   "id": "a747dfc3",
   "metadata": {},
   "source": [
    "# 과제 7/6"
   ]
  },
  {
   "cell_type": "code",
   "execution_count": null,
   "id": "3c76a01c",
   "metadata": {},
   "outputs": [],
   "source": [
    "출력하시오\n",
    "[[  1   2   3   4   5   6   7   8   9  10]\n",
    " [ 20  19  18  17  16  15  14  13  12  11]\n",
    " [ 21  22  23  24  25  26  27  28  29  30]\n",
    " [ 40  39  38  37  36  35  34  33  32  31]\n",
    " [ 41  42  43  44  45  46  47  48  49  50]\n",
    " [ 60  59  58  57  56  55  54  53  52  51]\n",
    " [ 61  62  63  64  65  66  67  68  69  70]\n",
    " [ 80  79  78  77  76  75  74  73  72  71]\n",
    " [ 81  82  83  84  85  86  87  88  89  90]\n",
    " [100  99  98  97  96  95  94  93  92  91]] <class 'numpy.ndarray'>\n"
   ]
  },
  {
   "cell_type": "code",
   "execution_count": 2,
   "id": "bdf40b17",
   "metadata": {},
   "outputs": [
    {
     "data": {
      "text/plain": [
       "array([[  1,   2,   3,   4,   5,   6,   7,   8,   9,  10],\n",
       "       [ 91,  92,  93,  94,  95,  96,  97,  98,  99, 100],\n",
       "       [ 21,  22,  23,  24,  25,  26,  27,  28,  29,  30],\n",
       "       [ 71,  72,  73,  74,  75,  76,  77,  78,  79,  80],\n",
       "       [ 41,  42,  43,  44,  45,  46,  47,  48,  49,  50],\n",
       "       [ 51,  52,  53,  54,  55,  56,  57,  58,  59,  60],\n",
       "       [ 61,  62,  63,  64,  65,  66,  67,  68,  69,  70],\n",
       "       [ 31,  32,  33,  34,  35,  36,  37,  38,  39,  40],\n",
       "       [ 81,  82,  83,  84,  85,  86,  87,  88,  89,  90],\n",
       "       [ 11,  12,  13,  14,  15,  16,  17,  18,  19,  20]])"
      ]
     },
     "execution_count": 2,
     "metadata": {},
     "output_type": "execute_result"
    }
   ],
   "source": [
    "arr = np.arange(1,101).reshape(10,10)\n",
    "arr[0::2,:] = np.sort(arr[0::2,:])\n",
    "arr[1::2,:] = np.sort(arr[1::2,:])[::-1]\n",
    "arr"
   ]
  },
  {
   "cell_type": "code",
   "execution_count": 3,
   "id": "7bfec142",
   "metadata": {},
   "outputs": [
    {
     "data": {
      "text/plain": [
       "array([[  1,   2,   3,   4,   5,   6,   7,   8,   9,  10],\n",
       "       [ 20,  19,  18,  17,  16,  15,  14,  13,  12,  11],\n",
       "       [ 21,  22,  23,  24,  25,  26,  27,  28,  29,  30],\n",
       "       [ 40,  39,  38,  37,  36,  35,  34,  33,  32,  31],\n",
       "       [ 41,  42,  43,  44,  45,  46,  47,  48,  49,  50],\n",
       "       [ 60,  59,  58,  57,  56,  55,  54,  53,  52,  51],\n",
       "       [ 61,  62,  63,  64,  65,  66,  67,  68,  69,  70],\n",
       "       [ 80,  79,  78,  77,  76,  75,  74,  73,  72,  71],\n",
       "       [ 81,  82,  83,  84,  85,  86,  87,  88,  89,  90],\n",
       "       [100,  99,  98,  97,  96,  95,  94,  93,  92,  91]])"
      ]
     },
     "execution_count": 3,
     "metadata": {},
     "output_type": "execute_result"
    }
   ],
   "source": [
    "arr = np.arange(1,101).reshape(10,10)\n",
    "arr[0::2,:] = np.sort(arr[0::2,:])\n",
    "#arr[1::2,:] = np.sort(arr[1::2,:])[::-1]\n",
    "for i in range(0,5):\n",
    "    arr[1+i*2,:] = np.sort(arr[1+i*2,:])[::-1]\n",
    "arr\n",
    "\n",
    "\n",
    "# arr = np.sort(arr)[::-1] \n",
    "# arr = arr[np.argsort(-arr)]  "
   ]
  },
  {
   "cell_type": "code",
   "execution_count": 6,
   "id": "a089bc8a",
   "metadata": {},
   "outputs": [
    {
     "data": {
      "text/plain": [
       "array([[  1,   2,   3,   4,   5,   6,   7,   8,   9,  10],\n",
       "       [ 20,  19,  18,  17,  16,  15,  14,  13,  12,  11],\n",
       "       [ 21,  22,  23,  24,  25,  26,  27,  28,  29,  30],\n",
       "       [ 40,  39,  38,  37,  36,  35,  34,  33,  32,  31],\n",
       "       [ 41,  42,  43,  44,  45,  46,  47,  48,  49,  50],\n",
       "       [ 60,  59,  58,  57,  56,  55,  54,  53,  52,  51],\n",
       "       [ 61,  62,  63,  64,  65,  66,  67,  68,  69,  70],\n",
       "       [ 80,  79,  78,  77,  76,  75,  74,  73,  72,  71],\n",
       "       [ 81,  82,  83,  84,  85,  86,  87,  88,  89,  90],\n",
       "       [100,  99,  98,  97,  96,  95,  94,  93,  92,  91]])"
      ]
     },
     "execution_count": 6,
     "metadata": {},
     "output_type": "execute_result"
    }
   ],
   "source": [
    "arr = np.arange(1,101).reshape(10,10)\n",
    "arr[0::2,:] = np.sort(arr[0::2,:])\n",
    "arr[[1, 3, 5, 7, 9]] = arr[[1, 3, 5, 7, 9]][:,[9,8,7,6,5,4,3,2,1,0]]\n",
    "arr\n",
    "\n",
    "\n",
    "# arr = np.sort(arr)[::-1] \n",
    "# arr = arr[np.argsort(-arr)]  "
   ]
  },
  {
   "cell_type": "code",
   "execution_count": 9,
   "id": "bc5f445b",
   "metadata": {},
   "outputs": [
    {
     "data": {
      "text/plain": [
       "array([[  1,   2,   3,   4,   5,   6,   7,   8,   9,  10],\n",
       "       [ 20,  19,  18,  17,  16,  15,  14,  13,  12,  11],\n",
       "       [ 21,  22,  23,  24,  25,  26,  27,  28,  29,  30],\n",
       "       [ 40,  39,  38,  37,  36,  35,  34,  33,  32,  31],\n",
       "       [ 41,  42,  43,  44,  45,  46,  47,  48,  49,  50],\n",
       "       [ 60,  59,  58,  57,  56,  55,  54,  53,  52,  51],\n",
       "       [ 61,  62,  63,  64,  65,  66,  67,  68,  69,  70],\n",
       "       [ 80,  79,  78,  77,  76,  75,  74,  73,  72,  71],\n",
       "       [ 81,  82,  83,  84,  85,  86,  87,  88,  89,  90],\n",
       "       [100,  99,  98,  97,  96,  95,  94,  93,  92,  91]])"
      ]
     },
     "execution_count": 9,
     "metadata": {},
     "output_type": "execute_result"
    }
   ],
   "source": [
    "arr = np.arange(1,101).reshape(10,10)\n",
    "arr[1::2] = arr[1::2,9::-1]\n",
    "arr\n"
   ]
  },
  {
   "cell_type": "code",
   "execution_count": null,
   "id": "015656b8",
   "metadata": {},
   "outputs": [],
   "source": []
  }
 ],
 "metadata": {
  "kernelspec": {
   "display_name": "Python 3 (ipykernel)",
   "language": "python",
   "name": "python3"
  },
  "language_info": {
   "codemirror_mode": {
    "name": "ipython",
    "version": 3
   },
   "file_extension": ".py",
   "mimetype": "text/x-python",
   "name": "python",
   "nbconvert_exporter": "python",
   "pygments_lexer": "ipython3",
   "version": "3.8.13"
  }
 },
 "nbformat": 4,
 "nbformat_minor": 5
}
