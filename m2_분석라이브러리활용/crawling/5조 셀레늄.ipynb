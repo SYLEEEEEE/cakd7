{
 "cells": [
  {
   "cell_type": "code",
   "execution_count": null,
   "id": "350dfd84",
   "metadata": {},
   "outputs": [],
   "source": [
    "import selenium\n",
    "from selenium import webdriver\n",
    "from selenium.webdriver.common.keys import Keys\n",
    "import warnings\n",
    "warnings.filterwarnings('ignore')"
   ]
  },
  {
   "cell_type": "code",
   "execution_count": null,
   "id": "7f8c217a",
   "metadata": {},
   "outputs": [],
   "source": [
    "\n",
    "path = 'C:/cakd7/tool/chromedriver.exe'\n",
    "driver = webdriver.Chrome(path)\n"
   ]
  },
  {
   "cell_type": "code",
   "execution_count": 21,
   "id": "cdafb6e2",
   "metadata": {
    "collapsed": true
   },
   "outputs": [
    {
     "ename": "NoSuchElementException",
     "evalue": "Message: no such element: Unable to locate element: {\"method\":\"xpath\",\"selector\":\"//*[@id=\"icon\"]\"}\n  (Session info: chrome=103.0.5060.134)\nStacktrace:\nBacktrace:\n\tOrdinal0 [0x003C5FD3+2187219]\n\tOrdinal0 [0x0035E6D1+1763025]\n\tOrdinal0 [0x00273E78+802424]\n\tOrdinal0 [0x002A1C10+990224]\n\tOrdinal0 [0x002A1EAB+990891]\n\tOrdinal0 [0x002CEC92+1174674]\n\tOrdinal0 [0x002BCBD4+1100756]\n\tOrdinal0 [0x002CCFC2+1167298]\n\tOrdinal0 [0x002BC9A6+1100198]\n\tOrdinal0 [0x00296F80+946048]\n\tOrdinal0 [0x00297E76+949878]\n\tGetHandleVerifier [0x006690C2+2721218]\n\tGetHandleVerifier [0x0065AAF0+2662384]\n\tGetHandleVerifier [0x0045137A+526458]\n\tGetHandleVerifier [0x00450416+522518]\n\tOrdinal0 [0x00364EAB+1789611]\n\tOrdinal0 [0x003697A8+1808296]\n\tOrdinal0 [0x00369895+1808533]\n\tOrdinal0 [0x003726C1+1844929]\n\tBaseThreadInitThunk [0x75156739+25]\n\tRtlGetFullPathName_UEx [0x773F8FEF+1215]\n\tRtlGetFullPathName_UEx [0x773F8FBD+1165]\n",
     "output_type": "error",
     "traceback": [
      "\u001b[1;31m---------------------------------------------------------------------------\u001b[0m",
      "\u001b[1;31mNoSuchElementException\u001b[0m                    Traceback (most recent call last)",
      "Input \u001b[1;32mIn [21]\u001b[0m, in \u001b[0;36m<cell line: 31>\u001b[1;34m()\u001b[0m\n\u001b[0;32m     23\u001b[0m driver\u001b[38;5;241m.\u001b[39mget(url \u001b[38;5;241m=\u001b[39m \u001b[38;5;124m'\u001b[39m\u001b[38;5;124mhttps://earth.google.com/web/\u001b[39m\u001b[38;5;124m'\u001b[39m)\n\u001b[0;32m     24\u001b[0m \u001b[38;5;66;03m# driver.get(url='https://earth.google.com/web/search/'+adress+'/21.89101966a,23230.14612967d,1y,-0h,0t,0r/data=CigiJgokCcS5EpajwjRAEcS5EpajwjTAGW9cSl8sjklAISd7z0p-tknA')\u001b[39;00m\n\u001b[0;32m     25\u001b[0m \n\u001b[0;32m     26\u001b[0m \u001b[38;5;66;03m# try:\u001b[39;00m\n\u001b[0;32m     27\u001b[0m \u001b[38;5;66;03m#     element = WebDriverWait(driver, 15).until(EC.presence_of_element_located((By.XPATH, '//*[@id=\"icon\"]')))\u001b[39;00m\n\u001b[0;32m     28\u001b[0m \u001b[38;5;66;03m# finally:\u001b[39;00m\n\u001b[0;32m     29\u001b[0m \u001b[38;5;66;03m#     pass\u001b[39;00m\n\u001b[1;32m---> 31\u001b[0m element \u001b[38;5;241m=\u001b[39m \u001b[43mdriver\u001b[49m\u001b[38;5;241;43m.\u001b[39;49m\u001b[43mfind_element\u001b[49m\u001b[43m(\u001b[49m\u001b[43mBy\u001b[49m\u001b[38;5;241;43m.\u001b[39;49m\u001b[43mXPATH\u001b[49m\u001b[43m,\u001b[49m\u001b[43m \u001b[49m\u001b[38;5;124;43m'\u001b[39;49m\u001b[38;5;124;43m//*[@id=\u001b[39;49m\u001b[38;5;124;43m\"\u001b[39;49m\u001b[38;5;124;43micon\u001b[39;49m\u001b[38;5;124;43m\"\u001b[39;49m\u001b[38;5;124;43m]\u001b[39;49m\u001b[38;5;124;43m'\u001b[39;49m\u001b[43m)\u001b[49m\n\u001b[0;32m     32\u001b[0m element\u001b[38;5;241m.\u001b[39mclick()\n\u001b[0;32m     33\u001b[0m element\u001b[38;5;241m.\u001b[39msend_keys(adress)\n",
      "File \u001b[1;32m~\\anaconda3\\envs\\cakd7\\lib\\site-packages\\selenium\\webdriver\\remote\\webdriver.py:857\u001b[0m, in \u001b[0;36mWebDriver.find_element\u001b[1;34m(self, by, value)\u001b[0m\n\u001b[0;32m    854\u001b[0m     by \u001b[38;5;241m=\u001b[39m By\u001b[38;5;241m.\u001b[39mCSS_SELECTOR\n\u001b[0;32m    855\u001b[0m     value \u001b[38;5;241m=\u001b[39m \u001b[38;5;124m'\u001b[39m\u001b[38;5;124m[name=\u001b[39m\u001b[38;5;124m\"\u001b[39m\u001b[38;5;132;01m%s\u001b[39;00m\u001b[38;5;124m\"\u001b[39m\u001b[38;5;124m]\u001b[39m\u001b[38;5;124m'\u001b[39m \u001b[38;5;241m%\u001b[39m value\n\u001b[1;32m--> 857\u001b[0m \u001b[38;5;28;01mreturn\u001b[39;00m \u001b[38;5;28;43mself\u001b[39;49m\u001b[38;5;241;43m.\u001b[39;49m\u001b[43mexecute\u001b[49m\u001b[43m(\u001b[49m\u001b[43mCommand\u001b[49m\u001b[38;5;241;43m.\u001b[39;49m\u001b[43mFIND_ELEMENT\u001b[49m\u001b[43m,\u001b[49m\u001b[43m \u001b[49m\u001b[43m{\u001b[49m\n\u001b[0;32m    858\u001b[0m \u001b[43m    \u001b[49m\u001b[38;5;124;43m'\u001b[39;49m\u001b[38;5;124;43musing\u001b[39;49m\u001b[38;5;124;43m'\u001b[39;49m\u001b[43m:\u001b[49m\u001b[43m \u001b[49m\u001b[43mby\u001b[49m\u001b[43m,\u001b[49m\n\u001b[0;32m    859\u001b[0m \u001b[43m    \u001b[49m\u001b[38;5;124;43m'\u001b[39;49m\u001b[38;5;124;43mvalue\u001b[39;49m\u001b[38;5;124;43m'\u001b[39;49m\u001b[43m:\u001b[49m\u001b[43m \u001b[49m\u001b[43mvalue\u001b[49m\u001b[43m}\u001b[49m\u001b[43m)\u001b[49m[\u001b[38;5;124m'\u001b[39m\u001b[38;5;124mvalue\u001b[39m\u001b[38;5;124m'\u001b[39m]\n",
      "File \u001b[1;32m~\\anaconda3\\envs\\cakd7\\lib\\site-packages\\selenium\\webdriver\\remote\\webdriver.py:435\u001b[0m, in \u001b[0;36mWebDriver.execute\u001b[1;34m(self, driver_command, params)\u001b[0m\n\u001b[0;32m    433\u001b[0m response \u001b[38;5;241m=\u001b[39m \u001b[38;5;28mself\u001b[39m\u001b[38;5;241m.\u001b[39mcommand_executor\u001b[38;5;241m.\u001b[39mexecute(driver_command, params)\n\u001b[0;32m    434\u001b[0m \u001b[38;5;28;01mif\u001b[39;00m response:\n\u001b[1;32m--> 435\u001b[0m     \u001b[38;5;28;43mself\u001b[39;49m\u001b[38;5;241;43m.\u001b[39;49m\u001b[43merror_handler\u001b[49m\u001b[38;5;241;43m.\u001b[39;49m\u001b[43mcheck_response\u001b[49m\u001b[43m(\u001b[49m\u001b[43mresponse\u001b[49m\u001b[43m)\u001b[49m\n\u001b[0;32m    436\u001b[0m     response[\u001b[38;5;124m'\u001b[39m\u001b[38;5;124mvalue\u001b[39m\u001b[38;5;124m'\u001b[39m] \u001b[38;5;241m=\u001b[39m \u001b[38;5;28mself\u001b[39m\u001b[38;5;241m.\u001b[39m_unwrap_value(\n\u001b[0;32m    437\u001b[0m         response\u001b[38;5;241m.\u001b[39mget(\u001b[38;5;124m'\u001b[39m\u001b[38;5;124mvalue\u001b[39m\u001b[38;5;124m'\u001b[39m, \u001b[38;5;28;01mNone\u001b[39;00m))\n\u001b[0;32m    438\u001b[0m     \u001b[38;5;28;01mreturn\u001b[39;00m response\n",
      "File \u001b[1;32m~\\anaconda3\\envs\\cakd7\\lib\\site-packages\\selenium\\webdriver\\remote\\errorhandler.py:247\u001b[0m, in \u001b[0;36mErrorHandler.check_response\u001b[1;34m(self, response)\u001b[0m\n\u001b[0;32m    245\u001b[0m         alert_text \u001b[38;5;241m=\u001b[39m value[\u001b[38;5;124m'\u001b[39m\u001b[38;5;124malert\u001b[39m\u001b[38;5;124m'\u001b[39m]\u001b[38;5;241m.\u001b[39mget(\u001b[38;5;124m'\u001b[39m\u001b[38;5;124mtext\u001b[39m\u001b[38;5;124m'\u001b[39m)\n\u001b[0;32m    246\u001b[0m     \u001b[38;5;28;01mraise\u001b[39;00m exception_class(message, screen, stacktrace, alert_text)  \u001b[38;5;66;03m# type: ignore[call-arg]  # mypy is not smart enough here\u001b[39;00m\n\u001b[1;32m--> 247\u001b[0m \u001b[38;5;28;01mraise\u001b[39;00m exception_class(message, screen, stacktrace)\n",
      "\u001b[1;31mNoSuchElementException\u001b[0m: Message: no such element: Unable to locate element: {\"method\":\"xpath\",\"selector\":\"//*[@id=\"icon\"]\"}\n  (Session info: chrome=103.0.5060.134)\nStacktrace:\nBacktrace:\n\tOrdinal0 [0x003C5FD3+2187219]\n\tOrdinal0 [0x0035E6D1+1763025]\n\tOrdinal0 [0x00273E78+802424]\n\tOrdinal0 [0x002A1C10+990224]\n\tOrdinal0 [0x002A1EAB+990891]\n\tOrdinal0 [0x002CEC92+1174674]\n\tOrdinal0 [0x002BCBD4+1100756]\n\tOrdinal0 [0x002CCFC2+1167298]\n\tOrdinal0 [0x002BC9A6+1100198]\n\tOrdinal0 [0x00296F80+946048]\n\tOrdinal0 [0x00297E76+949878]\n\tGetHandleVerifier [0x006690C2+2721218]\n\tGetHandleVerifier [0x0065AAF0+2662384]\n\tGetHandleVerifier [0x0045137A+526458]\n\tGetHandleVerifier [0x00450416+522518]\n\tOrdinal0 [0x00364EAB+1789611]\n\tOrdinal0 [0x003697A8+1808296]\n\tOrdinal0 [0x00369895+1808533]\n\tOrdinal0 [0x003726C1+1844929]\n\tBaseThreadInitThunk [0x75156739+25]\n\tRtlGetFullPathName_UEx [0x773F8FEF+1215]\n\tRtlGetFullPathName_UEx [0x773F8FBD+1165]\n"
     ]
    }
   ],
   "source": [
    "from time import sleep\n",
    "import selenium\n",
    "from selenium import webdriver\n",
    "from selenium.webdriver.common.keys import Keys\n",
    "import re\n",
    "import urllib\n",
    "options = webdriver.ChromeOptions()\n",
    "options.add_argument('window_size=1920,1080')\n",
    "\n",
    "\n",
    "\n",
    "adress = urllib.parse.quote('도로명주소')\n",
    "wg =\n",
    "\n",
    "\n",
    "\n",
    "\n",
    "driver = webdriver.Chrome(path, options=options)\n",
    "driver.maximize_window()\n",
    "driver.implicitly_wait(time_to_wait=10)\n",
    "\n",
    "driver.get(url='https://earth.google.com/web/search/'+adress+'/@'+wg+'21.89101966a,23230.14612967d,1y,-0h,0t,0r/data=CigiJgokCcS5EpajwjRAEcS5EpajwjTAGW9cSl8sjklAISd7z0p-tknA')\n",
    "\n"
   ]
  },
  {
   "cell_type": "code",
   "execution_count": null,
   "id": "14741613",
   "metadata": {},
   "outputs": [],
   "source": []
  },
  {
   "cell_type": "code",
   "execution_count": null,
   "id": "ebf3da36",
   "metadata": {},
   "outputs": [],
   "source": []
  },
  {
   "cell_type": "code",
   "execution_count": null,
   "id": "19c378f8",
   "metadata": {},
   "outputs": [],
   "source": []
  },
  {
   "cell_type": "code",
   "execution_count": null,
   "id": "f544f030",
   "metadata": {},
   "outputs": [],
   "source": []
  },
  {
   "cell_type": "code",
   "execution_count": null,
   "id": "f21e202c",
   "metadata": {},
   "outputs": [],
   "source": []
  }
 ],
 "metadata": {
  "kernelspec": {
   "display_name": "Python 3 (ipykernel)",
   "language": "python",
   "name": "python3"
  },
  "language_info": {
   "codemirror_mode": {
    "name": "ipython",
    "version": 3
   },
   "file_extension": ".py",
   "mimetype": "text/x-python",
   "name": "python",
   "nbconvert_exporter": "python",
   "pygments_lexer": "ipython3",
   "version": "3.8.13"
  },
  "toc": {
   "base_numbering": 1,
   "nav_menu": {},
   "number_sections": true,
   "sideBar": true,
   "skip_h1_title": false,
   "title_cell": "Table of Contents",
   "title_sidebar": "Contents",
   "toc_cell": false,
   "toc_position": {},
   "toc_section_display": true,
   "toc_window_display": false
  }
 },
 "nbformat": 4,
 "nbformat_minor": 5
}
