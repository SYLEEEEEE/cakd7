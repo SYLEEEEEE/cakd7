{
 "cells": [
  {
   "cell_type": "code",
   "execution_count": 36,
   "id": "9e533fc3",
   "metadata": {},
   "outputs": [],
   "source": [
    "import pandas as pd\n",
    "import numpy as np\n",
    "import urllib.request\n",
    "import matplotlib as mpl\n",
    "# import matplotlib.pylab as plt\n",
    "import matplotlib.pyplot as plt\n",
    "from matplotlib import font_manager, rc # 한글넣기\n",
    "plt.rcParams['axes.unicode_minus'] = False # 마이너스 부호 출력하게 해주는것\n",
    "font_path = '../visualization/dataset/malgun.ttf' # 해당파일 visualization > dataset에 있음\n",
    "font_name = font_manager.FontProperties(fname=font_path).get_name()\n",
    "rc('font',family=font_name)"
   ]
  },
  {
   "cell_type": "markdown",
   "id": "adb29b88",
   "metadata": {},
   "source": [
    "# 1.시장규모 데이터 전처리"
   ]
  },
  {
   "cell_type": "code",
   "execution_count": 73,
   "id": "a477b629",
   "metadata": {
    "scrolled": false
   },
   "outputs": [
    {
     "data": {
      "text/html": [
       "<div>\n",
       "<style scoped>\n",
       "    .dataframe tbody tr th:only-of-type {\n",
       "        vertical-align: middle;\n",
       "    }\n",
       "\n",
       "    .dataframe tbody tr th {\n",
       "        vertical-align: top;\n",
       "    }\n",
       "\n",
       "    .dataframe thead th {\n",
       "        text-align: right;\n",
       "    }\n",
       "</style>\n",
       "<table border=\"1\" class=\"dataframe\">\n",
       "  <thead>\n",
       "    <tr style=\"text-align: right;\">\n",
       "      <th></th>\n",
       "      <th>데이터산업별(1)</th>\n",
       "      <th>2015</th>\n",
       "      <th>2016</th>\n",
       "      <th>2017</th>\n",
       "      <th>2018</th>\n",
       "      <th>2019</th>\n",
       "      <th>2020</th>\n",
       "      <th>2021 e)</th>\n",
       "    </tr>\n",
       "  </thead>\n",
       "  <tbody>\n",
       "    <tr>\n",
       "      <th>0</th>\n",
       "      <td>전체</td>\n",
       "      <td>133555</td>\n",
       "      <td>137547</td>\n",
       "      <td>143530</td>\n",
       "      <td>155684</td>\n",
       "      <td>168582</td>\n",
       "      <td>200024</td>\n",
       "      <td>230972</td>\n",
       "    </tr>\n",
       "    <tr>\n",
       "      <th>1</th>\n",
       "      <td>데이터 처리 및 관리 솔루션 개발·공급업</td>\n",
       "      <td>14124</td>\n",
       "      <td>15720</td>\n",
       "      <td>16457</td>\n",
       "      <td>18617</td>\n",
       "      <td>20805</td>\n",
       "      <td>25133</td>\n",
       "      <td>30566</td>\n",
       "    </tr>\n",
       "    <tr>\n",
       "      <th>2</th>\n",
       "      <td>데이터 구축 및 컨설팅 서비스업</td>\n",
       "      <td>55280</td>\n",
       "      <td>55850</td>\n",
       "      <td>58894</td>\n",
       "      <td>61290</td>\n",
       "      <td>65412</td>\n",
       "      <td>76999</td>\n",
       "      <td>86335</td>\n",
       "    </tr>\n",
       "    <tr>\n",
       "      <th>3</th>\n",
       "      <td>데이터 판매 및 제공 서비스업</td>\n",
       "      <td>64151</td>\n",
       "      <td>65977</td>\n",
       "      <td>68179</td>\n",
       "      <td>75778</td>\n",
       "      <td>82364</td>\n",
       "      <td>97891</td>\n",
       "      <td>114071</td>\n",
       "    </tr>\n",
       "  </tbody>\n",
       "</table>\n",
       "</div>"
      ],
      "text/plain": [
       "                데이터산업별(1)    2015    2016    2017    2018    2019    2020  \\\n",
       "0                      전체  133555  137547  143530  155684  168582  200024   \n",
       "1  데이터 처리 및 관리 솔루션 개발·공급업   14124   15720   16457   18617   20805   25133   \n",
       "2       데이터 구축 및 컨설팅 서비스업   55280   55850   58894   61290   65412   76999   \n",
       "3        데이터 판매 및 제공 서비스업   64151   65977   68179   75778   82364   97891   \n",
       "\n",
       "   2021 e)  \n",
       "0   230972  \n",
       "1    30566  \n",
       "2    86335  \n",
       "3   114071  "
      ]
     },
     "execution_count": 73,
     "metadata": {},
     "output_type": "execute_result"
    }
   ],
   "source": [
    "size_df=pd.read_csv('5조 데이터/data1.csv',encoding='cp949')\n",
    "size_df"
   ]
  },
  {
   "cell_type": "code",
   "execution_count": 74,
   "id": "30060333",
   "metadata": {},
   "outputs": [],
   "source": [
    "size_df=size_df.rename(columns={'데이터산업별(1)':'산업구분','2021 e)':'2021'})\n",
    "# df1.columns = ['산업구분','2015년','2016년','2017년','2018년','2019년','2020년','2021년']\n",
    "\n",
    "size_df=size_df.T\n",
    "size_df=size_df.rename(columns=size_df.iloc[0])\n",
    "size_df.drop([size_df.index[0]],inplace=True)\n",
    "size_df=size_df.astype('int')\n",
    "size_df=size_df[['데이터 처리 및 관리 솔루션 개발·공급업','데이터 구축 및 컨설팅 서비스업','데이터 판매 및 제공 서비스업','전체']]\n"
   ]
  },
  {
   "cell_type": "code",
   "execution_count": 75,
   "id": "0892c23e",
   "metadata": {},
   "outputs": [
    {
     "data": {
      "text/html": [
       "<div>\n",
       "<style scoped>\n",
       "    .dataframe tbody tr th:only-of-type {\n",
       "        vertical-align: middle;\n",
       "    }\n",
       "\n",
       "    .dataframe tbody tr th {\n",
       "        vertical-align: top;\n",
       "    }\n",
       "\n",
       "    .dataframe thead th {\n",
       "        text-align: right;\n",
       "    }\n",
       "</style>\n",
       "<table border=\"1\" class=\"dataframe\">\n",
       "  <thead>\n",
       "    <tr style=\"text-align: right;\">\n",
       "      <th></th>\n",
       "      <th>데이터 처리 및 관리 솔루션 개발·공급업</th>\n",
       "      <th>데이터 구축 및 컨설팅 서비스업</th>\n",
       "      <th>데이터 판매 및 제공 서비스업</th>\n",
       "      <th>전체</th>\n",
       "    </tr>\n",
       "  </thead>\n",
       "  <tbody>\n",
       "    <tr>\n",
       "      <th>2015</th>\n",
       "      <td>14124</td>\n",
       "      <td>55280</td>\n",
       "      <td>64151</td>\n",
       "      <td>133555</td>\n",
       "    </tr>\n",
       "    <tr>\n",
       "      <th>2016</th>\n",
       "      <td>15720</td>\n",
       "      <td>55850</td>\n",
       "      <td>65977</td>\n",
       "      <td>137547</td>\n",
       "    </tr>\n",
       "    <tr>\n",
       "      <th>2017</th>\n",
       "      <td>16457</td>\n",
       "      <td>58894</td>\n",
       "      <td>68179</td>\n",
       "      <td>143530</td>\n",
       "    </tr>\n",
       "    <tr>\n",
       "      <th>2018</th>\n",
       "      <td>18617</td>\n",
       "      <td>61290</td>\n",
       "      <td>75778</td>\n",
       "      <td>155684</td>\n",
       "    </tr>\n",
       "    <tr>\n",
       "      <th>2019</th>\n",
       "      <td>20805</td>\n",
       "      <td>65412</td>\n",
       "      <td>82364</td>\n",
       "      <td>168582</td>\n",
       "    </tr>\n",
       "    <tr>\n",
       "      <th>2020</th>\n",
       "      <td>25133</td>\n",
       "      <td>76999</td>\n",
       "      <td>97891</td>\n",
       "      <td>200024</td>\n",
       "    </tr>\n",
       "    <tr>\n",
       "      <th>2021</th>\n",
       "      <td>30566</td>\n",
       "      <td>86335</td>\n",
       "      <td>114071</td>\n",
       "      <td>230972</td>\n",
       "    </tr>\n",
       "  </tbody>\n",
       "</table>\n",
       "</div>"
      ],
      "text/plain": [
       "      데이터 처리 및 관리 솔루션 개발·공급업  데이터 구축 및 컨설팅 서비스업  데이터 판매 및 제공 서비스업      전체\n",
       "2015                   14124              55280             64151  133555\n",
       "2016                   15720              55850             65977  137547\n",
       "2017                   16457              58894             68179  143530\n",
       "2018                   18617              61290             75778  155684\n",
       "2019                   20805              65412             82364  168582\n",
       "2020                   25133              76999             97891  200024\n",
       "2021                   30566              86335            114071  230972"
      ]
     },
     "execution_count": 75,
     "metadata": {},
     "output_type": "execute_result"
    }
   ],
   "source": [
    "size_df"
   ]
  },
  {
   "cell_type": "markdown",
   "id": "1d9703bb",
   "metadata": {},
   "source": [
    "## 막대형 시각화"
   ]
  },
  {
   "cell_type": "code",
   "execution_count": 77,
   "id": "f1ab1967",
   "metadata": {
    "scrolled": false
   },
   "outputs": [
    {
     "data": {
      "image/png": "[encoded data removed]",
      "text/plain": [
       "<Figure size 720x432 with 1 Axes>"
      ]
     },
     "metadata": {
      "needs_background": "light"
     },
     "output_type": "display_data"
    }
   ],
   "source": [
    "size_df.plot(kind='bar',figsize=(10,6), width=0.5)\n",
    "plt.width=4\n",
    "plt.title ('데이터 산업 시장 변화',fontsize=20)\n",
    "plt.xlabel('년도', loc='right', size=10)\n",
    "plt.ylabel('규모(억)')\n",
    "plt.xticks(rotation =0)\n",
    "plt.show()\n",
    "# plt.savefig('1_1.png', dpi=200)"
   ]
  },
  {
   "cell_type": "code",
   "execution_count": 79,
   "id": "fdf07759",
   "metadata": {},
   "outputs": [
    {
     "data": {
      "image/png": "[encoded data removed]",
      "text/plain": [
       "<Figure size 720x432 with 1 Axes>"
      ]
     },
     "metadata": {
      "needs_background": "light"
     },
     "output_type": "display_data"
    }
   ],
   "source": [
    "size_df['전체'].plot(kind='bar',figsize=(10,6), width=0.5, color='blue')\n",
    "plt.title ('데이터 산업 시장 총 규모',fontsize=20)\n",
    "plt.xlabel('년도', loc='right', size=10)\n",
    "plt.ylabel('규모(억)')\n",
    "plt.xticks(rotation =0)\n",
    "plt.show()\n",
    "# plt.savefig('1_4.png', dpi=200)"
   ]
  },
  {
   "cell_type": "markdown",
   "id": "ded56fd7",
   "metadata": {},
   "source": [
    "## 스택바 시각화"
   ]
  },
  {
   "cell_type": "code",
   "execution_count": 42,
   "id": "227b08ee",
   "metadata": {},
   "outputs": [
    {
     "data": {
      "image/png": "[encoded data removed]",
      "text/plain": [
       "<Figure size 720x432 with 1 Axes>"
      ]
     },
     "metadata": {
      "needs_background": "light"
     },
     "output_type": "display_data"
    }
   ],
   "source": [
    "size_df=size_df.drop('전체',axis=1)\n",
    "size_df.plot.bar(stacked=True,figsize=(10,6), width=0.5)\n",
    "plt.title ('데이터 산업 시장 변화',fontsize=20)\n",
    "plt.xlabel('년도', loc='right', size=10)\n",
    "plt.ylabel('규모(억)')\n",
    "\n",
    "plt.xticks(rotation =0)\n",
    "plt.show()\n",
    "# plt.savefig('1_2.png', dpi=200)"
   ]
  },
  {
   "cell_type": "code",
   "execution_count": 43,
   "id": "798b9a90",
   "metadata": {
    "scrolled": true
   },
   "outputs": [
    {
     "data": {
      "image/png": "[encoded data removed]",
      "text/plain": [
       "<Figure size 720x432 with 1 Axes>"
      ]
     },
     "metadata": {
      "needs_background": "light"
     },
     "output_type": "display_data"
    }
   ],
   "source": [
    "size_df.plot.barh(stacked=True,figsize=(10,6), width=0.5)\n",
    "plt.title ('데이터 산업 시장 변화',fontsize=20)\n",
    "plt.xlabel('규모(억)')\n",
    "plt.ylabel('년도')\n",
    "plt.show()\n",
    "# plt.savefig('1_3.png', dpi=200)"
   ]
  },
  {
   "cell_type": "code",
   "execution_count": 44,
   "id": "7023d298",
   "metadata": {},
   "outputs": [
    {
     "data": {
      "text/plain": [
       "172.94148478155066"
      ]
     },
     "execution_count": 44,
     "metadata": {},
     "output_type": "execute_result"
    }
   ],
   "source": [
    "'2015년 대비 2021년도의 시장 규모'\n",
    "230972/133555*100"
   ]
  },
  {
   "cell_type": "markdown",
   "id": "d30fa3aa",
   "metadata": {},
   "source": [
    "꾸준히 성장하고 있고 갈수록 성장세가 뚜렷해지고 있다."
   ]
  },
  {
   "cell_type": "markdown",
   "id": "5bca08b2",
   "metadata": {},
   "source": [
    "# 2. 산업별 인력현황 전처리"
   ]
  },
  {
   "cell_type": "code",
   "execution_count": 46,
   "id": "9c9afb61",
   "metadata": {},
   "outputs": [
    {
     "data": {
      "text/plain": [
       "산업구분\n",
       "데이터 처리 및 관리 솔루션 개발·공급업    int32\n",
       "데이터 구축 및 컨설팅 서비스업         int32\n",
       "데이터 판매 및 제공 서비스업          int32\n",
       "전체                        int32\n",
       "dtype: object"
      ]
     },
     "execution_count": 46,
     "metadata": {},
     "output_type": "execute_result"
    }
   ],
   "source": [
    "current_df=pd.read_csv('5조 데이터/data2.csv',encoding='cp949')\n",
    "current_df=current_df.drop('데이터직무별(1)',axis=1)\n",
    "current_df=current_df.drop(0)\n",
    "current_df.columns = ['산업구분','2015','2016','2017','2018','2019','2020','2021']\n",
    "current_df.set_index('산업구분', inplace=True)\n",
    "current_df=current_df.T\n",
    "current_df=current_df[['데이터 처리 및 관리 솔루션 개발·공급업','데이터 구축 및 컨설팅 서비스업','데이터 판매 및 제공 서비스업','전체']]\n",
    "current_df=current_df.astype('int')\n",
    "current_df.dtypes"
   ]
  },
  {
   "cell_type": "code",
   "execution_count": 47,
   "id": "5ba10cd8",
   "metadata": {},
   "outputs": [
    {
     "data": {
      "text/html": [
       "<div>\n",
       "<style scoped>\n",
       "    .dataframe tbody tr th:only-of-type {\n",
       "        vertical-align: middle;\n",
       "    }\n",
       "\n",
       "    .dataframe tbody tr th {\n",
       "        vertical-align: top;\n",
       "    }\n",
       "\n",
       "    .dataframe thead th {\n",
       "        text-align: right;\n",
       "    }\n",
       "</style>\n",
       "<table border=\"1\" class=\"dataframe\">\n",
       "  <thead>\n",
       "    <tr style=\"text-align: right;\">\n",
       "      <th>산업구분</th>\n",
       "      <th>데이터 처리 및 관리 솔루션 개발·공급업</th>\n",
       "      <th>데이터 구축 및 컨설팅 서비스업</th>\n",
       "      <th>데이터 판매 및 제공 서비스업</th>\n",
       "      <th>전체</th>\n",
       "    </tr>\n",
       "  </thead>\n",
       "  <tbody>\n",
       "    <tr>\n",
       "      <th>2015</th>\n",
       "      <td>8886</td>\n",
       "      <td>34323</td>\n",
       "      <td>27129</td>\n",
       "      <td>70338</td>\n",
       "    </tr>\n",
       "    <tr>\n",
       "      <th>2016</th>\n",
       "      <td>9272</td>\n",
       "      <td>35404</td>\n",
       "      <td>28580</td>\n",
       "      <td>73256</td>\n",
       "    </tr>\n",
       "    <tr>\n",
       "      <th>2017</th>\n",
       "      <td>10291</td>\n",
       "      <td>37516</td>\n",
       "      <td>29298</td>\n",
       "      <td>77105</td>\n",
       "    </tr>\n",
       "    <tr>\n",
       "      <th>2018</th>\n",
       "      <td>11541</td>\n",
       "      <td>40197</td>\n",
       "      <td>30885</td>\n",
       "      <td>82623</td>\n",
       "    </tr>\n",
       "    <tr>\n",
       "      <th>2019</th>\n",
       "      <td>13467</td>\n",
       "      <td>42979</td>\n",
       "      <td>32611</td>\n",
       "      <td>89058</td>\n",
       "    </tr>\n",
       "    <tr>\n",
       "      <th>2020</th>\n",
       "      <td>17273</td>\n",
       "      <td>48644</td>\n",
       "      <td>36050</td>\n",
       "      <td>101967</td>\n",
       "    </tr>\n",
       "    <tr>\n",
       "      <th>2021</th>\n",
       "      <td>22124</td>\n",
       "      <td>58733</td>\n",
       "      <td>41574</td>\n",
       "      <td>122431</td>\n",
       "    </tr>\n",
       "  </tbody>\n",
       "</table>\n",
       "</div>"
      ],
      "text/plain": [
       "산업구분  데이터 처리 및 관리 솔루션 개발·공급업  데이터 구축 및 컨설팅 서비스업  데이터 판매 및 제공 서비스업      전체\n",
       "2015                    8886              34323             27129   70338\n",
       "2016                    9272              35404             28580   73256\n",
       "2017                   10291              37516             29298   77105\n",
       "2018                   11541              40197             30885   82623\n",
       "2019                   13467              42979             32611   89058\n",
       "2020                   17273              48644             36050  101967\n",
       "2021                   22124              58733             41574  122431"
      ]
     },
     "execution_count": 47,
     "metadata": {},
     "output_type": "execute_result"
    }
   ],
   "source": [
    "current_df"
   ]
  },
  {
   "cell_type": "markdown",
   "id": "95fa204e",
   "metadata": {},
   "source": [
    "## 막대그래프 시각화"
   ]
  },
  {
   "cell_type": "code",
   "execution_count": 48,
   "id": "1175d7ba",
   "metadata": {
    "scrolled": true
   },
   "outputs": [
    {
     "data": {
      "image/png": "[encoded data removed]",
      "text/plain": [
       "<Figure size 720x432 with 1 Axes>"
      ]
     },
     "metadata": {
      "needs_background": "light"
     },
     "output_type": "display_data"
    }
   ],
   "source": [
    "current_df.plot(kind='bar',figsize=(10,6), width=0.5)\n",
    "plt.width=4\n",
    "plt.title ('데이터 산업별 인력 현황',fontsize=20)\n",
    "plt.xlabel('년도', loc='right', size=10)\n",
    "plt.ylabel('인력현황(명)')\n",
    "plt.xticks(rotation =0)\n",
    "plt.show()\n",
    "# plt.savefig('2_1.png', dpi=200)"
   ]
  },
  {
   "cell_type": "code",
   "execution_count": 49,
   "id": "c3c0105a",
   "metadata": {},
   "outputs": [
    {
     "data": {
      "image/png": "[encoded data removed]",
      "text/plain": [
       "<Figure size 720x432 with 1 Axes>"
      ]
     },
     "metadata": {
      "needs_background": "light"
     },
     "output_type": "display_data"
    }
   ],
   "source": [
    "current_df['전체'].plot(kind='bar',figsize=(10,6), width=0.5, color='blue')\n",
    "plt.title ('데이터 산업 종사자 수',fontsize=20)\n",
    "plt.xlabel('년도', loc='right', size=10)\n",
    "plt.ylabel('필요 인력(명)')\n",
    "plt.xticks(rotation =0)\n",
    "plt.show()\n",
    "# plt.savefig('2_2.png', dpi=200)"
   ]
  },
  {
   "cell_type": "markdown",
   "id": "9be3a22a",
   "metadata": {},
   "source": [
    "## 스택바 시각화"
   ]
  },
  {
   "cell_type": "code",
   "execution_count": 50,
   "id": "fcb5794b",
   "metadata": {},
   "outputs": [
    {
     "data": {
      "image/png": "[encoded data removed]",
      "text/plain": [
       "<Figure size 720x432 with 1 Axes>"
      ]
     },
     "metadata": {
      "needs_background": "light"
     },
     "output_type": "display_data"
    }
   ],
   "source": [
    "current_df=current_df.drop('전체',axis=1)\n",
    "current_df.plot.bar(stacked=True,figsize=(10,6), width=0.5)\n",
    "plt.title ('데이터 산업별 시장 변화',fontsize=20)\n",
    "plt.xlabel('년도', loc='right', size=10)\n",
    "plt.ylabel('규모(억)')\n",
    "\n",
    "plt.xticks(rotation =0)\n",
    "plt.show()\n",
    "# plt.savefig('2_3.png', dpi=200)"
   ]
  },
  {
   "cell_type": "code",
   "execution_count": 52,
   "id": "49d4c519",
   "metadata": {},
   "outputs": [
    {
     "data": {
      "text/html": [
       "<div>\n",
       "<style scoped>\n",
       "    .dataframe tbody tr th:only-of-type {\n",
       "        vertical-align: middle;\n",
       "    }\n",
       "\n",
       "    .dataframe tbody tr th {\n",
       "        vertical-align: top;\n",
       "    }\n",
       "\n",
       "    .dataframe thead th {\n",
       "        text-align: right;\n",
       "    }\n",
       "</style>\n",
       "<table border=\"1\" class=\"dataframe\">\n",
       "  <thead>\n",
       "    <tr style=\"text-align: right;\">\n",
       "      <th>산업구분</th>\n",
       "      <th>데이터 처리 및 관리 솔루션 개발·공급업</th>\n",
       "      <th>데이터 구축 및 컨설팅 서비스업</th>\n",
       "      <th>데이터 판매 및 제공 서비스업</th>\n",
       "    </tr>\n",
       "  </thead>\n",
       "  <tbody>\n",
       "    <tr>\n",
       "      <th>2015</th>\n",
       "      <td>8886</td>\n",
       "      <td>34323</td>\n",
       "      <td>27129</td>\n",
       "    </tr>\n",
       "    <tr>\n",
       "      <th>2016</th>\n",
       "      <td>9272</td>\n",
       "      <td>35404</td>\n",
       "      <td>28580</td>\n",
       "    </tr>\n",
       "    <tr>\n",
       "      <th>2017</th>\n",
       "      <td>10291</td>\n",
       "      <td>37516</td>\n",
       "      <td>29298</td>\n",
       "    </tr>\n",
       "    <tr>\n",
       "      <th>2018</th>\n",
       "      <td>11541</td>\n",
       "      <td>40197</td>\n",
       "      <td>30885</td>\n",
       "    </tr>\n",
       "    <tr>\n",
       "      <th>2019</th>\n",
       "      <td>13467</td>\n",
       "      <td>42979</td>\n",
       "      <td>32611</td>\n",
       "    </tr>\n",
       "    <tr>\n",
       "      <th>2020</th>\n",
       "      <td>17273</td>\n",
       "      <td>48644</td>\n",
       "      <td>36050</td>\n",
       "    </tr>\n",
       "    <tr>\n",
       "      <th>2021</th>\n",
       "      <td>22124</td>\n",
       "      <td>58733</td>\n",
       "      <td>41574</td>\n",
       "    </tr>\n",
       "  </tbody>\n",
       "</table>\n",
       "</div>"
      ],
      "text/plain": [
       "산업구분  데이터 처리 및 관리 솔루션 개발·공급업  데이터 구축 및 컨설팅 서비스업  데이터 판매 및 제공 서비스업\n",
       "2015                    8886              34323             27129\n",
       "2016                    9272              35404             28580\n",
       "2017                   10291              37516             29298\n",
       "2018                   11541              40197             30885\n",
       "2019                   13467              42979             32611\n",
       "2020                   17273              48644             36050\n",
       "2021                   22124              58733             41574"
      ]
     },
     "execution_count": 52,
     "metadata": {},
     "output_type": "execute_result"
    }
   ],
   "source": [
    "current_df"
   ]
  },
  {
   "cell_type": "markdown",
   "id": "817a06e8",
   "metadata": {},
   "source": [
    "```\n",
    "데이터 산업별 현재 5년간의 산업별 비중을 확인할수 있다.\n",
    "현 5년간은 데이터 판매와 구축 분야의 비율이 높은걸 확인할수 있다.\n",
    "```"
   ]
  },
  {
   "cell_type": "markdown",
   "id": "524ec329",
   "metadata": {},
   "source": [
    "# 3.데이터 산업별 인력 부족률 전처리"
   ]
  },
  {
   "cell_type": "code",
   "execution_count": 63,
   "id": "571a2114",
   "metadata": {
    "scrolled": true
   },
   "outputs": [
    {
     "data": {
      "text/html": [
       "<div>\n",
       "<style scoped>\n",
       "    .dataframe tbody tr th:only-of-type {\n",
       "        vertical-align: middle;\n",
       "    }\n",
       "\n",
       "    .dataframe tbody tr th {\n",
       "        vertical-align: top;\n",
       "    }\n",
       "\n",
       "    .dataframe thead th {\n",
       "        text-align: right;\n",
       "    }\n",
       "</style>\n",
       "<table border=\"1\" class=\"dataframe\">\n",
       "  <thead>\n",
       "    <tr style=\"text-align: right;\">\n",
       "      <th></th>\n",
       "      <th>데이터직무별(1)</th>\n",
       "      <th>2016</th>\n",
       "      <th>2017</th>\n",
       "      <th>2018</th>\n",
       "      <th>2019</th>\n",
       "      <th>2020</th>\n",
       "    </tr>\n",
       "  </thead>\n",
       "  <tbody>\n",
       "    <tr>\n",
       "      <th>0</th>\n",
       "      <td>데이터직무별(1)</td>\n",
       "      <td>전체</td>\n",
       "      <td>전체</td>\n",
       "      <td>전체</td>\n",
       "      <td>전체</td>\n",
       "      <td>전체</td>\n",
       "    </tr>\n",
       "    <tr>\n",
       "      <th>1</th>\n",
       "      <td>평균</td>\n",
       "      <td>17.8</td>\n",
       "      <td>17.9</td>\n",
       "      <td>32.7</td>\n",
       "      <td>25.4</td>\n",
       "      <td>26.6</td>\n",
       "    </tr>\n",
       "    <tr>\n",
       "      <th>2</th>\n",
       "      <td>데이터 아키텍트</td>\n",
       "      <td>-</td>\n",
       "      <td>-</td>\n",
       "      <td>40.1</td>\n",
       "      <td>4.4</td>\n",
       "      <td>9.4</td>\n",
       "    </tr>\n",
       "    <tr>\n",
       "      <th>3</th>\n",
       "      <td>데이터 개발자</td>\n",
       "      <td>27.0</td>\n",
       "      <td>26.1</td>\n",
       "      <td>35.1</td>\n",
       "      <td>26.7</td>\n",
       "      <td>24.5</td>\n",
       "    </tr>\n",
       "    <tr>\n",
       "      <th>4</th>\n",
       "      <td>데이터 엔지니어</td>\n",
       "      <td>9.3</td>\n",
       "      <td>10.2</td>\n",
       "      <td>28.4</td>\n",
       "      <td>6.4</td>\n",
       "      <td>15.1</td>\n",
       "    </tr>\n",
       "    <tr>\n",
       "      <th>5</th>\n",
       "      <td>데이터 분석가</td>\n",
       "      <td>33.7</td>\n",
       "      <td>37.3</td>\n",
       "      <td>53.4</td>\n",
       "      <td>57.8</td>\n",
       "      <td>57.6</td>\n",
       "    </tr>\n",
       "    <tr>\n",
       "      <th>6</th>\n",
       "      <td>데이터베이스 관리자</td>\n",
       "      <td>-</td>\n",
       "      <td>-</td>\n",
       "      <td>19.9</td>\n",
       "      <td>3.1</td>\n",
       "      <td>7.0</td>\n",
       "    </tr>\n",
       "    <tr>\n",
       "      <th>7</th>\n",
       "      <td>데이터 과학자</td>\n",
       "      <td>13.2</td>\n",
       "      <td>11.0</td>\n",
       "      <td>15.8</td>\n",
       "      <td>53.7</td>\n",
       "      <td>57.5</td>\n",
       "    </tr>\n",
       "    <tr>\n",
       "      <th>8</th>\n",
       "      <td>데이터 컨설턴트</td>\n",
       "      <td>6.1</td>\n",
       "      <td>7.1</td>\n",
       "      <td>28.2</td>\n",
       "      <td>7.3</td>\n",
       "      <td>3.4</td>\n",
       "    </tr>\n",
       "    <tr>\n",
       "      <th>9</th>\n",
       "      <td>데이터 기획자</td>\n",
       "      <td>22.6</td>\n",
       "      <td>23.9</td>\n",
       "      <td>30.5</td>\n",
       "      <td>10.6</td>\n",
       "      <td>10.5</td>\n",
       "    </tr>\n",
       "  </tbody>\n",
       "</table>\n",
       "</div>"
      ],
      "text/plain": [
       "    데이터직무별(1)  2016  2017  2018  2019  2020\n",
       "0   데이터직무별(1)    전체    전체    전체    전체    전체\n",
       "1          평균  17.8  17.9  32.7  25.4  26.6\n",
       "2    데이터 아키텍트     -     -  40.1   4.4   9.4\n",
       "3     데이터 개발자  27.0  26.1  35.1  26.7  24.5\n",
       "4    데이터 엔지니어   9.3  10.2  28.4   6.4  15.1\n",
       "5     데이터 분석가  33.7  37.3  53.4  57.8  57.6\n",
       "6  데이터베이스 관리자     -     -  19.9   3.1   7.0\n",
       "7     데이터 과학자  13.2  11.0  15.8  53.7  57.5\n",
       "8    데이터 컨설턴트   6.1   7.1  28.2   7.3   3.4\n",
       "9     데이터 기획자  22.6  23.9  30.5  10.6  10.5"
      ]
     },
     "execution_count": 63,
     "metadata": {},
     "output_type": "execute_result"
    }
   ],
   "source": [
    "a=pd.read_csv('5조 데이터/data4.csv',encoding='cp949')\n",
    "a"
   ]
  },
  {
   "cell_type": "markdown",
   "id": "97f64ba0",
   "metadata": {},
   "source": [
    "인력 부족률 : 필요(부족) 인력/(현재 인력+필요(부족) 인력)x100\n",
    "\n",
    "필요인력 : 기업에서 현재 인력보다 추가로 더 필요로 하는 인력수를 의미함. 즉, 현재 부족한 인력수를 의미하며, 채용 계획 인력수는 아님.\n",
    "\n",
    "2016년~2017년 자료는 향후 3년 내 데이터산업 내 데이터직무 인력 부족률"
   ]
  },
  {
   "cell_type": "code",
   "execution_count": 53,
   "id": "d942d80e",
   "metadata": {},
   "outputs": [
    {
     "data": {
      "text/html": [
       "<div>\n",
       "<style scoped>\n",
       "    .dataframe tbody tr th:only-of-type {\n",
       "        vertical-align: middle;\n",
       "    }\n",
       "\n",
       "    .dataframe tbody tr th {\n",
       "        vertical-align: top;\n",
       "    }\n",
       "\n",
       "    .dataframe thead th {\n",
       "        text-align: right;\n",
       "    }\n",
       "</style>\n",
       "<table border=\"1\" class=\"dataframe\">\n",
       "  <thead>\n",
       "    <tr style=\"text-align: right;\">\n",
       "      <th></th>\n",
       "      <th>평균</th>\n",
       "      <th>데이터 개발자</th>\n",
       "      <th>데이터 엔지니어</th>\n",
       "      <th>데이터 분석가</th>\n",
       "      <th>데이터 과학자</th>\n",
       "      <th>데이터 컨설턴트</th>\n",
       "      <th>데이터 기획자</th>\n",
       "    </tr>\n",
       "  </thead>\n",
       "  <tbody>\n",
       "    <tr>\n",
       "      <th>2016</th>\n",
       "      <td>17.8</td>\n",
       "      <td>27.0</td>\n",
       "      <td>9.3</td>\n",
       "      <td>33.7</td>\n",
       "      <td>13.2</td>\n",
       "      <td>6.1</td>\n",
       "      <td>22.6</td>\n",
       "    </tr>\n",
       "    <tr>\n",
       "      <th>2017</th>\n",
       "      <td>17.9</td>\n",
       "      <td>26.1</td>\n",
       "      <td>10.2</td>\n",
       "      <td>37.3</td>\n",
       "      <td>11.0</td>\n",
       "      <td>7.1</td>\n",
       "      <td>23.9</td>\n",
       "    </tr>\n",
       "    <tr>\n",
       "      <th>2018</th>\n",
       "      <td>32.7</td>\n",
       "      <td>35.1</td>\n",
       "      <td>28.4</td>\n",
       "      <td>53.4</td>\n",
       "      <td>15.8</td>\n",
       "      <td>28.2</td>\n",
       "      <td>30.5</td>\n",
       "    </tr>\n",
       "    <tr>\n",
       "      <th>2019</th>\n",
       "      <td>25.4</td>\n",
       "      <td>26.7</td>\n",
       "      <td>6.4</td>\n",
       "      <td>57.8</td>\n",
       "      <td>53.7</td>\n",
       "      <td>7.3</td>\n",
       "      <td>10.6</td>\n",
       "    </tr>\n",
       "    <tr>\n",
       "      <th>2020</th>\n",
       "      <td>26.6</td>\n",
       "      <td>24.5</td>\n",
       "      <td>15.1</td>\n",
       "      <td>57.6</td>\n",
       "      <td>57.5</td>\n",
       "      <td>3.4</td>\n",
       "      <td>10.5</td>\n",
       "    </tr>\n",
       "  </tbody>\n",
       "</table>\n",
       "</div>"
      ],
      "text/plain": [
       "        평균  데이터 개발자  데이터 엔지니어  데이터 분석가  데이터 과학자  데이터 컨설턴트  데이터 기획자\n",
       "2016  17.8     27.0       9.3     33.7     13.2       6.1     22.6\n",
       "2017  17.9     26.1      10.2     37.3     11.0       7.1     23.9\n",
       "2018  32.7     35.1      28.4     53.4     15.8      28.2     30.5\n",
       "2019  25.4     26.7       6.4     57.8     53.7       7.3     10.6\n",
       "2020  26.6     24.5      15.1     57.6     57.5       3.4     10.5"
      ]
     },
     "execution_count": 53,
     "metadata": {},
     "output_type": "execute_result"
    }
   ],
   "source": [
    "shortage_df=pd.read_csv('5조 데이터/data4.csv',encoding='cp949')\n",
    "# shortage_df.drop(['데이터직무별(1)'],axis=1, inplace=True)\n",
    "shortage_df.drop([shortage_df.index[0]] ,inplace=True)\n",
    "shortage_df.drop([shortage_df.index[1]] ,inplace=True)\n",
    "shortage_df.drop([shortage_df.index[4]] ,inplace=True)\n",
    "shortage_df.columns = ['산업구분','2016','2017','2018','2019','2020']\n",
    "shortage_df=shortage_df.T\n",
    "shortage_df=shortage_df.rename(columns=shortage_df.iloc[0])\n",
    "shortage_df.drop([shortage_df.index[0]],inplace=True)\n",
    "shortage_df=shortage_df.astype('float')\n",
    "shortage_df"
   ]
  },
  {
   "cell_type": "markdown",
   "id": "2c47e24c",
   "metadata": {},
   "source": [
    "## 막대 그래프 시각화"
   ]
  },
  {
   "cell_type": "code",
   "execution_count": 54,
   "id": "929be593",
   "metadata": {},
   "outputs": [
    {
     "data": {
      "image/png": "[encoded data removed]",
      "text/plain": [
       "<Figure size 720x432 with 1 Axes>"
      ]
     },
     "metadata": {
      "needs_background": "light"
     },
     "output_type": "display_data"
    }
   ],
   "source": [
    "shortage_df.drop(['평균'],axis=1,inplace=True)\n",
    "shortage_df.plot(kind='bar',figsize=(10,6), width=0.5)\n",
    "plt.width=4\n",
    "plt.title ('향후 5년 데이터 산업별 인력 부족률',fontsize=20)\n",
    "plt.xlabel('년도', loc='right', size=10)\n",
    "plt.ylabel('인력부족률(%)')\n",
    "plt.xticks(rotation =0)\n",
    "plt.show()\n",
    "# plt.savefig('3_1.png', dpi=200)"
   ]
  },
  {
   "cell_type": "markdown",
   "id": "d4aa4d81",
   "metadata": {},
   "source": [
    "## 파이 시각화"
   ]
  },
  {
   "cell_type": "code",
   "execution_count": 55,
   "id": "b1cf0cea",
   "metadata": {},
   "outputs": [
    {
     "data": {
      "text/html": [
       "<div>\n",
       "<style scoped>\n",
       "    .dataframe tbody tr th:only-of-type {\n",
       "        vertical-align: middle;\n",
       "    }\n",
       "\n",
       "    .dataframe tbody tr th {\n",
       "        vertical-align: top;\n",
       "    }\n",
       "\n",
       "    .dataframe thead th {\n",
       "        text-align: right;\n",
       "    }\n",
       "</style>\n",
       "<table border=\"1\" class=\"dataframe\">\n",
       "  <thead>\n",
       "    <tr style=\"text-align: right;\">\n",
       "      <th></th>\n",
       "      <th>index</th>\n",
       "      <th>2016</th>\n",
       "      <th>2017</th>\n",
       "      <th>2018</th>\n",
       "      <th>2019</th>\n",
       "      <th>2020</th>\n",
       "    </tr>\n",
       "  </thead>\n",
       "  <tbody>\n",
       "    <tr>\n",
       "      <th>0</th>\n",
       "      <td>데이터 엔지니어</td>\n",
       "      <td>9.3</td>\n",
       "      <td>10.2</td>\n",
       "      <td>28.4</td>\n",
       "      <td>6.4</td>\n",
       "      <td>15.1</td>\n",
       "    </tr>\n",
       "    <tr>\n",
       "      <th>1</th>\n",
       "      <td>데이터 분석가</td>\n",
       "      <td>33.7</td>\n",
       "      <td>37.3</td>\n",
       "      <td>53.4</td>\n",
       "      <td>57.8</td>\n",
       "      <td>57.6</td>\n",
       "    </tr>\n",
       "    <tr>\n",
       "      <th>2</th>\n",
       "      <td>데이터 과학자</td>\n",
       "      <td>13.2</td>\n",
       "      <td>11.0</td>\n",
       "      <td>15.8</td>\n",
       "      <td>53.7</td>\n",
       "      <td>57.5</td>\n",
       "    </tr>\n",
       "    <tr>\n",
       "      <th>3</th>\n",
       "      <td>데이터 컨설턴트</td>\n",
       "      <td>6.1</td>\n",
       "      <td>7.1</td>\n",
       "      <td>28.2</td>\n",
       "      <td>7.3</td>\n",
       "      <td>3.4</td>\n",
       "    </tr>\n",
       "    <tr>\n",
       "      <th>4</th>\n",
       "      <td>데이터 기획자</td>\n",
       "      <td>22.6</td>\n",
       "      <td>23.9</td>\n",
       "      <td>30.5</td>\n",
       "      <td>10.6</td>\n",
       "      <td>10.5</td>\n",
       "    </tr>\n",
       "  </tbody>\n",
       "</table>\n",
       "</div>"
      ],
      "text/plain": [
       "      index  2016  2017  2018  2019  2020\n",
       "0  데이터 엔지니어   9.3  10.2  28.4   6.4  15.1\n",
       "1   데이터 분석가  33.7  37.3  53.4  57.8  57.6\n",
       "2   데이터 과학자  13.2  11.0  15.8  53.7  57.5\n",
       "3  데이터 컨설턴트   6.1   7.1  28.2   7.3   3.4\n",
       "4   데이터 기획자  22.6  23.9  30.5  10.6  10.5"
      ]
     },
     "execution_count": 55,
     "metadata": {},
     "output_type": "execute_result"
    }
   ],
   "source": [
    "shortage_df2=shortage_df.T\n",
    "shortage_df2.drop([shortage_df2.index[0]] ,inplace=True)\n",
    "shortage_df2 = shortage_df2.reset_index(drop = False)\n",
    "shortage_df2"
   ]
  },
  {
   "cell_type": "code",
   "execution_count": 65,
   "id": "415699e1",
   "metadata": {},
   "outputs": [
    {
     "data": {
      "image/png": "[encoded data removed]",
      "text/plain": [
       "<Figure size 432x288 with 1 Axes>"
      ]
     },
     "metadata": {},
     "output_type": "display_data"
    }
   ],
   "source": [
    "shortage_df2\n",
    "plt.title('20년 데이터분야별 부족률',fontsize=20)\n",
    "explode = (0,0.1,0,0,0)\n",
    "plt.axis('equal')\n",
    "plt.pie(shortage_df2['2020'], autopct = '%1.1f%%' ,labels = shortage_df2['index'], shadow=True ,explode=explode) \n",
    "plt.show()\n",
    "# plt.savefig('3_2.png', dpi=200)"
   ]
  },
  {
   "cell_type": "markdown",
   "id": "91fd9388",
   "metadata": {},
   "source": [
    "```\n",
    "인력 부족률 : 필요(부족) 인력/(현재 인력+필요(부족) 인력)x100\n",
    "필요인력 : 기업에서 현재 인력보다 추가로 더 필요로 하는 인력수를 의미함. \n",
    "막대 그래프 : 분석가와 과학자 분야의 부족률이 현저희 높아지고 있\n",
    "```"
   ]
  },
  {
   "cell_type": "markdown",
   "id": "047ffb68",
   "metadata": {},
   "source": [
    "# 4.향후 5년 필요 인력 전처리"
   ]
  },
  {
   "cell_type": "code",
   "execution_count": 57,
   "id": "3699de55",
   "metadata": {},
   "outputs": [
    {
     "data": {
      "text/plain": [
       "전체            int32\n",
       "데이터 아키텍트      int32\n",
       "데이터 개발자       int32\n",
       "데이터 엔지니어      int32\n",
       "데이터 분석가       int32\n",
       "데이터베이스 관리자    int32\n",
       "데이터 과학자       int32\n",
       "데이터 컨설턴트      int32\n",
       "데이터 기획자       int32\n",
       "dtype: object"
      ]
     },
     "execution_count": 57,
     "metadata": {},
     "output_type": "execute_result"
    }
   ],
   "source": [
    "future_df=pd.read_csv('5조 데이터/data5.csv',encoding='cp949')\n",
    "future_df.drop(['2018','2019','2020','2021'],axis=1, inplace=True)\n",
    "future_df.drop([future_df.index[0]] ,inplace=True)\n",
    "future_df.drop([future_df.index[0]] ,inplace=True)\n",
    "future_df.columns = ['산업구분','2018','2019','2020','2021']\n",
    "future_df=future_df.T\n",
    "future_df=future_df.rename(columns=future_df.iloc[0])\n",
    "future_df.drop([future_df.index[0]],inplace=True)\n",
    "future_df=future_df.astype('int')\n",
    "future_df.dtypes"
   ]
  },
  {
   "cell_type": "code",
   "execution_count": 58,
   "id": "1cdc246e",
   "metadata": {},
   "outputs": [
    {
     "data": {
      "text/html": [
       "<div>\n",
       "<style scoped>\n",
       "    .dataframe tbody tr th:only-of-type {\n",
       "        vertical-align: middle;\n",
       "    }\n",
       "\n",
       "    .dataframe tbody tr th {\n",
       "        vertical-align: top;\n",
       "    }\n",
       "\n",
       "    .dataframe thead th {\n",
       "        text-align: right;\n",
       "    }\n",
       "</style>\n",
       "<table border=\"1\" class=\"dataframe\">\n",
       "  <thead>\n",
       "    <tr style=\"text-align: right;\">\n",
       "      <th></th>\n",
       "      <th>전체</th>\n",
       "      <th>데이터 아키텍트</th>\n",
       "      <th>데이터 개발자</th>\n",
       "      <th>데이터 엔지니어</th>\n",
       "      <th>데이터 분석가</th>\n",
       "      <th>데이터베이스 관리자</th>\n",
       "      <th>데이터 과학자</th>\n",
       "      <th>데이터 컨설턴트</th>\n",
       "      <th>데이터 기획자</th>\n",
       "    </tr>\n",
       "  </thead>\n",
       "  <tbody>\n",
       "    <tr>\n",
       "      <th>2018</th>\n",
       "      <td>9472</td>\n",
       "      <td>715</td>\n",
       "      <td>2968</td>\n",
       "      <td>969</td>\n",
       "      <td>1559</td>\n",
       "      <td>1003</td>\n",
       "      <td>318</td>\n",
       "      <td>956</td>\n",
       "      <td>984</td>\n",
       "    </tr>\n",
       "    <tr>\n",
       "      <th>2019</th>\n",
       "      <td>8484</td>\n",
       "      <td>86</td>\n",
       "      <td>4870</td>\n",
       "      <td>785</td>\n",
       "      <td>1145</td>\n",
       "      <td>184</td>\n",
       "      <td>836</td>\n",
       "      <td>165</td>\n",
       "      <td>413</td>\n",
       "    </tr>\n",
       "    <tr>\n",
       "      <th>2020</th>\n",
       "      <td>12114</td>\n",
       "      <td>327</td>\n",
       "      <td>5775</td>\n",
       "      <td>1624</td>\n",
       "      <td>1281</td>\n",
       "      <td>470</td>\n",
       "      <td>1106</td>\n",
       "      <td>844</td>\n",
       "      <td>687</td>\n",
       "    </tr>\n",
       "    <tr>\n",
       "      <th>2021</th>\n",
       "      <td>16984</td>\n",
       "      <td>446</td>\n",
       "      <td>8035</td>\n",
       "      <td>2131</td>\n",
       "      <td>1744</td>\n",
       "      <td>825</td>\n",
       "      <td>1738</td>\n",
       "      <td>1062</td>\n",
       "      <td>1004</td>\n",
       "    </tr>\n",
       "  </tbody>\n",
       "</table>\n",
       "</div>"
      ],
      "text/plain": [
       "         전체  데이터 아키텍트  데이터 개발자  데이터 엔지니어  데이터 분석가  데이터베이스 관리자  데이터 과학자  \\\n",
       "2018   9472       715     2968       969     1559        1003      318   \n",
       "2019   8484        86     4870       785     1145         184      836   \n",
       "2020  12114       327     5775      1624     1281         470     1106   \n",
       "2021  16984       446     8035      2131     1744         825     1738   \n",
       "\n",
       "      데이터 컨설턴트  데이터 기획자  \n",
       "2018       956      984  \n",
       "2019       165      413  \n",
       "2020       844      687  \n",
       "2021      1062     1004  "
      ]
     },
     "execution_count": 58,
     "metadata": {},
     "output_type": "execute_result"
    }
   ],
   "source": [
    "future_df"
   ]
  },
  {
   "cell_type": "markdown",
   "id": "79fad59c",
   "metadata": {},
   "source": [
    "## 막대그래프 시각화"
   ]
  },
  {
   "cell_type": "code",
   "execution_count": 59,
   "id": "2b64bd34",
   "metadata": {
    "scrolled": true
   },
   "outputs": [
    {
     "data": {
      "image/png": "[encoded data removed]",
      "text/plain": [
       "<Figure size 720x432 with 1 Axes>"
      ]
     },
     "metadata": {
      "needs_background": "light"
     },
     "output_type": "display_data"
    }
   ],
   "source": [
    "future_df.plot(kind='bar',figsize=(10,6), width=0.5)\n",
    "plt.width=4\n",
    "plt.title ('향후 5년 데이터 산업별 필요 인력',fontsize=20)\n",
    "plt.xlabel('년도', loc='right', size=10)\n",
    "plt.ylabel('필요 인력(명)')\n",
    "plt.xticks(rotation =0)\n",
    "plt.show()\n",
    "# plt.savefig('4_1.png', dpi=200)"
   ]
  },
  {
   "cell_type": "code",
   "execution_count": 60,
   "id": "23d853fa",
   "metadata": {},
   "outputs": [
    {
     "data": {
      "image/png": "[encoded data removed]",
      "text/plain": [
       "<Figure size 720x432 with 1 Axes>"
      ]
     },
     "metadata": {
      "needs_background": "light"
     },
     "output_type": "display_data"
    }
   ],
   "source": [
    "future_df['전체'].plot(kind='bar',figsize=(10,6), width=0.3, color='blue')\n",
    "plt.title ('향후 5년 데이터 산업의 총 필요 인력',fontsize=20)\n",
    "plt.xlabel('년도', loc='right', size=10)\n",
    "plt.ylabel('필요 인력(명)')\n",
    "plt.xticks(rotation =0)\n",
    "plt.show()\n",
    "# plt.savefig('4_2.png', dpi=200)"
   ]
  },
  {
   "cell_type": "markdown",
   "id": "0715dfee",
   "metadata": {},
   "source": [
    "19년도는 코로나때문에 감소한듯"
   ]
  },
  {
   "cell_type": "markdown",
   "id": "33374e6b",
   "metadata": {},
   "source": [
    "## Stacked Bar 시각화"
   ]
  },
  {
   "cell_type": "code",
   "execution_count": 61,
   "id": "f536e116",
   "metadata": {},
   "outputs": [
    {
     "data": {
      "image/png": "[encoded data removed]",
      "text/plain": [
       "<Figure size 720x432 with 1 Axes>"
      ]
     },
     "metadata": {
      "needs_background": "light"
     },
     "output_type": "display_data"
    }
   ],
   "source": [
    "future_df2=future_df.drop(['전체'],axis=1)\n",
    "future_df2.plot.bar(stacked=True,figsize=(10,6), width=0.3)\n",
    "plt.title('향후5년 분야별 필요 인력', fontsize=20)\n",
    "plt.xlabel('년도', loc='right')\n",
    "plt.ylabel('필요 인력(명)')\n",
    "plt.xticks(rotation =0)\n",
    "plt.show()\n",
    "# plt.savefig('4_3.png', dpi=200)"
   ]
  },
  {
   "cell_type": "code",
   "execution_count": null,
   "id": "b9725c71",
   "metadata": {},
   "outputs": [],
   "source": []
  }
 ],
 "metadata": {
  "kernelspec": {
   "display_name": "Python 3 (ipykernel)",
   "language": "python",
   "name": "python3"
  },
  "language_info": {
   "codemirror_mode": {
    "name": "ipython",
    "version": 3
   },
   "file_extension": ".py",
   "mimetype": "text/x-python",
   "name": "python",
   "nbconvert_exporter": "python",
   "pygments_lexer": "ipython3",
   "version": "3.8.13"
  },
  "toc": {
   "base_numbering": 1,
   "nav_menu": {},
   "number_sections": true,
   "sideBar": true,
   "skip_h1_title": false,
   "title_cell": "Table of Contents",
   "title_sidebar": "Contents",
   "toc_cell": false,
   "toc_position": {},
   "toc_section_display": true,
   "toc_window_display": false
  }
 },
 "nbformat": 4,
 "nbformat_minor": 5
}
