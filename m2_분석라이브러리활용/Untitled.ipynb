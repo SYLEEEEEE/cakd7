{
 "cells": [
  {
   "cell_type": "markdown",
   "id": "89e8b8c1",
   "metadata": {},
   "source": [
    "# df2 만들 때"
   ]
  },
  {
   "cell_type": "code",
   "execution_count": null,
   "id": "671bff73",
   "metadata": {},
   "outputs": [],
   "source": []
  },
  {
   "cell_type": "code",
   "execution_count": null,
   "id": "a76e4bd6",
   "metadata": {},
   "outputs": [],
   "source": [
    "\n",
    "age_li = []\n",
    "for i in range(10,80):\n",
    "    if i < 20 :\n",
    "        for j in range(200): # 20세 미만 20%\n",
    "            age_li.append(i)\n",
    "    elif i< 30 :\n",
    "        for j in range(270): # 30세 미만 27%\n",
    "            age_li.append(i)\n",
    "    elif i < 40 :\n",
    "        for j in range(240): # 40세 미만 24%\n",
    "            age_li.append(i)\n",
    "    elif i < 50 :\n",
    "        for j in range(120): # 50세 미만 12%\n",
    "            age_li.append(i)\n",
    "    elif i < 60 :\n",
    "        for j in range(90): # 60세 미만 9%\n",
    "            age_li.append(i)\n",
    "    elif i < 70 :\n",
    "        for j in range(50): #  70세 미만 5%\n",
    "            age_li.append(i)\n",
    "    else :\n",
    "        for j in range(30): # 70세 이상 3%\n",
    "            age_li.append(i)\n",
    "        \n",
    "age=np.random.choice(age_li,size=1000)\n",
    "df2['age'] = age\n",
    "df2['generation'] = (df2['age']//10)*10"
   ]
  },
  {
   "cell_type": "code",
   "execution_count": null,
   "id": "72c6f94e",
   "metadata": {},
   "outputs": [],
   "source": []
  },
  {
   "cell_type": "code",
   "execution_count": null,
   "id": "2abc361a",
   "metadata": {},
   "outputs": [],
   "source": []
  },
  {
   "cell_type": "code",
   "execution_count": null,
   "id": "d777bf5f",
   "metadata": {},
   "outputs": [],
   "source": []
  }
 ],
 "metadata": {
  "kernelspec": {
   "display_name": "Python 3 (ipykernel)",
   "language": "python",
   "name": "python3"
  },
  "language_info": {
   "codemirror_mode": {
    "name": "ipython",
    "version": 3
   },
   "file_extension": ".py",
   "mimetype": "text/x-python",
   "name": "python",
   "nbconvert_exporter": "python",
   "pygments_lexer": "ipython3",
   "version": "3.8.13"
  }
 },
 "nbformat": 4,
 "nbformat_minor": 5
}
