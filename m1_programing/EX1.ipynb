{
 "cells": [
  {
   "cell_type": "markdown",
   "id": "4b23bb04",
   "metadata": {},
   "source": [
    "# Q1. 남녀 파트너 정해주기 프로그램(zip) \n",
    "같은 수의 남녀 모임에서 파트너를 랜덤하게 정해주는 프로그램을 만들어 보세요\n",
    "\n",
    "male = ['철수','갑돌','로미오','이몽룡','온돌']\n",
    "\n",
    "female = ['미미','갑순','줄리엣','성춘향','평강']\n",
    "zip 함수 사용\n"
   ]
  },
  {
   "cell_type": "code",
   "execution_count": 1,
   "id": "c457663d",
   "metadata": {
    "scrolled": false
   },
   "outputs": [
    {
     "name": "stdout",
     "output_type": "stream",
     "text": [
      "커플1:이몽룡,미미\n",
      "커플2:로미오,줄리엣\n",
      "커플3:갑돌,성춘향\n",
      "커플4:온돌,평강\n",
      "커플5:철수,갑순\n"
     ]
    }
   ],
   "source": [
    "import random\n",
    "male = ['철수','갑돌','로미오','이몽룡','온돌']\n",
    "female = ['미미','갑순','줄리엣','성춘향','평강']\n",
    "random.shuffle(male)\n",
    "random.shuffle(female)\n",
    "couples = zip(male, female)\n",
    "for i, couple in enumerate(couples):\n",
    "    print(f'커플{i+1}:{couple[0]},{couple[1]}')"
   ]
  },
  {
   "cell_type": "markdown",
   "id": "e8e14339",
   "metadata": {},
   "source": [
    "# Q2. 사용자가 입력한 횟수만큼 로또 번호를 출력하는 프로그램을 작성하세요.\n",
    "중복불가 45개 중에 6개"
   ]
  },
  {
   "cell_type": "code",
   "execution_count": 2,
   "id": "b1f2ca1e",
   "metadata": {},
   "outputs": [
    {
     "name": "stdout",
     "output_type": "stream",
     "text": [
      "자동 몇 줄 추출할거임?(숫자입력)1\n",
      "[18, 6, 7, 9, 22, 41]\n"
     ]
    }
   ],
   "source": [
    "a = int(input('자동 몇 줄 추출할거임?(숫자입력)'))\n",
    "for i in range(a):\n",
    "    print(random.sample(range(1,46), 6))"
   ]
  },
  {
   "cell_type": "markdown",
   "id": "b690c9b1",
   "metadata": {},
   "source": [
    "## 도전  \n",
    "발표자를 원하는 수 만큼 랜덤하게 출력하는 프로그램을 작성하세요."
   ]
  },
  {
   "cell_type": "code",
   "execution_count": 3,
   "id": "137192c6",
   "metadata": {},
   "outputs": [
    {
     "data": {
      "text/plain": [
       "25"
      ]
     },
     "execution_count": 3,
     "metadata": {},
     "output_type": "execute_result"
    }
   ],
   "source": [
    "cakd7 = ['박영권','김현지','김덕현','변서연','한지웅','양주희','이호원','정지은','이정현A','이상윤','이명진','조승현','강유한','김영선','최애림','김민섭','박혜린','이정현B','윤정준','김진형','정승기','진청아','신창훈','김병석','박세희'] \n",
    "len(cakd7)"
   ]
  },
  {
   "cell_type": "code",
   "execution_count": 4,
   "id": "dbbb68f5",
   "metadata": {},
   "outputs": [
    {
     "name": "stdout",
     "output_type": "stream",
     "text": [
      "발표자 몇 명 뽑을까요?1\n",
      "1번 문제 : 한지웅\n"
     ]
    }
   ],
   "source": [
    "a = int(input('발표자 몇 명 뽑을까요?'))\n",
    "b = random.sample(cakd7,a)\n",
    "for i in range(a):\n",
    "    print(f\"{i+1}번 문제 : {b[i]}\")"
   ]
  },
  {
   "cell_type": "markdown",
   "id": "d553971f",
   "metadata": {},
   "source": [
    "# Q3. 입력받은 문자열의 각 문자를 그 다음 문자로 변경하여 출력하세요 abc ->bca"
   ]
  },
  {
   "cell_type": "code",
   "execution_count": 5,
   "id": "59d6e84f",
   "metadata": {},
   "outputs": [
    {
     "name": "stdout",
     "output_type": "stream",
     "text": [
      "문자를 입력하세요123\n"
     ]
    },
    {
     "data": {
      "text/plain": [
       "'231'"
      ]
     },
     "execution_count": 5,
     "metadata": {},
     "output_type": "execute_result"
    }
   ],
   "source": [
    "s = input(\"문자를 입력하세요\")\n",
    "s[1:] + s[0]"
   ]
  },
  {
   "cell_type": "code",
   "execution_count": 6,
   "id": "ea749c8e",
   "metadata": {},
   "outputs": [
    {
     "name": "stdout",
     "output_type": "stream",
     "text": [
      "문장을 입력하세요123\n",
      "312\n"
     ]
    }
   ],
   "source": [
    "#abc -> cab\n",
    "text = input(\"문장을 입력하세요\")\n",
    "ret = ''\n",
    "for i in range(len(text)):\n",
    "    if i != len(text) :\n",
    "        ret += text[i-1]\n",
    "    else:\n",
    "        ret += text[0]\n",
    "print(ret)"
   ]
  },
  {
   "cell_type": "markdown",
   "id": "4e60236e",
   "metadata": {},
   "source": [
    "# Q4. url에서 호스트 도메인을 추출하여 출력하세요.\n",
    "url = 'http://news.naver.com/main/read.nhn?mode=LSD&mid=shm&sid1=105&oid=028&aid=0002334601'\n"
   ]
  },
  {
   "cell_type": "code",
   "execution_count": 7,
   "id": "999460bc",
   "metadata": {},
   "outputs": [
    {
     "data": {
      "text/plain": [
       "'news.naver.com'"
      ]
     },
     "execution_count": 7,
     "metadata": {},
     "output_type": "execute_result"
    }
   ],
   "source": [
    "import re\n",
    "url = 'http://news.naver.com/main/read.nhn?mode=LSD&mid=shm&sid1=105&oid=028&aid=0002334601'\n",
    "a = re.compile(r\"http://([\\w.]+)\")\n",
    "b = a.findall(url) #findal은 리스트화 \n",
    "b[0]"
   ]
  },
  {
   "cell_type": "code",
   "execution_count": 8,
   "id": "dc111a9f",
   "metadata": {},
   "outputs": [
    {
     "data": {
      "text/plain": [
       "'news.naver.com'"
      ]
     },
     "execution_count": 8,
     "metadata": {},
     "output_type": "execute_result"
    }
   ],
   "source": [
    "url = 'http://news.naver.com/main/read.nhn?mode=LSD&mid=shm&sid1=105&oid=028&aid=0002334601'\n",
    "\n",
    "tmp = url.split('/')\n",
    "tmp[2]"
   ]
  },
  {
   "cell_type": "markdown",
   "id": "5d0e8b0f",
   "metadata": {},
   "source": [
    "# Q5. url에서 쿼리문을 추출하여 출력하세요"
   ]
  },
  {
   "cell_type": "code",
   "execution_count": 9,
   "id": "087863c3",
   "metadata": {},
   "outputs": [],
   "source": [
    "# url에서 '?'뒤에 표시되는 문자열을 쿼리 문자열이라고 하며 변수=값 사이 &로 \n",
    "# 구분되어 나열된다.\n",
    "url = 'http://news.naver.com/main/read.nhn?mode=LSD&mid=shm&sid1=105&oid=028&aid=0002334601'\n"
   ]
  },
  {
   "cell_type": "code",
   "execution_count": 10,
   "id": "d68f369d",
   "metadata": {},
   "outputs": [
    {
     "data": {
      "text/plain": [
       "['mid=shm', 'sid1=105', 'oid=028', 'aid=0002334601']"
      ]
     },
     "execution_count": 10,
     "metadata": {},
     "output_type": "execute_result"
    }
   ],
   "source": [
    "url = 'http://news.naver.com/main/read.nhn?mode=LSD&mid=shm&sid1=105&oid=028&aid=0002334601'\n",
    "tmp = url.split('&')\n",
    "tmp.remove(tmp[0])\n",
    "tmp"
   ]
  },
  {
   "cell_type": "markdown",
   "id": "dae239e4",
   "metadata": {},
   "source": [
    "# Q6. 텍스트 파일(mydata.txt)을 읽고  파일의 내용에서 나타나는 문자들에 대해 자주 나타나는 문자들을 아래와 같이 순서대로 출력하세요.\n",
    "- \\[ \\] -> [177]회 나타남\n",
    "- [e] -> [97]회 나타남\n",
    "- [t] -> [85]회 나타남\n",
    "   \n",
    "   \n",
    "   문장.count(문자)\n"
   ]
  },
  {
   "cell_type": "code",
   "execution_count": 11,
   "id": "954c38e1",
   "metadata": {},
   "outputs": [],
   "source": [
    "import re\n",
    "with open('mydata.txt',\"r\") as f:\n",
    "    lines = f.readlines()\n",
    "ci = ['a','b','c','d','e','f','g','h','i','j','k','l','m','n','o','p','q','r','s','t','u','v','w','x','y','z',' ',\"'\",'!']"
   ]
  },
  {
   "cell_type": "code",
   "execution_count": 12,
   "id": "9906cc2e",
   "metadata": {},
   "outputs": [
    {
     "data": {
      "text/plain": [
       "\"we've got to live with on our way\\n\""
      ]
     },
     "execution_count": 12,
     "metadata": {},
     "output_type": "execute_result"
    }
   ],
   "source": [
    "lines[1]"
   ]
  },
  {
   "cell_type": "code",
   "execution_count": 13,
   "id": "e0ca878e",
   "metadata": {},
   "outputs": [
    {
     "data": {
      "text/plain": [
       "[(' ', 177),\n",
       " ('e', 97),\n",
       " ('t', 85),\n",
       " ('a', 78),\n",
       " ('o', 73),\n",
       " ('n', 60),\n",
       " ('s', 60),\n",
       " ('r', 54),\n",
       " ('i', 50),\n",
       " ('h', 48),\n",
       " ('l', 34),\n",
       " ('u', 27),\n",
       " ('d', 24),\n",
       " ('c', 23),\n",
       " ('m', 20),\n",
       " ('w', 20),\n",
       " ('f', 17),\n",
       " ('p', 15),\n",
       " ('y', 15),\n",
       " ('b', 13),\n",
       " ('g', 11),\n",
       " ('v', 9),\n",
       " (\"'\", 8),\n",
       " ('k', 7),\n",
       " ('!', 2),\n",
       " ('j', 0),\n",
       " ('q', 0),\n",
       " ('x', 0),\n",
       " ('z', 0)]"
      ]
     },
     "execution_count": 13,
     "metadata": {},
     "output_type": "execute_result"
    }
   ],
   "source": [
    "\n",
    "import operator\n",
    "di={}\n",
    "sum=0\n",
    "for j in ci:\n",
    "    for i in range(0, len(lines)):\n",
    "        sum += lines[i].count(j)\n",
    "        di[j]=sum\n",
    "    sum=0          \n",
    "# dii = sorted(di.values(), reverse=True)\n",
    "# dii\n",
    "dii = sorted(di.items(), key=operator.itemgetter(1), reverse=True)\n",
    "dii"
   ]
  },
  {
   "cell_type": "code",
   "execution_count": 14,
   "id": "d9630f02",
   "metadata": {},
   "outputs": [
    {
     "name": "stdout",
     "output_type": "stream",
     "text": [
      "[(' ', 177), ('e', 97), ('t', 85), ('a', 78), ('o', 73), ('n', 60), ('s', 60), ('r', 54), ('i', 50), ('h', 48), ('\\n', 43), ('l', 34), ('u', 27), ('d', 24), ('c', 23), ('w', 20), ('m', 20), ('f', 17), ('y', 15), ('p', 15), ('b', 13), ('g', 11), ('v', 9), (\"'\", 8), ('k', 7), ('!', 2)]\n",
      "[ ] - > [177]회 나타남\n",
      "[e] - > [97]회 나타남\n",
      "[t] - > [85]회 나타남\n",
      "[a] - > [78]회 나타남\n",
      "[o] - > [73]회 나타남\n",
      "[n] - > [60]회 나타남\n",
      "[s] - > [60]회 나타남\n",
      "[r] - > [54]회 나타남\n",
      "[i] - > [50]회 나타남\n",
      "[h] - > [48]회 나타남\n",
      "[l] - > [34]회 나타남\n",
      "[u] - > [27]회 나타남\n",
      "[d] - > [24]회 나타남\n",
      "[c] - > [23]회 나타남\n",
      "[w] - > [20]회 나타남\n",
      "[m] - > [20]회 나타남\n",
      "[f] - > [17]회 나타남\n",
      "[y] - > [15]회 나타남\n",
      "[p] - > [15]회 나타남\n",
      "[b] - > [13]회 나타남\n",
      "[g] - > [11]회 나타남\n",
      "[v] - > [9]회 나타남\n",
      "['] - > [8]회 나타남\n",
      "[k] - > [7]회 나타남\n",
      "[!] - > [2]회 나타남\n"
     ]
    }
   ],
   "source": [
    "def getTextFreq(filename):\n",
    "    with open('mydata.txt',\"r\") as f:\n",
    "        text = f.read()\n",
    "        fa = {}\n",
    "        for c in text:\n",
    "            if c in fa:\n",
    "                fa[c] += 1\n",
    "            else:\n",
    "                fa[c] = 1\n",
    "    return fa\n",
    "ret = getTextFreq('data/mydata.txt')\n",
    "ret = sorted(ret.items(),key=lambda x:x[1], reverse=True)\n",
    "print(ret)\n",
    "for c, freq in ret:\n",
    "    if c =='\\n':\n",
    "        continue\n",
    "    print('[%c] - > [%d]회 나타남' %(c,freq))\n"
   ]
  },
  {
   "cell_type": "markdown",
   "id": "018467ca",
   "metadata": {},
   "source": [
    "# Q7. 두개의 수를 입력한 후 두개의 수에 대한 사칙연산을 수행하세요.(0을 입력한 경우 다시 입력하도록 조치)"
   ]
  },
  {
   "cell_type": "code",
   "execution_count": 15,
   "id": "ead876c6",
   "metadata": {
    "scrolled": true
   },
   "outputs": [
    {
     "name": "stdout",
     "output_type": "stream",
     "text": [
      "첫번째 숫자1\n",
      "두번째 숫자1\n",
      "덧셈 : 2\n",
      "뺄셈 : 0\n",
      "곱셈 : 1\n",
      "나눗셈 : 1.0\n"
     ]
    }
   ],
   "source": [
    "# class를 만들어서 작성하세요\n",
    "class Cal4:\n",
    "    def __init__(self, a, b):\n",
    "        self.a = a\n",
    "        self.b = b\n",
    "    def add(self):\n",
    "            return self.a+self.b\n",
    "    def sub(self):\n",
    "            return self.a-self.b\n",
    "    def mul(self):\n",
    "            return self.a*self.b\n",
    "    def div(self):\n",
    "            return self.a/self.b\n",
    "while True:\n",
    "    a = int(input(\"첫번째 숫자\"))\n",
    "    b = int(input(\"두번째 숫자\"))\n",
    "    if b == 0:\n",
    "        print(\"0이 아닌 숫자를 입력하세요\")\n",
    "        continue\n",
    "    else:\n",
    "        cals = Cal4(a,b)\n",
    "        print(f\"덧셈 : {cals.add()}\")\n",
    "        print(f\"뺄셈 : {cals.sub()}\")\n",
    "        print(f\"곱셈 : {cals.mul()}\")\n",
    "        print(f\"나눗셈 : {cals.div()}\")\n",
    "        break\n",
    "                    \n"
   ]
  },
  {
   "cell_type": "markdown",
   "id": "fa4a9984",
   "metadata": {},
   "source": [
    "# Q8. Order 클래스를 상속받아 ExtraOrder 클래스에서 메소드 오버라이딩하여 출력가격에 원이 추가되도록 출력하세요\n"
   ]
  },
  {
   "cell_type": "code",
   "execution_count": 16,
   "id": "7f64ef9f",
   "metadata": {},
   "outputs": [
    {
     "name": "stdout",
     "output_type": "stream",
     "text": [
      "고갱님의 주문금액은 1000원 입니다\n"
     ]
    }
   ],
   "source": [
    "class Order: \n",
    "    def __init__(self, name): \n",
    "        self.customer = 0 \n",
    "        self.name = name \n",
    "    def order(self, price): \n",
    "        self.customer += price \n",
    "        return self.customer\n",
    "\n",
    "order = Order('고갱')\n",
    "\n",
    "class ExtraOrder(Order):\n",
    "    def __init__(self, name):\n",
    "        super().__init__(name)\n",
    "    def order(self, price):\n",
    "        super().order(price)\n",
    "        print(f'{self.name}님의 주문금액은 {self.customer}원 입니다')\n",
    "order = ExtraOrder('고갱')\n",
    "order.order(1000)\n",
    "    "
   ]
  },
  {
   "cell_type": "markdown",
   "id": "77f54051",
   "metadata": {},
   "source": [
    "#  Q9. 업무미팅이 2시임을 알려주는 자동 이메일 클래스 AutoEmail을 작성하여 아래와 같이 출력하세요 (미팅이 진행되는 2시에는 업무미팅이 진행중이라는 문구를 추가)\n",
    "\n",
    "안녕하세요 고갱님. 업무미팅은 2시입니다."
   ]
  },
  {
   "cell_type": "code",
   "execution_count": 17,
   "id": "ab83e594",
   "metadata": {
    "scrolled": true
   },
   "outputs": [
    {
     "name": "stdout",
     "output_type": "stream",
     "text": [
      "안녕하세요 고갱님, 업무미팅은 9시 입니다.\n"
     ]
    }
   ],
   "source": [
    "import time\n",
    "class AutoEmail:\n",
    "    def __init__(self, name, t):\n",
    "        self.name = name\n",
    "        self.t = t\n",
    "    def alarm(self):\n",
    "        if time.localtime().tm_hour==self.t:\n",
    "            print(f\"{self.name}님, 업무미팅이 진행중 입니다.\")\n",
    "        else:\n",
    "            print(f\"안녕하세요 {self.name}님, 업무미팅은 {self.t}시 입니다.\")\n",
    "AE= AutoEmail(\"고갱\",9)\n",
    "AE.alarm()        "
   ]
  },
  {
   "cell_type": "markdown",
   "id": "8f630be3",
   "metadata": {},
   "source": [
    "0719"
   ]
  },
  {
   "cell_type": "markdown",
   "id": "8e457b8c",
   "metadata": {},
   "source": [
    "# Q10. 정규표현식을 사용하여 text에서 전화번호만 출력하세요.\n",
    "text = \"문의사항이 있으면 032-232-3245로 연락주시기 바랍니다.\""
   ]
  },
  {
   "cell_type": "code",
   "execution_count": 18,
   "id": "7106af3f",
   "metadata": {},
   "outputs": [
    {
     "data": {
      "text/plain": [
       "['032-232-3245']"
      ]
     },
     "execution_count": 18,
     "metadata": {},
     "output_type": "execute_result"
    }
   ],
   "source": [
    "import re\n",
    "text = \"문의사항이 있으면 032-232-3245로 연락주시기 바랍니다.\"\n",
    "a= re.compile(r'\\d+-\\d+-\\d+')\n",
    "a.findall(text)\n",
    "# 서치로 하면 된다는디?"
   ]
  },
  {
   "cell_type": "code",
   "execution_count": 19,
   "id": "497ea0f9",
   "metadata": {},
   "outputs": [
    {
     "data": {
      "text/plain": [
       "<re.Match object; span=(10, 22), match='032-232-3245'>"
      ]
     },
     "execution_count": 19,
     "metadata": {},
     "output_type": "execute_result"
    }
   ],
   "source": [
    "text = \"문의사항이 있으면 032-232-3245로 연락주시기 바랍니다.\"\n",
    "a= re.compile(r'\\d+-\\d+-\\d+')\n",
    "a.search(text)"
   ]
  },
  {
   "cell_type": "markdown",
   "id": "fd0a8997",
   "metadata": {},
   "source": [
    "# Q11. 정규표현식을 사용하여 text에서 에러가 들어간 부분만 포함하는 리스트를 출력하세요\n",
    "text = \"에러 1122, 레퍼런스 오류, 에러 1033, 아규머먼트 오류, 에러 xxx\""
   ]
  },
  {
   "cell_type": "code",
   "execution_count": 20,
   "id": "f36e6037",
   "metadata": {},
   "outputs": [
    {
     "data": {
      "text/plain": [
       "['에러 1122', '에러 1033', '에러 xxx']"
      ]
     },
     "execution_count": 20,
     "metadata": {},
     "output_type": "execute_result"
    }
   ],
   "source": [
    "text = \"에러 1122, 레퍼런스 오류, 에러 1033, 아규머먼트 오류, 에러 xxx\"\n",
    "a = re.compile(r\"\\w{2} [0-9a-z]+\")   #\\s = 띄어쓰기    \\D 숫자 아닌 모든것 문자 기호등..  \\d 숫자만  \n",
    "b = a.findall(text)\n",
    "b"
   ]
  },
  {
   "cell_type": "code",
   "execution_count": 21,
   "id": "ae9f9015",
   "metadata": {},
   "outputs": [
    {
     "data": {
      "text/plain": [
       "['에러 1122', '에러 1033', '에러 xxx']"
      ]
     },
     "execution_count": 21,
     "metadata": {},
     "output_type": "execute_result"
    }
   ],
   "source": [
    "c = re.compile(r\"에러 \\w+\")\n",
    "d = c.findall(text)\n",
    "d"
   ]
  },
  {
   "cell_type": "markdown",
   "id": "2685f042",
   "metadata": {},
   "source": [
    "# Q12. 정규포현식을 사용하여 text에서 지역코드만 출력하세요\n",
    "text = \"문의사항이 있으면 032-232-3245로 연락주시기 바랍니다.\""
   ]
  },
  {
   "cell_type": "code",
   "execution_count": 22,
   "id": "28a586d3",
   "metadata": {},
   "outputs": [
    {
     "data": {
      "text/plain": [
       "'032'"
      ]
     },
     "execution_count": 22,
     "metadata": {},
     "output_type": "execute_result"
    }
   ],
   "source": [
    "text = \"문의사항이 있으면 032-232-3245로 연락주시기 바랍니다.\"\n",
    "a = re.compile(r\"(\\d+)-(\\d+)-(\\d+)\")\n",
    "b = a.findall(text)\n",
    "b[0][0]"
   ]
  },
  {
   "cell_type": "code",
   "execution_count": 23,
   "id": "d18c93cd",
   "metadata": {},
   "outputs": [
    {
     "data": {
      "text/plain": [
       "'032'"
      ]
     },
     "execution_count": 23,
     "metadata": {},
     "output_type": "execute_result"
    }
   ],
   "source": [
    "text = \"문의사항이 있으면 032-232-3245로 연락주시기 바랍니다.\"\n",
    "a = re.compile(r\"(\\d+)-(\\d+)-(\\d+)\")\n",
    "b = a.search(text)\n",
    "b.group(1)"
   ]
  },
  {
   "cell_type": "markdown",
   "id": "4cb7c11a",
   "metadata": {},
   "source": [
    "# Q13. 정규표현식을 사용하여 text에서 지역코드를 제외한 번호만 출력하세요.\n",
    "text = \"문의사항이 있으면 032-232-3245로 연락주시기 바랍니다.\""
   ]
  },
  {
   "cell_type": "code",
   "execution_count": 24,
   "id": "5aee8c75",
   "metadata": {},
   "outputs": [
    {
     "data": {
      "text/plain": [
       "'232-3245'"
      ]
     },
     "execution_count": 24,
     "metadata": {},
     "output_type": "execute_result"
    }
   ],
   "source": [
    "text = \"문의사항이 있으면 032-232-3245로 연락주시기 바랍니다.\"\n",
    "a = re.compile(r\"(\\d+)-(\\d+[-]\\d+)\")\n",
    "b = a.findall(text)\n",
    "b[0][1]"
   ]
  },
  {
   "cell_type": "code",
   "execution_count": 25,
   "id": "2a3deb52",
   "metadata": {},
   "outputs": [
    {
     "data": {
      "text/plain": [
       "'232-3245'"
      ]
     },
     "execution_count": 25,
     "metadata": {},
     "output_type": "execute_result"
    }
   ],
   "source": [
    "text = \"문의사항이 있으면 032-232-3245로 연락주시기 바랍니다.\"\n",
    "a = re.compile(r\"(\\d+)-(\\d+[-]\\d+)\")\n",
    "b = a.search(text)\n",
    "b.group(2)"
   ]
  },
  {
   "cell_type": "markdown",
   "id": "5e76eb9b",
   "metadata": {},
   "source": [
    "# Q14.'abcdefghij' 에 대하여 중첩을 적용한 서브그룹 5개로 컴파일하여 group()함수를 이용하여 'abcdefghi'와 e'를 출력하세요\n"
   ]
  },
  {
   "cell_type": "code",
   "execution_count": 26,
   "id": "df337bbc",
   "metadata": {
    "scrolled": true
   },
   "outputs": [
    {
     "name": "stdout",
     "output_type": "stream",
     "text": [
      "abcdefghi e\n"
     ]
    }
   ],
   "source": [
    "text = 'abcdefghij'\n",
    "# a = \"((a(b(cd(e)f)gh)i)j)\"\n",
    "a = re.compile(r\"((\\w(\\w(\\w{2}(\\w)\\w)\\w{2})\\w)\\w)\")\n",
    "b = a.search(text)\n",
    "b\n",
    "# print(b[0][1], b[0][4])\n",
    "print(b.group(2), b.group(5))"
   ]
  },
  {
   "cell_type": "code",
   "execution_count": 27,
   "id": "5e25942b",
   "metadata": {},
   "outputs": [
    {
     "data": {
      "text/plain": [
       "('abcdefghi', 'e')"
      ]
     },
     "execution_count": 27,
     "metadata": {},
     "output_type": "execute_result"
    }
   ],
   "source": [
    "a = re.compile(r\"((a(b(cd(e)f)gh)i)j)\")\n",
    "b = a.search(text)\n",
    "# print(b.group(2), b.group(5))\n",
    "b.group(2,5)"
   ]
  },
  {
   "cell_type": "markdown",
   "id": "73a9e6f1",
   "metadata": {},
   "source": [
    "# Q15. 위 문제에서 모든 서브 그룹에 대한 문자열을 포함하는 튜플을 출력하세요. finditer? search? match? groups면 됨"
   ]
  },
  {
   "cell_type": "code",
   "execution_count": 28,
   "id": "66f6a597",
   "metadata": {
    "scrolled": true
   },
   "outputs": [
    {
     "data": {
      "text/plain": [
       "('abcdefghij', 'abcdefghi', 'bcdefgh', 'cdef', 'e')"
      ]
     },
     "execution_count": 28,
     "metadata": {},
     "output_type": "execute_result"
    }
   ],
   "source": [
    "b.groups()"
   ]
  },
  {
   "cell_type": "markdown",
   "id": "5fa568b7",
   "metadata": {},
   "source": [
    "0720"
   ]
  },
  {
   "cell_type": "markdown",
   "id": "3317c109",
   "metadata": {},
   "source": [
    "# Q16. 이름으로 그룹을 참조하여 'Lots of punctuation' 에서 Lots를 출력하세요.\n",
    "그룹에 이름붙여 하는 법?"
   ]
  },
  {
   "cell_type": "code",
   "execution_count": 29,
   "id": "dcc35b04",
   "metadata": {},
   "outputs": [
    {
     "data": {
      "text/plain": [
       "'Lots'"
      ]
     },
     "execution_count": 29,
     "metadata": {},
     "output_type": "execute_result"
    }
   ],
   "source": [
    "text = 'Lots of punctuation'\n",
    "a = re.compile(r\"(?P<ff>\\w+) \\w+ \\w+\")\n",
    "b = a.match(text)\n",
    "b.group('ff')"
   ]
  },
  {
   "cell_type": "markdown",
   "id": "e406ab8d",
   "metadata": {},
   "source": [
    "# Q17. 'Paris is very very beautiful.'에서 'very very'를 출력하세요.\n"
   ]
  },
  {
   "cell_type": "code",
   "execution_count": 30,
   "id": "df6503a1",
   "metadata": {},
   "outputs": [
    {
     "data": {
      "text/plain": [
       "'very very'"
      ]
     },
     "execution_count": 30,
     "metadata": {},
     "output_type": "execute_result"
    }
   ],
   "source": [
    "text = 'Paris is very very beautiful.'\n",
    "a = re.compile(r\"\\w+ \\w+ (\\w+ \\w+) \\w+.\")\n",
    "b = a.match(text)\n",
    "b.group(1)"
   ]
  },
  {
   "cell_type": "markdown",
   "id": "67fdc6b7",
   "metadata": {},
   "source": [
    "# Q18. 정규표현식을 작성하여 아래와 같이 출력하세요.\n",
    "['1 apple', '5 oranges', '3 boys', '4 girls', '10 army', '11 mr']"
   ]
  },
  {
   "cell_type": "code",
   "execution_count": 2,
   "id": "7863fb04",
   "metadata": {},
   "outputs": [
    {
     "name": "stdout",
     "output_type": "stream",
     "text": [
      "['1 apple', '5 oranges', '3 boys', '4 girls', '10 army', '11 mr']\n"
     ]
    }
   ],
   "source": [
    "import re\n",
    "li = '1 apple, 5 oranges, 3 boys, 4 girls; 10 army| 11 mr'\n",
    "regex = re.compile(r\"\\d+ \\w+\")\n",
    "lii = regex.findall(li)\n",
    "print(lii)"
   ]
  },
  {
   "cell_type": "markdown",
   "id": "fe70af3f",
   "metadata": {},
   "source": [
    "# Q19. text에서 'H,h'만 출력하세요."
   ]
  },
  {
   "cell_type": "code",
   "execution_count": 3,
   "id": "863c975a",
   "metadata": {},
   "outputs": [
    {
     "data": {
      "text/plain": [
       "['H', 'h', 'h']"
      ]
     },
     "execution_count": 3,
     "metadata": {},
     "output_type": "execute_result"
    }
   ],
   "source": [
    "text = 'Hello my friend! Life is short you need Python!'\n",
    "a = re.compile(r\"h\", re.I)   #IGNORECASE : 대소문자를 구분하지 않음\n",
    "b = a.findall(text)\n",
    "b"
   ]
  },
  {
   "cell_type": "code",
   "execution_count": 4,
   "id": "33525ee9",
   "metadata": {},
   "outputs": [
    {
     "data": {
      "text/plain": [
       "['H', 'h', 'h']"
      ]
     },
     "execution_count": 4,
     "metadata": {},
     "output_type": "execute_result"
    }
   ],
   "source": [
    "text = 'Hello my friend! Life is short you need Python!'\n",
    "a = re.compile(r\"[Hh]\")\n",
    "b = a.findall(text)\n",
    "b"
   ]
  },
  {
   "cell_type": "markdown",
   "id": "14529bb7",
   "metadata": {},
   "source": [
    "# Q20. text에서 'H,h'가 아닌 것 모두를 출력하세요."
   ]
  },
  {
   "cell_type": "code",
   "execution_count": 6,
   "id": "d87916ac",
   "metadata": {},
   "outputs": [
    {
     "name": "stdout",
     "output_type": "stream",
     "text": [
      "['e', 'l', 'l', 'o', ' ', 'm', 'y', ' ', 'f', 'r', 'i', 'e', 'n', 'd', '!', ' ', 'L', 'i', 'f', 'e', ' ', 'i', 's', ' ', 's', 'o', 'r', 't', ' ', 'y', 'o', 'u', ' ', 'n', 'e', 'e', 'd', ' ', 'P', 'y', 't', 'o', 'n', '!']\n"
     ]
    }
   ],
   "source": [
    "text = 'Hello my friend! Life is short you need Python!'\n",
    "a = re.compile(r\"[^Hh]\")\n",
    "b = a.findall(text)\n",
    "print(b)"
   ]
  },
  {
   "cell_type": "markdown",
   "id": "f96830f1",
   "metadata": {},
   "source": [
    "0721"
   ]
  },
  {
   "cell_type": "markdown",
   "id": "588e3854",
   "metadata": {},
   "source": [
    "# Q21.  'we are going home'에서 home만 출력하세요.\n"
   ]
  },
  {
   "cell_type": "code",
   "execution_count": 8,
   "id": "66d6c919",
   "metadata": {},
   "outputs": [
    {
     "data": {
      "text/plain": [
       "'home'"
      ]
     },
     "execution_count": 8,
     "metadata": {},
     "output_type": "execute_result"
    }
   ],
   "source": [
    "text = 'we are going home'\n",
    "a = text.split(\" \")\n",
    "a[3]"
   ]
  },
  {
   "cell_type": "code",
   "execution_count": null,
   "id": "dc8c9a23",
   "metadata": {},
   "outputs": [],
   "source": []
  },
  {
   "cell_type": "markdown",
   "id": "86528428",
   "metadata": {},
   "source": [
    "# Q22. '199305, 1923A, a93247'에서 '199305'만 출력하세요.\n"
   ]
  },
  {
   "cell_type": "code",
   "execution_count": 10,
   "id": "01385c96",
   "metadata": {
    "scrolled": true
   },
   "outputs": [
    {
     "data": {
      "text/plain": [
       "'199305'"
      ]
     },
     "execution_count": 10,
     "metadata": {},
     "output_type": "execute_result"
    }
   ],
   "source": [
    "text = '199305, 1923A, a93247'\n",
    "a = text.split(\",\")\n",
    "a[0]"
   ]
  },
  {
   "cell_type": "code",
   "execution_count": null,
   "id": "de3da24f",
   "metadata": {},
   "outputs": [],
   "source": []
  },
  {
   "cell_type": "markdown",
   "id": "37efae04",
   "metadata": {},
   "source": [
    "# Q23. '12345abc'에서 'abc'만 출력하세요."
   ]
  },
  {
   "cell_type": "code",
   "execution_count": 3,
   "id": "f7525504",
   "metadata": {
    "scrolled": true
   },
   "outputs": [
    {
     "data": {
      "text/plain": [
       "'abc'"
      ]
     },
     "execution_count": 3,
     "metadata": {},
     "output_type": "execute_result"
    }
   ],
   "source": [
    "import re\n",
    "text = '12345abc'\n",
    "text[-3:]"
   ]
  },
  {
   "cell_type": "code",
   "execution_count": 7,
   "id": "51cfebff",
   "metadata": {},
   "outputs": [
    {
     "data": {
      "text/plain": [
       "'abc'"
      ]
     },
     "execution_count": 7,
     "metadata": {},
     "output_type": "execute_result"
    }
   ],
   "source": [
    "a = re.search(r\"\\D+\", text)\n",
    "a.group()"
   ]
  },
  {
   "cell_type": "code",
   "execution_count": 13,
   "id": "933f30a5",
   "metadata": {},
   "outputs": [
    {
     "data": {
      "text/plain": [
       "'12345'"
      ]
     },
     "execution_count": 13,
     "metadata": {},
     "output_type": "execute_result"
    }
   ],
   "source": [
    "re.sub(r'\\D+',\"\",text)"
   ]
  },
  {
   "cell_type": "markdown",
   "id": "17b2300b",
   "metadata": {},
   "source": [
    "# Q. '12345abc'에서 'a'만 출력하세요.\n"
   ]
  },
  {
   "cell_type": "code",
   "execution_count": 15,
   "id": "2ced9d6b",
   "metadata": {
    "scrolled": true
   },
   "outputs": [
    {
     "data": {
      "text/plain": [
       "'a'"
      ]
     },
     "execution_count": 15,
     "metadata": {},
     "output_type": "execute_result"
    }
   ],
   "source": [
    "text = '12345abc'\n",
    "text[-3]"
   ]
  },
  {
   "cell_type": "code",
   "execution_count": 16,
   "id": "dfc9ae1e",
   "metadata": {},
   "outputs": [
    {
     "data": {
      "text/plain": [
       "'a'"
      ]
     },
     "execution_count": 16,
     "metadata": {},
     "output_type": "execute_result"
    }
   ],
   "source": [
    "a = re.search(r\"\\D\", text)\n",
    "a.group()"
   ]
  },
  {
   "cell_type": "markdown",
   "id": "b16ecaac",
   "metadata": {},
   "source": [
    "# Q. 'abc12345Abc'에서 'A'만 출력하세요.\n"
   ]
  },
  {
   "cell_type": "code",
   "execution_count": 17,
   "id": "c480e098",
   "metadata": {
    "scrolled": true
   },
   "outputs": [
    {
     "data": {
      "text/plain": [
       "'A'"
      ]
     },
     "execution_count": 17,
     "metadata": {},
     "output_type": "execute_result"
    }
   ],
   "source": [
    "text = 'abc12345Abc'\n",
    "text[-3]"
   ]
  },
  {
   "cell_type": "code",
   "execution_count": 18,
   "id": "36c22062",
   "metadata": {},
   "outputs": [
    {
     "data": {
      "text/plain": [
       "'A'"
      ]
     },
     "execution_count": 18,
     "metadata": {},
     "output_type": "execute_result"
    }
   ],
   "source": [
    "a = re.search(r\"[A-Z]+\", text)\n",
    "a.group()"
   ]
  },
  {
   "cell_type": "markdown",
   "id": "7ca05a19",
   "metadata": {},
   "source": [
    "0722"
   ]
  },
  {
   "cell_type": "markdown",
   "id": "ca067dc9",
   "metadata": {},
   "source": [
    "# Q. 'Banker'에서 'anker', 'banker123'에서 'banker'를 출력하세요\n"
   ]
  },
  {
   "cell_type": "code",
   "execution_count": 6,
   "id": "24860706",
   "metadata": {},
   "outputs": [
    {
     "name": "stdout",
     "output_type": "stream",
     "text": [
      "anker\n",
      "anker\n",
      "banker\n",
      "banker\n"
     ]
    }
   ],
   "source": [
    "import re\n",
    "text = 'Banker'\n",
    "a = re.search(r\"[a-z]+\", text)\n",
    "print(a.group())\n",
    "a = re.search(r\"[^A-Z]+\", text)\n",
    "print(a.group())\n",
    "text = 'banker123'\n",
    "a = re.search(r\"[a-z]+\", text)\n",
    "print(a.group())\n",
    "a = re.search(r\"[\\D]+\", text)\n",
    "print(a.group())\n"
   ]
  },
  {
   "cell_type": "markdown",
   "id": "74712711",
   "metadata": {},
   "source": [
    "# Q. 'KOREA 대한민국'에서 '대'만 출력하세요.\n"
   ]
  },
  {
   "cell_type": "code",
   "execution_count": 3,
   "id": "42343882",
   "metadata": {},
   "outputs": [
    {
     "data": {
      "text/plain": [
       "'대'"
      ]
     },
     "execution_count": 3,
     "metadata": {},
     "output_type": "execute_result"
    }
   ],
   "source": [
    "text = 'KOREA 대한민국'\n",
    "a = re.search(r\"[가-힣]\", text)\n",
    "a.group()"
   ]
  },
  {
   "cell_type": "markdown",
   "id": "f020dbf7",
   "metadata": {},
   "source": [
    "# Q. text에서 'aaaaBBBcccDDDeee'을 모두 출력하세요.\n",
    "text = 'aaaBBccDDeeaaaaBBBcccDDDeeeeeeDDDcccBBBaaaa'\n"
   ]
  },
  {
   "cell_type": "code",
   "execution_count": 6,
   "id": "0a4eecde",
   "metadata": {},
   "outputs": [
    {
     "data": {
      "text/plain": [
       "'aaaaBBBcccDDDeee'"
      ]
     },
     "execution_count": 6,
     "metadata": {},
     "output_type": "execute_result"
    }
   ],
   "source": [
    "text = 'aaaBBccDDeeaaaaBBBcccDDDeeeeeeDDDcccBBBaaaa'\n",
    "a = re.search(r\"[a]{4}\\w{12}\", text)\n",
    "a.group()"
   ]
  },
  {
   "cell_type": "markdown",
   "id": "71d06851",
   "metadata": {},
   "source": [
    "# Q. 아래의 경우에서 \\<html>만 출력하세요\n"
   ]
  },
  {
   "cell_type": "code",
   "execution_count": 8,
   "id": "2d519e4e",
   "metadata": {
    "scrolled": true
   },
   "outputs": [
    {
     "name": "stdout",
     "output_type": "stream",
     "text": [
      "59\n"
     ]
    },
    {
     "data": {
      "text/plain": [
       "'<html>'"
      ]
     },
     "execution_count": 8,
     "metadata": {},
     "output_type": "execute_result"
    }
   ],
   "source": [
    "text = '<html><head><title>Title</title></head><body></body></html>'\n",
    "\n",
    "pattern = re.compile('<.*?>')\n",
    "#탐욕 논 그리디 써보셈 *?는 모든 것중에 가장 짧은것\n",
    "# <p>.*</p> 는 <p>asd</p>asd<p>asd</p> 이런식이면 asdasdasd가 출력됨\n",
    "# <p>.*?</p> 는 <p>asd</p>asd<p>asd</p> 에서 맨앞 asd 만 출력\n",
    "\n",
    "print(len(text))\n",
    "p = pattern.search(text)\n",
    "p.group()\n"
   ]
  },
  {
   "cell_type": "code",
   "execution_count": null,
   "id": "1a395a59",
   "metadata": {},
   "outputs": [],
   "source": []
  },
  {
   "cell_type": "code",
   "execution_count": null,
   "id": "0a08fad9",
   "metadata": {},
   "outputs": [],
   "source": []
  },
  {
   "cell_type": "markdown",
   "id": "a294a68b",
   "metadata": {},
   "source": [
    "# Q. '1234a1234'에서  '1', '2', '3', '4'를 모두 출력하세요.\n"
   ]
  },
  {
   "cell_type": "code",
   "execution_count": 7,
   "id": "9d861054",
   "metadata": {},
   "outputs": [
    {
     "data": {
      "text/plain": [
       "['1', '2', '3', '4', '1', '2', '3', '4']"
      ]
     },
     "execution_count": 7,
     "metadata": {},
     "output_type": "execute_result"
    }
   ],
   "source": [
    "text = '1234a1234'\n",
    "\n",
    "a = re.findall(r\"\\d\", text)  # 리스트\n",
    "# set(a)\n",
    "a"
   ]
  },
  {
   "cell_type": "markdown",
   "id": "c3a068b6",
   "metadata": {},
   "source": [
    "0725"
   ]
  },
  {
   "cell_type": "code",
   "execution_count": null,
   "id": "f0a2a6a9",
   "metadata": {},
   "outputs": [],
   "source": []
  },
  {
   "cell_type": "markdown",
   "id": "a33be53a",
   "metadata": {},
   "source": [
    "# Q. text에서 전체문장 모두 출력하세요.\n"
   ]
  },
  {
   "cell_type": "code",
   "execution_count": 1,
   "id": "3ec7b899",
   "metadata": {},
   "outputs": [
    {
     "name": "stdout",
     "output_type": "stream",
     "text": [
      "what are you doing?\n",
      "it is going to be late for school\n",
      "we need to hurry up\n"
     ]
    }
   ],
   "source": [
    "import re\n",
    "text = \"what are you doing?\\nit is going to be late for school\\nwe need to hurry up\"\n",
    "# regex = re.compile(r'[a-z?\\n\\s]+')\n",
    "regex = re.compile('\\D+')\n",
    "mo = regex.search(text)\n",
    "print(mo.group())\n"
   ]
  },
  {
   "cell_type": "code",
   "execution_count": 2,
   "id": "8adcbca2",
   "metadata": {},
   "outputs": [
    {
     "name": "stdout",
     "output_type": "stream",
     "text": [
      "what are you doing?\n",
      "it is going to be late for school\n",
      "we need to hurry up\n"
     ]
    }
   ],
   "source": [
    "regex = re.compile('.*', re.DOTALL)  # * 는 \\n 빼고 다 \n",
    "mo = regex.search(text)\n",
    "print(mo.group())\n"
   ]
  },
  {
   "cell_type": "markdown",
   "id": "39919da8",
   "metadata": {},
   "source": [
    "# Q. text에서 대소문자 구분없이 전체문장 모두 출력하세요\n"
   ]
  },
  {
   "cell_type": "code",
   "execution_count": 23,
   "id": "fc502c7d",
   "metadata": {},
   "outputs": [
    {
     "data": {
      "text/plain": [
       "'Friend fRiend friEnd FRIEND'"
      ]
     },
     "execution_count": 23,
     "metadata": {},
     "output_type": "execute_result"
    }
   ],
   "source": [
    "text = 'Friend fRiend friEnd FRIEND'\n",
    "a = re.search('[\\w ]+', text)\n",
    "a.group()"
   ]
  },
  {
   "cell_type": "code",
   "execution_count": 88,
   "id": "5812977b",
   "metadata": {},
   "outputs": [
    {
     "name": "stdout",
     "output_type": "stream",
     "text": [
      "F r i e n d f R i e n d f r i E n d F R I E N D "
     ]
    }
   ],
   "source": [
    "text = 'Friend fRiend friEnd FRIEND'\n",
    "a = re.findall('\\w', text)\n",
    "for i in a:\n",
    "    print(i, end=' ')"
   ]
  },
  {
   "cell_type": "code",
   "execution_count": 89,
   "id": "f709ebbf",
   "metadata": {},
   "outputs": [
    {
     "name": "stdout",
     "output_type": "stream",
     "text": [
      "Friend fRiend friEnd FRIEND "
     ]
    }
   ],
   "source": [
    "text = 'Friend fRiend friEnd FRIEND'\n",
    "a = re.findall('\\w+', text)\n",
    "for i in a:\n",
    "    print(i, end=' ')"
   ]
  },
  {
   "cell_type": "code",
   "execution_count": 4,
   "id": "08b4d5cb",
   "metadata": {},
   "outputs": [
    {
     "name": "stdout",
     "output_type": "stream",
     "text": [
      "Friend\n",
      "fRiend\n",
      "friEnd\n",
      "FRIEND\n"
     ]
    }
   ],
   "source": [
    "text = 'Friend fRiend friEnd FRIEND'\n",
    "regex = re.compile('[a-z]+',re.I)\n",
    "mo = regex.findall(text)\n",
    "for i in mo:\n",
    "    print(i)\n"
   ]
  },
  {
   "cell_type": "markdown",
   "id": "d1b6ed2d",
   "metadata": {},
   "source": [
    "# Q. 1609160537.371015을 \"Sat Jun 26 08:35:03 2021\" 포멧으로 출력하세요.\n"
   ]
  },
  {
   "cell_type": "code",
   "execution_count": 25,
   "id": "6c5b699e",
   "metadata": {},
   "outputs": [
    {
     "data": {
      "text/plain": [
       "'Mon Dec 28 22:02:17 2020'"
      ]
     },
     "execution_count": 25,
     "metadata": {},
     "output_type": "execute_result"
    }
   ],
   "source": [
    "import time\n",
    "from datetime import datetime\n",
    "a = 1609160537.371015  # 타임스탬프\n",
    "\n",
    "f = '%a %b %d %H:%M:%S %Y' # 포맷\n",
    "\n",
    "        \n",
    "b = datetime.fromtimestamp(a).strftime(f)  # 타임스탬프a를 f 포맷 스트링으로 변환\n",
    "b                                        \n",
    "\n"
   ]
  },
  {
   "cell_type": "code",
   "execution_count": 7,
   "id": "f2a2ba71",
   "metadata": {},
   "outputs": [
    {
     "data": {
      "text/plain": [
       "'Mon Dec 28 22:02:17 2020'"
      ]
     },
     "execution_count": 7,
     "metadata": {},
     "output_type": "execute_result"
    }
   ],
   "source": [
    "c = datetime.fromtimestamp(a).strftime('%c')\n",
    "c"
   ]
  },
  {
   "cell_type": "code",
   "execution_count": 8,
   "id": "eaf41407",
   "metadata": {
    "scrolled": true
   },
   "outputs": [
    {
     "data": {
      "text/plain": [
       "'Mon Dec 28 22:02:17 2020'"
      ]
     },
     "execution_count": 8,
     "metadata": {},
     "output_type": "execute_result"
    }
   ],
   "source": [
    "timestring = time.ctime(a)\n",
    "timestring"
   ]
  },
  {
   "cell_type": "markdown",
   "id": "965a56b2",
   "metadata": {},
   "source": [
    "ctime() 함수는 주어진 timestamp를 현지 시간대 기준으로 소위 미국에서 흔히 사용되는 요 월 일 시:분:초 년 포멧으로 변환해줍니다. 그냥 간단하게 timestamp가 나타내는 날짜와 시간을 확인해보는 용도로 쓰기에 좋습니다.\n"
   ]
  },
  {
   "cell_type": "code",
   "execution_count": 17,
   "id": "36cc05e3",
   "metadata": {},
   "outputs": [
    {
     "data": {
      "text/plain": [
       "'Mon Dec 28 22:02:17 2020'"
      ]
     },
     "execution_count": 17,
     "metadata": {},
     "output_type": "execute_result"
    }
   ],
   "source": [
    "a = 1609160537.371015\n",
    "b = time.strftime(f, time.localtime(a)) # 타임스탬프a를 f 포맷 스트링으로 변환\n",
    "b"
   ]
  },
  {
   "cell_type": "markdown",
   "id": "0fba3f80",
   "metadata": {},
   "source": [
    "# Q. 현재 날짜와 시간을 \"Sat Jun 26 08:35:03 2021\" 포멧으로 출력하세요.\n"
   ]
  },
  {
   "cell_type": "code",
   "execution_count": 18,
   "id": "e1156a71",
   "metadata": {},
   "outputs": [
    {
     "name": "stdout",
     "output_type": "stream",
     "text": [
      "Tue Jul 26 00:51:41 2022\n"
     ]
    }
   ],
   "source": [
    "a = time.localtime() # 현재 시각을 struct_time으로\n",
    "f = '%a %b %d %H:%M:%S %Y'\n",
    "b = time.strftime(f, a) # struct_time을 str로\n",
    "print(b)\n",
    "\n"
   ]
  },
  {
   "cell_type": "code",
   "execution_count": 19,
   "id": "ba255820",
   "metadata": {},
   "outputs": [
    {
     "data": {
      "text/plain": [
       "time.struct_time(tm_year=2022, tm_mon=7, tm_mday=26, tm_hour=0, tm_min=51, tm_sec=41, tm_wday=1, tm_yday=207, tm_isdst=0)"
      ]
     },
     "execution_count": 19,
     "metadata": {},
     "output_type": "execute_result"
    }
   ],
   "source": [
    "a"
   ]
  },
  {
   "cell_type": "markdown",
   "id": "688efd4c",
   "metadata": {},
   "source": [
    "0726"
   ]
  },
  {
   "cell_type": "markdown",
   "id": "25434266",
   "metadata": {},
   "source": [
    "# Q. 현재 시간을 년-월-일 시:분:초로 출력하세요.\n"
   ]
  },
  {
   "cell_type": "code",
   "execution_count": 1,
   "id": "70b78196",
   "metadata": {},
   "outputs": [
    {
     "data": {
      "text/plain": [
       "'2022-07-27 08:41:48'"
      ]
     },
     "execution_count": 1,
     "metadata": {},
     "output_type": "execute_result"
    }
   ],
   "source": [
    "import time\n",
    "t = time.localtime()  # 스트럭쳐 타임\n",
    "f = '%Y-%m-%d %H:%M:%S'\n",
    "time.strftime(f, t)"
   ]
  },
  {
   "cell_type": "markdown",
   "id": "261c5a08",
   "metadata": {},
   "source": [
    "# Q. 현재 시간을 time.time을 불러와서 년-월-일 시:분:초로 출력하세요.\n"
   ]
  },
  {
   "cell_type": "code",
   "execution_count": 2,
   "id": "0847b8ba",
   "metadata": {},
   "outputs": [
    {
     "data": {
      "text/plain": [
       "'2022-07-27 08:41:48'"
      ]
     },
     "execution_count": 2,
     "metadata": {},
     "output_type": "execute_result"
    }
   ],
   "source": [
    "from datetime import datetime\n",
    "t = time.time()    # 타임 스탬프\n",
    "f = '%Y-%m-%d %H:%M:%S'\n",
    "d = datetime.fromtimestamp(t).strftime(f)\n",
    "d"
   ]
  },
  {
   "cell_type": "markdown",
   "id": "5dc5e172",
   "metadata": {},
   "source": [
    "# Q. 올해 경과된 날짜수 계산하세요\n"
   ]
  },
  {
   "cell_type": "code",
   "execution_count": 26,
   "id": "64b3dfb1",
   "metadata": {},
   "outputs": [
    {
     "name": "stdout",
     "output_type": "stream",
     "text": [
      "오늘은 2022년 01월 01일 이후 208일차가 되는 날입니다.\n"
     ]
    }
   ],
   "source": [
    "\n",
    "t = time.localtime()\n",
    "t.tm_yday\n",
    "print(f\"오늘은 2022년 01월 01일 이후 {t.tm_yday}일차가 되는 날입니다.\")"
   ]
  },
  {
   "cell_type": "code",
   "execution_count": 28,
   "id": "9a8e87f4",
   "metadata": {
    "scrolled": true
   },
   "outputs": [
    {
     "name": "stdout",
     "output_type": "stream",
     "text": [
      "오늘은 2022년 01월 01일 이후 207일이 되는 날입니다.\n"
     ]
    }
   ],
   "source": [
    "# 두 날짜간의 일수 구하기\n",
    "from datetime import datetime\n",
    "since_timestamp = datetime.strptime('20220101','%Y%m%d')\n",
    "t = time.time()\n",
    "until_timestamp = datetime.fromtimestamp(t)\n",
    "\n",
    "result = until_timestamp - since_timestamp\n",
    "print(f\"오늘은 2022년 01월 01일 이후 {result.days}일이 되는 날입니다.\")"
   ]
  },
  {
   "cell_type": "markdown",
   "id": "66aceff5",
   "metadata": {},
   "source": [
    "# Q. 현재 요일을 \"2021-6-26 오늘은 토요일입니다.\"와 같은 형식으로 출력하세요.\n"
   ]
  },
  {
   "cell_type": "code",
   "execution_count": 6,
   "id": "f6eb26e1",
   "metadata": {},
   "outputs": [
    {
     "name": "stdout",
     "output_type": "stream",
     "text": [
      "2022-07-27 오늘은 수요일입니다.\n"
     ]
    }
   ],
   "source": [
    "t = datetime.today()\n",
    "d = datetime.strftime(t, '%Y-%m-%d')\n",
    "u = datetime.strftime(t, '%u' )\n",
    "w = t.weekday()\n",
    "dic = {0:'월',1:'화',2:'수',3:'목',4:'금',5:'토',6:'일'}\n",
    "\n",
    "print(f'{d} 오늘은 {dic[w]}요일입니다.')"
   ]
  },
  {
   "cell_type": "code",
   "execution_count": 18,
   "id": "461fce0f",
   "metadata": {},
   "outputs": [
    {
     "data": {
      "text/plain": [
       "'수'"
      ]
     },
     "execution_count": 18,
     "metadata": {},
     "output_type": "execute_result"
    }
   ],
   "source": [
    "import datetime\n",
    "def get_yoil(y, m, d):\n",
    "    days = ['월','화','수','목','금','토','일']\n",
    "    return days[datetime.date(y, m, d).weekday()]\n",
    "get_yoil(2022,7,27)"
   ]
  },
  {
   "cell_type": "code",
   "execution_count": 31,
   "id": "2b7797f0",
   "metadata": {
    "scrolled": true
   },
   "outputs": [
    {
     "ename": "AttributeError",
     "evalue": "type object 'datetime.datetime' has no attribute 'datetime'",
     "output_type": "error",
     "traceback": [
      "\u001b[1;31m---------------------------------------------------------------------------\u001b[0m",
      "\u001b[1;31mAttributeError\u001b[0m                            Traceback (most recent call last)",
      "Input \u001b[1;32mIn [31]\u001b[0m, in \u001b[0;36m<cell line: 1>\u001b[1;34m()\u001b[0m\n\u001b[1;32m----> 1\u001b[0m t \u001b[38;5;241m=\u001b[39m \u001b[43mdatetime\u001b[49m\u001b[38;5;241;43m.\u001b[39;49m\u001b[43mdatetime\u001b[49m\u001b[38;5;241m.\u001b[39mtoday()\n\u001b[0;32m      2\u001b[0m d \u001b[38;5;241m=\u001b[39m datetime\u001b[38;5;241m.\u001b[39mdatetime\u001b[38;5;241m.\u001b[39mstrftime(t, \u001b[38;5;124m'\u001b[39m\u001b[38;5;124m%\u001b[39m\u001b[38;5;124mY, \u001b[39m\u001b[38;5;124m%\u001b[39m\u001b[38;5;124mm, \u001b[39m\u001b[38;5;132;01m%d\u001b[39;00m\u001b[38;5;124m'\u001b[39m)\n\u001b[0;32m      3\u001b[0m \u001b[38;5;66;03m# get_yoil(d)\u001b[39;00m\n",
      "\u001b[1;31mAttributeError\u001b[0m: type object 'datetime.datetime' has no attribute 'datetime'"
     ]
    }
   ],
   "source": [
    "t = datetime.datetime.today()\n",
    "d = datetime.datetime.strftime(t, '%Y, %m, %d')\n",
    "# get_yoil(d)\n",
    "d."
   ]
  },
  {
   "cell_type": "markdown",
   "id": "488cafa8",
   "metadata": {},
   "source": [
    "# Q. 1에서 백만까지 더하는데 걸리는 프로그램 실행 시간을 밀리초(ms) 단위로 구하세요.\n"
   ]
  },
  {
   "cell_type": "code",
   "execution_count": 8,
   "id": "debfb5b2",
   "metadata": {},
   "outputs": [
    {
     "name": "stdout",
     "output_type": "stream",
     "text": [
      "걸린 시간 : 141ms\n"
     ]
    }
   ],
   "source": [
    "# 구글링\n",
    "start_time = time.perf_counter()\n",
    "\n",
    "s = 0\n",
    "for i in range(1,1000001):\n",
    "    s += i\n",
    "\n",
    "end_time = time.perf_counter()\n",
    "print(f\"걸린 시간 : {int(round((end_time - start_time) * 1000))}ms\")"
   ]
  },
  {
   "cell_type": "code",
   "execution_count": 9,
   "id": "afa5ed0c",
   "metadata": {},
   "outputs": [
    {
     "name": "stdout",
     "output_type": "stream",
     "text": [
      "CPU times: total: 141 ms\n",
      "Wall time: 153 ms\n"
     ]
    }
   ],
   "source": [
    "s = 0\n",
    "%time for i in range(1,1000001): s += i \n",
    "    \n",
    "# 소수점 처리 {함수? :.숫자f}"
   ]
  },
  {
   "cell_type": "markdown",
   "id": "9bf0d2bb",
   "metadata": {},
   "source": [
    "0727"
   ]
  },
  {
   "cell_type": "markdown",
   "id": "f3d0e90d",
   "metadata": {},
   "source": [
    "# Q. 아래 코드를 보완하여 발생 가능한 모든 예외(정수, 인덱스, 미리 파악하지 못한 예외)를 처리한 후 마지막에  '모든 예외처리 완료'를 출력하세요.\n"
   ]
  },
  {
   "cell_type": "code",
   "execution_count": 12,
   "id": "8236eae4",
   "metadata": {},
   "outputs": [
    {
     "name": "stdout",
     "output_type": "stream",
     "text": [
      "정수 입력> 6\n",
      "인덱스에러\n",
      "예외처리완료\n"
     ]
    }
   ],
   "source": [
    "## Q. \n",
    "list_num = [52,273,32,72,100]\n",
    "try:\n",
    "    num_input = int(input('정수 입력> '))\n",
    "    print(f'{num_input}번째 요소: {list_num[num_input-1]}')\n",
    "except ValueError:  # ValueError 정수에러 , IndexError 인덱스에러, ExceptError 예외적에러\n",
    "    print(\"정수에러\")\n",
    "except IndexError:\n",
    "    print('인덱스에러')\n",
    "except IndexError:\n",
    "    print('인덱스에러')\n",
    "finally:\n",
    "    print(\"예외처리완료\")\n",
    "    "
   ]
  },
  {
   "cell_type": "markdown",
   "id": "97a6f0bc",
   "metadata": {},
   "source": [
    "# Q. 기본가격 1000원인 2개의 상품에 대하여 임의의 추가 가격을 입력시 가격 조정한 결과를 반환하는 Price 클래스를 생성 후 객체를 만들어 price1, price2를 수행하세요. \n",
    "- price1 : 기본가격 + 추가가격\n",
    "- price2 : (기본가격 + 추가가격) * 90%\n"
   ]
  },
  {
   "cell_type": "code",
   "execution_count": 6,
   "id": "9573626a",
   "metadata": {},
   "outputs": [
    {
     "name": "stdout",
     "output_type": "stream",
     "text": [
      "price1 결과 : (1500, 1500)\n",
      "price2 결과 : (1350.0, 1350.0)\n"
     ]
    }
   ],
   "source": [
    "class Price :\n",
    "    def __init__(self, a, b):\n",
    "        self.a = a\n",
    "        self.b = b\n",
    "    def price1(self, c):\n",
    "        self.c = c\n",
    "        return(self.a+self.c, self.b+self.c)\n",
    "    def price2(self, d):\n",
    "        self.d = d\n",
    "        return((self.a+self.d)*0.9, (self.b+self.d)*0.9)\n",
    "    \n",
    "price = Price(1000, 1000)\n",
    "x = price.price1(500)\n",
    "print(f\"price1 결과 : {x}\")\n",
    "y = price.price2(500)\n",
    "print(f\"price2 결과 : {y}\")"
   ]
  },
  {
   "cell_type": "markdown",
   "id": "6d2e3764",
   "metadata": {},
   "source": [
    "# Q. strings를 문자의 크기 순서로 내림차순 정렬하세요\n"
   ]
  },
  {
   "cell_type": "code",
   "execution_count": 10,
   "id": "43165c3d",
   "metadata": {},
   "outputs": [
    {
     "data": {
      "text/plain": [
       "['ababa', 'aaaa', 'bar', 'ca', 'a']"
      ]
     },
     "execution_count": 10,
     "metadata": {},
     "output_type": "execute_result"
    }
   ],
   "source": [
    "strings = ['a', 'ca', 'bar', 'aaaa', 'ababa']\n",
    "strings.sort(key=len, reverse=True)\n",
    "strings"
   ]
  },
  {
   "cell_type": "markdown",
   "id": "07aca28c",
   "metadata": {},
   "source": [
    "# Q. strings를 다양한 문자가 포함된 순서로 정렬하세요\n"
   ]
  },
  {
   "cell_type": "code",
   "execution_count": 71,
   "id": "dac91400",
   "metadata": {},
   "outputs": [
    {
     "data": {
      "text/plain": [
       "['card', 'bar', 'foo', 'abab', 'aaaa']"
      ]
     },
     "execution_count": 71,
     "metadata": {},
     "output_type": "execute_result"
    }
   ],
   "source": [
    "# Q.\n",
    "strings = ['foo', 'card', 'bar', 'aaaa', 'abab']\n",
    "strings.sort(key = lambda x:len(set(x)), reverse=True)\n",
    "strings\n"
   ]
  },
  {
   "cell_type": "markdown",
   "id": "39e4005a",
   "metadata": {},
   "source": [
    "# Q. 'abcde' 를 'edcba'로 바꾸어 출력하세요.(5가지 방법)\n",
    "reverse, ascending, 인덱싱, 슬라이싱\n"
   ]
  },
  {
   "cell_type": "code",
   "execution_count": 14,
   "id": "ed04b234",
   "metadata": {},
   "outputs": [
    {
     "name": "stdout",
     "output_type": "stream",
     "text": [
      "edcba\n",
      "edcba\n",
      "edcba\n",
      "edcba\n",
      "edcba\n"
     ]
    }
   ],
   "source": [
    "text = 'abcde'    # sort 객체지향  sorted는 아닌가?  \n",
    "\n",
    "#1\n",
    "print(text[::-1])\n",
    "#2\n",
    "li=[]\n",
    "for i in range(0,len(text)):\n",
    "    li.append(text[4-i])\n",
    "li = ''.join(li)\n",
    "print(li)\n",
    "#3\n",
    "li = sorted(text, reverse=True)  # 새 리스트를 만들어서 ascnding 정렬함\n",
    "li = ''.join(li)\n",
    "print(li)\n",
    "#4\n",
    "li = list(text)\n",
    "li.sort(reverse=True)   # 스트링은 정렬 안됨 그래서 쪼개줌\n",
    "li = ''.join(li)\n",
    "print(li)\n",
    "#5\n",
    "print(text.split()[0][::-1])   # 스플릿이 스트링을 하나의 리스트화함"
   ]
  },
  {
   "cell_type": "markdown",
   "id": "5dc91852",
   "metadata": {},
   "source": [
    "0728"
   ]
  },
  {
   "cell_type": "markdown",
   "id": "2ef1f39f",
   "metadata": {},
   "source": [
    "# Q. numbers 내부에 들어 있는 숫자가 몇 번 등장하는지를 출력하는 코드를 작성하세요.\n",
    "numbers = [3,6,3,5,8,2,9,7,4,3,6,3,5,8,2,9,7,4]\n"
   ]
  },
  {
   "cell_type": "code",
   "execution_count": 45,
   "id": "3a153c9f",
   "metadata": {},
   "outputs": [
    {
     "name": "stdout",
     "output_type": "stream",
     "text": [
      "2 는 2\n",
      "3 는 4\n",
      "4 는 2\n",
      "5 는 2\n",
      "6 는 2\n",
      "7 는 2\n",
      "8 는 2\n",
      "9 는 2\n"
     ]
    }
   ],
   "source": [
    "numbers = [3,6,3,5,8,2,9,7,4,3,6,3,5,8,2,9,7,4]\n",
    "for i in range(10):\n",
    "    if i in numbers:\n",
    "        print(f'{i} 는 {numbers.count(i)}')\n",
    "    else:\n",
    "        pass"
   ]
  },
  {
   "cell_type": "markdown",
   "id": "2f0a8f77",
   "metadata": {},
   "source": [
    "# Q. 코딩을 한줄로 작성해서 동일한 결과를 출력하세요\n"
   ]
  },
  {
   "cell_type": "code",
   "execution_count": 15,
   "id": "5f95dc4c",
   "metadata": {},
   "outputs": [
    {
     "name": "stdout",
     "output_type": "stream",
     "text": [
      "[0, 4, 16, 36, 64, 100, 144, 196, 256, 324]\n"
     ]
    }
   ],
   "source": [
    "# Q.\n",
    "list = []\n",
    "for i in range(0,20,2):\n",
    "    list.append(i*i)\n",
    "print(list)\n"
   ]
  },
  {
   "cell_type": "code",
   "execution_count": 65,
   "id": "ae33d77f",
   "metadata": {},
   "outputs": [
    {
     "data": {
      "text/plain": [
       "[0, 4, 16, 36, 64, 100, 144, 196, 256, 324]"
      ]
     },
     "execution_count": 65,
     "metadata": {},
     "output_type": "execute_result"
    }
   ],
   "source": [
    "[(i*i) for i in range(0,20,2)]\n"
   ]
  },
  {
   "cell_type": "markdown",
   "id": "f16ef9ad",
   "metadata": {},
   "source": [
    "# Q. 반복문으로 팩토리얼을 구하는 사용자 함수를 작성하고 5!, 10!를 구하세요.\n"
   ]
  },
  {
   "cell_type": "code",
   "execution_count": 3,
   "id": "9fab7e62",
   "metadata": {},
   "outputs": [
    {
     "name": "stdout",
     "output_type": "stream",
     "text": [
      "120\n",
      "3628800\n"
     ]
    }
   ],
   "source": [
    "def fac(a):\n",
    "    x=1\n",
    "    for i in range(1, a+1):\n",
    "        x *=i\n",
    "    return x\n",
    "print(fac(5))\n",
    "print(fac(10))"
   ]
  },
  {
   "cell_type": "markdown",
   "id": "ed45224f",
   "metadata": {},
   "source": [
    "# Q. 재귀란 '자기자신을 호출하는 것'을 의미한다. 재귀함수를 이용해서 팩토리얼을 구하는 사용자 함수를 작성하고 1!, 5!, 10!를 구하세요.\n",
    "factorial(n) = n * factorial(n-1) (n >= 1)\n"
   ]
  },
  {
   "cell_type": "code",
   "execution_count": 9,
   "id": "2e212a1d",
   "metadata": {},
   "outputs": [
    {
     "name": "stdout",
     "output_type": "stream",
     "text": [
      "120\n",
      "3628800\n"
     ]
    }
   ],
   "source": [
    "def fac(a):\n",
    "    if a==0 | a ==1 :\n",
    "        return 1\n",
    "    else:\n",
    "        return a*fac(a-1)\n",
    "print(fac(5))\n",
    "print(fac(10))"
   ]
  },
  {
   "cell_type": "markdown",
   "id": "c51df8c8",
   "metadata": {},
   "source": [
    "# Q. list a의 모든 원소를 실수형으로 바꾸어 출력하세요\n"
   ]
  },
  {
   "cell_type": "code",
   "execution_count": 34,
   "id": "3ebd0579",
   "metadata": {},
   "outputs": [
    {
     "data": {
      "text/plain": [
       "[1.0, 2.0, 3.0, 4.0, 5.0]"
      ]
     },
     "execution_count": 34,
     "metadata": {},
     "output_type": "execute_result"
    }
   ],
   "source": [
    "a = [1,2,3,4,5]\n",
    "li = []\n",
    "for i in range(5):\n",
    "    li.append(float(a[i]))\n",
    "li"
   ]
  },
  {
   "cell_type": "code",
   "execution_count": 11,
   "id": "0c04b867",
   "metadata": {
    "scrolled": true
   },
   "outputs": [
    {
     "data": {
      "text/plain": [
       "[1.0, 2.0, 3.0, 4.0, 5.0]"
      ]
     },
     "execution_count": 11,
     "metadata": {},
     "output_type": "execute_result"
    }
   ],
   "source": [
    "a = [1,2,3,4,5]\n",
    "# list(map(lambda x:float(x),a))\n",
    "a = list(map(float,a))\n",
    "a"
   ]
  },
  {
   "cell_type": "markdown",
   "id": "95259651",
   "metadata": {},
   "source": [
    "0729"
   ]
  },
  {
   "cell_type": "markdown",
   "id": "24681704",
   "metadata": {},
   "source": [
    "# Q 31 문자열 리스트 states를 정형화하여 아래와 같이 출력하세요.\n",
    "```\n",
    "Q. \n",
    "states = ['   Alabama ', 'Georgia!', 'Georgia', 'georgia', 'FlOrIda',\n",
    "          'south   carolina##', 'West virginia?']\n",
    "[출력]\n",
    "['Alabama',\n",
    " 'Georgia',\n",
    " 'Georgia',\n",
    " 'Georgia',\n",
    " 'Florida',\n",
    " 'South   Carolina',\n",
    " 'West Virginia']\n",
    "```"
   ]
  },
  {
   "cell_type": "code",
   "execution_count": 3,
   "id": "cdfbb53c",
   "metadata": {},
   "outputs": [
    {
     "data": {
      "text/plain": [
       "['Alabama',\n",
       " 'Georgia',\n",
       " 'Georgia',\n",
       " 'Georgia',\n",
       " 'Florida',\n",
       " 'South   Carolina',\n",
       " 'West Virginia']"
      ]
     },
     "execution_count": 3,
     "metadata": {},
     "output_type": "execute_result"
    }
   ],
   "source": [
    "states = ['   Alabama ', 'Georgia!', 'Georgia', 'georgia', 'FlOrIda',\n",
    "          'south   carolina##', 'West virginia?']\n",
    "import re\n",
    "li =[]\n",
    "for i in states:\n",
    "    i = re.sub('[!?#]','', i)\n",
    "    i = i.title().strip()\n",
    "    li.append(i)\n",
    "li"
   ]
  },
  {
   "cell_type": "markdown",
   "id": "61605eeb",
   "metadata": {},
   "source": [
    "# Q51. 게시물의 총 건수와 한 페이지에 보여 줄 게시물 수를 입력시 총 페이지 수를 출력하는 프로그램\n",
    "사용자함수 사용용용"
   ]
  },
  {
   "cell_type": "code",
   "execution_count": 4,
   "id": "bd40ef89",
   "metadata": {},
   "outputs": [
    {
     "name": "stdout",
     "output_type": "stream",
     "text": [
      "총 게시물 수100\n",
      "한 페이지 당 게시물 수5\n",
      "총 페이지 수 : 20\n"
     ]
    }
   ],
   "source": [
    "def show(a,b):\n",
    "    if a%b == 0:\n",
    "        print(f'총 페이지 수 : {a//b}')\n",
    "    else:\n",
    "        print(f'총 페이지 수 : {a//b +1}')\n",
    "        \n",
    "a = int(input(\"총 게시물 수\"))\n",
    "b = int(input(\"한 페이지 당 게시물 수\"))\n",
    "show(a,b)    "
   ]
  },
  {
   "cell_type": "markdown",
   "id": "b12dc539",
   "metadata": {},
   "source": [
    "# Q52. 랜덤하게 1000명의 이름, 키와 몸무게 만들어 저장한 후 다시 불러내어 다음과 같이 출력하세요.\n",
    "\n",
    "- 이름 :라바\n",
    "- 몸무게: 80\n",
    "- 키: 146\n",
    "- BMI: 37.53049352598987\n",
    "- 결과: 과체중\n"
   ]
  },
  {
   "cell_type": "code",
   "execution_count": null,
   "id": "7f386bce",
   "metadata": {},
   "outputs": [],
   "source": [
    "몸무게(kg)를 키의 제곱(m)으로 나눈 값\n",
    "18.5 이하면 저체중 ／ 18.5 ~ 22.9 사이면 정상 ／ 23.0 ~ 24.9 사이면 과체중 ／ 25.0 이상부터는 비만으로 판정"
   ]
  },
  {
   "cell_type": "code",
   "execution_count": 1,
   "id": "efc6e1f1",
   "metadata": {},
   "outputs": [],
   "source": [
    "import random\n",
    "import pandas as pd\n",
    "import numpy as np"
   ]
  },
  {
   "cell_type": "code",
   "execution_count": 7,
   "id": "57ef22c1",
   "metadata": {
    "scrolled": true
   },
   "outputs": [
    {
     "data": {
      "text/html": [
       "<div>\n",
       "<style scoped>\n",
       "    .dataframe tbody tr th:only-of-type {\n",
       "        vertical-align: middle;\n",
       "    }\n",
       "\n",
       "    .dataframe tbody tr th {\n",
       "        vertical-align: top;\n",
       "    }\n",
       "\n",
       "    .dataframe thead th {\n",
       "        text-align: right;\n",
       "    }\n",
       "</style>\n",
       "<table border=\"1\" class=\"dataframe\">\n",
       "  <thead>\n",
       "    <tr style=\"text-align: right;\">\n",
       "      <th></th>\n",
       "      <th>name</th>\n",
       "      <th>weight</th>\n",
       "      <th>conclusion</th>\n",
       "      <th>height</th>\n",
       "      <th>BMI</th>\n",
       "    </tr>\n",
       "  </thead>\n",
       "  <tbody>\n",
       "    <tr>\n",
       "      <th>0</th>\n",
       "      <td>정유한</td>\n",
       "      <td>92</td>\n",
       "      <td>비만</td>\n",
       "      <td>184</td>\n",
       "      <td>27.173913</td>\n",
       "    </tr>\n",
       "    <tr>\n",
       "      <th>1</th>\n",
       "      <td>최영지</td>\n",
       "      <td>44</td>\n",
       "      <td>저체중</td>\n",
       "      <td>167</td>\n",
       "      <td>15.776830</td>\n",
       "    </tr>\n",
       "    <tr>\n",
       "      <th>2</th>\n",
       "      <td>조정윤</td>\n",
       "      <td>81</td>\n",
       "      <td>정상</td>\n",
       "      <td>198</td>\n",
       "      <td>20.661157</td>\n",
       "    </tr>\n",
       "    <tr>\n",
       "      <th>3</th>\n",
       "      <td>이윤호</td>\n",
       "      <td>102</td>\n",
       "      <td>비만</td>\n",
       "      <td>177</td>\n",
       "      <td>32.557694</td>\n",
       "    </tr>\n",
       "    <tr>\n",
       "      <th>4</th>\n",
       "      <td>김유원</td>\n",
       "      <td>104</td>\n",
       "      <td>비만</td>\n",
       "      <td>168</td>\n",
       "      <td>36.848073</td>\n",
       "    </tr>\n",
       "    <tr>\n",
       "      <th>...</th>\n",
       "      <td>...</td>\n",
       "      <td>...</td>\n",
       "      <td>...</td>\n",
       "      <td>...</td>\n",
       "      <td>...</td>\n",
       "    </tr>\n",
       "    <tr>\n",
       "      <th>995</th>\n",
       "      <td>윤윤원</td>\n",
       "      <td>72</td>\n",
       "      <td>비만</td>\n",
       "      <td>164</td>\n",
       "      <td>26.769780</td>\n",
       "    </tr>\n",
       "    <tr>\n",
       "      <th>996</th>\n",
       "      <td>최우희</td>\n",
       "      <td>110</td>\n",
       "      <td>비만</td>\n",
       "      <td>189</td>\n",
       "      <td>30.794211</td>\n",
       "    </tr>\n",
       "    <tr>\n",
       "      <th>997</th>\n",
       "      <td>조영석</td>\n",
       "      <td>112</td>\n",
       "      <td>비만</td>\n",
       "      <td>149</td>\n",
       "      <td>50.448178</td>\n",
       "    </tr>\n",
       "    <tr>\n",
       "      <th>998</th>\n",
       "      <td>장철호</td>\n",
       "      <td>72</td>\n",
       "      <td>비만</td>\n",
       "      <td>168</td>\n",
       "      <td>25.510204</td>\n",
       "    </tr>\n",
       "    <tr>\n",
       "      <th>999</th>\n",
       "      <td>장유석</td>\n",
       "      <td>58</td>\n",
       "      <td>저체중</td>\n",
       "      <td>193</td>\n",
       "      <td>15.570888</td>\n",
       "    </tr>\n",
       "  </tbody>\n",
       "</table>\n",
       "<p>1000 rows × 5 columns</p>\n",
       "</div>"
      ],
      "text/plain": [
       "    name  weight conclusion  height        BMI\n",
       "0    정유한      92         비만     184  27.173913\n",
       "1    최영지      44        저체중     167  15.776830\n",
       "2    조정윤      81         정상     198  20.661157\n",
       "3    이윤호     102         비만     177  32.557694\n",
       "4    김유원     104         비만     168  36.848073\n",
       "..   ...     ...        ...     ...        ...\n",
       "995  윤윤원      72         비만     164  26.769780\n",
       "996  최우희     110         비만     189  30.794211\n",
       "997  조영석     112         비만     149  50.448178\n",
       "998  장철호      72         비만     168  25.510204\n",
       "999  장유석      58        저체중     193  15.570888\n",
       "\n",
       "[1000 rows x 5 columns]"
      ]
     },
     "execution_count": 7,
     "metadata": {},
     "output_type": "execute_result"
    }
   ],
   "source": [
    "name=[]\n",
    "for i in range(1000):\n",
    "    fn = random.choice('김이박조강장윤정최')\n",
    "    mn = random.choice('민상윤유우영정철영')\n",
    "    ln = random.choice('지윤석한원호석수희')\n",
    "    name.append(fn+mn+ln)\n",
    "name = pd.Series(name)\n",
    "\n",
    "\n",
    "df = pd.DataFrame(columns={'name','weight','height','BMI','conclusion'})\n",
    "df['name']=name\n",
    "df['weight'] = np.random.randint(40,120, size=1000)\n",
    "df['height'] = np.random.randint(140,200, size=1000)   # 노멀로 정규분포 만들지 그랬니 random.normal(평균,표준편차,개수)\n",
    "df['BMI'] = df['weight']/(df['height']*0.01)**2\n",
    "\n",
    "def f(x):\n",
    "    if x<18.5:\n",
    "        return '저체중'\n",
    "    elif x<22.9:\n",
    "        return '정상'\n",
    "    elif x<24.9:\n",
    "        return '과체중'\n",
    "    else:\n",
    "        return '비만'\n",
    "df['conclusion'] = df['BMI'].apply(lambda x: f(x))\n",
    "df"
   ]
  },
  {
   "cell_type": "code",
   "execution_count": 9,
   "id": "a160c9af",
   "metadata": {},
   "outputs": [],
   "source": [
    "df = df[['name','weight','height','BMI','conclusion']]"
   ]
  },
  {
   "cell_type": "code",
   "execution_count": 10,
   "id": "8af1df25",
   "metadata": {},
   "outputs": [
    {
     "data": {
      "text/plain": [
       "name                정유한\n",
       "weight               92\n",
       "height              184\n",
       "BMI           27.173913\n",
       "conclusion           비만\n",
       "Name: 0, dtype: object"
      ]
     },
     "execution_count": 10,
     "metadata": {},
     "output_type": "execute_result"
    }
   ],
   "source": [
    "df.iloc[0]"
   ]
  },
  {
   "cell_type": "markdown",
   "id": "dcb019f0",
   "metadata": {},
   "source": [
    "0801"
   ]
  },
  {
   "cell_type": "markdown",
   "id": "76d11067",
   "metadata": {},
   "source": [
    "#  Q. 입력한 숫자를 천 단위로 구분하여 출력하세요. \n",
    "f스트링"
   ]
  },
  {
   "cell_type": "code",
   "execution_count": 2,
   "id": "e3bf9ced",
   "metadata": {},
   "outputs": [
    {
     "name": "stdout",
     "output_type": "stream",
     "text": [
      "정수 입력1000000\n",
      "1,000,000\n"
     ]
    }
   ],
   "source": [
    "a=int(input(\"정수 입력\"))\n",
    "print(f'{a:,}')\n"
   ]
  },
  {
   "cell_type": "markdown",
   "id": "36e59f69",
   "metadata": {},
   "source": [
    "# Q. 카운터에서 거스름돈으로 사용할 500원 10원 50원 10원 짜리 동전이 무한히 존재한다고 가정한다. 손님에게 거슬러줘야할 돈이 N원일 때 거슬러 줘야할 동전의 최솟 개수를 구하세요. 단, 거슬러줘야할 돈 N은 항상 10의 배수이다. N=2750원"
   ]
  },
  {
   "cell_type": "code",
   "execution_count": 11,
   "id": "3d55a649",
   "metadata": {},
   "outputs": [],
   "source": [
    "def f(N):\n",
    "    i=0\n",
    "    while True:\n",
    "        if N>=500:\n",
    "            N -=500\n",
    "            i +=1\n",
    "        elif N>=100:\n",
    "            N -=100\n",
    "            i +=1\n",
    "        elif N>=50:\n",
    "            N -=50\n",
    "            i +=1\n",
    "        elif N>=10:\n",
    "            N -=10\n",
    "            i +=1\n",
    "        else:\n",
    "            break \n",
    "    print(i)"
   ]
  },
  {
   "cell_type": "code",
   "execution_count": 12,
   "id": "dea1babe",
   "metadata": {},
   "outputs": [
    {
     "name": "stdout",
     "output_type": "stream",
     "text": [
      "8\n"
     ]
    }
   ],
   "source": [
    "f(2750)"
   ]
  },
  {
   "cell_type": "code",
   "execution_count": 19,
   "id": "a959b9d8",
   "metadata": {},
   "outputs": [],
   "source": [
    "def f(N):\n",
    "    li=[0,0,0,0]\n",
    "    while True:\n",
    "        if N>=500:\n",
    "            N -=500\n",
    "            li[0] +=1\n",
    "        elif N>=100:\n",
    "            N -=100\n",
    "            li[1] +=1\n",
    "        elif N>=50:\n",
    "            N -=50\n",
    "            li[2] +=1\n",
    "        elif N>=10:\n",
    "            N -=10\n",
    "            li[3] +=1\n",
    "        else:\n",
    "            break \n",
    "    print(f'500원 {li[0]}\\n100원 {li[1]}\\n50원 {li[2]}\\n10원 {li[3]}\\n최소 개수 {li[0]+li[1]+li[2]+li[3]}')"
   ]
  },
  {
   "cell_type": "code",
   "execution_count": 20,
   "id": "a638a25c",
   "metadata": {
    "scrolled": true
   },
   "outputs": [
    {
     "name": "stdout",
     "output_type": "stream",
     "text": [
      "500원 5\n",
      "100원 2\n",
      "50원 1\n",
      "10원 0\n",
      "최소 개수 8\n"
     ]
    }
   ],
   "source": [
    "f(2750)"
   ]
  },
  {
   "cell_type": "code",
   "execution_count": 3,
   "id": "1234a438",
   "metadata": {},
   "outputs": [
    {
     "name": "stdout",
     "output_type": "stream",
     "text": [
      "8\n"
     ]
    }
   ],
   "source": [
    "n = 2750\n",
    "count = 0\n",
    "\n",
    "# 큰 단위의 화폐부터 차례대로 확인하기\n",
    "coin_types = [500, 100, 50, 10]\n",
    "\n",
    "for coin in coin_types:\n",
    "    count += n // coin # 해당 화폐로 거슬러 줄 수 있는 동전의 개수 세기\n",
    "    n %= coin # 나머지를 n에\n",
    "\n",
    "print(count)\n"
   ]
  },
  {
   "cell_type": "markdown",
   "id": "717d23b7",
   "metadata": {},
   "source": [
    "0802"
   ]
  },
  {
   "cell_type": "markdown",
   "id": "7525ff96",
   "metadata": {},
   "source": [
    "# Q. ./mydata.txt 파일에 있는 단어 개수를 출력하세요.\n"
   ]
  },
  {
   "cell_type": "code",
   "execution_count": 2,
   "id": "5686df9e",
   "metadata": {},
   "outputs": [],
   "source": [
    "import re"
   ]
  },
  {
   "cell_type": "code",
   "execution_count": 25,
   "id": "33e19f41",
   "metadata": {
    "collapsed": true
   },
   "outputs": [
    {
     "data": {
      "text/plain": [
       "['a lot of things occur each day\\n',\n",
       " \"we've got to live with on our way\\n\",\n",
       " \"there's so much misery on the screen\\n\",\n",
       " 'with commercials in between\\n',\n",
       " '\\n',\n",
       " \"and the russians won't be so late\\n\",\n",
       " \"uncle sam don't want to wait\\n\",\n",
       " \"no matter if you're black or white\\n\",\n",
       " 'you never ever had a right\\n',\n",
       " '\\n',\n",
       " 'and look up to the eternal skies\\n',\n",
       " 'see warfare even there\\n',\n",
       " 'what once has been a paradise\\n',\n",
       " 'now destruction and despair\\n',\n",
       " '\\n',\n",
       " 'in other worlds the children die\\n',\n",
       " 'lacking food ill from a fly\\n',\n",
       " 'oppressed by troops to tame their land\\n',\n",
       " \"it's all the same again\\n\",\n",
       " '\\n',\n",
       " 'if any man is free on earth\\n',\n",
       " 'then tormentors steal his birth\\n',\n",
       " 'they slam gun butts in his face\\n',\n",
       " 'and leave his woman choked in mace\\n',\n",
       " '\\n',\n",
       " 'so stand up for our human rights\\n',\n",
       " 'push back this pest of hate\\n',\n",
       " 'raise you voice pass on the light\\n',\n",
       " \"unite! it's not too late\\n\",\n",
       " '\\n',\n",
       " 'how many tears flow away\\n',\n",
       " 'to become a sea of fears\\n',\n",
       " 'how many hearts are torn apart\\n',\n",
       " 'till another torment starts\\n',\n",
       " '\\n',\n",
       " 'but before the world\\n',\n",
       " 'turns into a sun\\n',\n",
       " 'all cruelty and violence\\n',\n",
       " 'on earth will be dead and gone\\n',\n",
       " '\\n',\n",
       " 'so stand up for our human rights\\n',\n",
       " 'push back this pest of hate\\n',\n",
       " 'raise you voice pass on the light\\n',\n",
       " \"unite! it's not too late\"]"
      ]
     },
     "execution_count": 25,
     "metadata": {},
     "output_type": "execute_result"
    }
   ],
   "source": [
    "with open('./mydata.txt','r')as f:\n",
    "    lines = f.readlines()\n",
    "lines"
   ]
  },
  {
   "cell_type": "code",
   "execution_count": 8,
   "id": "4f4a747a",
   "metadata": {
    "collapsed": true
   },
   "outputs": [
    {
     "data": {
      "text/plain": [
       "\"a lot of things occur each day\\nwe've got to live with on our way\\nthere's so much misery on the screen\\nwith commercials in between\\n\\nand the russians won't be so late\\nuncle sam don't want to wait\\nno matter if you're black or white\\nyou never ever had a right\\n\\nand look up to the eternal skies\\nsee warfare even there\\nwhat once has been a paradise\\nnow destruction and despair\\n\\nin other worlds the children die\\nlacking food ill from a fly\\noppressed by troops to tame their land\\nit's all the same again\\n\\nif any man is free on earth\\nthen tormentors steal his birth\\nthey slam gun butts in his face\\nand leave his woman choked in mace\\n\\nso stand up for our human rights\\npush back this pest of hate\\nraise you voice pass on the light\\nunite! it's not too late\\n\\nhow many tears flow away\\nto become a sea of fears\\nhow many hearts are torn apart\\ntill another torment starts\\n\\nbut before the world\\nturns into a sun\\nall cruelty and violence\\non earth will be dead and gone\\n\\nso stand up for our human rights\\npush back this pest of hate\\nraise you voice pass on the light\\nunite! it's not too late\""
      ]
     },
     "execution_count": 8,
     "metadata": {},
     "output_type": "execute_result"
    }
   ],
   "source": [
    "with open('./mydata.txt','r')as f:\n",
    "    data = f.read()\n",
    "data"
   ]
  },
  {
   "cell_type": "code",
   "execution_count": 4,
   "id": "896c1e02",
   "metadata": {
    "scrolled": true
   },
   "outputs": [
    {
     "data": {
      "text/plain": [
       "221"
      ]
     },
     "execution_count": 4,
     "metadata": {},
     "output_type": "execute_result"
    }
   ],
   "source": [
    "with open('./mydata.txt','r')as f:\n",
    "    lines = f.readlines()\n",
    "a=0\n",
    "for line in lines:\n",
    "    a+=len(re.findall('\\w+',line))\n",
    "a\n",
    "# a = re.compile('\\w+')\n",
    "# b = a.findall(lines)\n",
    "# len(b)"
   ]
  },
  {
   "cell_type": "code",
   "execution_count": 10,
   "id": "4c847d8b",
   "metadata": {},
   "outputs": [
    {
     "name": "stdout",
     "output_type": "stream",
     "text": [
      "단어 수 : 213\n"
     ]
    }
   ],
   "source": [
    "with open('./mydata.txt','r')as f:\n",
    "    data = f.read()\n",
    "    tmp = data.split()\n",
    "    tmp = re.sub(\"'\",' ', tmp)\n",
    "    print(f'단어 수 : {len(tmp)}')\n"
   ]
  },
  {
   "cell_type": "markdown",
   "id": "35ebdea8",
   "metadata": {},
   "source": [
    "# Q. 파일이름과 특정 단어을 인자로 입력하면 그 파일에 있는 특정 단어의 개수를 반환하는 사용자 함수를 이용하여 mydata 파일에서 how의 개수를 출력하세요.\n"
   ]
  },
  {
   "cell_type": "code",
   "execution_count": 13,
   "id": "3218054d",
   "metadata": {},
   "outputs": [],
   "source": [
    "def word(t,w):\n",
    "    with open(f'./{t}','r')as f:\n",
    "        lines = f.readlines()\n",
    "    a=0\n",
    "    for line in lines:\n",
    "        a+=len(re.findall(f'{w}',line))\n",
    "    print(a)\n"
   ]
  },
  {
   "cell_type": "code",
   "execution_count": 14,
   "id": "41bc646d",
   "metadata": {},
   "outputs": [
    {
     "name": "stdout",
     "output_type": "stream",
     "text": [
      "2\n"
     ]
    }
   ],
   "source": [
    "word('mydata.txt','how')"
   ]
  },
  {
   "cell_type": "code",
   "execution_count": 15,
   "id": "e5cc1ef1",
   "metadata": {},
   "outputs": [],
   "source": [
    "def word(t,w):\n",
    "    with open(f'./{t}','r')as f:\n",
    "        data = f.read()\n",
    "        a = len(re.findall(f'{w}',data))\n",
    "        print(a)"
   ]
  },
  {
   "cell_type": "code",
   "execution_count": 16,
   "id": "5b03361b",
   "metadata": {},
   "outputs": [
    {
     "name": "stdout",
     "output_type": "stream",
     "text": [
      "2\n"
     ]
    }
   ],
   "source": [
    "word('mydata.txt','how')"
   ]
  },
  {
   "cell_type": "code",
   "execution_count": 18,
   "id": "dd509ecd",
   "metadata": {
    "scrolled": true
   },
   "outputs": [
    {
     "name": "stdout",
     "output_type": "stream",
     "text": [
      "filename을 입력하세요: mydata.txt\n",
      "filename에서 개수를 구할 단어를 입력하세요: How\n",
      "how의 개수: 2\n"
     ]
    }
   ],
   "source": [
    "def countWord(filename, word):\n",
    "    with open(filename, 'r') as f:\n",
    "        text = f.read()\n",
    "        text = text.lower()\n",
    "        pos = text.find(word)\n",
    "        count = 0\n",
    "        while pos != -1: # 없을때 까지\n",
    "            count += 1\n",
    "            pos = text.find(word, pos+1)\n",
    "    return count\n",
    "\n",
    "filename = input('filename을 입력하세요: ')\n",
    "word = input('filename에서 개수를 구할 단어를 입력하세요: ').lower()\n",
    "ret = countWord(filename, word)\n",
    "print(f'{word}의 개수: {ret}')\n"
   ]
  },
  {
   "cell_type": "code",
   "execution_count": 26,
   "id": "31a0f72c",
   "metadata": {},
   "outputs": [
    {
     "data": {
      "text/plain": [
       "2"
      ]
     },
     "execution_count": 26,
     "metadata": {},
     "output_type": "execute_result"
    }
   ],
   "source": [
    "countWord('mydata.txt','how')"
   ]
  },
  {
   "cell_type": "markdown",
   "id": "cf995056",
   "metadata": {},
   "source": [
    "0803"
   ]
  },
  {
   "cell_type": "markdown",
   "id": "2943a6ab",
   "metadata": {},
   "source": [
    "# Q59.\n",
    "문자열을 입력받아 같은 문자가 연속적으로 반복되는 경우에 그 반복 횟수를 표시해 문자열을 압축하여 표시하세요.\n",
    "- 예) \"aaabbcccccca\" -> a3b2c6a1\n"
   ]
  },
  {
   "cell_type": "code",
   "execution_count": 19,
   "id": "a3705278",
   "metadata": {},
   "outputs": [
    {
     "name": "stdout",
     "output_type": "stream",
     "text": [
      "문자입력aaabbcccca\n"
     ]
    },
    {
     "data": {
      "text/plain": [
       "'a3b2c4a'"
      ]
     },
     "execution_count": 19,
     "metadata": {},
     "output_type": "execute_result"
    }
   ],
   "source": [
    "text = input('문자입력')\n",
    "s=1\n",
    "li=[]\n",
    "for i in range(0,len(text)):\n",
    "    if i==0:\n",
    "        li.append(text[i])\n",
    "    else:\n",
    "        if text[i]==text[i-1]:\n",
    "            s += 1\n",
    "        else:\n",
    "            li.append(str(s))\n",
    "            li.append(text[i])\n",
    "            s = 1\n",
    "li=''.join(li)\n",
    "li"
   ]
  },
  {
   "cell_type": "code",
   "execution_count": 20,
   "id": "16fd562b",
   "metadata": {},
   "outputs": [
    {
     "name": "stdout",
     "output_type": "stream",
     "text": [
      "a ['a', 'a', 'a']\n",
      "b ['b', 'b']\n",
      "c ['c', 'c', 'c', 'c']\n",
      "a ['a']\n"
     ]
    }
   ],
   "source": [
    "from itertools import groupby\n",
    "text = 'aaabbcccca'\n",
    "for x, y in groupby(text):\n",
    "    print(x, list(y))"
   ]
  },
  {
   "cell_type": "markdown",
   "id": "ae716377",
   "metadata": {},
   "source": [
    "# Q60.\n",
    "N개의 요소 이루어진 배열이 있을 때 주어진 수들을 M번 더하여 가장 큰 수를 만드는 프로그램을 작성하세요. 단 배열의 특정한 인덱스(번호)에 해당하는 수가 연속해서 K번을 초과하여 더해질 수 없는 것이 특징이다.\n",
    "프로그램은 다음 조건을 만족하는 N, M, K를 공백으로 일차 입력하고 N개의 배열을 공백으로 이차 입력하면 결과물을 출력하는 방식으로 수행함.\n",
    "- 2 <= N <= 1000\n",
    "- 1 <= M <= 10000\n",
    "- 1 <= K <= 10000\n"
   ]
  },
  {
   "cell_type": "code",
   "execution_count": null,
   "id": "f607da9d",
   "metadata": {},
   "outputs": [],
   "source": [
    "공백으로 입력받음 input\n",
    "n m k\n",
    "ex) 5 8 3\n",
    "\n",
    "n개의 요소 배열 입력 \n",
    "m번 더하시오\n",
    "입력된 배열중에 가장큰수를 k번 제한\n",
    "\n"
   ]
  },
  {
   "cell_type": "code",
   "execution_count": 29,
   "id": "5668eb3f",
   "metadata": {},
   "outputs": [],
   "source": [
    "import numpy as np\n",
    "import pandas as pd"
   ]
  },
  {
   "cell_type": "code",
   "execution_count": 3,
   "id": "06989b8c",
   "metadata": {
    "scrolled": false
   },
   "outputs": [
    {
     "name": "stdout",
     "output_type": "stream",
     "text": [
      "N M K 입력5 20 10\n",
      "1 2 3 4 같이 배열 입력3 4 5 6 7\n"
     ]
    }
   ],
   "source": [
    "N, M, K = input(\"N M K 입력\").split(sep=' ')\n",
    "\n",
    "arr = input(f\"1 2 3 4 같이 {N}개의 요소 배열 입력\").split(sep=' ')\n",
    "\n",
    "arr.sort(reverse=True)"
   ]
  },
  {
   "cell_type": "code",
   "execution_count": 197,
   "id": "14a3eb7b",
   "metadata": {},
   "outputs": [
    {
     "name": "stdout",
     "output_type": "stream",
     "text": [
      "170\n"
     ]
    }
   ],
   "source": [
    "s = 0\n",
    "M = int(M)\n",
    "K = int(K)\n",
    "if M <= K:\n",
    "    print(int(arr[0])*M)\n",
    "else:        \n",
    "    li=[]\n",
    "    for i in range(0,M):\n",
    "        if arr[i] in li:\n",
    "            pass\n",
    "        else:\n",
    "            s += int(arr[i])*K\n",
    "            M -= K\n",
    "            li.append(arr[i])\n",
    "            if M <= K:\n",
    "                s += int(arr[i+1])*M\n",
    "                break\n",
    "    print(s)"
   ]
  },
  {
   "cell_type": "code",
   "execution_count": 194,
   "id": "7194b15d",
   "metadata": {},
   "outputs": [
    {
     "data": {
      "text/plain": [
       "170"
      ]
     },
     "execution_count": 194,
     "metadata": {},
     "output_type": "execute_result"
    }
   ],
   "source": [
    "9*10 + 8*10"
   ]
  },
  {
   "cell_type": "code",
   "execution_count": null,
   "id": "90cf25ed",
   "metadata": {},
   "outputs": [],
   "source": [
    "# N, M, K를 공백을 기준으로 구분하여 입력 받기\n",
    "n, m, k = map(int, input().split())\n",
    "# N개의 수를 공백을 기준으로 구분하여 입력 받기\n",
    "data = list(map(int, input().split()))\n",
    "\n",
    "data.sort() # 입력 받은 수들 정렬하기\n",
    "first = data[n - 1] # 가장 큰 수\n",
    "second = data[n - 2] # 두 번째로 큰 수\n",
    "\n",
    "# 가장 큰 수가 더해지는 횟수 계산\n",
    "count = int(m / (k + 1)) * k\n",
    "count += m % (k + 1)\n",
    "\n",
    "result = 0\n",
    "result += (count) * first # 가장 큰 수 더하기\n",
    "result += (m - count) * second # 두 번째로 큰 수 더하기\n",
    "\n",
    "print(result) # 최종 답안 출력\n"
   ]
  },
  {
   "cell_type": "markdown",
   "id": "c8d37a0b",
   "metadata": {},
   "source": [
    "# Q61. file1, 2의 파일 크기를 각각 구하세요.\n",
    "\n",
    "- file1 = 'data/stockcode.txt'\n",
    "- file2 = 'data/img_sample.jpg'\n"
   ]
  },
  {
   "cell_type": "code",
   "execution_count": 2,
   "id": "e2d379a0",
   "metadata": {},
   "outputs": [
    {
     "name": "stdout",
     "output_type": "stream",
     "text": [
      "16339 byte\n"
     ]
    }
   ],
   "source": [
    "import os\n",
    "fs = os.path.getsize(r'./data/stockcode.txt')\n",
    "print(fs, 'byte')"
   ]
  },
  {
   "cell_type": "code",
   "execution_count": 3,
   "id": "024f21bb",
   "metadata": {},
   "outputs": [
    {
     "name": "stdout",
     "output_type": "stream",
     "text": [
      "170005 byte\n"
     ]
    }
   ],
   "source": [
    "import os\n",
    "fs = os.path.getsize(r'./data/img_sample.jpg')\n",
    "print(fs, 'byte')"
   ]
  },
  {
   "cell_type": "code",
   "execution_count": null,
   "id": "de212612",
   "metadata": {},
   "outputs": [],
   "source": []
  },
  {
   "cell_type": "markdown",
   "id": "d21602b0",
   "metadata": {},
   "source": [
    "# Q62.\n",
    "stockcode.txt의 105바이트 위치에서 500바이트를 읽어 그 내용은 stock_part.txt에 저장 한 후 출력하세요.\n"
   ]
  },
  {
   "cell_type": "code",
   "execution_count": 10,
   "id": "66f82a9b",
   "metadata": {
    "scrolled": false
   },
   "outputs": [
    {
     "data": {
      "text/plain": [
       "os.stat_result(st_mode=33206, st_ino=8444249301574661, st_dev=814822718, st_nlink=1, st_uid=0, st_gid=0, st_size=16339, st_atime=1659660009, st_mtime=1659660007, st_ctime=1659660007)"
      ]
     },
     "execution_count": 10,
     "metadata": {},
     "output_type": "execute_result"
    }
   ],
   "source": [
    "os.stat('./data/stockcode.txt')"
   ]
  },
  {
   "cell_type": "code",
   "execution_count": 3,
   "id": "ecd98de8",
   "metadata": {},
   "outputs": [],
   "source": [
    "import os"
   ]
  },
  {
   "cell_type": "code",
   "execution_count": 4,
   "id": "3de9d844",
   "metadata": {},
   "outputs": [],
   "source": [
    "spos = 105    # 파일을 읽는 최초의 위치로 파일의 처음에서 105바이트 떨어진 부분 \n",
    "size = 500     # 읽을 데이터의 크기는 500바이트\n",
    "\n",
    "f = open('./data/stockcode.txt', 'rb') #rb 읽을때 바이트로\n",
    "h = open('./data/stock_part.txt', 'wb')  # wb 쓸때 바이트로\n",
    "\n",
    "f.seek(spos)\n",
    "data = f.read(size)\n",
    "h.write(data)\n",
    "\n",
    "h.close()\n",
    "f.close()"
   ]
  },
  {
   "cell_type": "code",
   "execution_count": 5,
   "id": "3921208c",
   "metadata": {
    "scrolled": true
   },
   "outputs": [
    {
     "data": {
      "text/plain": [
       "os.stat_result(st_mode=33206, st_ino=21110623253348451, st_dev=814822718, st_nlink=1, st_uid=0, st_gid=0, st_size=500, st_atime=1659917660, st_mtime=1659917660, st_ctime=1659877168)"
      ]
     },
     "execution_count": 5,
     "metadata": {},
     "output_type": "execute_result"
    }
   ],
   "source": [
    "os.stat('./data/stock_part.txt')"
   ]
  },
  {
   "cell_type": "code",
   "execution_count": 6,
   "id": "0be2c1a6",
   "metadata": {
    "scrolled": true
   },
   "outputs": [
    {
     "data": {
      "text/plain": [
       "500"
      ]
     },
     "execution_count": 6,
     "metadata": {},
     "output_type": "execute_result"
    }
   ],
   "source": [
    "os.stat('./data/stock_part.txt').st_size"
   ]
  },
  {
   "cell_type": "markdown",
   "id": "cea0dae9",
   "metadata": {},
   "source": [
    "# Q64. 어떠한 수 N이 1이 될 때까지 다음의 두 과정 중 하나를 반복적으로 선택하여 수행하려고 한다. 단 두번째 연산은 N이 K로 나누어 떨어질 때만 선택할 수 있다.  N과 K를 입력했을 때 N이 1이 될 때까지 1번 혹은 2번의 과정을 수행해야 하는 최소 횟수를 구하는 프로그램을 완성하세요.\n",
    "\n",
    "1. N에서 1을 뺀다.\n",
    "2. N을 K로 나눈다.\n"
   ]
  },
  {
   "cell_type": "code",
   "execution_count": 26,
   "id": "4ab8dea6",
   "metadata": {},
   "outputs": [
    {
     "name": "stdout",
     "output_type": "stream",
     "text": [
      "3\n"
     ]
    }
   ],
   "source": [
    "def f(N, K):\n",
    "    num=0\n",
    "    while True:\n",
    "        if N>1:\n",
    "            if N%K==0:\n",
    "                N = N//K\n",
    "                num +=1\n",
    "            else:\n",
    "                N -=1\n",
    "                num +=1\n",
    "        else:\n",
    "            break\n",
    "    print(num)\n",
    "f(15,7)"
   ]
  },
  {
   "cell_type": "markdown",
   "id": "f712b10f",
   "metadata": {},
   "source": [
    "# Q65. 아래와 같이 출력하는 코드를 작성하세요.\n",
    "```\n",
    "*\n",
    "**\n",
    "***\n",
    "****\n",
    "*****\n",
    "\n",
    "```"
   ]
  },
  {
   "cell_type": "code",
   "execution_count": 1,
   "id": "5f0177b3",
   "metadata": {},
   "outputs": [
    {
     "name": "stdout",
     "output_type": "stream",
     "text": [
      "*\n",
      "**\n",
      "***\n",
      "****\n",
      "*****\n"
     ]
    }
   ],
   "source": [
    "for i in range(1,6):\n",
    "    print('*'*i)"
   ]
  },
  {
   "cell_type": "markdown",
   "id": "07ba39a9",
   "metadata": {},
   "source": [
    "# Q66. 아래와같이 출력하는 코드를 작성하세요\n",
    "```\n",
    "     *\n",
    "    ***\n",
    "   *****\n",
    "  *******\n",
    " *********\n",
    "  *******\n",
    "   *****\n",
    "    ***\n",
    "     *\n",
    "\n",
    "```"
   ]
  },
  {
   "cell_type": "code",
   "execution_count": 4,
   "id": "be184fe9",
   "metadata": {},
   "outputs": [
    {
     "name": "stdout",
     "output_type": "stream",
     "text": [
      "    *\n",
      "   ***\n",
      "  *****\n",
      " *******\n",
      "*********\n",
      " *******\n",
      "  *****\n",
      "   ***\n",
      "    *\n"
     ]
    }
   ],
   "source": [
    "n = 10\n",
    "for i in range(1,n):\n",
    "    if i<n//2:\n",
    "        print(((n//2)-i)*' '+'*'*(2*i-1))\n",
    "    else:\n",
    "        print((i-(n//2))*' '+'*'*((2*n-1)-(2*i)))"
   ]
  },
  {
   "cell_type": "markdown",
   "id": "e3e5927a",
   "metadata": {},
   "source": [
    "# Q67. Tree의 높이를 입력하면 해당하는 높이의 아래와 같은 Tree를 출력하는 프로그램을 작성하세요.\n",
    "```\n",
    "         *\n",
    "        ***\n",
    "       *****\n",
    "      *******\n",
    "     *********\n",
    "    ***********\n",
    "   *************\n",
    "  ***************\n",
    " *****************\n",
    "*******************\n",
    "        ***\n",
    "        ***\n",
    "        ***\n",
    "\n",
    "```"
   ]
  },
  {
   "cell_type": "code",
   "execution_count": 3,
   "id": "665ca4db",
   "metadata": {},
   "outputs": [
    {
     "name": "stdout",
     "output_type": "stream",
     "text": [
      "나무높이?18\n",
      "                 *\n",
      "                ***\n",
      "               *****\n",
      "              *******\n",
      "             *********\n",
      "            ***********\n",
      "           *************\n",
      "          ***************\n",
      "         *****************\n",
      "        *******************\n",
      "       *********************\n",
      "      ***********************\n",
      "     *************************\n",
      "    ***************************\n",
      "               *****\n",
      "               *****\n",
      "               *****\n",
      "               *****\n"
     ]
    }
   ],
   "source": [
    "l = int(input(\"나무높이?\"))\n",
    "if l < 4:\n",
    "    for i in range(0,l):\n",
    "        print('*')\n",
    "elif l < 6:\n",
    "    for i in range(1,l):\n",
    "        print((l-i)*' '+'*'*((2*i)-1))\n",
    "    print((l-1)*' '+'*')\n",
    "elif l < 9:\n",
    "    for i in range(1,l-1):\n",
    "        print((l-i)*' '+'*'*((2*i)-1))\n",
    "    for i in range(0,2):\n",
    "        print((l-1)*' '+'*')\n",
    "elif l < 14:\n",
    "    for i in range(1,l-2):\n",
    "        print((l-i)*' '+'*'*((2*i)-1))\n",
    "    for i in range(0,3):\n",
    "        print((l-2)*' '+'***')\n",
    "elif l <= 20:\n",
    "    for i in range(1,l-3):\n",
    "        print((l-i)*' '+'*'*((2*i)-1))\n",
    "    for i in range(0,4):\n",
    "        print((l-3)*' '+'*****')\n",
    "else:\n",
    "    print('이 나무는 20까지만 자람')"
   ]
  },
  {
   "cell_type": "markdown",
   "id": "54cc53ac",
   "metadata": {},
   "source": [
    "# Q68. 구구단을 출력하는 프로그래을 출력하세요."
   ]
  },
  {
   "cell_type": "code",
   "execution_count": 2,
   "id": "220e0fa3",
   "metadata": {},
   "outputs": [
    {
     "name": "stdout",
     "output_type": "stream",
     "text": [
      "구구단 몇 단?3\n",
      "3x1=3\n",
      "3x2=6\n",
      "3x3=9\n",
      "3x4=12\n",
      "3x5=15\n",
      "3x6=18\n",
      "3x7=21\n",
      "3x8=24\n",
      "3x9=27\n"
     ]
    }
   ],
   "source": [
    "def gugu(x):\n",
    "    for i in range(1,10):\n",
    "        print(f\"{x}x{i}={x*i}\")\n",
    "x = int(input(\"구구단 몇 단?\"))\n",
    "gugu(x)"
   ]
  },
  {
   "cell_type": "markdown",
   "id": "c057897c",
   "metadata": {},
   "source": [
    "# Q69. 아래와 같이 입력하면 N X M 행렬 형태의 숫자 카드 중에서 먼저 뽑고자 하는 카드가 포함되어 있는 행을 선택한 후 그 행에서 가장 숫자가 낮은 카드를 뽑아야 하는 규칙하에서 가장 높은 숫자가 쓰인 카드 한장의 숫자를 출력한는 프로그램을 작성하세요. \n",
    "- 첫번째 입력 : N X M 형열에 대하여 N(행), M(열)의 개수를 공백을 기준으로 입력(1<= N, M<=100)\n",
    "- 두번째 입력 : 각 행의 숫자를 공백을 기준으로 입력. 단, 각 숫자는 1 이상 10000 이하의 자연수임.\n"
   ]
  },
  {
   "cell_type": "markdown",
   "id": "d25e560c",
   "metadata": {},
   "source": [
    "각 행의 최소값들을 선정하고 그중 최대값을 뽑는문제였네 "
   ]
  },
  {
   "cell_type": "code",
   "execution_count": 1,
   "id": "02bfc2e2",
   "metadata": {},
   "outputs": [],
   "source": [
    "import numpy as np\n",
    "import pandas as pd"
   ]
  },
  {
   "cell_type": "code",
   "execution_count": 17,
   "id": "5a8ccfa7",
   "metadata": {
    "scrolled": true
   },
   "outputs": [
    {
     "name": "stdout",
     "output_type": "stream",
     "text": [
      "[[ 1  2  3  4]\n",
      " [ 5  6  7  8]\n",
      " [ 9 10 11 12]\n",
      " [14 13 16 15]]\n",
      "13\n"
     ]
    }
   ],
   "source": [
    "# while True:\n",
    "#     N,M = map(int,input(\"N X M 의 행렬의 크기를 정하시오:(N M)형식 \").split())\n",
    "#     if N<1:\n",
    "#         print(\"N값은 1이상 자연수 입력\")\n",
    "#         continue\n",
    "#     else:\n",
    "#         if M>100:\n",
    "#             print(\"M값은 100이하 자연수 입력\")\n",
    "#             continue\n",
    "#         else:\n",
    "#             break\n",
    "# while True:\n",
    "#     data = list(map(int, input(f\"{N*M}개의 요소를 공백으로 구분 입력\").split()))\n",
    "#     if np.array(data).max()>1000 or np.array(data).min()<1:   # 리스트에서 최대 최소값을 추출할 수 없어서 배열로 변환후 min,max값 확인\n",
    "#         print(\"1이상 1000이하의 자연수를 입력하시오\")\n",
    "#         continue\n",
    "#     else:\n",
    "#         break\n",
    "N=4\n",
    "M=4\n",
    "data=[1,2,3,4,5,6,7,8,9,10,11,12,14,13,16,15]\n",
    "# list를 array로\n",
    "arr = np.array(data).reshape(N,M)\n",
    "print(arr)\n",
    "# where 위치 찾기 \n",
    "# min max array의 최대최소\n",
    "print(np.min(arr[np.where(arr==np.max(arr))[0][0]]))#행위치[0][0] \n",
    "#이거는 최대값이 있는 행을 선택해서 가장 작은값을 출력함"
   ]
  },
  {
   "cell_type": "code",
   "execution_count": 20,
   "id": "dca61a70",
   "metadata": {},
   "outputs": [
    {
     "data": {
      "text/plain": [
       "13"
      ]
     },
     "execution_count": 20,
     "metadata": {},
     "output_type": "execute_result"
    }
   ],
   "source": [
    "np.min(arr,axis=1).max()"
   ]
  },
  {
   "cell_type": "code",
   "execution_count": null,
   "id": "92cc02ce",
   "metadata": {},
   "outputs": [],
   "source": [
    "N,M = map(int,input(\"N X M 의 행렬의 크기를 정하시오:(N M)형식 \").split())\n",
    "result = 0\n",
    "for i in range(N):\n",
    "    data = list(map(int,input().split()))\n",
    "    min_value = min(data)\n",
    "    result = max(result, min_value)\n",
    "    \n",
    "print(result)"
   ]
  },
  {
   "cell_type": "markdown",
   "id": "7060785d",
   "metadata": {},
   "source": [
    "# Q70. \n",
    "Q69는 함수, 정렬 등의 방법으로 문제를 풀었다. 이 문제를 다중 for문을 사용하여 풀어보세요"
   ]
  },
  {
   "cell_type": "code",
   "execution_count": null,
   "id": "e039cd37",
   "metadata": {},
   "outputs": [],
   "source": [
    "n,m = map(int,input().split())\n",
    "\n",
    "result = 0\n",
    "for i in range(n):\n",
    "    data = list(map(int,input().split()))\n",
    "    min_value = 10001\n",
    "    for a in data:\n",
    "        min_value = min(min_value, a)\n",
    "    result = max(result,min_value)\n",
    "print(result)\n"
   ]
  },
  {
   "cell_type": "markdown",
   "id": "e42276f0",
   "metadata": {},
   "source": [
    "# Q71. 여행가 A는 N X N 크기의 정사각형 공간에 서 있다. A는 6개의 이동 명령 계획에 따라 움직이게 된다. 이동 명령은 L(왼쪽), R(오른쪽), U(윗쪽), D(아랫쪽)로 구성되며 R R R U D D와 같이 6개이다. 정사각형 공간을 벗어나는 움직임은 무시된다. 언급한 규칙에 따라 N과 이동 명령 계획으로 각각 5와 R R R U D D를 입력하면 A의 행렬에서 위치는 (3, 4)가 된다. 이동 명력 계획서가 주어질 때 A가 최종적으로 도착할 지점의 좌표를 출력하는 프로그램을 작성하시오.\n",
    "2차원 array에서의 움직임 (1, 1) 시작"
   ]
  },
  {
   "cell_type": "code",
   "execution_count": 1,
   "id": "e2a868cc",
   "metadata": {},
   "outputs": [],
   "source": [
    "import numpy as np"
   ]
  },
  {
   "cell_type": "code",
   "execution_count": 6,
   "id": "a4605a09",
   "metadata": {},
   "outputs": [
    {
     "name": "stdout",
     "output_type": "stream",
     "text": [
      "R R R U D D\n",
      "[[0. 0. 0. 0. 0.]\n",
      " [0. 0. 0. 0. 0.]\n",
      " [0. 0. 0. 1. 0.]\n",
      " [0. 0. 0. 0. 0.]\n",
      " [0. 0. 0. 0. 0.]]\n",
      "3 행 4 열\n"
     ]
    }
   ],
   "source": [
    "N=5\n",
    "ar = np.zeros((N,N))\n",
    "data = list(input().split())\n",
    "arr=np.array([0,0])\n",
    "a = {'U':np.array([-1,0]),'D':np.array([1,0]),'R':np.array([0,1]),'L':np.array([0,-1])}\n",
    "for i in data:\n",
    "    arr = arr+a[i]\n",
    "    if arr[0]<0:\n",
    "        arr[0]=0\n",
    "    elif arr[0]>N-1:\n",
    "        arr[0]=N-1\n",
    "    elif arr[1]<0:\n",
    "        arr[1]=0\n",
    "    elif arr[1]>N-1:\n",
    "        arr[1]=N-1\n",
    "    else:\n",
    "        continue\n",
    "ar[arr[0],arr[1]]=1\n",
    "print(ar)\n",
    "print(np.where(ar==1)[0][0]+1,'행', np.where(ar==1)[1][0]+1,'열')\n"
   ]
  },
  {
   "cell_type": "markdown",
   "id": "a7108742",
   "metadata": {},
   "source": [
    "# Q72.\n",
    "정수 N이 입력되면 00시 00분 00초부터 N시 59분 59초까지의 모든 시각 중에서 3이 하나라도 포함되는 모든 경우의 수를 구하는 프로그램을 작성하시오.(0<= N <=23)\n"
   ]
  },
  {
   "cell_type": "code",
   "execution_count": null,
   "id": "0907ab68",
   "metadata": {},
   "outputs": [],
   "source": [
    "00시 00분 03초~\n",
    "23시 59분 59초\n",
    "N=7일때 14625번임"
   ]
  },
  {
   "cell_type": "code",
   "execution_count": 12,
   "id": "2f19b1d5",
   "metadata": {
    "scrolled": true
   },
   "outputs": [
    {
     "name": "stdout",
     "output_type": "stream",
     "text": [
      "몇시까지?7\n",
      "14625\n"
     ]
    }
   ],
   "source": [
    "t=3\n",
    "N = int(input(\"몇시까지?\"))\n",
    "s=0\n",
    "for i in range(0,N+1):\n",
    "     for j in range(0,60):\n",
    "            for k in range(0,60):\n",
    "#                 if (str(i)+str(j)+str(k)).find('3') !=-1:\n",
    "#                     s +=1\n",
    "                if str(t) in str(i) or str(t) in str(j) or str(t) in str(k):\n",
    "                    s +=1\n",
    "print(s)"
   ]
  },
  {
   "cell_type": "markdown",
   "id": "989098b0",
   "metadata": {},
   "source": [
    "# Q73. 행 위치는 1~8로 열 위치는 a ~ h로 표현하는 8 x 8 좌표 평면상에서 특정 위치가 주어졌을 때 아래 조건하에서 그 위치에서 이동할 수 있는 경우의 수를 출력하는 프로그램을 작성하세요.\n",
    "- 수평으로 두 칸 이동한 뒤에 수직으로 한 칸 이동\n",
    "- 수직으로 두 칸 이동한 뒤에 수평으로 한 칸 이동\n",
    "- 8 x 8 좌표 평면을 나갈 수 없음\n"
   ]
  },
  {
   "cell_type": "code",
   "execution_count": 1,
   "id": "7c16aebb",
   "metadata": {},
   "outputs": [],
   "source": [
    "import numpy as np"
   ]
  },
  {
   "cell_type": "code",
   "execution_count": 5,
   "id": "50e0a659",
   "metadata": {},
   "outputs": [
    {
     "name": "stdout",
     "output_type": "stream",
     "text": [
      "숫자행 알파벳열2 b\n",
      "4\n"
     ]
    }
   ],
   "source": [
    "m,l= input('숫자행 알파벳열').split()\n",
    "d={'a':0,'b':1,'c':2,'d':3,'e':4,'f':5,'g':6,'h':7}\n",
    "m = int(m)-1\n",
    "l = d[l]\n",
    "\n",
    "li = {'u1':np.array([-2,-1]),'u2':np.array([-2,1]),'r1':np.array([-1,2]),'r2':np.array([1,2]),'d1':np.array([2,1]),'d2':np.array([2,-1]),'l1':np.array([-1,-2]),'l2':np.array([1,-2])}\n",
    "s=8\n",
    "for i in li:\n",
    "    arr = np.array([m,l])\n",
    "    arr += li[i]\n",
    "    if arr[0]<0 or arr[0]>7 or arr[1]<0 or arr[1]>7:\n",
    "        s-=1\n",
    "print(s)\n",
    "    "
   ]
  },
  {
   "cell_type": "markdown",
   "id": "ebc7bbfd",
   "metadata": {},
   "source": [
    "# Q74.캐릭터는 매뉴얼에 따라 이동한다. 아래 입력조건에 따라 캐릭터가 방문한 칸의 수를 출력하는 프로그램을 작성하세요.\n",
    "\n",
    "- 입력조건\n",
    "  - 첫째 줄에 맵의 세로 크기 N과 가로 크기 M을 공백으로 구분하여 입력 (3 <= N,M <=50)\n",
    "  - 둘째 줄에 게임 캐릭터가 있는 칸의 좌표 (A,B)와 바라보는 방향 d가 각각 서로 공백으로 구분하여 입력(방향 d의 값으로는 북, 동, 남, 서가 각각 0,1,2,3)\n",
    "  - 세째 줄에 맵이 육지인지 바다인지에 대한 정보 입력(육지 0, 바다 1) N개의 줄에 맵의 상태가 북쪽으로 부터 남쪽순서대로 각 줄의 데이터는 서쪽부터 동쪽 순서대로 주어진다.\n",
    "  - 처음에 캐릭터가 위치한 칸의 상태는 항상 육지이다.\n",
    "\n",
    "\n",
    "- 매뉴얼<BR>\n",
    "  캐릭터가 있는 장소는 1 X 1 크기의 정사각형으로 이루어진 N X M 크기의 직사각형으로 각각의 칸은 육지 또는 바다이다.캐릭터는 동서남북 중 한 곳을 바라본다. 맵의 각 칸은 (A, B)로 나타낼 수 있고 A는 북쪽으로부터 떨어진 칸의 개수, B는 서쪽으로부터 떨어진 칸의 개수이다.캐릭터는 상하좌우로 움직일 수 있고 바다로 되어 있는 공간에는 갈 수 없다. 캐릭터의 움직임 설정을 위한 매뉴얼은 아래와 같다.\n",
    "  - 현재 위치에서 현재 방향을 기준으로 왼쪽 방향부터 차례대로 갈 곳을 정한다.\n",
    "  - 캐릭터의 바로 왼쪽 방향에 아직 가보지 않은 칸이 존재한다면 왼쪽 방향으로 회전한 다음 왼쪽으로 한 칸을 전진한다. 왼쪽 방향에 가보지 않은 칸이 없다면 왼쪽 방향으로 회전만 수행하고 1단계로 돌아간다.\n",
    "  - 만약 네 방향 모두 이미 가본 칸이거나 바다로 되어 있는 칸인 경우에는 바라보는 방향을 유지한 채로 한 칸 뒤로 가고 1단계로 돌아간다. 단, 이때 뒤쪽 방향이 바다인 칸이라 뒤로 갈수 없는 경우에는 움직임을 멈춘다.\n"
   ]
  },
  {
   "cell_type": "code",
   "execution_count": 2,
   "id": "1849e340",
   "metadata": {},
   "outputs": [],
   "source": [
    "import numpy as np\n",
    "import pandas as pd"
   ]
  },
  {
   "cell_type": "code",
   "execution_count": 3,
   "id": "61008cbf",
   "metadata": {},
   "outputs": [
    {
     "name": "stdout",
     "output_type": "stream",
     "text": [
      "5 5\n",
      "[[1 0 1 0 0]\n",
      " [0 0 0 0 1]\n",
      " [1 0 1 0 0]\n",
      " [0 0 1 1 1]\n",
      " [0 0 0 1 0]]\n"
     ]
    }
   ],
   "source": [
    "N,M = list(map(int,input().split())) # 3~50\n",
    "ar = np.random.choice([0,1],size=N*M).reshape(N,M)\n",
    "ar_p = ar.copy()\n",
    "print(ar)\n"
   ]
  },
  {
   "cell_type": "code",
   "execution_count": 20,
   "id": "50b3b140",
   "metadata": {},
   "outputs": [
    {
     "name": "stdout",
     "output_type": "stream",
     "text": [
      "1 1 1\n",
      "[[0 1 1 0 0]\n",
      " [0 0 0 0 0]\n",
      " [1 1 1 1 0]\n",
      " [0 1 1 0 1]\n",
      " [1 1 1 1 1]] \n",
      "\n",
      "[[1 1 1 1 1]\n",
      " [1 1 0 1 1]\n",
      " [1 1 1 1 0]\n",
      " [0 1 1 0 1]\n",
      " [1 1 1 1 1]] \n",
      "\n",
      "3\n"
     ]
    }
   ],
   "source": [
    "A,B,d = list(map(int,input().split()))\n",
    "# A=4\n",
    "# B=3\n",
    "# d=2\n",
    "\n",
    "d_p = d\n",
    "arr= np.array([A-1,B-1]) # 시작위치\n",
    "ar[A-1,B-1]=1 # 시작위치 마킹\n",
    "s=1\n",
    "arrr = {0:np.array([-1,0]),1:np.array([0,1]),2:np.array([1,0]),3:np.array([0,-1])}\n",
    "while True:\n",
    "    for i in range(4):\n",
    "        d -= 1\n",
    "        if d == -1:\n",
    "            d = 3 # 서쪽\n",
    "            if arr[1]==0: # 1열이면\n",
    "                pass\n",
    "            else:\n",
    "                arr = arr + arrr[d] #이동\n",
    "                if ar[arr[0],arr[1]]==1: # 이동할 곳이 1이면\n",
    "                    arr = arr - arrr[d] #복귀\n",
    "                    continue\n",
    "                else: # 이동할 곳이 1이 아니면\n",
    "                    ar[arr[0],arr[1]]=1 # 마킹\n",
    "                    s+=1\n",
    "                    pass\n",
    "        elif d == 2:\n",
    "            if arr[0]==N-1: #끝행\n",
    "                pass\n",
    "            else:\n",
    "                arr = arr + arrr[d]\n",
    "                if ar[arr[0],arr[1]]==1:\n",
    "                    arr = arr - arrr[d]\n",
    "                    continue\n",
    "                else:\n",
    "                    ar[arr[0],arr[1]]=1\n",
    "                    s+=1\n",
    "                    pass\n",
    "        elif d == 1:\n",
    "            if arr[1]==M-1: # 끝열\n",
    "                pass\n",
    "            else:\n",
    "                arr = arr + arrr[d]\n",
    "                if ar[arr[0],arr[1]]==1:\n",
    "                    arr= arr - arrr[d]\n",
    "                    continue\n",
    "                else:\n",
    "                    ar[arr[0],arr[1]]=1\n",
    "                    s+=1\n",
    "                    pass\n",
    "        else:\n",
    "            if arr[0]==0: # 1행\n",
    "                pass\n",
    "            else:\n",
    "                arr = arr + arrr[d]\n",
    "                if ar[arr[0],arr[1]]==1:\n",
    "                    arr = arr - arrr[d]\n",
    "                    continue\n",
    "                else:\n",
    "                    ar[arr[0],arr[1]]=1\n",
    "                    s+=1\n",
    "                    pass\n",
    "    d -=2\n",
    "    if d==-2:\n",
    "        d=2\n",
    "        arr = arr + arrr[d]\n",
    "        d=0\n",
    "        if ar_p[arr[0],arr[1]]==1:\n",
    "            arr = arr + arrr[d]\n",
    "            break\n",
    "        else:\n",
    "            ar[arr[0],arr[1]]=1\n",
    "            s+=1\n",
    "            continue\n",
    "    elif d==-1:\n",
    "        d=3\n",
    "        arr = arr + arrr[d]\n",
    "        d=1\n",
    "        if ar_p[arr[0],arr[1]]==1:\n",
    "            arr = arr + arrr[d]\n",
    "            break\n",
    "        else:\n",
    "            ar[arr[0],arr[1]]=1\n",
    "            s+=1\n",
    "            continue\n",
    "    else:  # d=0 or d=1\n",
    "        arr = arr + arrr[d]\n",
    "        d +=2\n",
    "        if ar_p[arr[0],arr[1]]==1:\n",
    "            arr = arr + arrr[d]\n",
    "            break\n",
    "        else:\n",
    "            ar[arr[0],arr[1]]=1\n",
    "            s+=1\n",
    "            continue\n",
    "\n",
    "print(ar_p,'\\n')\n",
    "print(ar, '\\n')\n",
    "print(s)"
   ]
  },
  {
   "cell_type": "code",
   "execution_count": 24,
   "id": "b6a38356",
   "metadata": {},
   "outputs": [
    {
     "name": "stdout",
     "output_type": "stream",
     "text": [
      "1 2 1\n",
      "[[1 0 1 0 0]\n",
      " [0 0 0 0 1]\n",
      " [1 0 1 0 0]\n",
      " [0 0 1 1 1]\n",
      " [0 0 0 1 0]] \n",
      "\n",
      "[[1 1 1 1 0]\n",
      " [1 1 1 0 1]\n",
      " [1 0 1 0 0]\n",
      " [0 0 1 1 1]\n",
      " [0 0 0 1 0]] \n",
      "\n",
      "1\n"
     ]
    }
   ],
   "source": [
    "A,B,d = list(map(int,input().split()))\n",
    "# A=4\n",
    "# B=3\n",
    "# d=2\n",
    "\n",
    "d_p = d\n",
    "arr= np.array([A-1,B-1]) # 시작위치\n",
    "ar[A-1,B-1]=1 # 시작위치 마킹\n",
    "s=1\n",
    "arrr = {0:np.array([-1,0]),1:np.array([0,1]),2:np.array([1,0]),3:np.array([0,-1])}\n",
    "while True:\n",
    "    \n",
    "    # 회전\n",
    "    for i in range(4):\n",
    "        d -= 1\n",
    "        if d == -1:\n",
    "            d = 3 \n",
    "        arr += arrr[d] #이동\n",
    "        if arr[0]<0 or arr[0]>N-1 or arr[1]<0 or arr[1]>M-1: # array밖\n",
    "            arr -= arrr[d] #복귀\n",
    "            continue\n",
    "        elif ar[arr[0],arr[1]]!=0: # 이동할 곳이 1이면\n",
    "            arr -= arrr[d] #복귀\n",
    "            continue\n",
    "        else: # 이동할 곳이 array 내이고 1이 아니면\n",
    "            ar[arr[0],arr[1]]=1 # 마킹\n",
    "            s+=1\n",
    "            break\n",
    "            \n",
    "    # 뒤돌기        \n",
    "    d -=2\n",
    "    if d==-2:\n",
    "        d=2\n",
    "        arr += arrr[d]\n",
    "        d=0\n",
    "        if ar_p[arr[0],arr[1]]!=0:\n",
    "            arr += arrr[d]\n",
    "            \n",
    "            break\n",
    "        else: #지나온길\n",
    "            ar[arr[0],arr[1]]=2 # 2로 마킹하면서 돌아감\n",
    "            continue\n",
    "    elif d==-1:\n",
    "        d=3\n",
    "        arr += arrr[d]\n",
    "        d=1\n",
    "        if ar_p[arr[0],arr[1]]!=0:\n",
    "            arr += arrr[d]\n",
    "            \n",
    "            break\n",
    "        else:\n",
    "            ar[arr[0],arr[1]]=2\n",
    "            continue\n",
    "    else:  # d=0 or d=1\n",
    "        arr += arrr[d]\n",
    "        d +=2\n",
    "        if ar_p[arr[0],arr[1]]!=0:\n",
    "            arr += arrr[d]\n",
    "            \n",
    "            break\n",
    "        else:\n",
    "            ar[arr[0],arr[1]]=2\n",
    "            continue\n",
    "\n",
    "print(ar_p,'\\n')\n",
    "print(ar, '\\n')\n",
    "print(s)"
   ]
  },
  {
   "cell_type": "code",
   "execution_count": 14,
   "id": "3c8645f7",
   "metadata": {},
   "outputs": [
    {
     "name": "stdout",
     "output_type": "stream",
     "text": [
      "[5, 2, 3, 1]\n",
      "[1, 3, 2, 5]\n"
     ]
    }
   ],
   "source": [
    "# 스택 : 박스 쌓기 비유, 선입후출 구조\n",
    "stack = []\n",
    "stack.append(5)\n",
    "stack.append(2)\n",
    "stack.append(3)\n",
    "stack.append(7)\n",
    "stack.pop() # 마지막에 들어간, 뒤에서부터 뺌\n",
    "stack.append(1)\n",
    "stack.append(4)\n",
    "stack.pop()\n",
    "# 5231\n",
    "print(stack)\n",
    "print(stack[::-1])"
   ]
  },
  {
   "cell_type": "code",
   "execution_count": 19,
   "id": "e71d4687",
   "metadata": {},
   "outputs": [
    {
     "name": "stdout",
     "output_type": "stream",
     "text": [
      "deque([3, 7, 1, 4])\n",
      "deque([4, 1, 7, 3])\n"
     ]
    }
   ],
   "source": [
    "# 큐 : 먼저 온 사람이 먼저 들어간다. 선입선출 구조\n",
    "from collections import deque\n",
    "queue = deque()\n",
    "queue.append(5)\n",
    "queue.append(2)\n",
    "queue.append(3)\n",
    "queue.append(7)\n",
    "queue.popleft() \n",
    "queue.append(1)\n",
    "queue.append(4)\n",
    "queue.popleft()\n",
    "print(queue)\n",
    "queue.reverse()\n",
    "print(queue)"
   ]
  },
  {
   "cell_type": "markdown",
   "id": "99cf1816",
   "metadata": {},
   "source": [
    "# Q75 N X M 크기의 얼음 틀로 한번에 만들 수 있는 아이스크림의 개수를 아래 입력조건에 따라 출력하는 프로그램을 DFS(Depth First Search)를 이용하여 작성하세요.\n",
    " \n",
    "- 입력조건\n",
    "  - 첫번째 줄에 얼음 틀의 세로 길이 N과 가로 길이 M이 주어진다.(1 <= N,M <= 1000)\n",
    "  - 두번째 줄부터 N+1번째 줄까지 얼음 틀의 형태가 주어진다.\n",
    "  - 이때 구멍이 뚫려있는 부분은 0 그렇지 않은 부분은 1이다.\n",
    "  - 구멍이 뚫려 있는 부분끼리 상, 하, 좌, 우로 붙어 있는 경우 서로 연결되어 있는 것으로 간주한다.\n"
   ]
  },
  {
   "cell_type": "markdown",
   "id": "3a3c5c8b",
   "metadata": {},
   "source": [
    "재귀랑 스택방식"
   ]
  },
  {
   "cell_type": "code",
   "execution_count": null,
   "id": "fab10930",
   "metadata": {},
   "outputs": [],
   "source": [
    "상하좌우\n",
    "\n"
   ]
  },
  {
   "cell_type": "code",
   "execution_count": 2,
   "id": "5f5cb173",
   "metadata": {
    "scrolled": false
   },
   "outputs": [
    {
     "name": "stdout",
     "output_type": "stream",
     "text": [
      "5 5\n",
      "공백으로 구분하여 5 X 5맵의 1번째 행의 칸들이 (0)인지 (1)인지 입력하세요\n",
      "0 0 1 1 0\n",
      "공백으로 구분하여 5 X 5맵의 2번째 행의 칸들이 (0)인지 (1)인지 입력하세요\n",
      "0 0 0 1 1\n",
      "공백으로 구분하여 5 X 5맵의 3번째 행의 칸들이 (0)인지 (1)인지 입력하세요\n",
      "1 1 1 1 1\n",
      "공백으로 구분하여 5 X 5맵의 4번째 행의 칸들이 (0)인지 (1)인지 입력하세요\n",
      "0 0 1 1 1\n",
      "공백으로 구분하여 5 X 5맵의 5번째 행의 칸들이 (0)인지 (1)인지 입력하세요\n",
      "1 1 0 0 0\n"
     ]
    }
   ],
   "source": [
    "N,M = list(map(int,input().split()))\n",
    "mold=[]\n",
    "for i in range(M):\n",
    "    m = list(map(int,input(f'공백으로 구분하여 {N} X {M}맵의 {i+1}번째 행의 칸들이 (0)인지 (1)인지 입력하세요\\n').split(' ')))\n",
    "    mold.append(m)\n",
    "# 총 아이스크림 개수?\n",
    "# dfs 검색 해보셈"
   ]
  },
  {
   "cell_type": "code",
   "execution_count": 3,
   "id": "ffb8a92a",
   "metadata": {
    "scrolled": true
   },
   "outputs": [
    {
     "data": {
      "text/plain": [
       "[[0, 0, 1, 1, 0],\n",
       " [0, 0, 0, 1, 1],\n",
       " [1, 1, 1, 1, 1],\n",
       " [0, 0, 1, 1, 1],\n",
       " [1, 1, 0, 0, 0]]"
      ]
     },
     "execution_count": 3,
     "metadata": {},
     "output_type": "execute_result"
    }
   ],
   "source": [
    "mold"
   ]
  },
  {
   "cell_type": "code",
   "execution_count": 5,
   "id": "4fe4bcad",
   "metadata": {},
   "outputs": [
    {
     "name": "stdout",
     "output_type": "stream",
     "text": [
      "얼음개수 4\n"
     ]
    }
   ],
   "source": [
    "def dfs(x,y):\n",
    "    if x<0 or x>N-1 or y<0 or y>M-1:\n",
    "        return False\n",
    "    \n",
    "    elif mold[x][y]==0:\n",
    "        mold[x][y]=1\n",
    "        dfs(x+1,y)\n",
    "        dfs(x-1,y)\n",
    "        dfs(x,y+1)\n",
    "        dfs(x,y-1)\n",
    "        return True\n",
    "    \n",
    "    return False #원래 1인경우\n",
    "s=0\n",
    "for i in range(N):\n",
    "    for j in range(M):\n",
    "        if dfs(i,j)==True:\n",
    "            s+=1\n",
    "print('얼음개수',s)"
   ]
  },
  {
   "cell_type": "code",
   "execution_count": null,
   "id": "cf8fb8cb",
   "metadata": {},
   "outputs": [],
   "source": [
    "N=5\n",
    "M=5\n",
    "00110\n",
    "00011\n",
    "11111\n",
    "00111\n",
    "11000\n",
    "4개"
   ]
  },
  {
   "cell_type": "code",
   "execution_count": 14,
   "id": "08377455",
   "metadata": {},
   "outputs": [
    {
     "name": "stdout",
     "output_type": "stream",
     "text": [
      "1 번째 재귀함수에서 2 번째 재귀함수를 호출합니다.\n",
      "2 번째 재귀함수에서 3 번째 재귀함수를 호출합니다.\n",
      "3 번째 재귀함수에서 4 번째 재귀함수를 호출합니다.\n",
      "4 번째 재귀함수에서 5 번째 재귀함수를 호출합니다.\n",
      "4 번째 재귀함수를 호출합니다.\n",
      "3 번째 재귀함수를 호출합니다.\n",
      "2 번째 재귀함수를 호출합니다.\n",
      "1 번째 재귀함수를 호출합니다.\n"
     ]
    }
   ],
   "source": [
    "def recursive_function(i):\n",
    "    if i == 5:\n",
    "        return\n",
    "    print(i,'번째 재귀함수에서', i+1,'번째 재귀함수를 호출합니다.')\n",
    "    recursive_function(i+1)\n",
    "    print(i,'번째 재귀함수를 호출합니다.')\n",
    "recursive_function(1)"
   ]
  },
  {
   "cell_type": "markdown",
   "id": "200c11de",
   "metadata": {},
   "source": [
    "# Q76. 재귀함수를 이용하여 10! 출력하세요"
   ]
  },
  {
   "cell_type": "code",
   "execution_count": 18,
   "id": "873d2536",
   "metadata": {},
   "outputs": [
    {
     "data": {
      "text/plain": [
       "3628800"
      ]
     },
     "execution_count": 18,
     "metadata": {},
     "output_type": "execute_result"
    }
   ],
   "source": [
    "def factorial_iterative(n):\n",
    "    result = 1\n",
    "    for i in range(1,n+1):\n",
    "        result *=i\n",
    "    return result\n",
    "factorial_iterative(10)"
   ]
  },
  {
   "cell_type": "code",
   "execution_count": 24,
   "id": "3372c2ea",
   "metadata": {
    "scrolled": true
   },
   "outputs": [
    {
     "data": {
      "text/plain": [
       "3628800"
      ]
     },
     "execution_count": 24,
     "metadata": {},
     "output_type": "execute_result"
    }
   ],
   "source": [
    "def fac(n):\n",
    "    if n==0 or n==1:\n",
    "        return 1\n",
    "    else:\n",
    "        return fac(n-1)*n\n",
    "fac(10)"
   ]
  },
  {
   "cell_type": "markdown",
   "id": "557fdaf1",
   "metadata": {},
   "source": [
    "#  Q77.N X M 크기의 미로에는 여러마리의 괴물이 있어 이를 피해 탈출해야 한다. 주인공의 위치는 (0,0)이고 미로의 출구는 (N-1,M-1)의 위치에 존재하며 한번에 한칸씩 이동할 수 있다. 괴물이 있는 부분은 0, 없는 부분은 1로 표시되어 있으며 미로는 반드시 탈출할 수 있는 형태로 제시된다. 주인공이 탈출하기 위해 움직여야 하는 최소 칸의 개수를 구하세요. 칸을 셀 때는 시작 칸과 마지막 칸을 모두 포함하여 계산하고 입력 조건은 아래와 같다.(BFS를 이용)\n",
    "- 첫째 줄에 두 정수 N,M(4<=N,M<=200)이 주어진다. \n",
    "- 다음 N개의 줄에는 각각 M개의 정수(0 혹은 1)로 미로의 정보가 주어진다. 각각의 수들은 공백없이 붙여서 입력으로 제시된다. \n",
    "- 또한 시작칸과 마지막칸은 항상 1이다.\n",
    "\n"
   ]
  },
  {
   "cell_type": "code",
   "execution_count": null,
   "id": "6b631775",
   "metadata": {},
   "outputs": [],
   "source": [
    "맵 전체 훑기 \n",
    "\n",
    "탈출하기 위한 최소 칸의 수는? 시작과 마지막 포함\n",
    "5 5\n",
    "11011\n",
    "01011\n",
    "01111\n",
    "11011\n",
    "10111\n",
    "1은 길 \n",
    "0은 괴물\n",
    "답 9 \n",
    "큐 사용\n",
    "선입선출"
   ]
  },
  {
   "cell_type": "code",
   "execution_count": 96,
   "id": "977181e0",
   "metadata": {
    "scrolled": true
   },
   "outputs": [
    {
     "name": "stdout",
     "output_type": "stream",
     "text": [
      "5 5\n",
      "공백으로 구분하여 5 X 5맵의 1번째 행의 칸들이 (0)인지 (1)인지 입력하세요\n",
      "1 1 0 1 1\n",
      "공백으로 구분하여 5 X 5맵의 2번째 행의 칸들이 (0)인지 (1)인지 입력하세요\n",
      "0 1 0 1 1\n",
      "공백으로 구분하여 5 X 5맵의 3번째 행의 칸들이 (0)인지 (1)인지 입력하세요\n",
      "0 1 1 1 1\n",
      "공백으로 구분하여 5 X 5맵의 4번째 행의 칸들이 (0)인지 (1)인지 입력하세요\n",
      "1 1 0 1 1\n",
      "공백으로 구분하여 5 X 5맵의 5번째 행의 칸들이 (0)인지 (1)인지 입력하세요\n",
      "1 0 1 1 1\n"
     ]
    }
   ],
   "source": [
    "N,M = list(map(int,input().split()))\n",
    "f=[]\n",
    "for i in range(M):\n",
    "    m = list(map(int,input(f'공백으로 구분하여 {N} X {M}맵의 {i+1}번째 행의 칸들이 (0)인지 (1)인지 입력하세요\\n').split(' ')))\n",
    "    f.append(m)"
   ]
  },
  {
   "cell_type": "code",
   "execution_count": 8,
   "id": "33e4e150",
   "metadata": {
    "ExecuteTime": {
     "end_time": "2022-09-01T00:32:13.797497Z",
     "start_time": "2022-09-01T00:32:13.791982Z"
    }
   },
   "outputs": [],
   "source": [
    "N,M=5,5\n",
    "f=[[1,1,0,1,1],[0,1,0,1,1],[0,1,1,1,1],[1,1,0,1,1],[1,0,1,1,1]]"
   ]
  },
  {
   "cell_type": "code",
   "execution_count": 10,
   "id": "6206a2f5",
   "metadata": {
    "ExecuteTime": {
     "end_time": "2022-09-01T00:33:16.626144Z",
     "start_time": "2022-09-01T00:33:16.615144Z"
    },
    "scrolled": true
   },
   "outputs": [
    {
     "name": "stdout",
     "output_type": "stream",
     "text": [
      "9\n"
     ]
    }
   ],
   "source": [
    "from collections import deque\n",
    "\n",
    "# 방향 정보(상하좌우)\n",
    "dx = [-1,1,0,0]\n",
    "dy = [0,0,-1,1]\n",
    "\n",
    "# 출발 노드\n",
    "q = deque()\n",
    "q.append([0,0])\n",
    "# 혹은 deque([(0,0)])\n",
    "\n",
    "while q :\n",
    "  # 큐에서 하나의 원소를 꺼내서 출력\n",
    "  x, y = q.popleft()\n",
    "\n",
    "  # 꺼낸 원소와 인접노드 확인\n",
    "  for i in range(len(dx)):\n",
    "    nx = x+dx[i]\n",
    "    ny = y+dy[i]\n",
    "\n",
    "    # 범위를 벗어난 노드 무시\n",
    "    if nx>N-1 or ny>M-1 or nx<0 or ny<0 :\n",
    "        continue\n",
    "\n",
    "    # 아직 방문하지 않은 노드라면\n",
    "    # 처음 방문하는 경우가 바로 최단거리다\n",
    "    if f[nx][ny]==1:\n",
    "        q.append((nx,ny))\n",
    "        f[nx][ny] = f[x][y]+1 # 직전 노드+1\n",
    "        \n",
    "\n",
    "print(f[N-1][M-1])"
   ]
  },
  {
   "cell_type": "code",
   "execution_count": null,
   "id": "d6e37f89",
   "metadata": {},
   "outputs": [],
   "source": []
  },
  {
   "cell_type": "markdown",
   "id": "5bf5fc6d",
   "metadata": {},
   "source": [
    "# 소수란 2보다 큰 자연수 중에서 1과 자신을 제외한 자연수로 나누어 떨어지지 않은 자연수이다. 어떠한 자연수가 소수인지 아닌지 판별하는 프로그램을 작성하세요."
   ]
  },
  {
   "cell_type": "code",
   "execution_count": 11,
   "id": "f63aaf6c",
   "metadata": {
    "ExecuteTime": {
     "end_time": "2022-09-01T00:35:44.709312Z",
     "start_time": "2022-09-01T00:35:43.879750Z"
    }
   },
   "outputs": [
    {
     "name": "stdout",
     "output_type": "stream",
     "text": [
      "31\n",
      "31 : 소수\n"
     ]
    }
   ],
   "source": [
    "n = int(input())\n",
    "for i in range(2,n):\n",
    "    if n%i==0:\n",
    "        print(n,': 소수x')\n",
    "        break\n",
    "    else:\n",
    "        print(n,': 소수')\n",
    "        break"
   ]
  },
  {
   "cell_type": "code",
   "execution_count": 15,
   "id": "f8b961d8",
   "metadata": {
    "ExecuteTime": {
     "end_time": "2022-09-01T00:36:15.192687Z",
     "start_time": "2022-09-01T00:36:15.187688Z"
    }
   },
   "outputs": [],
   "source": [
    "def prime(n):\n",
    "    is_d = [ n%i == i for i in range(2,n) ]\n",
    "    print(is_d)\n",
    "    if any(is_d or (n in [0,1])):\n",
    "        print(n,': 소수x')\n",
    "    else:\n",
    "        print(n,': 소수')"
   ]
  },
  {
   "cell_type": "code",
   "execution_count": 16,
   "id": "9eecb497",
   "metadata": {
    "ExecuteTime": {
     "end_time": "2022-09-01T00:36:17.211848Z",
     "start_time": "2022-09-01T00:36:17.206780Z"
    }
   },
   "outputs": [
    {
     "name": "stdout",
     "output_type": "stream",
     "text": [
      "[False, False, False, False, False, False, False, False, False, False, False, False, False, False, False, False, False, False, False, False, False, False, False, False, False, False, False, False, False]\n",
      "31 : 소수\n"
     ]
    }
   ],
   "source": [
    "prime(31)"
   ]
  },
  {
   "cell_type": "markdown",
   "id": "c3cf9381",
   "metadata": {},
   "source": [
    "# Q79.\n",
    "M 이상 N 이하의 소수를 모두 출력하는 프로그램을 작성하세요.\n",
    "- 입력조건\n",
    "  - 첫째 줄에 자연수 M과 N이 빈칸을 사이에 두고 주어진다.(1<=M<=N<=1,000,000)\n",
    "  - 단 M이상 N 이하의 소수가 하나 이상 있는 입력만 주어진다.\n"
   ]
  },
  {
   "cell_type": "code",
   "execution_count": null,
   "id": "978cdd2f",
   "metadata": {},
   "outputs": [],
   "source": [
    "1<=M<=n<=N<=1000000\n",
    "소수 n 출력"
   ]
  },
  {
   "cell_type": "code",
   "execution_count": null,
   "id": "1df174d0",
   "metadata": {},
   "outputs": [],
   "source": [
    "str 적용 해결"
   ]
  },
  {
   "cell_type": "code",
   "execution_count": 2,
   "id": "cf3ed8e6",
   "metadata": {
    "ExecuteTime": {
     "end_time": "2022-09-02T00:30:56.649513Z",
     "start_time": "2022-09-02T00:30:54.013184Z"
    }
   },
   "outputs": [
    {
     "name": "stdout",
     "output_type": "stream",
     "text": [
      "1 100\n"
     ]
    },
    {
     "ename": "TypeError",
     "evalue": "'bool' object is not iterable",
     "output_type": "error",
     "traceback": [
      "\u001b[1;31m---------------------------------------------------------------------------\u001b[0m",
      "\u001b[1;31mTypeError\u001b[0m                                 Traceback (most recent call last)",
      "Input \u001b[1;32mIn [2]\u001b[0m, in \u001b[0;36m<cell line: 12>\u001b[1;34m()\u001b[0m\n\u001b[0;32m      9\u001b[0m     \u001b[38;5;28;01mreturn\u001b[39;00m li\n\u001b[0;32m     11\u001b[0m M,N \u001b[38;5;241m=\u001b[39m \u001b[38;5;28mlist\u001b[39m(\u001b[38;5;28mmap\u001b[39m(\u001b[38;5;28mint\u001b[39m, \u001b[38;5;28minput\u001b[39m()\u001b[38;5;241m.\u001b[39msplit(\u001b[38;5;124m'\u001b[39m\u001b[38;5;124m \u001b[39m\u001b[38;5;124m'\u001b[39m)))\n\u001b[1;32m---> 12\u001b[0m \u001b[43mp\u001b[49m\u001b[43m(\u001b[49m\u001b[43mM\u001b[49m\u001b[43m,\u001b[49m\u001b[43mN\u001b[49m\u001b[43m)\u001b[49m\n",
      "Input \u001b[1;32mIn [2]\u001b[0m, in \u001b[0;36mp\u001b[1;34m(M, N)\u001b[0m\n\u001b[0;32m      3\u001b[0m \u001b[38;5;28;01mfor\u001b[39;00m n \u001b[38;5;129;01min\u001b[39;00m \u001b[38;5;28mrange\u001b[39m(M,N\u001b[38;5;241m+\u001b[39m\u001b[38;5;241m1\u001b[39m):\n\u001b[0;32m      4\u001b[0m     is_p \u001b[38;5;241m=\u001b[39m [ n\u001b[38;5;241m%\u001b[39mi \u001b[38;5;241m==\u001b[39m i \u001b[38;5;28;01mfor\u001b[39;00m i \u001b[38;5;129;01min\u001b[39;00m \u001b[38;5;28mrange\u001b[39m(\u001b[38;5;241m2\u001b[39m,n)]\n\u001b[1;32m----> 5\u001b[0m     \u001b[38;5;28;01mif\u001b[39;00m \u001b[38;5;28;43many\u001b[39;49m\u001b[43m(\u001b[49m\u001b[43mis_p\u001b[49m\u001b[43m \u001b[49m\u001b[38;5;129;43;01mor\u001b[39;49;00m\u001b[43m \u001b[49m\u001b[43m(\u001b[49m\u001b[43mn\u001b[49m\u001b[43m \u001b[49m\u001b[38;5;129;43;01min\u001b[39;49;00m\u001b[43m \u001b[49m\u001b[43m[\u001b[49m\u001b[38;5;241;43m0\u001b[39;49m\u001b[43m,\u001b[49m\u001b[38;5;241;43m1\u001b[39;49m\u001b[43m]\u001b[49m\u001b[43m)\u001b[49m\u001b[43m)\u001b[49m: \n\u001b[0;32m      6\u001b[0m         \u001b[38;5;28;01mcontinue\u001b[39;00m\n\u001b[0;32m      7\u001b[0m     \u001b[38;5;28;01melse\u001b[39;00m:\n",
      "\u001b[1;31mTypeError\u001b[0m: 'bool' object is not iterable"
     ]
    }
   ],
   "source": [
    "def p(M,N):\n",
    "    li=[]\n",
    "    for n in range(M,N+1):\n",
    "        is_p = [ n%i == i for i in range(2,n)]\n",
    "        if any(is_p or (n in [0,1])): \n",
    "            continue\n",
    "        else:\n",
    "            li.append(n)\n",
    "    return li\n",
    "\n",
    "M,N = list(map(int, input().split(' ')))\n",
    "p(M,N)"
   ]
  },
  {
   "cell_type": "code",
   "execution_count": 11,
   "id": "9b809127",
   "metadata": {
    "ExecuteTime": {
     "end_time": "2022-09-01T16:58:18.466011Z",
     "start_time": "2022-09-01T16:58:15.908031Z"
    }
   },
   "outputs": [
    {
     "name": "stdout",
     "output_type": "stream",
     "text": [
      "1 100\n"
     ]
    },
    {
     "ename": "TypeError",
     "evalue": "'bool' object is not iterable",
     "output_type": "error",
     "traceback": [
      "\u001b[1;31m---------------------------------------------------------------------------\u001b[0m",
      "\u001b[1;31mTypeError\u001b[0m                                 Traceback (most recent call last)",
      "Input \u001b[1;32mIn [11]\u001b[0m, in \u001b[0;36m<cell line: 4>\u001b[1;34m()\u001b[0m\n\u001b[0;32m      1\u001b[0m M,N \u001b[38;5;241m=\u001b[39m \u001b[38;5;28mlist\u001b[39m(\u001b[38;5;28mmap\u001b[39m(\u001b[38;5;28mint\u001b[39m, \u001b[38;5;28minput\u001b[39m()\u001b[38;5;241m.\u001b[39msplit(\u001b[38;5;124m'\u001b[39m\u001b[38;5;124m \u001b[39m\u001b[38;5;124m'\u001b[39m)))\n\u001b[0;32m      2\u001b[0m \u001b[38;5;66;03m# if any(is_d):\u001b[39;00m\n\u001b[0;32m      3\u001b[0m \u001b[38;5;66;03m#         print('1<=M<= n <=N<=1,000,000 소수 n 존재x')\u001b[39;00m\n\u001b[1;32m----> 4\u001b[0m \u001b[43mp\u001b[49m\u001b[43m(\u001b[49m\u001b[43mM\u001b[49m\u001b[43m,\u001b[49m\u001b[43mN\u001b[49m\u001b[43m)\u001b[49m\n",
      "Input \u001b[1;32mIn [10]\u001b[0m, in \u001b[0;36mp\u001b[1;34m(M, N)\u001b[0m\n\u001b[0;32m      4\u001b[0m \u001b[38;5;28;01mfor\u001b[39;00m n \u001b[38;5;129;01min\u001b[39;00m \u001b[38;5;28mrange\u001b[39m(M,N\u001b[38;5;241m+\u001b[39m\u001b[38;5;241m1\u001b[39m):\n\u001b[0;32m      5\u001b[0m     is_p \u001b[38;5;241m=\u001b[39m [ n\u001b[38;5;241m%\u001b[39mi \u001b[38;5;241m==\u001b[39m i \u001b[38;5;28;01mfor\u001b[39;00m i \u001b[38;5;129;01min\u001b[39;00m \u001b[38;5;28mrange\u001b[39m(\u001b[38;5;241m2\u001b[39m,n)]\n\u001b[1;32m----> 6\u001b[0m     \u001b[38;5;28;01mif\u001b[39;00m \u001b[38;5;28;43many\u001b[39;49m\u001b[43m(\u001b[49m\u001b[43mis_p\u001b[49m\u001b[43m \u001b[49m\u001b[38;5;129;43;01mor\u001b[39;49;00m\u001b[43m \u001b[49m\u001b[43m(\u001b[49m\u001b[43mn\u001b[49m\u001b[43m \u001b[49m\u001b[38;5;129;43;01min\u001b[39;49;00m\u001b[43m \u001b[49m\u001b[43m[\u001b[49m\u001b[38;5;241;43m0\u001b[39;49m\u001b[43m,\u001b[49m\u001b[38;5;241;43m1\u001b[39;49m\u001b[43m]\u001b[49m\u001b[43m)\u001b[49m\u001b[43m)\u001b[49m:\n\u001b[0;32m      8\u001b[0m         \u001b[38;5;28;01mcontinue\u001b[39;00m\n\u001b[0;32m      9\u001b[0m     \u001b[38;5;28;01melse\u001b[39;00m:\n",
      "\u001b[1;31mTypeError\u001b[0m: 'bool' object is not iterable"
     ]
    }
   ],
   "source": [
    "M,N = list(map(int, input().split(' ')))\n",
    "# if any(is_d):\n",
    "#         print('1<=M<= n <=N<=1,000,000 소수 n 존재x')\n",
    "p(M,N)"
   ]
  },
  {
   "cell_type": "code",
   "execution_count": 25,
   "id": "bb8bdad0",
   "metadata": {
    "ExecuteTime": {
     "end_time": "2022-09-01T01:07:02.026708Z",
     "start_time": "2022-09-01T01:06:59.025914Z"
    }
   },
   "outputs": [
    {
     "name": "stdout",
     "output_type": "stream",
     "text": [
      "1 100\n",
      "[]\n"
     ]
    },
    {
     "ename": "TypeError",
     "evalue": "'bool' object is not iterable",
     "output_type": "error",
     "traceback": [
      "\u001b[1;31m---------------------------------------------------------------------------\u001b[0m",
      "\u001b[1;31mTypeError\u001b[0m                                 Traceback (most recent call last)",
      "Input \u001b[1;32mIn [25]\u001b[0m, in \u001b[0;36m<cell line: 13>\u001b[1;34m()\u001b[0m\n\u001b[0;32m     12\u001b[0m \u001b[38;5;28;01mwhile\u001b[39;00m \u001b[38;5;28;01mTrue\u001b[39;00m:\n\u001b[0;32m     13\u001b[0m     M,N \u001b[38;5;241m=\u001b[39m \u001b[38;5;28mlist\u001b[39m(\u001b[38;5;28mmap\u001b[39m(\u001b[38;5;28mint\u001b[39m, \u001b[38;5;28minput\u001b[39m()\u001b[38;5;241m.\u001b[39msplit(\u001b[38;5;124m'\u001b[39m\u001b[38;5;124m \u001b[39m\u001b[38;5;124m'\u001b[39m)))\n\u001b[1;32m---> 14\u001b[0m     is_d \u001b[38;5;241m=\u001b[39m [ prime(i) \u001b[38;5;28;01mfor\u001b[39;00m i \u001b[38;5;129;01min\u001b[39;00m \u001b[38;5;28mrange\u001b[39m(M,N)]\n\u001b[0;32m     16\u001b[0m     \u001b[38;5;28;01mif\u001b[39;00m \u001b[38;5;28many\u001b[39m(is_d):\n\u001b[0;32m     17\u001b[0m         \u001b[38;5;28mprint\u001b[39m(\u001b[38;5;124m'\u001b[39m\u001b[38;5;124m1<=M<= n <=N<=1,000,000 소수 n 존재x\u001b[39m\u001b[38;5;124m'\u001b[39m)\n",
      "Input \u001b[1;32mIn [25]\u001b[0m, in \u001b[0;36m<listcomp>\u001b[1;34m(.0)\u001b[0m\n\u001b[0;32m     12\u001b[0m \u001b[38;5;28;01mwhile\u001b[39;00m \u001b[38;5;28;01mTrue\u001b[39;00m:\n\u001b[0;32m     13\u001b[0m     M,N \u001b[38;5;241m=\u001b[39m \u001b[38;5;28mlist\u001b[39m(\u001b[38;5;28mmap\u001b[39m(\u001b[38;5;28mint\u001b[39m, \u001b[38;5;28minput\u001b[39m()\u001b[38;5;241m.\u001b[39msplit(\u001b[38;5;124m'\u001b[39m\u001b[38;5;124m \u001b[39m\u001b[38;5;124m'\u001b[39m)))\n\u001b[1;32m---> 14\u001b[0m     is_d \u001b[38;5;241m=\u001b[39m [ \u001b[43mprime\u001b[49m\u001b[43m(\u001b[49m\u001b[43mi\u001b[49m\u001b[43m)\u001b[49m \u001b[38;5;28;01mfor\u001b[39;00m i \u001b[38;5;129;01min\u001b[39;00m \u001b[38;5;28mrange\u001b[39m(M,N)]\n\u001b[0;32m     16\u001b[0m     \u001b[38;5;28;01mif\u001b[39;00m \u001b[38;5;28many\u001b[39m(is_d):\n\u001b[0;32m     17\u001b[0m         \u001b[38;5;28mprint\u001b[39m(\u001b[38;5;124m'\u001b[39m\u001b[38;5;124m1<=M<= n <=N<=1,000,000 소수 n 존재x\u001b[39m\u001b[38;5;124m'\u001b[39m)\n",
      "Input \u001b[1;32mIn [25]\u001b[0m, in \u001b[0;36mprime\u001b[1;34m(n)\u001b[0m\n\u001b[0;32m      3\u001b[0m is_d \u001b[38;5;241m=\u001b[39m [ n\u001b[38;5;241m%\u001b[39mi \u001b[38;5;241m==\u001b[39m i \u001b[38;5;28;01mfor\u001b[39;00m i \u001b[38;5;129;01min\u001b[39;00m \u001b[38;5;28mrange\u001b[39m(\u001b[38;5;241m2\u001b[39m,n) ]\n\u001b[0;32m      4\u001b[0m \u001b[38;5;28mprint\u001b[39m(is_d)\n\u001b[1;32m----> 5\u001b[0m \u001b[38;5;28;01mif\u001b[39;00m \u001b[38;5;28;43many\u001b[39;49m\u001b[43m(\u001b[49m\u001b[43mis_d\u001b[49m\u001b[43m \u001b[49m\u001b[38;5;129;43;01mor\u001b[39;49;00m\u001b[43m \u001b[49m\u001b[43m(\u001b[49m\u001b[43mn\u001b[49m\u001b[43m \u001b[49m\u001b[38;5;129;43;01min\u001b[39;49;00m\u001b[43m \u001b[49m\u001b[43m[\u001b[49m\u001b[38;5;241;43m0\u001b[39;49m\u001b[43m,\u001b[49m\u001b[38;5;241;43m1\u001b[39;49m\u001b[43m]\u001b[49m\u001b[43m)\u001b[49m\u001b[43m)\u001b[49m:\n\u001b[0;32m      6\u001b[0m     \u001b[38;5;28;01mreturn\u001b[39;00m \u001b[38;5;124m'\u001b[39m\u001b[38;5;124mF\u001b[39m\u001b[38;5;124m'\u001b[39m\n\u001b[0;32m      7\u001b[0m \u001b[38;5;28;01melse\u001b[39;00m:\n",
      "\u001b[1;31mTypeError\u001b[0m: 'bool' object is not iterable"
     ]
    }
   ],
   "source": [
    "# n 이 소수면 True\n",
    "def prime(n):\n",
    "    is_d = [ n%i == i for i in range(2,n) ]\n",
    "#     print(is_d)\n",
    "    if any(is_d or (n in [0,1])):\n",
    "        return False\n",
    "    else:\n",
    "        return True\n",
    "\n",
    "li=[]\n",
    "# is_d=[]\n",
    "M,N = list(map(int, input().split(' ')))\n",
    "is_d = [ prime(i) for i in range(M,N)]\n",
    "while True:\n",
    "    if any(is_d):\n",
    "        print('1<=M<= n <=N<=1,000,000 소수 n 존재x')\n",
    "        continue\n",
    "    else:\n",
    "        for j in range(M,N):\n",
    "            for k in range(2,j):\n",
    "                if j%k==0:\n",
    "                    break\n",
    "                else:\n",
    "                    li.append(j)\n",
    "                    break\n",
    "    print(li)\n",
    "    break"
   ]
  },
  {
   "cell_type": "markdown",
   "id": "ff82e5b5",
   "metadata": {},
   "source": [
    "# Q80.\n",
    "\n",
    "암호는 서로 다른 L개의 알파벳 소문자들로 구성되며 최소 한 개의 모음(a, e, i, o, u)과 최소 두 개의 자음으로 구성되어 있다고 알려져 있다. 또한 정렬된 문자열을 선호하는 직원들의 성향으로 미루어 보아 암호를 이루는 알파벳이 암호에서 증가하는 순서로 배열되었을 것이라고 추측된다. 즉, abc는 가능성이 있는 암호이지만 bac는 그렇지 않다. 새 보안 시스템에서 직원들이 암호로 사용했을 법한 문자의 종류는 C가지가 있다고 한다. 이 알파벳을 입수한 james, kevin 형제는 직원들의 방에 침투하기 위해 암호를 추측해 보려고 한다. C개의 문자들이 모두 주어졌을 때, 가능성 있는 암호들을 모두 구하는 프로그램을 다음 사항에 유의하여 작성하시오.\n",
    "- 첫째 줄에 두 정수 L, C가 주어진다. (3 ≤ L ≤ C ≤ 15) 다음 줄에는 C개의 문자들이 공백으로 구분되어 주어진다. 주어지는 문자들은 알파벳 소문자이며, 중복되는 것은 없다.\n",
    "- 각 줄에 하나씩, 사전식으로 가능성 있는 암호를 모두 출력한다.\n"
   ]
  },
  {
   "cell_type": "code",
   "execution_count": null,
   "id": "50b52364",
   "metadata": {},
   "outputs": [],
   "source": [
    "#이해가 안되는딩 . .  총 C 개의 알파벳을 입력하고 그중에서 L개의 알파벳으로 조합을 만드는건가"
   ]
  },
  {
   "cell_type": "code",
   "execution_count": null,
   "id": "6f7d6a82",
   "metadata": {},
   "outputs": [],
   "source": [
    "l 개의 소문자\n",
    "최소 한개의 모음 2개의 자음\n",
    "중복불가 순서대로 배치\n",
    "총 c 가지 조합\n",
    "26개의 알파벳\n",
    "5개의 모음\n",
    "21개의 자음"
   ]
  },
  {
   "cell_type": "code",
   "execution_count": 4,
   "id": "844ca413",
   "metadata": {
    "ExecuteTime": {
     "end_time": "2022-09-05T00:46:16.977499Z",
     "start_time": "2022-09-05T00:46:16.963500Z"
    }
   },
   "outputs": [],
   "source": [
    "from itertools import combinations"
   ]
  },
  {
   "cell_type": "code",
   "execution_count": 69,
   "id": "31d9ee8b",
   "metadata": {
    "ExecuteTime": {
     "end_time": "2022-09-05T05:21:21.184967Z",
     "start_time": "2022-09-05T05:21:17.201633Z"
    },
    "scrolled": true
   },
   "outputs": [
    {
     "name": "stdout",
     "output_type": "stream",
     "text": [
      "4 6\n",
      "6개의 알파벳 입력a t e w s i\n",
      "aetw\n",
      "aest\n",
      "astw\n",
      "aitw\n",
      "aist\n",
      "aesw\n",
      "aisw\n",
      "estw\n",
      "eitw\n",
      "eist\n",
      "istw\n",
      "eisw\n"
     ]
    }
   ],
   "source": [
    "v=['a','e','i','o','u']\n",
    "while True:\n",
    "    L,C = map(int,input().split(' '))\n",
    "    D = list(input(f'{C}개의 알파벳 입력').split(' '))\n",
    "    \n",
    "    # 모음\n",
    "    vo=[]\n",
    "    for i in v:\n",
    "        if i in D:\n",
    "            vo.append(i)\n",
    "        \n",
    "    if len(set(D)) != C:\n",
    "        print(f'중복없이 {C}개 다시 입력')\n",
    "        continue\n",
    "    elif len(vo)<1:\n",
    "        print('모음 한 개 이상 입력')\n",
    "        continue\n",
    "    elif C-len(vo)<2:\n",
    "        print('자음 두 개 이상 입력')\n",
    "    else:\n",
    "        break\n",
    "    \n",
    "t = list(combinations(D,L))\n",
    "v_n=0\n",
    "li=[]\n",
    "for i in range(len(t)):\n",
    "    for j in t[i]:\n",
    "        if j in v:#조합 내 모음 있으면 v_n +1\n",
    "            v_n +=1\n",
    "        \n",
    "    if v_n<1 or L-v_n<2:\n",
    "        v_n=0\n",
    "        continue\n",
    "    else:\n",
    "        w = sorted(t[i])\n",
    "        w = ''.join(w)\n",
    "        li.append(w)\n",
    "        v_n=0\n",
    "\n",
    "for i in range(0,len(li)):\n",
    "    print(li[i])\n"
   ]
  },
  {
   "cell_type": "markdown",
   "id": "721c3a7b",
   "metadata": {},
   "source": [
    "# Q81.\n",
    "파이썬의 itertools 라이브러리를 활용하여 리스트 data = ['A','B','C']로 부터 아래 문제를 풀어보세요.\n",
    "- 3개를 뽑아 나열하는 모든 경우를 출력하세요(중복 허용안됨)\n",
    "- 3개를 뽑아 나열하는 모든 경우를 출력하세요(중복 허용)\n",
    "- 3개를 뽑아 순서에 상관없이 나열하는 모든 경우를 출력하세요(중복 허용안됨)\n",
    "- 3개를 뽑아 순서에 상관없이 나열하는 모든 경우를 출력하세요(중복 허용)\n"
   ]
  },
  {
   "cell_type": "code",
   "execution_count": 70,
   "id": "acd22253",
   "metadata": {
    "ExecuteTime": {
     "end_time": "2022-09-05T05:23:44.794581Z",
     "start_time": "2022-09-05T05:23:44.787554Z"
    }
   },
   "outputs": [
    {
     "name": "stdout",
     "output_type": "stream",
     "text": [
      "Object `itertools` not found.\n"
     ]
    }
   ],
   "source": [
    "itertools"
   ]
  },
  {
   "cell_type": "code",
   "execution_count": 1,
   "id": "dfef197b",
   "metadata": {
    "ExecuteTime": {
     "end_time": "2022-09-07T00:01:13.964458Z",
     "start_time": "2022-09-07T00:01:13.946819Z"
    }
   },
   "outputs": [
    {
     "name": "stdout",
     "output_type": "stream",
     "text": [
      "3개를 뽑아 나열하는 모든 경우를 출력하세요(중복 허용안됨):\n",
      "[('A', 'B', 'C'), ('A', 'C', 'B'), ('B', 'A', 'C'), ('B', 'C', 'A'), ('C', 'A', 'B'), ('C', 'B', 'A')] \n",
      " 3개를 뽑아 나열하는 모든 경우를 출력하세요(중복 허용):\n",
      "[('A', 'A', 'A'), ('A', 'A', 'B'), ('A', 'A', 'C'), ('A', 'B', 'A'), ('A', 'B', 'B'), ('A', 'B', 'C'), ('A', 'C', 'A'), ('A', 'C', 'B'), ('A', 'C', 'C'), ('B', 'A', 'A'), ('B', 'A', 'B'), ('B', 'A', 'C'), ('B', 'B', 'A'), ('B', 'B', 'B'), ('B', 'B', 'C'), ('B', 'C', 'A'), ('B', 'C', 'B'), ('B', 'C', 'C'), ('C', 'A', 'A'), ('C', 'A', 'B'), ('C', 'A', 'C'), ('C', 'B', 'A'), ('C', 'B', 'B'), ('C', 'B', 'C'), ('C', 'C', 'A'), ('C', 'C', 'B'), ('C', 'C', 'C')] \n",
      " 3개를 뽑아 순서에 상관없이 나열하는 모든 경우를 출력하세요(중복 허용안됨):\n",
      "[('A', 'B', 'C')] \n",
      " 3개를 뽑아 순서에 상관없이 나열하는 모든 경우를 출력하세요(중복 허용):\n",
      "[('A', 'A', 'A'), ('A', 'A', 'B'), ('A', 'A', 'C'), ('A', 'B', 'B'), ('A', 'B', 'C'), ('A', 'C', 'C'), ('B', 'B', 'B'), ('B', 'B', 'C'), ('B', 'C', 'C'), ('C', 'C', 'C')]\n"
     ]
    }
   ],
   "source": [
    "import itertools\n",
    "\n",
    "# from itertools import \n",
    "\n",
    "data = ['A','B','C']\n",
    "#1\n",
    "a = list(itertools.permutations(data,3))\n",
    "#2\n",
    "b = list(itertools.product(data,repeat=3))\n",
    "#3\n",
    "c = list(itertools.combinations(data,3))\n",
    "#4\n",
    "d = list(itertools.combinations_with_replacement(data,3))\n",
    "print(f'3개를 뽑아 나열하는 모든 경우를 출력하세요(중복 허용안됨):\\n{a}','\\n',f'3개를 뽑아 나열하는 모든 경우를 출력하세요(중복 허용):\\n{b}','\\n', \n",
    "      f'3개를 뽑아 순서에 상관없이 나열하는 모든 경우를 출력하세요(중복 허용안됨):\\n{c}','\\n', f'3개를 뽑아 순서에 상관없이 나열하는 모든 경우를 출력하세요(중복 허용):\\n{d}')"
   ]
  },
  {
   "cell_type": "code",
   "execution_count": 78,
   "id": "0be8d277",
   "metadata": {
    "ExecuteTime": {
     "end_time": "2022-09-05T05:28:36.495719Z",
     "start_time": "2022-09-05T05:28:36.485168Z"
    }
   },
   "outputs": [],
   "source": [
    "itertools?"
   ]
  },
  {
   "cell_type": "markdown",
   "id": "7fdb7b93",
   "metadata": {},
   "source": [
    "# Q82.\n",
    "아래사항을 참조, 파이썬의 heapq 라이브러리를 활용하여 주어진 리스트 iterable = [1,3,5,7,9,2,4,6,8,0]을 힙 정렬하여 출력하세요.\n",
    "- 최소 힙 : heap 역할을 할 빈 리스트를 선언해주고, heappush 메소드의 매개변수로 해당 리스트와 추가하고자 하는 값을 넣어주면 리스트에 힙 정렬이 되게 원하는 값이 삽입된다.\n",
    "- 최대 힙 : heapq에서는 최대 힙을 제공하지 않는다. 따라서 부호를 변경하는 방법을 사용해서 최대 힙을 구현한다.\n"
   ]
  },
  {
   "cell_type": "code",
   "execution_count": 20,
   "id": "1532d743",
   "metadata": {
    "ExecuteTime": {
     "end_time": "2022-09-08T00:33:43.603969Z",
     "start_time": "2022-09-08T00:33:43.590970Z"
    }
   },
   "outputs": [
    {
     "data": {
      "text/plain": [
       "[0, 1, 2, 3, 4, 5, 6, 7, 8, 9]"
      ]
     },
     "execution_count": 20,
     "metadata": {},
     "output_type": "execute_result"
    }
   ],
   "source": [
    "from heapq import heappush, heappop\n",
    "# 최소 힙\n",
    "iterable = [1,3,5,7,9,2,4,6,8,0]\n",
    "\n",
    "heap = []\n",
    "for i in iterable:\n",
    "    heappush(heap, i)\n",
    "\n",
    "sorted_nums = []\n",
    "while heap:\n",
    "    sorted_nums.append(heappop(heap))\n",
    "\n",
    "sorted_nums"
   ]
  },
  {
   "cell_type": "code",
   "execution_count": 21,
   "id": "3d3811e5",
   "metadata": {
    "ExecuteTime": {
     "end_time": "2022-09-08T00:33:50.771329Z",
     "start_time": "2022-09-08T00:33:50.763332Z"
    }
   },
   "outputs": [
    {
     "data": {
      "text/plain": [
       "[9, 8, 7, 6, 5, 4, 3, 2, 1, 0]"
      ]
     },
     "execution_count": 21,
     "metadata": {},
     "output_type": "execute_result"
    }
   ],
   "source": [
    "# 최대 힙\n",
    "iterable = [1,3,5,7,9,2,4,6,8,0]\n",
    "heap = []\n",
    "\n",
    "for i in iterable:\n",
    "    heappush(heap, -i)\n",
    "\n",
    "sorted_nums = []\n",
    "while heap:\n",
    "    sorted_nums.append(-heappop(heap))\n",
    "\n",
    "sorted_nums"
   ]
  },
  {
   "cell_type": "markdown",
   "id": "51edd180",
   "metadata": {},
   "source": [
    "# Q83.\n",
    "파이썬 bisect 라이브러리를 활용하여 리스트 a = [1,2,3,3,3,4,4,8,9] 로 부터 아래 문제들을 풀어보세요.\n",
    "- 값이 4인 데이터 개수 출력\n",
    "- 값이 [-1,3] 범위에 있는 데이터 개수 출력\n"
   ]
  },
  {
   "cell_type": "code",
   "execution_count": 2,
   "id": "f09a9984",
   "metadata": {
    "ExecuteTime": {
     "end_time": "2022-09-14T00:11:45.863296Z",
     "start_time": "2022-09-14T00:11:45.858522Z"
    }
   },
   "outputs": [],
   "source": [
    "import bisect # 인덱스 출력"
   ]
  },
  {
   "cell_type": "code",
   "execution_count": 3,
   "id": "6e08dcab",
   "metadata": {
    "ExecuteTime": {
     "end_time": "2022-09-14T00:11:46.796881Z",
     "start_time": "2022-09-14T00:11:46.779916Z"
    }
   },
   "outputs": [
    {
     "data": {
      "text/plain": [
       "2"
      ]
     },
     "execution_count": 3,
     "metadata": {},
     "output_type": "execute_result"
    }
   ],
   "source": [
    "a = [1,2,3,3,3,4,4,8,9]\n",
    "r = bisect.bisect_right(a,4) #오른쪽에서부터 인덱스\n",
    "l = bisect.bisect_left(a,4) #왼쪽에서부터 인덱스 \n",
    "r-l "
   ]
  },
  {
   "cell_type": "code",
   "execution_count": 5,
   "id": "2a427e34",
   "metadata": {
    "ExecuteTime": {
     "end_time": "2022-09-14T00:14:16.062488Z",
     "start_time": "2022-09-14T00:14:16.055488Z"
    }
   },
   "outputs": [
    {
     "data": {
      "text/plain": [
       "5"
      ]
     },
     "execution_count": 5,
     "metadata": {},
     "output_type": "execute_result"
    }
   ],
   "source": [
    "bisect.bisect_right(a,3)-bisect.bisect_left(a,-1)"
   ]
  },
  {
   "cell_type": "markdown",
   "id": "32c53196",
   "metadata": {},
   "source": [
    "# Q84.\n",
    "파이썬 collections 라이브러리를 활용하여 아래 문제들을 풀어보세요.<br>\n",
    "deque는 스택이나 큐의 기능을 모두 포함하며 스택 혹은 큐 자료구조의 대용으로 사용할 수 있다\n",
    "- 리스트 [2,3,4]에 첫번째 자리에는 1, 마지막 자리에는 5를 삽입하여 출력\n",
    "- 리스트 [2,3,4]에서 2와 4를 삭제하고 1과 6을 삽입하여 리스트 [1,3,6]을 출력\n",
    "- 리스트 ['red','blue','red','green','blue','blue']에서 'blue'와 'green'의 갯수를 출력\n",
    "- 리스트 ['red','blue','red','green','blue','blue']에서 칼러별 개수를 사전 타입으로 출력\n"
   ]
  },
  {
   "cell_type": "code",
   "execution_count": 13,
   "id": "37c842b2",
   "metadata": {
    "ExecuteTime": {
     "end_time": "2022-09-14T01:00:04.428538Z",
     "start_time": "2022-09-14T01:00:04.421498Z"
    }
   },
   "outputs": [
    {
     "data": {
      "text/plain": [
       "deque([1, 2, 3, 4, 5])"
      ]
     },
     "execution_count": 13,
     "metadata": {},
     "output_type": "execute_result"
    }
   ],
   "source": [
    "import collections\n",
    "\n",
    "li = [2,3,4]\n",
    "q = collections.deque(li)\n",
    "q.appendleft(1)\n",
    "q.append(5)\n",
    "q"
   ]
  },
  {
   "cell_type": "code",
   "execution_count": 15,
   "id": "48ff2a81",
   "metadata": {
    "ExecuteTime": {
     "end_time": "2022-09-14T01:02:02.796298Z",
     "start_time": "2022-09-14T01:02:02.787783Z"
    }
   },
   "outputs": [
    {
     "data": {
      "text/plain": [
       "deque([1, 3, 6])"
      ]
     },
     "execution_count": 15,
     "metadata": {},
     "output_type": "execute_result"
    }
   ],
   "source": [
    "q = collections.deque(li)\n",
    "q.popleft()\n",
    "q.pop()\n",
    "q.appendleft(1)\n",
    "q.append(6)\n",
    "q"
   ]
  },
  {
   "cell_type": "code",
   "execution_count": 21,
   "id": "26baab0b",
   "metadata": {
    "ExecuteTime": {
     "end_time": "2022-09-14T01:10:31.991097Z",
     "start_time": "2022-09-14T01:10:31.977848Z"
    }
   },
   "outputs": [
    {
     "data": {
      "text/plain": [
       "(3, 1)"
      ]
     },
     "execution_count": 21,
     "metadata": {},
     "output_type": "execute_result"
    }
   ],
   "source": [
    "li = ['red','blue','red','green','blue','blue']\n",
    "c = collections.Counter(li)\n",
    "c['blue'], c['green']"
   ]
  },
  {
   "cell_type": "code",
   "execution_count": 17,
   "id": "5484ab7d",
   "metadata": {
    "ExecuteTime": {
     "end_time": "2022-09-14T01:08:01.907646Z",
     "start_time": "2022-09-14T01:08:01.900647Z"
    }
   },
   "outputs": [
    {
     "data": {
      "text/plain": [
       "Counter({'red': 2, 'blue': 3, 'green': 1})"
      ]
     },
     "execution_count": 17,
     "metadata": {},
     "output_type": "execute_result"
    }
   ],
   "source": [
    "li = ['red','blue','red','green','blue','blue']\n",
    "c = collections.Counter(li)\n",
    "c"
   ]
  },
  {
   "cell_type": "markdown",
   "id": "0c7477a5",
   "metadata": {},
   "source": [
    "# Q85.\n",
    "파이썬 math 라이브러리를 활용하여 아래 문제들을 풀어보세요.\n",
    "- 10에 대한 팩토리얼, 제곱근, 최대 공약수 를 출력\n",
    "- pi, e 값 출력\n",
    "- 10의 3 제곱 출력\n",
    "- 2에 대한 지수함수 값 및 그 출력값에 로그함수를 적용한 결과 출력\n"
   ]
  },
  {
   "cell_type": "code",
   "execution_count": 2,
   "id": "b9ddbeb9",
   "metadata": {
    "ExecuteTime": {
     "end_time": "2022-09-20T00:19:29.200559Z",
     "start_time": "2022-09-20T00:19:29.195522Z"
    }
   },
   "outputs": [],
   "source": [
    "import math"
   ]
  },
  {
   "cell_type": "code",
   "execution_count": 4,
   "id": "b3101ae1",
   "metadata": {
    "ExecuteTime": {
     "end_time": "2022-09-20T00:20:11.180951Z",
     "start_time": "2022-09-20T00:20:11.164989Z"
    }
   },
   "outputs": [
    {
     "data": {
      "text/plain": [
       "3628800"
      ]
     },
     "metadata": {},
     "output_type": "display_data"
    },
    {
     "data": {
      "text/plain": [
       "3.1622776601683795"
      ]
     },
     "metadata": {},
     "output_type": "display_data"
    },
    {
     "data": {
      "text/plain": [
       "5"
      ]
     },
     "metadata": {},
     "output_type": "display_data"
    },
    {
     "data": {
      "text/plain": [
       "3.141592653589793"
      ]
     },
     "metadata": {},
     "output_type": "display_data"
    },
    {
     "data": {
      "text/plain": [
       "2.718281828459045"
      ]
     },
     "metadata": {},
     "output_type": "display_data"
    },
    {
     "data": {
      "text/plain": [
       "1000.0"
      ]
     },
     "metadata": {},
     "output_type": "display_data"
    },
    {
     "data": {
      "text/plain": [
       "22026.465794806718"
      ]
     },
     "metadata": {},
     "output_type": "display_data"
    },
    {
     "data": {
      "text/plain": [
       "10.0"
      ]
     },
     "metadata": {},
     "output_type": "display_data"
    }
   ],
   "source": [
    "display(math.factorial(10), math.sqrt(10), math.gcd(10, 5) )\n",
    "\n",
    "display(math.pi, math.e)\n",
    "display(math.pow(10,3))\n",
    "display(math.exp(10), math.log(math.exp(10)))"
   ]
  },
  {
   "cell_type": "markdown",
   "id": "ecb78f95",
   "metadata": {},
   "source": [
    "# Q86.\n",
    "1 ~ 1000,000 사이의 홀수로 구성된 리스트에서 [1, 4, 9, 16, 25,... ]와 같이 구간 합을 구한다. 구간 합으로 구성된 리스트에서 n번째 원소에서 m번째 원소의 차이를 구하는 프로그램을 작성하고 n=10, m=5일때의 값을 구하세요.\n"
   ]
  },
  {
   "cell_type": "code",
   "execution_count": 3,
   "id": "09363671",
   "metadata": {
    "ExecuteTime": {
     "end_time": "2022-09-21T00:04:54.896085Z",
     "start_time": "2022-09-21T00:04:54.623073Z"
    }
   },
   "outputs": [
    {
     "name": "stdout",
     "output_type": "stream",
     "text": [
      "75\n"
     ]
    }
   ],
   "source": [
    "# 홀수 리스트\n",
    "li=[]\n",
    "for i in range(1,1000000):\n",
    "    if i%2 != 0:\n",
    "        li.append(i)\n",
    "\n",
    "# 수열 리스트\n",
    "lis=[]\n",
    "s=0\n",
    "for j in li:\n",
    "    s += j\n",
    "    lis.append(s)\n",
    "    \n",
    "def nm(li, n, m):\n",
    "    return li[n-1]-li[m-1]\n",
    "\n",
    "print(nm(lis, 10, 5))"
   ]
  },
  {
   "cell_type": "code",
   "execution_count": 4,
   "id": "4fa46093",
   "metadata": {
    "ExecuteTime": {
     "end_time": "2022-09-21T00:04:55.561403Z",
     "start_time": "2022-09-21T00:04:55.554441Z"
    }
   },
   "outputs": [
    {
     "name": "stdout",
     "output_type": "stream",
     "text": [
      "[1, 4, 9, 16, 25, 36, 49, 64, 81, 100]\n"
     ]
    }
   ],
   "source": [
    "print(lis[:10])"
   ]
  },
  {
   "cell_type": "markdown",
   "id": "b28bab4d",
   "metadata": {},
   "source": [
    "# Q87.\n",
    "각 자리가 숫자(0부터 9)로만 이루어진 문자열 S가 주어졌을 때 왼쪽부터 오른쪽으로 하나씩 모든 숫자를 확인하며 숫자 사이에 'X' 혹은 '+' 연산자를 넣어 결과적으로 만들어질 수 있는 가장 큰 수를 구하는 프로그램을 작성하세요. 단 가장 큰 수는 항상 20억 이하의 정수가 되도록 입력이 주어진다.\n",
    "\n",
    "((((0+2) X 9) X 8) X 4) = 576\n"
   ]
  },
  {
   "cell_type": "code",
   "execution_count": null,
   "id": "c8f1e4ea",
   "metadata": {},
   "outputs": [],
   "source": [
    "임의의 문자열 S = \n",
    "기본적으로 곱하기\n",
    "if 0앞뒤로는 무조건 +\n",
    "2000000000 이하의 정수 중에 가장 큰 수"
   ]
  },
  {
   "cell_type": "code",
   "execution_count": 43,
   "id": "5edf35d6",
   "metadata": {
    "ExecuteTime": {
     "end_time": "2022-09-21T03:30:14.733610Z",
     "start_time": "2022-09-21T03:30:14.724574Z"
    }
   },
   "outputs": [
    {
     "data": {
      "text/plain": [
       "306110025"
      ]
     },
     "execution_count": 43,
     "metadata": {},
     "output_type": "execute_result"
    }
   ],
   "source": [
    "S='029849999999'\n",
    "\n",
    "if S[0]=='0':\n",
    "    result = 0\n",
    "else:\n",
    "    result = 1\n",
    "        \n",
    "for i in range(len(S)-1):\n",
    "    if int(S[i]) == 0 or int(S[i+1]) == 0 or int(S[i])==1:\n",
    "        result += int(S[i+1])\n",
    "    else:\n",
    "        result *= int(S[i+1])\n",
    "        if result>2000000000:\n",
    "            result= result//int(S[i+1]) +int(S[i+1])\n",
    "            \n",
    "result"
   ]
  },
  {
   "cell_type": "markdown",
   "id": "22f93a19",
   "metadata": {},
   "source": [
    "# Q88.\n",
    "\n",
    "공포도가 높은 모험가는 쉽게 공포를 느껴 위험 상황에서 제대로 대처할 능력이 떨어진다. 모험가 그룹을 안전하게 구성하고자 공포도가 X인 모험가는 반드시 X명 이상으로 구성한 모험가 그룹에 참여해야 여행을 떠날 수 있도록 규정한다.N명의 모험가에 대한 정보가 주어졌을 때 여행을 떠날 수 있는 그룹 수의 최댓값을 구하는 프로그램을 작성하세요.\n",
    "\n",
    "N = 5   첫째줄에 모험가 수 이 주어짐<BR> \n",
    "2 3 1 2 2   둘째줄에 각 모험가의 공포도의 값이 N이하의 자연수로 주어진다<BR>\n",
    "출력 : 그룹 수 최댓값 2\n"
   ]
  },
  {
   "cell_type": "code",
   "execution_count": 1,
   "id": "e4e9e260",
   "metadata": {
    "ExecuteTime": {
     "end_time": "2022-09-22T23:56:24.472291Z",
     "start_time": "2022-09-22T23:56:24.459759Z"
    }
   },
   "outputs": [],
   "source": [
    "N = 5\n",
    "a = '23122'"
   ]
  },
  {
   "cell_type": "code",
   "execution_count": 2,
   "id": "22169148",
   "metadata": {
    "ExecuteTime": {
     "end_time": "2022-09-22T23:56:25.041283Z",
     "start_time": "2022-09-22T23:56:25.023914Z"
    }
   },
   "outputs": [
    {
     "data": {
      "text/plain": [
       "2"
      ]
     },
     "execution_count": 2,
     "metadata": {},
     "output_type": "execute_result"
    }
   ],
   "source": [
    "def adv(a):\n",
    "    li=[]\n",
    "    for i in range(len(a)):\n",
    "        li.append(int(a[i]))\n",
    "        li.sort(reverse=True)\n",
    "    j=0 # 인덱스\n",
    "    s=0 # 그룹 수\n",
    "    b=len(li)\n",
    "    while True:\n",
    "        b -= li[j]\n",
    "        j += li[j]\n",
    "        s+=1\n",
    "        if b<li[j]:\n",
    "            break\n",
    "        elif b==li[j]:\n",
    "            s+=1\n",
    "            break\n",
    "    return s\n",
    "        \n",
    "adv(a)"
   ]
  },
  {
   "cell_type": "markdown",
   "id": "755c4fec",
   "metadata": {
    "ExecuteTime": {
     "end_time": "2022-09-23T02:31:04.307812Z",
     "start_time": "2022-09-23T02:31:04.289750Z"
    }
   },
   "source": [
    "# Q89.\n",
    "0과 1로만 이루어진 문자열 S가 있다. 문자 S에 있는 모든 숫자를 전부 같게 만들려고 한다. 허용된 행동은 S에서 연속된 하나 이상의 숫자를 잡고 모두 뒤집는 것이다. 주어진 입력조건하에서 모두 같은 숫자로 만들기 위한 행동의 최소 횟수를 출력하세요.\n",
    "- 입력 : 첫째 줄에 0과 1로만 이루어진 문자열 S가 주어지고 S는 100만보다 작다.\n"
   ]
  },
  {
   "cell_type": "code",
   "execution_count": null,
   "id": "7d8f5fc2",
   "metadata": {},
   "outputs": [],
   "source": [
    "6자리\n",
    "101010 세번이 가장 많이 뒤집는거임.\n",
    "111111\n",
    "100000\n",
    "101111\n",
    "110011\n",
    "110111\n",
    "111000\n",
    "111100"
   ]
  },
  {
   "cell_type": "code",
   "execution_count": null,
   "id": "bf9cbeb3",
   "metadata": {},
   "outputs": [],
   "source": [
    "# 0, 1 로 바꾸는 두가지 를 다 구해서 작은거 출력 하는방법 있네 "
   ]
  },
  {
   "cell_type": "code",
   "execution_count": 2,
   "id": "21f2f061",
   "metadata": {
    "ExecuteTime": {
     "end_time": "2022-10-04T00:21:59.397998Z",
     "start_time": "2022-10-04T00:21:53.680261Z"
    },
    "scrolled": true
   },
   "outputs": [
    {
     "name": "stdout",
     "output_type": "stream",
     "text": [
      "111000\n",
      "1\n"
     ]
    }
   ],
   "source": [
    "while True:\n",
    "    S=input()\n",
    "    if int(S)>=1000000:\n",
    "        print('다시.')\n",
    "    else:\n",
    "        n=0\n",
    "        for i in range(len(S)-1):\n",
    "            if S[i]==S[i+1]:\n",
    "                continue\n",
    "            else:\n",
    "                n+=1\n",
    "        d = divmod(n,2)\n",
    "        if d[1]==1:\n",
    "            print(d[0]+1)\n",
    "        else:\n",
    "            print(d[0])\n",
    "        break\n"
   ]
  },
  {
   "cell_type": "code",
   "execution_count": null,
   "id": "a51c6b20",
   "metadata": {},
   "outputs": [],
   "source": [
    "a = input()\n",
    "\n",
    "# 1, 0 을 기준으로 문자열을 나눠 리스트 만들기\n",
    "b = [bb for bb in a.split(\"1\") if bb]\n",
    "c = [cc for cc in a.split(\"0\") if cc]\n",
    "\n",
    "print(b,c)\n",
    "print(min(len(b), len(c)))"
   ]
  },
  {
   "cell_type": "markdown",
   "id": "f2f0a942",
   "metadata": {},
   "source": [
    "# Q90.\n",
    "N개의 동전을 이용하여 만들 수 없는 양의 정수 금액 중 최솟값을 구하는 프로그램을 작성하세요.\n",
    "\n",
    "<입력 조건>\n",
    "\n",
    "첫째 줄에는 동전의 개수를 나타내는 양의 정수 N이 주어진다 (1<=N<=1,000)\n",
    "둘째 줄에는 각 동전의 화폐 단위를 나타내는 N개의 자연수가 주어지며 각 자연수는 공백으로 구분한다. (각 화폐단위는 1,000,000 이하)\n"
   ]
  },
  {
   "cell_type": "code",
   "execution_count": null,
   "id": "570aef8e",
   "metadata": {},
   "outputs": [],
   "source": [
    "5 개 \n",
    "1 2 3 4 5 화폐단위\n",
    "16 을 못 출력함"
   ]
  },
  {
   "cell_type": "code",
   "execution_count": null,
   "id": "63811630",
   "metadata": {},
   "outputs": [],
   "source": [
    "# 조합으로 풀었네 from itertools import combination"
   ]
  },
  {
   "cell_type": "code",
   "execution_count": 2,
   "id": "80298a41",
   "metadata": {
    "ExecuteTime": {
     "end_time": "2022-10-05T16:31:25.519891Z",
     "start_time": "2022-10-05T16:31:25.487008Z"
    }
   },
   "outputs": [
    {
     "name": "stdout",
     "output_type": "stream",
     "text": [
      "[[(1,), (2,), (3,), (4,), (5,)], [(1, 2), (1, 3), (1, 4), (1, 5), (2, 3), (2, 4), (2, 5), (3, 4), (3, 5), (4, 5)], [(1, 2, 3), (1, 2, 4), (1, 2, 5), (1, 3, 4), (1, 3, 5), (1, 4, 5), (2, 3, 4), (2, 3, 5), (2, 4, 5), (3, 4, 5)], [(1, 2, 3, 4), (1, 2, 3, 5), (1, 2, 4, 5), (1, 3, 4, 5), (2, 3, 4, 5)], [(1, 2, 3, 4, 5)]]\n",
      "[1, 2, 3, 4, 5, 3, 4, 5, 6, 5, 6, 7, 7, 8, 9, 6, 7, 8, 8, 9, 10, 9, 10, 11, 12, 10, 11, 12, 13, 14, 15]\n",
      "모든 조합: [1, 2, 3, 4, 5, 6, 7, 8, 9, 10, 11, 12, 13, 14, 15]\n",
      "만들 수 없는 양의 정수 금액 중 최솟값: 16\n"
     ]
    }
   ],
   "source": [
    "from itertools import combinations\n",
    "N = 5\n",
    "n_li = 1, 2, 3, 4, 5\n",
    "na_li = []; result = []; be=1\n",
    "\n",
    "for i,_ in enumerate(n_li):\n",
    "    na_li.append(list(combinations(n_li,i+1)))\n",
    "# print(na_li)\n",
    "for i,j in enumerate(na_li):\n",
    "    for k in j:\n",
    "        result.append(sum(k))\n",
    "# print(result)\n",
    "while True:\n",
    "    if be not in list(set(result)):\n",
    "        print('모든 조합:',list(set(result)))\n",
    "        print('만들 수 없는 양의 정수 금액 중 최솟값:',be)\n",
    "        break\n",
    "    else:\n",
    "        be +=1"
   ]
  },
  {
   "cell_type": "code",
   "execution_count": null,
   "id": "54836be9",
   "metadata": {},
   "outputs": [],
   "source": []
  },
  {
   "cell_type": "markdown",
   "id": "959efdf3",
   "metadata": {},
   "source": [
    "# Q91. 클래스 Country와 Korea를 완성하여 아래와 같이 출력하세요. 단, obj=Korea('한국',5,'서울')를 만들어서 활용 (상속)\n",
    "\n",
    "class Country:\n",
    "    def __init__(self, name, pop, capital):\n",
    "\n",
    "\n",
    "class Korea(Country):\n",
    "    \n",
    "```\n",
    "[출력]\n",
    "한국 인구는 5천만명이며 수도는 서울입니다.\n",
    "1인당 gnp는 USD 3만입니다.\n",
    "\n",
    "[출력]\n",
    "미국 인구는 30천만명이며 수도는 워싱턴입니다.\n",
    "1인당 gnp는 USD 5만입니다.\n",
    "\n",
    "```"
   ]
  },
  {
   "cell_type": "code",
   "execution_count": 2,
   "id": "75819e02",
   "metadata": {
    "ExecuteTime": {
     "end_time": "2022-10-06T00:14:39.811164Z",
     "start_time": "2022-10-06T00:14:39.773359Z"
    }
   },
   "outputs": [
    {
     "data": {
      "text/plain": [
       "'한국 인구는 5천만명이며 수도는 서울입니다. 1인당 gnp는 USD 3만입니다.'"
      ]
     },
     "execution_count": 2,
     "metadata": {},
     "output_type": "execute_result"
    }
   ],
   "source": [
    "class Country:\n",
    "    def __init__(self, name, pop, capital):\n",
    "        self.name = name\n",
    "        self.pop = pop\n",
    "        self.capital = capital\n",
    "        \n",
    "        \n",
    "class Korea(Country):\n",
    "    def pr(self, gnp):\n",
    "        self.gnp = gnp\n",
    "        return f'{self.name} 인구는 {self.pop}명이며 수도는 {self.capital}입니다. 1인당 gnp는 USD {self.gnp}입니다.'\n",
    "    \n",
    "        \n",
    "\n",
    "a = Korea('한국', '5천만', '서울')\n",
    "a.pr('3만')\n",
    "    "
   ]
  },
  {
   "cell_type": "markdown",
   "id": "4d37ed04",
   "metadata": {},
   "source": [
    "# Q.92 사칙연산 기능을 포함하는 모듈을 작성 후 임포트해서 사칙연산을 수행하세요우"
   ]
  },
  {
   "cell_type": "code",
   "execution_count": 11,
   "id": "0f76ea30",
   "metadata": {
    "ExecuteTime": {
     "end_time": "2022-10-13T00:30:08.570618Z",
     "start_time": "2022-10-13T00:30:08.565058Z"
    }
   },
   "outputs": [],
   "source": [
    "with open('cal4.py','w') as f:\n",
    "    f.write('''\n",
    "def cal(x,y):\n",
    "    return x + y, x * y, x - y, round(x / y,2)\n",
    "print(cal(5,3))\n",
    "''')\n"
   ]
  },
  {
   "cell_type": "code",
   "execution_count": 12,
   "id": "75dd2757",
   "metadata": {
    "ExecuteTime": {
     "end_time": "2022-10-13T00:30:09.102012Z",
     "start_time": "2022-10-13T00:30:09.087351Z"
    }
   },
   "outputs": [
    {
     "name": "stdout",
     "output_type": "stream",
     "text": [
      "(8, 15, 2, 1.67)\n"
     ]
    }
   ],
   "source": [
    "import cal4"
   ]
  },
  {
   "cell_type": "code",
   "execution_count": 9,
   "id": "4bd730c1",
   "metadata": {
    "ExecuteTime": {
     "end_time": "2022-10-13T00:26:58.956411Z",
     "start_time": "2022-10-13T00:26:58.951690Z"
    }
   },
   "outputs": [],
   "source": [
    "with open('cal3.py','w') as f:\n",
    "    f.write('''\n",
    "def calall(x,y):\n",
    "    return x + y, x*y, x-y, x/y\n",
    "if __name__ == \"__main__\":\n",
    "    print(calall(3,4))\n",
    "''')\n"
   ]
  },
  {
   "cell_type": "code",
   "execution_count": 10,
   "id": "e2ce53b0",
   "metadata": {
    "ExecuteTime": {
     "end_time": "2022-10-13T00:26:59.675534Z",
     "start_time": "2022-10-13T00:26:59.575636Z"
    }
   },
   "outputs": [
    {
     "name": "stdout",
     "output_type": "stream",
     "text": [
      "(7, 12, -1, 0.75)\n"
     ]
    }
   ],
   "source": [
    "!python cal3.py"
   ]
  },
  {
   "cell_type": "code",
   "execution_count": 13,
   "id": "7d6e6bb4",
   "metadata": {
    "ExecuteTime": {
     "end_time": "2022-10-13T00:30:28.198903Z",
     "start_time": "2022-10-13T00:30:28.188154Z"
    }
   },
   "outputs": [],
   "source": [
    "import cal3"
   ]
  },
  {
   "cell_type": "code",
   "execution_count": 14,
   "id": "608e4832",
   "metadata": {
    "ExecuteTime": {
     "end_time": "2022-10-13T00:30:46.071089Z",
     "start_time": "2022-10-13T00:30:46.065083Z"
    }
   },
   "outputs": [
    {
     "data": {
      "text/plain": [
       "(15, 50, -5, 0.5)"
      ]
     },
     "execution_count": 14,
     "metadata": {},
     "output_type": "execute_result"
    }
   ],
   "source": [
    "cal3.calall(5,10)"
   ]
  },
  {
   "cell_type": "code",
   "execution_count": 3,
   "id": "0ba1af2b",
   "metadata": {
    "ExecuteTime": {
     "end_time": "2022-10-13T00:20:50.189162Z",
     "start_time": "2022-10-13T00:20:50.182583Z"
    },
    "scrolled": true
   },
   "outputs": [
    {
     "data": {
      "text/plain": [
       "['__builtins__',\n",
       " '__cached__',\n",
       " '__doc__',\n",
       " '__file__',\n",
       " '__loader__',\n",
       " '__name__',\n",
       " '__package__',\n",
       " '__spec__',\n",
       " 'div',\n",
       " 'minus',\n",
       " 'mul',\n",
       " 'plus']"
      ]
     },
     "execution_count": 3,
     "metadata": {},
     "output_type": "execute_result"
    }
   ],
   "source": [
    "import cal\n",
    "dir(cal)"
   ]
  },
  {
   "cell_type": "code",
   "execution_count": 16,
   "id": "d006cbcc",
   "metadata": {
    "ExecuteTime": {
     "end_time": "2022-10-13T00:31:53.638863Z",
     "start_time": "2022-10-13T00:31:53.632354Z"
    }
   },
   "outputs": [
    {
     "name": "stdout",
     "output_type": "stream",
     "text": [
      "1.0\n",
      "0\n",
      "4\n",
      "4\n"
     ]
    }
   ],
   "source": [
    "import cal\n",
    "print(cal.div(2,2))\n",
    "print(cal.minus(2,2))\n",
    "print(cal.mul(2,2))\n",
    "print(cal.plus(2,2))"
   ]
  },
  {
   "cell_type": "markdown",
   "id": "f452fc73",
   "metadata": {},
   "source": [
    "# Q93.Player가 3승할때까지 계속하는 가위바위보 프로그램"
   ]
  },
  {
   "cell_type": "code",
   "execution_count": 5,
   "id": "00f6ee6f",
   "metadata": {
    "ExecuteTime": {
     "end_time": "2022-10-13T09:23:05.490266Z",
     "start_time": "2022-10-13T09:22:53.932035Z"
    },
    "scrolled": true
   },
   "outputs": [
    {
     "name": "stdout",
     "output_type": "stream",
     "text": [
      "가위바위보하자.\n",
      "가위, 바위, 보를 입력하세요보\n",
      "1 전\n",
      "이김\n",
      "가위바위보하자.\n",
      "가위, 바위, 보를 입력하세요보\n",
      "2 전\n",
      "비김\n",
      "가위바위보하자.\n",
      "가위, 바위, 보를 입력하세요보\n",
      "3 전\n",
      "비김\n",
      "가위바위보하자.\n",
      "가위, 바위, 보를 입력하세요보\n",
      "4 전\n",
      "이김\n",
      "가위바위보하자.\n",
      "가위, 바위, 보를 입력하세요보\n",
      "5 전\n",
      "비김\n",
      "가위바위보하자.\n",
      "가위, 바위, 보를 입력하세요보\n",
      "6 전\n",
      "비김\n",
      "가위바위보하자.\n",
      "가위, 바위, 보를 입력하세요보\n",
      "7 전\n",
      "이김\n",
      "7 전 4 무 0 패만에 3 승\n"
     ]
    }
   ],
   "source": [
    "import numpy as np\n",
    "import random\n",
    "c=['가위','바위','보']\n",
    "\n",
    "def game():\n",
    "    n,w,d,l=0,0,0,0\n",
    "    while w != 3:\n",
    "        print('가위바위보하자.')\n",
    "        a = np.random.choice(c)\n",
    "        b = input('가위, 바위, 보를 입력하세요')\n",
    "        if c.index(b) == c.index(a):\n",
    "            n+=1\n",
    "            d+=1\n",
    "            print(n,'전')\n",
    "            print('비김')\n",
    "        elif c.index(b)>c.index(a):\n",
    "            n+=1\n",
    "            w+=1\n",
    "            print(n,'전')\n",
    "            print('이김')\n",
    "        else:\n",
    "            n+=1\n",
    "            l+=1\n",
    "            print(n,'전')\n",
    "            print('짐')\n",
    "    print(n,'전',d,'무',l,'패만에',w,'승')\n",
    "    \n",
    "game()           "
   ]
  },
  {
   "cell_type": "markdown",
   "id": "635f198a",
   "metadata": {
    "ExecuteTime": {
     "end_time": "2022-10-17T00:49:32.817871Z",
     "start_time": "2022-10-17T00:49:32.804504Z"
    }
   },
   "source": [
    "# Q94. 2개의 주식데이터를 가져와서 아래와 같이 결합한 후 다음 사항을 수행하세요. \n",
    "\n",
    "- df1과 df2의 교집합만 출력되도록 결합하여 df3에 저장하고 출력\n",
    "- df3에서 중복된 칼럼을 삭제한 후 블린 인덱싱을 이용하여 eps가 3000 보다 적거나 stock_name이 이마트인 데이터를 선택하여 데이터프레임을 생성하고 df4 이름으로 저장 및 출력하세요.(단, '<' 와 '==' 를 반드시 사용해야 함)\n",
    "- df2의 name 컬럼을 stock_name으로 변경한 후 df1과 df2를 stock_name을 기준으로 결합(합집합)\n"
   ]
  },
  {
   "cell_type": "code",
   "execution_count": 2,
   "id": "9c9f543d",
   "metadata": {
    "ExecuteTime": {
     "end_time": "2022-10-17T00:53:39.929799Z",
     "start_time": "2022-10-17T00:53:38.886820Z"
    }
   },
   "outputs": [],
   "source": [
    "import pandas as pd\n",
    "\n",
    "df1 = pd.read_excel('./data/stock_price.xlsx', index_col='id')\n",
    "df2 = pd.read_excel('./data/stock valuation.xlsx', index_col='id')"
   ]
  },
  {
   "cell_type": "code",
   "execution_count": 11,
   "id": "b6ee7bdc",
   "metadata": {
    "ExecuteTime": {
     "end_time": "2022-10-17T01:02:27.182888Z",
     "start_time": "2022-10-17T01:02:27.169425Z"
    }
   },
   "outputs": [
    {
     "data": {
      "text/html": [
       "<div>\n",
       "<style scoped>\n",
       "    .dataframe tbody tr th:only-of-type {\n",
       "        vertical-align: middle;\n",
       "    }\n",
       "\n",
       "    .dataframe tbody tr th {\n",
       "        vertical-align: top;\n",
       "    }\n",
       "\n",
       "    .dataframe thead th {\n",
       "        text-align: right;\n",
       "    }\n",
       "</style>\n",
       "<table border=\"1\" class=\"dataframe\">\n",
       "  <thead>\n",
       "    <tr style=\"text-align: right;\">\n",
       "      <th></th>\n",
       "      <th>stock_name</th>\n",
       "      <th>value</th>\n",
       "      <th>price</th>\n",
       "      <th>name</th>\n",
       "      <th>eps</th>\n",
       "      <th>bps</th>\n",
       "      <th>per</th>\n",
       "      <th>pbr</th>\n",
       "    </tr>\n",
       "    <tr>\n",
       "      <th>id</th>\n",
       "      <th></th>\n",
       "      <th></th>\n",
       "      <th></th>\n",
       "      <th></th>\n",
       "      <th></th>\n",
       "      <th></th>\n",
       "      <th></th>\n",
       "      <th></th>\n",
       "    </tr>\n",
       "  </thead>\n",
       "  <tbody>\n",
       "    <tr>\n",
       "      <th>130960</th>\n",
       "      <td>CJ E&amp;M</td>\n",
       "      <td>58540.666667</td>\n",
       "      <td>98900</td>\n",
       "      <td>CJ E&amp;M</td>\n",
       "      <td>6301.333333</td>\n",
       "      <td>54068</td>\n",
       "      <td>15.695091</td>\n",
       "      <td>1.829178</td>\n",
       "    </tr>\n",
       "    <tr>\n",
       "      <th>139480</th>\n",
       "      <td>이마트</td>\n",
       "      <td>239230.833333</td>\n",
       "      <td>254500</td>\n",
       "      <td>이마트</td>\n",
       "      <td>18268.166667</td>\n",
       "      <td>295780</td>\n",
       "      <td>13.931338</td>\n",
       "      <td>0.860437</td>\n",
       "    </tr>\n",
       "    <tr>\n",
       "      <th>145990</th>\n",
       "      <td>삼양사</td>\n",
       "      <td>82750.000000</td>\n",
       "      <td>82000</td>\n",
       "      <td>삼양사</td>\n",
       "      <td>5741.000000</td>\n",
       "      <td>108090</td>\n",
       "      <td>14.283226</td>\n",
       "      <td>0.758627</td>\n",
       "    </tr>\n",
       "    <tr>\n",
       "      <th>185750</th>\n",
       "      <td>종근당</td>\n",
       "      <td>40293.666667</td>\n",
       "      <td>100500</td>\n",
       "      <td>종근당</td>\n",
       "      <td>3990.333333</td>\n",
       "      <td>40684</td>\n",
       "      <td>25.185866</td>\n",
       "      <td>2.470259</td>\n",
       "    </tr>\n",
       "    <tr>\n",
       "      <th>204210</th>\n",
       "      <td>모두투어리츠</td>\n",
       "      <td>3093.333333</td>\n",
       "      <td>3475</td>\n",
       "      <td>모두투어리츠</td>\n",
       "      <td>85.166667</td>\n",
       "      <td>5335</td>\n",
       "      <td>40.802348</td>\n",
       "      <td>0.651359</td>\n",
       "    </tr>\n",
       "  </tbody>\n",
       "</table>\n",
       "</div>"
      ],
      "text/plain": [
       "       stock_name          value   price    name           eps     bps  \\\n",
       "id                                                                       \n",
       "130960     CJ E&M   58540.666667   98900  CJ E&M   6301.333333   54068   \n",
       "139480        이마트  239230.833333  254500     이마트  18268.166667  295780   \n",
       "145990        삼양사   82750.000000   82000     삼양사   5741.000000  108090   \n",
       "185750        종근당   40293.666667  100500     종근당   3990.333333   40684   \n",
       "204210     모두투어리츠    3093.333333    3475  모두투어리츠     85.166667    5335   \n",
       "\n",
       "              per       pbr  \n",
       "id                           \n",
       "130960  15.695091  1.829178  \n",
       "139480  13.931338  0.860437  \n",
       "145990  14.283226  0.758627  \n",
       "185750  25.185866  2.470259  \n",
       "204210  40.802348  0.651359  "
      ]
     },
     "execution_count": 11,
     "metadata": {},
     "output_type": "execute_result"
    }
   ],
   "source": [
    "df3 = df1.join(df2, how='inner')\n",
    "df3"
   ]
  },
  {
   "cell_type": "code",
   "execution_count": 12,
   "id": "8e8e2d83",
   "metadata": {
    "ExecuteTime": {
     "end_time": "2022-10-17T01:02:28.078307Z",
     "start_time": "2022-10-17T01:02:28.071785Z"
    }
   },
   "outputs": [
    {
     "data": {
      "text/plain": [
       "Index(['stock_name', 'value', 'price', 'name', 'eps', 'bps', 'per', 'pbr'], dtype='object')"
      ]
     },
     "execution_count": 12,
     "metadata": {},
     "output_type": "execute_result"
    }
   ],
   "source": [
    "df3.columns"
   ]
  },
  {
   "cell_type": "code",
   "execution_count": 13,
   "id": "e6bf2341",
   "metadata": {
    "ExecuteTime": {
     "end_time": "2022-10-17T01:04:01.793694Z",
     "start_time": "2022-10-17T01:04:01.779610Z"
    }
   },
   "outputs": [
    {
     "data": {
      "text/html": [
       "<div>\n",
       "<style scoped>\n",
       "    .dataframe tbody tr th:only-of-type {\n",
       "        vertical-align: middle;\n",
       "    }\n",
       "\n",
       "    .dataframe tbody tr th {\n",
       "        vertical-align: top;\n",
       "    }\n",
       "\n",
       "    .dataframe thead th {\n",
       "        text-align: right;\n",
       "    }\n",
       "</style>\n",
       "<table border=\"1\" class=\"dataframe\">\n",
       "  <thead>\n",
       "    <tr style=\"text-align: right;\">\n",
       "      <th></th>\n",
       "      <th>stock_name</th>\n",
       "      <th>value</th>\n",
       "      <th>price</th>\n",
       "      <th>eps</th>\n",
       "      <th>bps</th>\n",
       "      <th>per</th>\n",
       "      <th>pbr</th>\n",
       "    </tr>\n",
       "    <tr>\n",
       "      <th>id</th>\n",
       "      <th></th>\n",
       "      <th></th>\n",
       "      <th></th>\n",
       "      <th></th>\n",
       "      <th></th>\n",
       "      <th></th>\n",
       "      <th></th>\n",
       "    </tr>\n",
       "  </thead>\n",
       "  <tbody>\n",
       "    <tr>\n",
       "      <th>139480</th>\n",
       "      <td>이마트</td>\n",
       "      <td>239230.833333</td>\n",
       "      <td>254500</td>\n",
       "      <td>18268.166667</td>\n",
       "      <td>295780</td>\n",
       "      <td>13.931338</td>\n",
       "      <td>0.860437</td>\n",
       "    </tr>\n",
       "    <tr>\n",
       "      <th>204210</th>\n",
       "      <td>모두투어리츠</td>\n",
       "      <td>3093.333333</td>\n",
       "      <td>3475</td>\n",
       "      <td>85.166667</td>\n",
       "      <td>5335</td>\n",
       "      <td>40.802348</td>\n",
       "      <td>0.651359</td>\n",
       "    </tr>\n",
       "  </tbody>\n",
       "</table>\n",
       "</div>"
      ],
      "text/plain": [
       "       stock_name          value   price           eps     bps        per  \\\n",
       "id                                                                          \n",
       "139480        이마트  239230.833333  254500  18268.166667  295780  13.931338   \n",
       "204210     모두투어리츠    3093.333333    3475     85.166667    5335  40.802348   \n",
       "\n",
       "             pbr  \n",
       "id                \n",
       "139480  0.860437  \n",
       "204210  0.651359  "
      ]
     },
     "execution_count": 13,
     "metadata": {},
     "output_type": "execute_result"
    }
   ],
   "source": [
    "df4 = df3.drop('name', axis=1, inplace=False)\n",
    "df4 = df4[(df4.eps<3000)|(df4.stock_name=='이마트')]\n",
    "df4"
   ]
  },
  {
   "cell_type": "code",
   "execution_count": 21,
   "id": "2575f091",
   "metadata": {
    "ExecuteTime": {
     "end_time": "2022-10-17T01:10:39.109666Z",
     "start_time": "2022-10-17T01:10:39.097595Z"
    }
   },
   "outputs": [
    {
     "data": {
      "text/html": [
       "<div>\n",
       "<style scoped>\n",
       "    .dataframe tbody tr th:only-of-type {\n",
       "        vertical-align: middle;\n",
       "    }\n",
       "\n",
       "    .dataframe tbody tr th {\n",
       "        vertical-align: top;\n",
       "    }\n",
       "\n",
       "    .dataframe thead th {\n",
       "        text-align: right;\n",
       "    }\n",
       "</style>\n",
       "<table border=\"1\" class=\"dataframe\">\n",
       "  <thead>\n",
       "    <tr style=\"text-align: right;\">\n",
       "      <th></th>\n",
       "      <th>stock_name</th>\n",
       "      <th>eps</th>\n",
       "      <th>bps</th>\n",
       "      <th>per</th>\n",
       "      <th>pbr</th>\n",
       "    </tr>\n",
       "    <tr>\n",
       "      <th>id</th>\n",
       "      <th></th>\n",
       "      <th></th>\n",
       "      <th></th>\n",
       "      <th></th>\n",
       "      <th></th>\n",
       "    </tr>\n",
       "  </thead>\n",
       "  <tbody>\n",
       "    <tr>\n",
       "      <th>130960</th>\n",
       "      <td>CJ E&amp;M</td>\n",
       "      <td>6301.333333</td>\n",
       "      <td>54068</td>\n",
       "      <td>15.695091</td>\n",
       "      <td>1.829178</td>\n",
       "    </tr>\n",
       "    <tr>\n",
       "      <th>136480</th>\n",
       "      <td>하림</td>\n",
       "      <td>274.166667</td>\n",
       "      <td>3551</td>\n",
       "      <td>11.489362</td>\n",
       "      <td>0.887074</td>\n",
       "    </tr>\n",
       "    <tr>\n",
       "      <th>138040</th>\n",
       "      <td>메리츠금융지주</td>\n",
       "      <td>2122.333333</td>\n",
       "      <td>14894</td>\n",
       "      <td>6.313806</td>\n",
       "      <td>0.899691</td>\n",
       "    </tr>\n",
       "    <tr>\n",
       "      <th>139480</th>\n",
       "      <td>이마트</td>\n",
       "      <td>18268.166667</td>\n",
       "      <td>295780</td>\n",
       "      <td>13.931338</td>\n",
       "      <td>0.860437</td>\n",
       "    </tr>\n",
       "    <tr>\n",
       "      <th>145990</th>\n",
       "      <td>삼양사</td>\n",
       "      <td>5741.000000</td>\n",
       "      <td>108090</td>\n",
       "      <td>14.283226</td>\n",
       "      <td>0.758627</td>\n",
       "    </tr>\n",
       "    <tr>\n",
       "      <th>161390</th>\n",
       "      <td>한국타이어</td>\n",
       "      <td>5648.500000</td>\n",
       "      <td>51341</td>\n",
       "      <td>7.453306</td>\n",
       "      <td>0.820007</td>\n",
       "    </tr>\n",
       "    <tr>\n",
       "      <th>181710</th>\n",
       "      <td>NHN엔터테인먼트</td>\n",
       "      <td>2110.166667</td>\n",
       "      <td>78434</td>\n",
       "      <td>30.755864</td>\n",
       "      <td>0.827447</td>\n",
       "    </tr>\n",
       "    <tr>\n",
       "      <th>185750</th>\n",
       "      <td>종근당</td>\n",
       "      <td>3990.333333</td>\n",
       "      <td>40684</td>\n",
       "      <td>25.185866</td>\n",
       "      <td>2.470259</td>\n",
       "    </tr>\n",
       "    <tr>\n",
       "      <th>204210</th>\n",
       "      <td>모두투어리츠</td>\n",
       "      <td>85.166667</td>\n",
       "      <td>5335</td>\n",
       "      <td>40.802348</td>\n",
       "      <td>0.651359</td>\n",
       "    </tr>\n",
       "    <tr>\n",
       "      <th>207940</th>\n",
       "      <td>삼성바이오로직스</td>\n",
       "      <td>4644.166667</td>\n",
       "      <td>60099</td>\n",
       "      <td>89.790059</td>\n",
       "      <td>6.938551</td>\n",
       "    </tr>\n",
       "  </tbody>\n",
       "</table>\n",
       "</div>"
      ],
      "text/plain": [
       "       stock_name           eps     bps        per       pbr\n",
       "id                                                          \n",
       "130960     CJ E&M   6301.333333   54068  15.695091  1.829178\n",
       "136480         하림    274.166667    3551  11.489362  0.887074\n",
       "138040    메리츠금융지주   2122.333333   14894   6.313806  0.899691\n",
       "139480        이마트  18268.166667  295780  13.931338  0.860437\n",
       "145990        삼양사   5741.000000  108090  14.283226  0.758627\n",
       "161390      한국타이어   5648.500000   51341   7.453306  0.820007\n",
       "181710  NHN엔터테인먼트   2110.166667   78434  30.755864  0.827447\n",
       "185750        종근당   3990.333333   40684  25.185866  2.470259\n",
       "204210     모두투어리츠     85.166667    5335  40.802348  0.651359\n",
       "207940   삼성바이오로직스   4644.166667   60099  89.790059  6.938551"
      ]
     },
     "execution_count": 21,
     "metadata": {},
     "output_type": "execute_result"
    }
   ],
   "source": [
    "df2.rename(columns={'name':'stock_name'}, inplace=True)\n",
    "df2"
   ]
  },
  {
   "cell_type": "code",
   "execution_count": 25,
   "id": "8e61b04a",
   "metadata": {
    "ExecuteTime": {
     "end_time": "2022-10-17T01:12:31.489456Z",
     "start_time": "2022-10-17T01:12:31.479928Z"
    }
   },
   "outputs": [
    {
     "data": {
      "text/html": [
       "<div>\n",
       "<style scoped>\n",
       "    .dataframe tbody tr th:only-of-type {\n",
       "        vertical-align: middle;\n",
       "    }\n",
       "\n",
       "    .dataframe tbody tr th {\n",
       "        vertical-align: top;\n",
       "    }\n",
       "\n",
       "    .dataframe thead th {\n",
       "        text-align: right;\n",
       "    }\n",
       "</style>\n",
       "<table border=\"1\" class=\"dataframe\">\n",
       "  <thead>\n",
       "    <tr style=\"text-align: right;\">\n",
       "      <th></th>\n",
       "      <th>stock_name</th>\n",
       "      <th>value</th>\n",
       "      <th>price</th>\n",
       "    </tr>\n",
       "    <tr>\n",
       "      <th>id</th>\n",
       "      <th></th>\n",
       "      <th></th>\n",
       "      <th></th>\n",
       "    </tr>\n",
       "  </thead>\n",
       "  <tbody>\n",
       "    <tr>\n",
       "      <th>128940</th>\n",
       "      <td>한미약품</td>\n",
       "      <td>59385.666667</td>\n",
       "      <td>421000</td>\n",
       "    </tr>\n",
       "    <tr>\n",
       "      <th>130960</th>\n",
       "      <td>CJ E&amp;M</td>\n",
       "      <td>58540.666667</td>\n",
       "      <td>98900</td>\n",
       "    </tr>\n",
       "    <tr>\n",
       "      <th>138250</th>\n",
       "      <td>엔에스쇼핑</td>\n",
       "      <td>14558.666667</td>\n",
       "      <td>13200</td>\n",
       "    </tr>\n",
       "    <tr>\n",
       "      <th>139480</th>\n",
       "      <td>이마트</td>\n",
       "      <td>239230.833333</td>\n",
       "      <td>254500</td>\n",
       "    </tr>\n",
       "    <tr>\n",
       "      <th>142280</th>\n",
       "      <td>녹십자엠에스</td>\n",
       "      <td>468.833333</td>\n",
       "      <td>10200</td>\n",
       "    </tr>\n",
       "    <tr>\n",
       "      <th>145990</th>\n",
       "      <td>삼양사</td>\n",
       "      <td>82750.000000</td>\n",
       "      <td>82000</td>\n",
       "    </tr>\n",
       "    <tr>\n",
       "      <th>185750</th>\n",
       "      <td>종근당</td>\n",
       "      <td>40293.666667</td>\n",
       "      <td>100500</td>\n",
       "    </tr>\n",
       "    <tr>\n",
       "      <th>192400</th>\n",
       "      <td>쿠쿠홀딩스</td>\n",
       "      <td>179204.666667</td>\n",
       "      <td>177500</td>\n",
       "    </tr>\n",
       "    <tr>\n",
       "      <th>199800</th>\n",
       "      <td>툴젠</td>\n",
       "      <td>-2514.333333</td>\n",
       "      <td>115400</td>\n",
       "    </tr>\n",
       "    <tr>\n",
       "      <th>204210</th>\n",
       "      <td>모두투어리츠</td>\n",
       "      <td>3093.333333</td>\n",
       "      <td>3475</td>\n",
       "    </tr>\n",
       "  </tbody>\n",
       "</table>\n",
       "</div>"
      ],
      "text/plain": [
       "       stock_name          value   price\n",
       "id                                      \n",
       "128940       한미약품   59385.666667  421000\n",
       "130960     CJ E&M   58540.666667   98900\n",
       "138250      엔에스쇼핑   14558.666667   13200\n",
       "139480        이마트  239230.833333  254500\n",
       "142280     녹십자엠에스     468.833333   10200\n",
       "145990        삼양사   82750.000000   82000\n",
       "185750        종근당   40293.666667  100500\n",
       "192400      쿠쿠홀딩스  179204.666667  177500\n",
       "199800         툴젠   -2514.333333  115400\n",
       "204210     모두투어리츠    3093.333333    3475"
      ]
     },
     "execution_count": 25,
     "metadata": {},
     "output_type": "execute_result"
    }
   ],
   "source": [
    "df1"
   ]
  },
  {
   "cell_type": "code",
   "execution_count": 27,
   "id": "745105a4",
   "metadata": {
    "ExecuteTime": {
     "end_time": "2022-10-17T01:13:01.774520Z",
     "start_time": "2022-10-17T01:13:01.752392Z"
    }
   },
   "outputs": [
    {
     "data": {
      "text/html": [
       "<div>\n",
       "<style scoped>\n",
       "    .dataframe tbody tr th:only-of-type {\n",
       "        vertical-align: middle;\n",
       "    }\n",
       "\n",
       "    .dataframe tbody tr th {\n",
       "        vertical-align: top;\n",
       "    }\n",
       "\n",
       "    .dataframe thead th {\n",
       "        text-align: right;\n",
       "    }\n",
       "</style>\n",
       "<table border=\"1\" class=\"dataframe\">\n",
       "  <thead>\n",
       "    <tr style=\"text-align: right;\">\n",
       "      <th></th>\n",
       "      <th>stock_name</th>\n",
       "      <th>value</th>\n",
       "      <th>price</th>\n",
       "      <th>eps</th>\n",
       "      <th>bps</th>\n",
       "      <th>per</th>\n",
       "      <th>pbr</th>\n",
       "    </tr>\n",
       "  </thead>\n",
       "  <tbody>\n",
       "    <tr>\n",
       "      <th>0</th>\n",
       "      <td>CJ E&amp;M</td>\n",
       "      <td>58540.666667</td>\n",
       "      <td>98900</td>\n",
       "      <td>6301.333333</td>\n",
       "      <td>54068</td>\n",
       "      <td>15.695091</td>\n",
       "      <td>1.829178</td>\n",
       "    </tr>\n",
       "    <tr>\n",
       "      <th>1</th>\n",
       "      <td>이마트</td>\n",
       "      <td>239230.833333</td>\n",
       "      <td>254500</td>\n",
       "      <td>18268.166667</td>\n",
       "      <td>295780</td>\n",
       "      <td>13.931338</td>\n",
       "      <td>0.860437</td>\n",
       "    </tr>\n",
       "    <tr>\n",
       "      <th>2</th>\n",
       "      <td>삼양사</td>\n",
       "      <td>82750.000000</td>\n",
       "      <td>82000</td>\n",
       "      <td>5741.000000</td>\n",
       "      <td>108090</td>\n",
       "      <td>14.283226</td>\n",
       "      <td>0.758627</td>\n",
       "    </tr>\n",
       "    <tr>\n",
       "      <th>3</th>\n",
       "      <td>종근당</td>\n",
       "      <td>40293.666667</td>\n",
       "      <td>100500</td>\n",
       "      <td>3990.333333</td>\n",
       "      <td>40684</td>\n",
       "      <td>25.185866</td>\n",
       "      <td>2.470259</td>\n",
       "    </tr>\n",
       "    <tr>\n",
       "      <th>4</th>\n",
       "      <td>모두투어리츠</td>\n",
       "      <td>3093.333333</td>\n",
       "      <td>3475</td>\n",
       "      <td>85.166667</td>\n",
       "      <td>5335</td>\n",
       "      <td>40.802348</td>\n",
       "      <td>0.651359</td>\n",
       "    </tr>\n",
       "  </tbody>\n",
       "</table>\n",
       "</div>"
      ],
      "text/plain": [
       "  stock_name          value   price           eps     bps        per       pbr\n",
       "0     CJ E&M   58540.666667   98900   6301.333333   54068  15.695091  1.829178\n",
       "1        이마트  239230.833333  254500  18268.166667  295780  13.931338  0.860437\n",
       "2        삼양사   82750.000000   82000   5741.000000  108090  14.283226  0.758627\n",
       "3        종근당   40293.666667  100500   3990.333333   40684  25.185866  2.470259\n",
       "4     모두투어리츠    3093.333333    3475     85.166667    5335  40.802348  0.651359"
      ]
     },
     "execution_count": 27,
     "metadata": {},
     "output_type": "execute_result"
    }
   ],
   "source": [
    "df1.merge(df2, on='stock_name', how='outer')"
   ]
  },
  {
   "cell_type": "markdown",
   "id": "0bc2fe23",
   "metadata": {},
   "source": [
    "# Q95. 아래 사항을 수행하세요.\n",
    "- 주어진 텍스트에서 단어 빈도 카운트\n",
    "- 빈도순으로 단어별 카운트를 사전형식으로 반환, 가장 빈도가 높은 단어 5개를 출력"
   ]
  },
  {
   "cell_type": "code",
   "execution_count": 1,
   "id": "40b47c28",
   "metadata": {
    "ExecuteTime": {
     "end_time": "2022-10-23T12:19:31.313840Z",
     "start_time": "2022-10-23T12:19:31.291560Z"
    }
   },
   "outputs": [
    {
     "data": {
      "text/plain": [
       "' 카카오가 시간의 다음 카카오톡 먹통 피해사례 접수를 시작한다 유료 뿐 아니라 무료 이용자에도 피해 보상하는 방안을 검토 중인데 전례가 없었던 일인 만큼 실질적 보상까지는 상당한 시간이 걸릴 전망이다 홍은택 카카오 대표는 일 경기 성남시 판교사옥에서 열린 간담회에서 유료 서비스 이용자뿐 아니라 이번 장애로 피해 입은 이용자와 파트너 다양한 이해관계자에 대한 보상을 검토하겠다 고 밝혔다 이에 카카오는 이날부터 주간 피해신고 채널을 열고 사례를 모은다 이용자들이 서비스명 피해사례 근거자료를 접수하면 이를 바탕으로 보상안을 수립한다는 방침이다 앞서 카카오 쇼핑 웹툰 멜론 등 유료 서비스는 이용권 유효기간 연장 및 캐시지급 등의 피해보상안을 발표했다 다만 무료 이용자의 경우 보상을 받기까진 오랜 시간이 걸릴 전망이다 홍 대표는 무료 서비스 이용자는 보상 선례도 없고 기준도 없어 다양한 사례를 보고 판단하겠다 며 사례 확인 후 정책을 만들어야 해서 시간이 걸릴 것 이라고 말했다 카카오에 보상을 요구하는 목소리는 거세다 전날 택시 개 단체는 카카오 먹통으로 손해를 본 일반 중개택시에도 피해보상 하라 라고 지적했다 대리운전 기사도 피해사례 취합에 나섰다 가장 늦게까지 복구가 안 된 다음 카카오메일과 톡채널 이용자들의 불만도 빗발친다 서울 강남구에 근무하는 씨는 중요 행사를 앞두고 있는데 회사 메일로 다음을 쓰고 있어 이번주 내내 업무가 마비됐다 고 토로했다 카카오가 보상안을 마련하더라도 성난 민심을 잠재울수 있을진 미지수다 지난해 는 전국 네트워트 장애 사고 발생 당시 소상공인에 평균 원 개인 기업 가입자에 회선당 원 안팎의 피해보상안을 발표했으나 보상 수준이 턱없이 낮다는 평가를 받았다 특히 소상공인들은 매출 손실에 대한 보상안이 빠졌다고 반발했다 카카오 보상안이 미진할 경우 대규모 공동소송이 벌어질 수 있다 이미 법무법인 파트너스 가 연 손해배상 청구 소송인단 카페 가입자가 명에 달한다 는 무료 서비스여도 사업자 과실로 피해가 발생하면 민법상 채무불이행에 대한 손해배상을 청구할수 있다는 입장이다 구체적인 피해입증이 어려운 경우를 위해 위자료 소송도 검토 중이다 그렇다고 카카오가 지나치게 많은 보상액을 책정할 경우 주주배임소송에 휘말릴 우려도 제기된다 보상 규모가 많든 적든 추가적인 법률 리스크는 피하기 어려워 보인다 한편 이번 화재에 따른 카카오의 자체 피해액도 최대 억원에 달할 수 있다는 증권가 분석이 나오고 있다 하지만 카카오는 기업휴지보험 에도 가입하지 않은 것으로 파악됐다 기업휴지보험은 보험 사고에 따른 기업의 영업 중단 시 피해를 보상하는 상품이다 더욱이 홍 대표는 와 구상권 청구문제는 사고 처리가 끝나면 시작될 것 이라며 책임소재를 다투기 앞서 먼저 보상하겠다 고 했다 양사 간 책임공방이 장기화 될 수 있는 만큼 카카오의 단기적인 비용 부담은 급증할 것으로 보인다 '"
      ]
     },
     "execution_count": 1,
     "metadata": {},
     "output_type": "execute_result"
    }
   ],
   "source": [
    "import re\n",
    "with open(\"./data/text.txt\",\"r\", encoding='utf-8') as f:\n",
    "    text = f.read()\n",
    "f.close\n",
    "\n",
    "# print(text)\n",
    "text = re.sub('[^가-힣]+', ' ', text)\n",
    "text"
   ]
  },
  {
   "cell_type": "code",
   "execution_count": 2,
   "id": "6bbf5ee5",
   "metadata": {
    "ExecuteTime": {
     "end_time": "2022-10-23T12:19:38.609595Z",
     "start_time": "2022-10-23T12:19:32.620481Z"
    }
   },
   "outputs": [
    {
     "name": "stderr",
     "output_type": "stream",
     "text": [
      "OpenJDK 64-Bit Server VM warning: Attempt to protect stack guard pages failed.\n",
      "OpenJDK 64-Bit Server VM warning: Attempt to deallocate stack guard pages failed.\n"
     ]
    },
    {
     "name": "stdout",
     "output_type": "stream",
     "text": [
      "[('카카오', 'Noun'), ('가', 'Josa'), ('시간', 'Noun'), ('의', 'Josa'), ('다음', 'Noun'), ('카카오', 'Noun'), ('톡', 'Noun'), ('먹통', 'Noun'), ('피해', 'Noun'), ('사례', 'Noun'), ('접수', 'Noun'), ('를', 'Josa'), ('시작', 'Noun'), ('한', 'Josa'), ('다', 'Adverb'), ('유료', 'Noun'), ('뿐', 'Noun'), ('아니라', 'Adjective'), ('무료', 'Noun'), ('이용자', 'Noun'), ('에도', 'Josa'), ('피해', 'Noun'), ('보상', 'Noun'), ('하는', 'Verb'), ('방안', 'Noun'), ('을', 'Josa'), ('검토', 'Noun'), ('중', 'Noun'), ('인데', 'Josa'), ('전례', 'Noun'), ('가', 'Josa'), ('없었던', 'Adjective'), ('일인', 'Noun'), ('만큼', 'Noun'), ('실질', 'Noun'), ('적', 'Suffix'), ('보상', 'Noun'), ('까지는', 'Josa'), ('상당한', 'Adjective'), ('시간', 'Noun'), ('이', 'Josa'), ('걸릴', 'Verb'), ('전망', 'Noun'), ('이다', 'Josa'), ('홍은택', 'Noun'), ('카카오', 'Noun'), ('대표', 'Noun'), ('는', 'Josa'), ('일', 'Noun'), ('경기', 'Noun'), ('성남시', 'Noun'), ('판교', 'Noun'), ('사옥', 'Noun'), ('에서', 'Josa'), ('열린', 'Verb'), ('간담', 'Noun'), ('회', 'Noun'), ('에서', 'Josa'), ('유료', 'Noun'), ('서비스', 'Noun'), ('이용자', 'Noun'), ('뿐', 'Suffix'), ('아니라', 'Adjective'), ('이번', 'Noun'), ('장애', 'Noun'), ('로', 'Josa'), ('피해', 'Noun'), ('입은', 'Verb'), ('이용자', 'Noun'), ('와', 'Josa'), ('파트너', 'Noun'), ('다양한', 'Adjective'), ('이해관계자', 'Noun'), ('에', 'Josa'), ('대한', 'Noun'), ('보상', 'Noun'), ('을', 'Josa'), ('검토', 'Noun'), ('하겠다', 'Verb'), ('고', 'Noun'), ('밝혔다', 'Verb'), ('이', 'Noun'), ('에', 'Josa'), ('카카오', 'Noun'), ('는', 'Josa'), ('이', 'Determiner'), ('날', 'Noun'), ('부터', 'Josa'), ('주간', 'Noun'), ('피해', 'Noun'), ('신고', 'Noun'), ('채널', 'Noun'), ('을', 'Josa'), ('열고', 'Verb'), ('사례', 'Noun'), ('를', 'Josa'), ('모은다', 'Verb'), ('이용자', 'Noun'), ('들', 'Suffix'), ('이', 'Josa'), ('서비스', 'Noun'), ('명', 'Suffix'), ('피해', 'Noun'), ('사례', 'Noun'), ('근거', 'Noun'), ('자료', 'Noun'), ('를', 'Josa'), ('접수', 'Noun'), ('하면', 'Verb'), ('이를', 'Verb'), ('바탕', 'Noun'), ('으로', 'Josa'), ('보상', 'Noun'), ('안', 'Noun'), ('을', 'Josa'), ('수립', 'Noun'), ('한다는', 'Modifier'), ('방침', 'Noun'), ('이다', 'Josa'), ('앞서', 'Noun'), ('카카오', 'Noun'), ('쇼핑', 'Noun'), ('웹툰', 'Noun'), ('멜론', 'Noun'), ('등', 'Noun'), ('유료', 'Noun'), ('서비스', 'Noun'), ('는', 'Josa'), ('이용권', 'Noun'), ('유효', 'Noun'), ('기간', 'Noun'), ('연장', 'Noun'), ('및', 'Noun'), ('캐시', 'Noun'), ('지급', 'Noun'), ('등', 'Noun'), ('의', 'Josa'), ('피해', 'Noun'), ('보상', 'Noun'), ('안', 'Noun'), ('을', 'Josa'), ('발표', 'Noun'), ('했다', 'Verb'), ('다만', 'Noun'), ('무료', 'Noun'), ('이용자', 'Noun'), ('의', 'Josa'), ('경우', 'Noun'), ('보상', 'Noun'), ('을', 'Josa'), ('받기까진', 'Verb'), ('오랜', 'Adverb'), ('시간', 'Noun'), ('이', 'Josa'), ('걸릴', 'Verb'), ('전망', 'Noun'), ('이다', 'Josa'), ('홍', 'Noun'), ('대표', 'Noun'), ('는', 'Josa'), ('무료', 'Noun'), ('서비스', 'Noun'), ('이용자', 'Noun'), ('는', 'Josa'), ('보상', 'Noun'), ('선례', 'Noun'), ('도', 'Josa'), ('없고', 'Adjective'), ('기준', 'Noun'), ('도', 'Josa'), ('없어', 'Adjective'), ('다양한', 'Adjective'), ('사례', 'Noun'), ('를', 'Josa'), ('보고', 'Noun'), ('판단', 'Noun'), ('하겠다', 'Verb'), ('며', 'Noun'), ('사례', 'Noun'), ('확인', 'Noun'), ('후', 'Noun'), ('정책', 'Noun'), ('을', 'Josa'), ('만들어야', 'Verb'), ('해서', 'Verb'), ('시간', 'Noun'), ('이', 'Josa'), ('걸릴', 'Verb'), ('것', 'Noun'), ('이라고', 'Josa'), ('말', 'Noun'), ('했다', 'Verb'), ('카카오', 'Noun'), ('에', 'Josa'), ('보상', 'Noun'), ('을', 'Josa'), ('요구', 'Noun'), ('하는', 'Verb'), ('목소리', 'Noun'), ('는', 'Josa'), ('거세', 'Noun'), ('다', 'Josa'), ('전날', 'Noun'), ('택시', 'Noun'), ('개', 'Noun'), ('단체', 'Noun'), ('는', 'Josa'), ('카카오', 'Noun'), ('먹통', 'Noun'), ('으로', 'Josa'), ('손해', 'Noun'), ('를', 'Josa'), ('본', 'Verb'), ('일반', 'Noun'), ('중개', 'Noun'), ('택시', 'Noun'), ('에도', 'Josa'), ('피해', 'Noun'), ('보상', 'Noun'), ('하라', 'Noun'), ('라고', 'Josa'), ('지적', 'Noun'), ('했다', 'Verb'), ('대리', 'Noun'), ('운전', 'Noun'), ('기사도', 'Noun'), ('피해', 'Noun'), ('사례', 'Noun'), ('취합', 'Noun'), ('에', 'Josa'), ('나섰다', 'Verb'), ('가장', 'Noun'), ('늦게까지', 'Verb'), ('복구', 'Noun'), ('가', 'Josa'), ('안', 'Noun'), ('된', 'Verb'), ('다음', 'Noun'), ('카카오', 'Noun'), ('메일', 'Noun'), ('과', 'Josa'), ('톡', 'Noun'), ('채널', 'Noun'), ('이용자', 'Noun'), ('들', 'Suffix'), ('의', 'Josa'), ('불만', 'Noun'), ('도', 'Josa'), ('빗발', 'Noun'), ('친다', 'Verb'), ('서울', 'Noun'), ('강남구', 'Noun'), ('에', 'Josa'), ('근무', 'Noun'), ('하는', 'Verb'), ('씨', 'Noun'), ('는', 'Josa'), ('중요', 'Noun'), ('행사', 'Noun'), ('를', 'Josa'), ('앞두고', 'Verb'), ('있는데', 'Adjective'), ('회사', 'Noun'), ('메일', 'Noun'), ('로', 'Josa'), ('다음', 'Noun'), ('을', 'Josa'), ('쓰고', 'Verb'), ('있어', 'Adjective'), ('이번', 'Noun'), ('주', 'Noun'), ('내내', 'Noun'), ('업무', 'Noun'), ('가', 'Josa'), ('마비', 'Noun'), ('됐다', 'Verb'), ('고', 'Noun'), ('토로', 'Noun'), ('했다', 'Verb'), ('카카오', 'Noun'), ('가', 'Josa'), ('보상', 'Noun'), ('안', 'Noun'), ('을', 'Josa'), ('마련', 'Noun'), ('하더라도', 'Verb'), ('성난', 'Verb'), ('민심', 'Noun'), ('을', 'Josa'), ('잠재울수', 'Verb'), ('있을진', 'Adjective'), ('미지수', 'Noun'), ('다', 'Josa'), ('지난해', 'Noun'), ('는', 'Verb'), ('전국', 'Noun'), ('네트', 'Noun'), ('워트', 'Noun'), ('장애', 'Noun'), ('사고', 'Noun'), ('발생', 'Noun'), ('당시', 'Noun'), ('소', 'Modifier'), ('상공', 'Noun'), ('인', 'Suffix'), ('에', 'Josa'), ('평균', 'Noun'), ('원', 'Noun'), ('개인', 'Noun'), ('기업', 'Noun'), ('가입자', 'Noun'), ('에', 'Josa'), ('회선', 'Noun'), ('당', 'Suffix'), ('원', 'Noun'), ('안팎', 'Noun'), ('의', 'Josa'), ('피해', 'Noun'), ('보상', 'Noun'), ('안', 'Noun'), ('을', 'Josa'), ('발표', 'Noun'), ('했으나', 'Verb'), ('보상', 'Noun'), ('수준', 'Noun'), ('이', 'Josa'), ('턱', 'Noun'), ('없이', 'Adverb'), ('낮다는', 'Adjective'), ('평가', 'Noun'), ('를', 'Josa'), ('받았다', 'Verb'), ('특히', 'Adverb'), ('소상', 'Noun'), ('공인', 'Noun'), ('들', 'Suffix'), ('은', 'Josa'), ('매출', 'Noun'), ('손실', 'Noun'), ('에', 'Josa'), ('대한', 'Noun'), ('보상', 'Noun'), ('안이', 'Noun'), ('빠졌다고', 'Verb'), ('반발', 'Noun'), ('했다', 'Verb'), ('카카오', 'Noun'), ('보상', 'Noun'), ('안이', 'Noun'), ('미진할', 'Adjective'), ('경우', 'Noun'), ('대규모', 'Noun'), ('공', 'Modifier'), ('동', 'Modifier'), ('소송', 'Noun'), ('이', 'Josa'), ('벌어질', 'Verb'), ('수', 'Noun'), ('있다', 'Adjective'), ('이미', 'Adverb'), ('법무', 'Noun'), ('법인', 'Noun'), ('파트너', 'Noun'), ('스', 'Noun'), ('가', 'Verb'), ('연', 'Noun'), ('손해배상', 'Noun'), ('청구', 'Noun'), ('소송', 'Noun'), ('인', 'Josa'), ('단', 'Noun'), ('카페', 'Noun'), ('가입자', 'Noun'), ('가', 'Josa'), ('명', 'Noun'), ('에', 'Josa'), ('달', 'Noun'), ('한', 'Josa'), ('다', 'Adverb'), ('는', 'Verb'), ('무료', 'Noun'), ('서비스', 'Noun'), ('여', 'Josa'), ('도', 'Noun'), ('사업자', 'Noun'), ('과실', 'Noun'), ('로', 'Josa'), ('피해', 'Noun'), ('가', 'Josa'), ('발생', 'Noun'), ('하면', 'Verb'), ('민법', 'Noun'), ('상', 'Suffix'), ('채무불이행', 'Noun'), ('에', 'Josa'), ('대한', 'Noun'), ('손해배상', 'Noun'), ('을', 'Josa'), ('청구', 'Noun'), ('할수', 'Verb'), ('있다는', 'Adjective'), ('입장', 'Noun'), ('이다', 'Josa'), ('구체', 'Noun'), ('적', 'Suffix'), ('인', 'Josa'), ('피해', 'Noun'), ('입증', 'Noun'), ('이', 'Josa'), ('어려운', 'Adjective'), ('경우', 'Noun'), ('를', 'Josa'), ('위해', 'Noun'), ('위자료', 'Noun'), ('소송도', 'Noun'), ('검토', 'Noun'), ('중이', 'Noun'), ('다', 'Josa'), ('그렇다고', 'Conjunction'), ('카카오', 'Noun'), ('가', 'Josa'), ('지나치게', 'Verb'), ('많은', 'Adjective'), ('보상', 'Noun'), ('액', 'Noun'), ('을', 'Josa'), ('책정', 'Noun'), ('할', 'Verb'), ('경우', 'Noun'), ('주', 'Modifier'), ('주', 'Modifier'), ('배임', 'Noun'), ('소송', 'Noun'), ('에', 'Josa'), ('휘', 'Noun'), ('말릴', 'Verb'), ('우려', 'Noun'), ('도', 'Josa'), ('제기', 'Noun'), ('된다', 'Verb'), ('보상', 'Noun'), ('규모', 'Noun'), ('가', 'Josa'), ('많든', 'Adjective'), ('적든', 'Verb'), ('추가', 'Noun'), ('적', 'Suffix'), ('인', 'Josa'), ('법률', 'Noun'), ('리스크', 'Noun'), ('는', 'Josa'), ('피', 'Noun'), ('하기', 'Verb'), ('어려워', 'Adjective'), ('보인다', 'Verb'), ('한편', 'Noun'), ('이번', 'Noun'), ('화재', 'Noun'), ('에', 'Josa'), ('따른', 'Verb'), ('카카오', 'Noun'), ('의', 'Josa'), ('자체', 'Noun'), ('피해', 'Noun'), ('액', 'Noun'), ('도', 'Josa'), ('최대', 'Noun'), ('억원', 'Noun'), ('에', 'Josa'), ('달', 'Noun'), ('할', 'Verb'), ('수', 'Noun'), ('있다는', 'Adjective'), ('증권', 'Noun'), ('가', 'Josa'), ('분석', 'Noun'), ('이', 'Josa'), ('나오고', 'Verb'), ('있다', 'Adjective'), ('하지만', 'Conjunction'), ('카카오', 'Noun'), ('는', 'Josa'), ('기업', 'Noun'), ('휴지', 'Noun'), ('보험', 'Noun'), ('에도', 'Josa'), ('가입', 'Noun'), ('하지', 'Verb'), ('않은', 'Verb'), ('것', 'Noun'), ('으로', 'Josa'), ('파악', 'Noun'), ('됐다', 'Verb'), ('기업', 'Noun'), ('휴지', 'Noun'), ('보험', 'Noun'), ('은', 'Josa'), ('보험', 'Noun'), ('사고', 'Noun'), ('에', 'Josa'), ('따른', 'Verb'), ('기업', 'Noun'), ('의', 'Josa'), ('영업', 'Noun'), ('중단', 'Noun'), ('시', 'Noun'), ('피해', 'Noun'), ('를', 'Josa'), ('보상', 'Noun'), ('하는', 'Verb'), ('상품', 'Noun'), ('이다', 'Josa'), ('더욱이', 'Noun'), ('홍', 'Noun'), ('대표', 'Noun'), ('는', 'Josa'), ('와', 'Verb'), ('구상권', 'Noun'), ('청구', 'Noun'), ('문제', 'Noun'), ('는', 'Josa'), ('사고', 'Noun'), ('처리', 'Noun'), ('가', 'Josa'), ('끝나면', 'Verb'), ('시작', 'Noun'), ('될', 'Verb'), ('것', 'Noun'), ('이', 'Determiner'), ('라며', 'Noun'), ('책임', 'Noun'), ('소재', 'Noun'), ('를', 'Josa'), ('다투기', 'Verb'), ('앞서', 'Noun'), ('먼저', 'Noun'), ('보상', 'Noun'), ('하겠다', 'Verb'), ('고', 'Noun'), ('했다', 'Verb'), ('양사', 'Noun'), ('간', 'Noun'), ('책임', 'Noun'), ('공', 'Modifier'), ('방이', 'Noun'), ('장기', 'Noun'), ('화', 'Suffix'), ('될', 'Verb'), ('수', 'Noun'), ('있는', 'Adjective'), ('만큼', 'Noun'), ('카카오', 'Noun'), ('의', 'Josa'), ('단', 'Modifier'), ('기적', 'Noun'), ('인', 'Josa'), ('비용', 'Noun'), ('부담', 'Noun'), ('은', 'Josa'), ('급증', 'Noun'), ('할', 'Verb'), ('것', 'Noun'), ('으로', 'Josa'), ('보인다', 'Verb')]\n",
      "['카카오', '시간', '다음', '카카오', '먹통', '피해', '사례', '접수', '시작', '유료', '아니라', '무료', '이용자', '피해', '보상', '방안', '검토', '전례', '없었던', '일인', '만큼', '실질', '보상', '상당한', '시간', '전망', '홍은택', '카카오', '대표', '경기', '성남시', '판교', '사옥', '간담', '유료', '서비스', '이용자', '아니라', '이번', '장애', '피해', '이용자', '파트너', '다양한', '이해관계자', '대한', '보상', '검토', '카카오', '주간', '피해', '신고', '채널', '사례', '이용자', '서비스', '피해', '사례', '근거', '자료', '접수', '바탕', '보상', '수립', '방침', '앞서', '카카오', '쇼핑', '웹툰', '멜론', '유료', '서비스', '이용권', '유효', '기간', '연장', '캐시', '지급', '피해', '보상', '발표', '다만', '무료', '이용자', '경우', '보상', '시간', '전망', '대표', '무료', '서비스', '이용자', '보상', '선례', '없고', '기준', '없어', '다양한', '사례', '보고', '판단', '사례', '확인', '정책', '시간', '카카오', '보상', '요구', '목소리', '거세', '전날', '택시', '단체', '카카오', '먹통', '손해', '일반', '중개', '택시', '피해', '보상', '하라', '지적', '대리', '운전', '기사도', '피해', '사례', '취합', '가장', '복구', '다음', '카카오', '메일', '채널', '이용자', '불만', '빗발', '서울', '강남구', '근무', '중요', '행사', '있는데', '회사', '메일', '다음', '있어', '이번', '내내', '업무', '마비', '토로', '카카오', '보상', '마련', '민심', '있을진', '미지수', '지난해', '전국', '네트', '워트', '장애', '사고', '발생', '당시', '상공', '평균', '개인', '기업', '가입자', '회선', '안팎', '피해', '보상', '발표', '보상', '수준', '낮다는', '평가', '소상', '공인', '매출', '손실', '대한', '보상', '안이', '반발', '카카오', '보상', '안이', '미진할', '경우', '대규모', '소송', '있다', '법무', '법인', '파트너', '손해배상', '청구', '소송', '카페', '가입자', '무료', '서비스', '사업자', '과실', '피해', '발생', '민법', '채무불이행', '대한', '손해배상', '청구', '있다는', '입장', '구체', '피해', '입증', '어려운', '경우', '위해', '위자료', '소송도', '검토', '중이', '카카오', '많은', '보상', '책정', '경우', '배임', '소송', '우려', '제기', '보상', '규모', '많든', '추가', '법률', '리스크', '어려워', '한편', '이번', '화재', '카카오', '자체', '피해', '최대', '억원', '있다는', '증권', '분석', '있다', '카카오', '기업', '휴지', '보험', '가입', '파악', '기업', '휴지', '보험', '보험', '사고', '기업', '영업', '중단', '피해', '보상', '상품', '더욱이', '대표', '구상권', '청구', '문제', '사고', '처리', '시작', '라며', '책임', '소재', '앞서', '먼저', '보상', '양사', '책임', '방이', '장기', '있는', '만큼', '카카오', '기적', '비용', '부담', '급증']\n"
     ]
    }
   ],
   "source": [
    "from sklearn.feature_extraction.text import CountVectorizer\n",
    "from konlpy.tag import Okt\n",
    "\n",
    "okt = Okt()\n",
    "morph = okt.pos(text)\n",
    "li = []\n",
    "for word, tag in morph:\n",
    "    if ((tag=='Noun')|(tag=='Adjective'))&(len(word)>1):\n",
    "        li.append(word)\n",
    "        \n",
    "print(morph)\n",
    "print(li)"
   ]
  },
  {
   "cell_type": "code",
   "execution_count": 3,
   "id": "1c6a4c47",
   "metadata": {
    "ExecuteTime": {
     "end_time": "2022-10-23T12:19:44.068365Z",
     "start_time": "2022-10-23T12:19:41.424697Z"
    }
   },
   "outputs": [
    {
     "data": {
      "text/html": [
       "<div>\n",
       "<style scoped>\n",
       "    .dataframe tbody tr th:only-of-type {\n",
       "        vertical-align: middle;\n",
       "    }\n",
       "\n",
       "    .dataframe tbody tr th {\n",
       "        vertical-align: top;\n",
       "    }\n",
       "\n",
       "    .dataframe thead th {\n",
       "        text-align: right;\n",
       "    }\n",
       "</style>\n",
       "<table border=\"1\" class=\"dataframe\">\n",
       "  <thead>\n",
       "    <tr style=\"text-align: right;\">\n",
       "      <th></th>\n",
       "      <th>index</th>\n",
       "      <th>cnt</th>\n",
       "    </tr>\n",
       "  </thead>\n",
       "  <tbody>\n",
       "    <tr>\n",
       "      <th>0</th>\n",
       "      <td>보상</td>\n",
       "      <td>18</td>\n",
       "    </tr>\n",
       "    <tr>\n",
       "      <th>1</th>\n",
       "      <td>카카오</td>\n",
       "      <td>14</td>\n",
       "    </tr>\n",
       "    <tr>\n",
       "      <th>2</th>\n",
       "      <td>피해</td>\n",
       "      <td>13</td>\n",
       "    </tr>\n",
       "    <tr>\n",
       "      <th>3</th>\n",
       "      <td>이용자</td>\n",
       "      <td>7</td>\n",
       "    </tr>\n",
       "    <tr>\n",
       "      <th>4</th>\n",
       "      <td>사례</td>\n",
       "      <td>6</td>\n",
       "    </tr>\n",
       "  </tbody>\n",
       "</table>\n",
       "</div>"
      ],
      "text/plain": [
       "  index  cnt\n",
       "0    보상   18\n",
       "1   카카오   14\n",
       "2    피해   13\n",
       "3   이용자    7\n",
       "4    사례    6"
      ]
     },
     "execution_count": 3,
     "metadata": {},
     "output_type": "execute_result"
    }
   ],
   "source": [
    "import pandas as pd\n",
    "from collections import Counter\n",
    "from matplotlib import rc\n",
    "import matplotlib.pyplot as plt\n",
    "import seaborn as sns\n",
    "\n",
    "rc('font', family = 'Malgun Gothic') #한글 폰트 설정\n",
    "plt.rcParams['axes.unicode_minus'] = False #마이너스 부호 출력 설정\n",
    "\n",
    "count = Counter(li)\n",
    "data = dict(count.most_common())\n",
    "series = pd.Series(data)\n",
    "df = pd.DataFrame(series, columns=['cnt'])\n",
    "df10 = df.sort_values(by='cnt', ascending = False)[:5]\n",
    "df10.reset_index(inplace=True)\n",
    "df10\n",
    "# list(data.keys())[:5]"
   ]
  },
  {
   "cell_type": "code",
   "execution_count": null,
   "id": "4730f158",
   "metadata": {},
   "outputs": [],
   "source": []
  }
 ],
 "metadata": {
  "kernelspec": {
   "display_name": "Python 3 (ipykernel)",
   "language": "python",
   "name": "python3"
  },
  "language_info": {
   "codemirror_mode": {
    "name": "ipython",
    "version": 3
   },
   "file_extension": ".py",
   "mimetype": "text/x-python",
   "name": "python",
   "nbconvert_exporter": "python",
   "pygments_lexer": "ipython3",
   "version": "3.9.13"
  },
  "toc": {
   "base_numbering": 1,
   "nav_menu": {
    "height": "406px",
    "width": "160px"
   },
   "number_sections": true,
   "sideBar": true,
   "skip_h1_title": false,
   "title_cell": "Table of Contents",
   "title_sidebar": "Contents",
   "toc_cell": false,
   "toc_position": {
    "height": "752px",
    "left": "195px",
    "top": "131px",
    "width": "212px"
   },
   "toc_section_display": true,
   "toc_window_display": true
  }
 },
 "nbformat": 4,
 "nbformat_minor": 5
}
