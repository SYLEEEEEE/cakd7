{
 "cells": [
  {
   "cell_type": "code",
   "execution_count": 15,
   "id": "237325ff",
   "metadata": {},
   "outputs": [],
   "source": [
    "import pandas as pd\n",
    "import numpy as np"
   ]
  },
  {
   "cell_type": "code",
   "execution_count": 53,
   "id": "d03c2fdb",
   "metadata": {},
   "outputs": [
    {
     "data": {
      "text/plain": [
       "'C:\\\\cakd7\\\\m1_programing'"
      ]
     },
     "execution_count": 53,
     "metadata": {},
     "output_type": "execute_result"
    }
   ],
   "source": [
    "%pwd"
   ]
  },
  {
   "cell_type": "code",
   "execution_count": 3,
   "id": "0afddafc",
   "metadata": {
    "scrolled": false
   },
   "outputs": [
    {
     "data": {
      "text/html": [
       "<div>\n",
       "<style scoped>\n",
       "    .dataframe tbody tr th:only-of-type {\n",
       "        vertical-align: middle;\n",
       "    }\n",
       "\n",
       "    .dataframe tbody tr th {\n",
       "        vertical-align: top;\n",
       "    }\n",
       "\n",
       "    .dataframe thead th {\n",
       "        text-align: right;\n",
       "    }\n",
       "</style>\n",
       "<table border=\"1\" class=\"dataframe\">\n",
       "  <thead>\n",
       "    <tr style=\"text-align: right;\">\n",
       "      <th></th>\n",
       "      <th>WKT</th>\n",
       "      <th>CTPRVN_CD</th>\n",
       "      <th>CTP_ENG_NM</th>\n",
       "      <th>CTP_KOR_NM</th>\n",
       "    </tr>\n",
       "  </thead>\n",
       "  <tbody>\n",
       "    <tr>\n",
       "      <th>0</th>\n",
       "      <td>MULTIPOLYGON (((966987.225863826 1941110.94614...</td>\n",
       "      <td>11</td>\n",
       "      <td>Seoul</td>\n",
       "      <td>서울특별시</td>\n",
       "    </tr>\n",
       "    <tr>\n",
       "      <th>1</th>\n",
       "      <td>MULTIPOLYGON (((1146778.38995499 1679623.99921...</td>\n",
       "      <td>26</td>\n",
       "      <td>Busan</td>\n",
       "      <td>부산광역시</td>\n",
       "    </tr>\n",
       "    <tr>\n",
       "      <th>2</th>\n",
       "      <td>MULTIPOLYGON (((1087859.99870678 1760097.46106...</td>\n",
       "      <td>27</td>\n",
       "      <td>Daegu</td>\n",
       "      <td>대구광역시</td>\n",
       "    </tr>\n",
       "    <tr>\n",
       "      <th>3</th>\n",
       "      <td>MULTIPOLYGON (((897904.03462436 1961082.190119...</td>\n",
       "      <td>28</td>\n",
       "      <td>Incheon</td>\n",
       "      <td>인천광역시</td>\n",
       "    </tr>\n",
       "    <tr>\n",
       "      <th>4</th>\n",
       "      <td>MULTIPOLYGON (((932712.68744766 1696168.691795...</td>\n",
       "      <td>29</td>\n",
       "      <td>Gwangju</td>\n",
       "      <td>광주광역시</td>\n",
       "    </tr>\n",
       "  </tbody>\n",
       "</table>\n",
       "</div>"
      ],
      "text/plain": [
       "                                                 WKT  CTPRVN_CD CTP_ENG_NM  \\\n",
       "0  MULTIPOLYGON (((966987.225863826 1941110.94614...         11      Seoul   \n",
       "1  MULTIPOLYGON (((1146778.38995499 1679623.99921...         26      Busan   \n",
       "2  MULTIPOLYGON (((1087859.99870678 1760097.46106...         27      Daegu   \n",
       "3  MULTIPOLYGON (((897904.03462436 1961082.190119...         28    Incheon   \n",
       "4  MULTIPOLYGON (((932712.68744766 1696168.691795...         29    Gwangju   \n",
       "\n",
       "  CTP_KOR_NM  \n",
       "0      서울특별시  \n",
       "1      부산광역시  \n",
       "2      대구광역시  \n",
       "3      인천광역시  \n",
       "4      광주광역시  "
      ]
     },
     "execution_count": 3,
     "metadata": {},
     "output_type": "execute_result"
    }
   ],
   "source": [
    "df_si = pd.read_csv('../../Users/SANGYUN/Desktop/si_shp.csv', encoding='utf-8')\n",
    "df_si.head()"
   ]
  },
  {
   "cell_type": "code",
   "execution_count": 84,
   "id": "4a8f9a5e",
   "metadata": {},
   "outputs": [],
   "source": [
    "si_cd = np.array(df_si['CTPRVN_CD']).tolist()\n",
    "si_nm = np.array(df_si['CTP_ENG_NM']).tolist()\n",
    "\n",
    "for i in range(len(df_si)):\n",
    "    df_si.iloc[[i],:].to_csv('../../Users/SANGYUN/Desktop/sigudong/shp_'+ si_nm[i] +'_si.csv')"
   ]
  },
  {
   "cell_type": "code",
   "execution_count": 85,
   "id": "6cea74fa",
   "metadata": {},
   "outputs": [
    {
     "name": "stdout",
     "output_type": "stream",
     "text": [
      "<class 'pandas.core.frame.DataFrame'>\n",
      "RangeIndex: 17 entries, 0 to 16\n",
      "Data columns (total 4 columns):\n",
      " #   Column      Non-Null Count  Dtype \n",
      "---  ------      --------------  ----- \n",
      " 0   WKT         17 non-null     object\n",
      " 1   CTPRVN_CD   17 non-null     object\n",
      " 2   CTP_ENG_NM  17 non-null     object\n",
      " 3   CTP_KOR_NM  17 non-null     object\n",
      "dtypes: object(4)\n",
      "memory usage: 672.0+ bytes\n"
     ]
    }
   ],
   "source": [
    "df_si.info()"
   ]
  },
  {
   "cell_type": "code",
   "execution_count": 83,
   "id": "a8a7bb4a",
   "metadata": {},
   "outputs": [],
   "source": [
    "df_si['CTPRVN_CD'] = df_si['CTPRVN_CD'].astype(str)"
   ]
  },
  {
   "cell_type": "code",
   "execution_count": 60,
   "id": "aa85d9d9",
   "metadata": {},
   "outputs": [
    {
     "data": {
      "text/html": [
       "<div>\n",
       "<style scoped>\n",
       "    .dataframe tbody tr th:only-of-type {\n",
       "        vertical-align: middle;\n",
       "    }\n",
       "\n",
       "    .dataframe tbody tr th {\n",
       "        vertical-align: top;\n",
       "    }\n",
       "\n",
       "    .dataframe thead th {\n",
       "        text-align: right;\n",
       "    }\n",
       "</style>\n",
       "<table border=\"1\" class=\"dataframe\">\n",
       "  <thead>\n",
       "    <tr style=\"text-align: right;\">\n",
       "      <th></th>\n",
       "      <th>WKT</th>\n",
       "      <th>SIG_CD</th>\n",
       "      <th>SIG_ENG_NM</th>\n",
       "      <th>SIG_KOR_NM</th>\n",
       "    </tr>\n",
       "  </thead>\n",
       "  <tbody>\n",
       "    <tr>\n",
       "      <th>0</th>\n",
       "      <td>MULTIPOLYGON (((956615.453242448 1953567.19896...</td>\n",
       "      <td>11110</td>\n",
       "      <td>Jongno-gu</td>\n",
       "      <td>종로구</td>\n",
       "    </tr>\n",
       "    <tr>\n",
       "      <th>1</th>\n",
       "      <td>MULTIPOLYGON (((957890.385681809 1952616.74556...</td>\n",
       "      <td>11140</td>\n",
       "      <td>Jung-gu</td>\n",
       "      <td>중구</td>\n",
       "    </tr>\n",
       "    <tr>\n",
       "      <th>2</th>\n",
       "      <td>MULTIPOLYGON (((953115.761089407 1950834.08363...</td>\n",
       "      <td>11170</td>\n",
       "      <td>Yongsan-gu</td>\n",
       "      <td>용산구</td>\n",
       "    </tr>\n",
       "    <tr>\n",
       "      <th>3</th>\n",
       "      <td>MULTIPOLYGON (((959681.109391748 1952649.60479...</td>\n",
       "      <td>11200</td>\n",
       "      <td>Seongdong-gu</td>\n",
       "      <td>성동구</td>\n",
       "    </tr>\n",
       "    <tr>\n",
       "      <th>4</th>\n",
       "      <td>MULTIPOLYGON (((964825.057949812 1952633.24962...</td>\n",
       "      <td>11215</td>\n",
       "      <td>Gwangjin-gu</td>\n",
       "      <td>광진구</td>\n",
       "    </tr>\n",
       "  </tbody>\n",
       "</table>\n",
       "</div>"
      ],
      "text/plain": [
       "                                                 WKT  SIG_CD    SIG_ENG_NM  \\\n",
       "0  MULTIPOLYGON (((956615.453242448 1953567.19896...   11110     Jongno-gu   \n",
       "1  MULTIPOLYGON (((957890.385681809 1952616.74556...   11140       Jung-gu   \n",
       "2  MULTIPOLYGON (((953115.761089407 1950834.08363...   11170    Yongsan-gu   \n",
       "3  MULTIPOLYGON (((959681.109391748 1952649.60479...   11200  Seongdong-gu   \n",
       "4  MULTIPOLYGON (((964825.057949812 1952633.24962...   11215   Gwangjin-gu   \n",
       "\n",
       "  SIG_KOR_NM  \n",
       "0        종로구  \n",
       "1         중구  \n",
       "2        용산구  \n",
       "3        성동구  \n",
       "4        광진구  "
      ]
     },
     "execution_count": 60,
     "metadata": {},
     "output_type": "execute_result"
    }
   ],
   "source": [
    "df_gu = pd.read_csv('../../Users/SANGYUN/Desktop/gu_shp.csv', encoding='utf-8')\n",
    "df_gu.head()"
   ]
  },
  {
   "cell_type": "code",
   "execution_count": 65,
   "id": "d31dbf97",
   "metadata": {},
   "outputs": [],
   "source": [
    "df_gu['CTPRVN_CD'] = (df_gu['SIG_CD']/1000).astype(np.int64)\n",
    "df_gu = pd.merge(df_gu, df_si[['CTPRVN_CD', 'CTP_ENG_NM', 'CTP_KOR_NM']], how = 'left')\n",
    "for i in range(len(df_si)):\n",
    "    df_gu.loc[df_gu['CTPRVN_CD']==si_cd[i],:].to_csv('../../Users/SANGYUN/Desktop/sigudong/shp_' + si_nm[i] + '_sigu.csv')"
   ]
  },
  {
   "cell_type": "code",
   "execution_count": 2,
   "id": "f4121619",
   "metadata": {
    "scrolled": true
   },
   "outputs": [
    {
     "data": {
      "text/html": [
       "<div>\n",
       "<style scoped>\n",
       "    .dataframe tbody tr th:only-of-type {\n",
       "        vertical-align: middle;\n",
       "    }\n",
       "\n",
       "    .dataframe tbody tr th {\n",
       "        vertical-align: top;\n",
       "    }\n",
       "\n",
       "    .dataframe thead th {\n",
       "        text-align: right;\n",
       "    }\n",
       "</style>\n",
       "<table border=\"1\" class=\"dataframe\">\n",
       "  <thead>\n",
       "    <tr style=\"text-align: right;\">\n",
       "      <th></th>\n",
       "      <th>WKT</th>\n",
       "      <th>EMD_CD</th>\n",
       "      <th>EMD_ENG_NM</th>\n",
       "      <th>EMD_KOR_NM</th>\n",
       "    </tr>\n",
       "  </thead>\n",
       "  <tbody>\n",
       "    <tr>\n",
       "      <th>0</th>\n",
       "      <td>MULTIPOLYGON (((953700.022134754 1954605.06543...</td>\n",
       "      <td>11110101</td>\n",
       "      <td>Cheongun-dong</td>\n",
       "      <td>청운동</td>\n",
       "    </tr>\n",
       "    <tr>\n",
       "      <th>1</th>\n",
       "      <td>MULTIPOLYGON (((953233.465431754 1953996.98393...</td>\n",
       "      <td>11110102</td>\n",
       "      <td>Singyo-dong</td>\n",
       "      <td>신교동</td>\n",
       "    </tr>\n",
       "    <tr>\n",
       "      <th>2</th>\n",
       "      <td>MULTIPOLYGON (((953560.228143052 1954257.46648...</td>\n",
       "      <td>11110103</td>\n",
       "      <td>Gungjeong-dong</td>\n",
       "      <td>궁정동</td>\n",
       "    </tr>\n",
       "    <tr>\n",
       "      <th>3</th>\n",
       "      <td>MULTIPOLYGON (((953519.843411395 1953890.78473...</td>\n",
       "      <td>11110104</td>\n",
       "      <td>Hyoja-dong</td>\n",
       "      <td>효자동</td>\n",
       "    </tr>\n",
       "    <tr>\n",
       "      <th>4</th>\n",
       "      <td>MULTIPOLYGON (((953516.123431045 1953734.36201...</td>\n",
       "      <td>11110105</td>\n",
       "      <td>Changseong-dong</td>\n",
       "      <td>창성동</td>\n",
       "    </tr>\n",
       "  </tbody>\n",
       "</table>\n",
       "</div>"
      ],
      "text/plain": [
       "                                                 WKT    EMD_CD  \\\n",
       "0  MULTIPOLYGON (((953700.022134754 1954605.06543...  11110101   \n",
       "1  MULTIPOLYGON (((953233.465431754 1953996.98393...  11110102   \n",
       "2  MULTIPOLYGON (((953560.228143052 1954257.46648...  11110103   \n",
       "3  MULTIPOLYGON (((953519.843411395 1953890.78473...  11110104   \n",
       "4  MULTIPOLYGON (((953516.123431045 1953734.36201...  11110105   \n",
       "\n",
       "        EMD_ENG_NM EMD_KOR_NM  \n",
       "0    Cheongun-dong        청운동  \n",
       "1      Singyo-dong        신교동  \n",
       "2   Gungjeong-dong        궁정동  \n",
       "3       Hyoja-dong        효자동  \n",
       "4  Changseong-dong        창성동  "
      ]
     },
     "execution_count": 2,
     "metadata": {},
     "output_type": "execute_result"
    }
   ],
   "source": [
    "df_dong = pd.read_csv('../../Users/SANGYUN/Desktop/dong_shp.csv', encoding='utf-8')\n",
    "df_dong.head()"
   ]
  },
  {
   "cell_type": "code",
   "execution_count": 4,
   "id": "32bb778a",
   "metadata": {},
   "outputs": [],
   "source": [
    "df_dongman = df_dong[df_dong['EMD_CD']//1000000==11]\n",
    "df_dongman.to_csv('../../Users/SANGYUN/Desktop/dongman.csv')"
   ]
  },
  {
   "cell_type": "code",
   "execution_count": 68,
   "id": "b4fd06d1",
   "metadata": {},
   "outputs": [
    {
     "data": {
      "text/html": [
       "<div>\n",
       "<style scoped>\n",
       "    .dataframe tbody tr th:only-of-type {\n",
       "        vertical-align: middle;\n",
       "    }\n",
       "\n",
       "    .dataframe tbody tr th {\n",
       "        vertical-align: top;\n",
       "    }\n",
       "\n",
       "    .dataframe thead th {\n",
       "        text-align: right;\n",
       "    }\n",
       "</style>\n",
       "<table border=\"1\" class=\"dataframe\">\n",
       "  <thead>\n",
       "    <tr style=\"text-align: right;\">\n",
       "      <th></th>\n",
       "      <th>WKT</th>\n",
       "      <th>EMD_CD</th>\n",
       "      <th>EMD_ENG_NM</th>\n",
       "      <th>EMD_KOR_NM</th>\n",
       "      <th>SIG_CD</th>\n",
       "      <th>SIG_ENG_NM</th>\n",
       "      <th>SIG_KOR_NM</th>\n",
       "      <th>CTPRVN_CD</th>\n",
       "      <th>CTP_ENG_NM</th>\n",
       "      <th>CTP_KOR_NM</th>\n",
       "    </tr>\n",
       "  </thead>\n",
       "  <tbody>\n",
       "    <tr>\n",
       "      <th>0</th>\n",
       "      <td>MULTIPOLYGON (((953700.022134754 1954605.06543...</td>\n",
       "      <td>11110101</td>\n",
       "      <td>Cheongun-dong</td>\n",
       "      <td>청운동</td>\n",
       "      <td>11110</td>\n",
       "      <td>Jongno-gu</td>\n",
       "      <td>종로구</td>\n",
       "      <td>11</td>\n",
       "      <td>Seoul</td>\n",
       "      <td>서울특별시</td>\n",
       "    </tr>\n",
       "    <tr>\n",
       "      <th>1</th>\n",
       "      <td>MULTIPOLYGON (((953233.465431754 1953996.98393...</td>\n",
       "      <td>11110102</td>\n",
       "      <td>Singyo-dong</td>\n",
       "      <td>신교동</td>\n",
       "      <td>11110</td>\n",
       "      <td>Jongno-gu</td>\n",
       "      <td>종로구</td>\n",
       "      <td>11</td>\n",
       "      <td>Seoul</td>\n",
       "      <td>서울특별시</td>\n",
       "    </tr>\n",
       "    <tr>\n",
       "      <th>2</th>\n",
       "      <td>MULTIPOLYGON (((953560.228143052 1954257.46648...</td>\n",
       "      <td>11110103</td>\n",
       "      <td>Gungjeong-dong</td>\n",
       "      <td>궁정동</td>\n",
       "      <td>11110</td>\n",
       "      <td>Jongno-gu</td>\n",
       "      <td>종로구</td>\n",
       "      <td>11</td>\n",
       "      <td>Seoul</td>\n",
       "      <td>서울특별시</td>\n",
       "    </tr>\n",
       "    <tr>\n",
       "      <th>3</th>\n",
       "      <td>MULTIPOLYGON (((953519.843411395 1953890.78473...</td>\n",
       "      <td>11110104</td>\n",
       "      <td>Hyoja-dong</td>\n",
       "      <td>효자동</td>\n",
       "      <td>11110</td>\n",
       "      <td>Jongno-gu</td>\n",
       "      <td>종로구</td>\n",
       "      <td>11</td>\n",
       "      <td>Seoul</td>\n",
       "      <td>서울특별시</td>\n",
       "    </tr>\n",
       "    <tr>\n",
       "      <th>4</th>\n",
       "      <td>MULTIPOLYGON (((953516.123431045 1953734.36201...</td>\n",
       "      <td>11110105</td>\n",
       "      <td>Changseong-dong</td>\n",
       "      <td>창성동</td>\n",
       "      <td>11110</td>\n",
       "      <td>Jongno-gu</td>\n",
       "      <td>종로구</td>\n",
       "      <td>11</td>\n",
       "      <td>Seoul</td>\n",
       "      <td>서울특별시</td>\n",
       "    </tr>\n",
       "  </tbody>\n",
       "</table>\n",
       "</div>"
      ],
      "text/plain": [
       "                                                 WKT    EMD_CD  \\\n",
       "0  MULTIPOLYGON (((953700.022134754 1954605.06543...  11110101   \n",
       "1  MULTIPOLYGON (((953233.465431754 1953996.98393...  11110102   \n",
       "2  MULTIPOLYGON (((953560.228143052 1954257.46648...  11110103   \n",
       "3  MULTIPOLYGON (((953519.843411395 1953890.78473...  11110104   \n",
       "4  MULTIPOLYGON (((953516.123431045 1953734.36201...  11110105   \n",
       "\n",
       "        EMD_ENG_NM EMD_KOR_NM  SIG_CD SIG_ENG_NM SIG_KOR_NM  CTPRVN_CD  \\\n",
       "0    Cheongun-dong        청운동   11110  Jongno-gu        종로구         11   \n",
       "1      Singyo-dong        신교동   11110  Jongno-gu        종로구         11   \n",
       "2   Gungjeong-dong        궁정동   11110  Jongno-gu        종로구         11   \n",
       "3       Hyoja-dong        효자동   11110  Jongno-gu        종로구         11   \n",
       "4  Changseong-dong        창성동   11110  Jongno-gu        종로구         11   \n",
       "\n",
       "  CTP_ENG_NM CTP_KOR_NM  \n",
       "0      Seoul      서울특별시  \n",
       "1      Seoul      서울특별시  \n",
       "2      Seoul      서울특별시  \n",
       "3      Seoul      서울특별시  \n",
       "4      Seoul      서울특별시  "
      ]
     },
     "execution_count": 68,
     "metadata": {},
     "output_type": "execute_result"
    }
   ],
   "source": [
    "df_dong['SIG_CD'] = (df_dong['EMD_CD']/1000).astype(np.int64)\n",
    "df_dong = pd.merge(df_dong, df_gu[['SIG_CD', 'SIG_ENG_NM','SIG_KOR_NM']], how='left')\n",
    "df_dong['CTPRVN_CD'] = (df_dong['EMD_CD']/1000000).astype(np.int64)\n",
    "df_dong = pd.merge(df_dong, df_si[['CTPRVN_CD','CTP_ENG_NM','CTP_KOR_NM']], how='left')\n",
    "df_dong.head()"
   ]
  },
  {
   "cell_type": "code",
   "execution_count": 69,
   "id": "a1b185f4",
   "metadata": {},
   "outputs": [],
   "source": [
    "for i in range(len(df_si)):\n",
    "    df_dong.loc[df_dong['CTPRVN_CD']==si_cd[i],:].to_csv('../../Users/SANGYUN/Desktop/sigudong/shp_' + si_nm[i]+ '_sigudong.csv',)\n"
   ]
  },
  {
   "cell_type": "code",
   "execution_count": 91,
   "id": "a4371ab9",
   "metadata": {},
   "outputs": [
    {
     "name": "stdout",
     "output_type": "stream",
     "text": [
      "<class 'pandas.core.frame.DataFrame'>\n",
      "Int64Index: 5054 entries, 0 to 5053\n",
      "Data columns (total 10 columns):\n",
      " #   Column      Non-Null Count  Dtype \n",
      "---  ------      --------------  ----- \n",
      " 0   WKT         5054 non-null   object\n",
      " 1   EMD_CD      5054 non-null   int64 \n",
      " 2   EMD_ENG_NM  5054 non-null   object\n",
      " 3   EMD_KOR_NM  5054 non-null   object\n",
      " 4   SIG_CD      5054 non-null   int64 \n",
      " 5   SIG_ENG_NM  5054 non-null   object\n",
      " 6   SIG_KOR_NM  5054 non-null   object\n",
      " 7   CTPRVN_CD   5054 non-null   int64 \n",
      " 8   CTP_ENG_NM  5054 non-null   object\n",
      " 9   CTP_KOR_NM  5054 non-null   object\n",
      "dtypes: int64(3), object(7)\n",
      "memory usage: 434.3+ KB\n"
     ]
    }
   ],
   "source": [
    "df_dong.info()"
   ]
  },
  {
   "cell_type": "code",
   "execution_count": 87,
   "id": "875b6007",
   "metadata": {},
   "outputs": [],
   "source": [
    "df_si = pd.read_csv('../../Users/SANGYUN/Desktop/Seoulsi.csv', encoding='utf-8')\n",
    "df_gu = pd.read_csv('../../Users/SANGYUN/Desktop/Seoulsigu.csv', encoding='utf-8')\n",
    "df_dong = pd.read_csv('../../Users/SANGYUN/Desktop/Seoulsigudong.csv', encoding='utf-8')"
   ]
  },
  {
   "cell_type": "code",
   "execution_count": 88,
   "id": "0031509c",
   "metadata": {},
   "outputs": [
    {
     "data": {
      "text/html": [
       "<div>\n",
       "<style scoped>\n",
       "    .dataframe tbody tr th:only-of-type {\n",
       "        vertical-align: middle;\n",
       "    }\n",
       "\n",
       "    .dataframe tbody tr th {\n",
       "        vertical-align: top;\n",
       "    }\n",
       "\n",
       "    .dataframe thead th {\n",
       "        text-align: right;\n",
       "    }\n",
       "</style>\n",
       "<table border=\"1\" class=\"dataframe\">\n",
       "  <thead>\n",
       "    <tr style=\"text-align: right;\">\n",
       "      <th></th>\n",
       "      <th>Unnamed: 0</th>\n",
       "      <th>WKT</th>\n",
       "      <th>CTPRVN_CD</th>\n",
       "      <th>CTP_ENG_NM</th>\n",
       "      <th>CTP_KOR_NM</th>\n",
       "    </tr>\n",
       "  </thead>\n",
       "  <tbody>\n",
       "    <tr>\n",
       "      <th>0</th>\n",
       "      <td>0</td>\n",
       "      <td>MULTIPOLYGON (((966987.225863826 1941110.94614...</td>\n",
       "      <td>11</td>\n",
       "      <td>Seoul</td>\n",
       "      <td>서울특별시</td>\n",
       "    </tr>\n",
       "  </tbody>\n",
       "</table>\n",
       "</div>"
      ],
      "text/plain": [
       "   Unnamed: 0                                                WKT  CTPRVN_CD  \\\n",
       "0           0  MULTIPOLYGON (((966987.225863826 1941110.94614...         11   \n",
       "\n",
       "  CTP_ENG_NM CTP_KOR_NM  \n",
       "0      Seoul      서울특별시  "
      ]
     },
     "execution_count": 88,
     "metadata": {},
     "output_type": "execute_result"
    }
   ],
   "source": [
    "df_si.head()"
   ]
  },
  {
   "cell_type": "code",
   "execution_count": 90,
   "id": "aefad062",
   "metadata": {},
   "outputs": [],
   "source": [
    "df_si=df_si.drop('Unnamed: 0',axis=1)\n",
    "df_gu=df_gu.drop('Unnamed: 0',axis=1)\n",
    "df_dong=df_dong.drop('Unnamed: 0',axis=1)"
   ]
  },
  {
   "cell_type": "code",
   "execution_count": 93,
   "id": "f7e9b02c",
   "metadata": {},
   "outputs": [],
   "source": [
    "df_si.to_csv('../../Users/SANGYUN/Desktop/sigudong/Seoul_si.csv')\n",
    "df_gu.to_csv('../../Users/SANGYUN/Desktop/sigudong/Seoul_sigu.csv')\n",
    "df_dong.to_csv('../../Users/SANGYUN/Desktop/sigudong/Seoul_sigudong.csv')"
   ]
  },
  {
   "cell_type": "code",
   "execution_count": 16,
   "id": "20453817",
   "metadata": {},
   "outputs": [
    {
     "data": {
      "text/html": [
       "<div>\n",
       "<style scoped>\n",
       "    .dataframe tbody tr th:only-of-type {\n",
       "        vertical-align: middle;\n",
       "    }\n",
       "\n",
       "    .dataframe tbody tr th {\n",
       "        vertical-align: top;\n",
       "    }\n",
       "\n",
       "    .dataframe thead th {\n",
       "        text-align: right;\n",
       "    }\n",
       "</style>\n",
       "<table border=\"1\" class=\"dataframe\">\n",
       "  <thead>\n",
       "    <tr style=\"text-align: right;\">\n",
       "      <th></th>\n",
       "      <th>WKT</th>\n",
       "      <th>CTPRVN_CD</th>\n",
       "      <th>CTP_ENG_NM</th>\n",
       "      <th>CTP_KOR_NM</th>\n",
       "    </tr>\n",
       "  </thead>\n",
       "  <tbody>\n",
       "    <tr>\n",
       "      <th>0</th>\n",
       "      <td>MULTIPOLYGON (((966987.225863826 1941110.94614...</td>\n",
       "      <td>11</td>\n",
       "      <td>Seoul</td>\n",
       "      <td>서울특별시</td>\n",
       "    </tr>\n",
       "  </tbody>\n",
       "</table>\n",
       "</div>"
      ],
      "text/plain": [
       "                                                 WKT  CTPRVN_CD CTP_ENG_NM  \\\n",
       "0  MULTIPOLYGON (((966987.225863826 1941110.94614...         11      Seoul   \n",
       "\n",
       "  CTP_KOR_NM  \n",
       "0      서울특별시  "
      ]
     },
     "execution_count": 16,
     "metadata": {},
     "output_type": "execute_result"
    }
   ],
   "source": [
    "df_si = pd.read_csv('../../Users/SANGYUN/Desktop/sigudong2/si.csv', encoding='utf-8')\n",
    "df_si"
   ]
  },
  {
   "cell_type": "code",
   "execution_count": null,
   "id": "c530e6d0",
   "metadata": {},
   "outputs": [],
   "source": [
    "df_dong = pd.read_csv('../../Users/SANGYUN/Desktop/Seoulsigudong.csv', encoding='utf-8')"
   ]
  }
 ],
 "metadata": {
  "kernelspec": {
   "display_name": "Python 3 (ipykernel)",
   "language": "python",
   "name": "python3"
  },
  "language_info": {
   "codemirror_mode": {
    "name": "ipython",
    "version": 3
   },
   "file_extension": ".py",
   "mimetype": "text/x-python",
   "name": "python",
   "nbconvert_exporter": "python",
   "pygments_lexer": "ipython3",
   "version": "3.8.13"
  },
  "toc": {
   "base_numbering": 1,
   "nav_menu": {},
   "number_sections": true,
   "sideBar": true,
   "skip_h1_title": false,
   "title_cell": "Table of Contents",
   "title_sidebar": "Contents",
   "toc_cell": false,
   "toc_position": {},
   "toc_section_display": true,
   "toc_window_display": false
  }
 },
 "nbformat": 4,
 "nbformat_minor": 5
}
